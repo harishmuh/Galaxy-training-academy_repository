{
  "cells": [
    {
      "cell_type": "markdown",
      "id": "metadata",
      "metadata": {
        "collapsed": false,
        "editable": false
      },
      "source": [
        "<div style=\"border: 2px solid #8A9AD0; margin: 1em 0.2em; padding: 0.5em;\">\n",
        "\n",
        "# Introduction to Python\n",
        "\n",
        "by [Maria Christina Maniou](https://training.galaxyproject.org/hall-of-fame/mcmaniou/), [Fotis E. Psomopoulos](https://training.galaxyproject.org/hall-of-fame/fpsom/), [The Carpentries](https://training.galaxyproject.org/hall-of-fame/carpentries/)\n",
        "\n",
        "CC-BY licensed content from the [Galaxy Training Network](https://training.galaxyproject.org/)\n",
        "\n",
        "**Objectives**\n",
        "\n",
        "- How can I run Python programs?\n",
        "\n",
        "**Objectives**\n",
        "\n",
        "- Learn the fundamentals of programming in Python\n",
        "\n",
        "**Time Estimation: 5H**\n",
        "</div>\n"
      ]
    },
    {
      "cell_type": "markdown",
      "id": "cell-0",
      "metadata": {
        "collapsed": false,
        "editable": false
      },
      "source": [
        "<p>In this lesson, we will be using Python 3 with some of its most popular scientific libraries. We will be using JupyterNotebook, a Python interpreter that comes with everything we need for the lesson.</p>\n",
        "<blockquote class=\"comment\" style=\"border: 2px solid #ffecc1; margin: 1em 0.2em\">\n",
        "<div class=\"box-title comment-title\" id=\"comment\"><i class=\"far fa-comment-dots\" aria-hidden=\"true\" ></i> Comment</div>\n",
        "<p>This tutorial is <strong>significantly</strong> based on <a href=\"https://carpentries.org\">the Carpentries</a> <a href=\"https://swcarpentry.github.io/python-novice-inflammation/\">Programming with Python</a> and <a href=\"https://swcarpentry.github.io/python-novice-gapminder/\">Plotting and Programming in Python</a>, which is licensed CC-BY 4.0.</p>\n",
        "<p>Adaptations have been made to make this work better in a GTN/Galaxy environment.</p>\n",
        "</blockquote>\n",
        "<blockquote class=\"agenda\" style=\"border: 2px solid #86D486;display: none; margin: 1em 0.2em\">\n",
        "<div class=\"box-title agenda-title\" id=\"agenda\">Agenda</div>\n",
        "<p>In this tutorial, we will cover:</p>\n",
        "<ol id=\"markdown-toc\">\n",
        "<li><a href=\"#overview\" id=\"markdown-toc-overview\">Overview</a></li>\n",
        "<li><a href=\"#python-fundamentals\" id=\"markdown-toc-python-fundamentals\">Python Fundamentals</a>    <ol>\n",
        "<li><a href=\"#variables\" id=\"markdown-toc-variables\">Variables</a></li>\n",
        "</ol>\n",
        "</li>\n",
        "</ol>\n",
        "</blockquote>\n",
        "<h1 id=\"overview\">Overview</h1>\n",
        "<p>Python was developed by Guido van Rossum. Guido van Rossum started implementing Python in 1989. Python is a very simple programming language so even if you are new to programming, you can learn python without facing any issues.</p>\n",
        "<p>Features of Python language:</p>\n",
        "<ol>\n",
        "<li>\n",
        "<p><strong>Readable</strong>: Python is a very readable language.</p>\n",
        "</li>\n",
        "<li>\n",
        "<p><strong>Easy to Learn</strong>: Learning python is easy as this is a expressive and high level programming language, which means it is easy to understand the language and thus easy to learn.</p>\n",
        "</li>\n",
        "<li>\n",
        "<p><strong>Cross platform</strong>: Python is available and can run on various operating systems such as Mac, Windows, Linux, Unix etc. This makes it a cross platform and portable language.</p>\n",
        "</li>\n",
        "<li>\n",
        "<p><strong>Open Source</strong>: Python is a open source programming language.</p>\n",
        "</li>\n",
        "<li>\n",
        "<p><strong>Large standard library</strong>: Python comes with a large standard library that has some handy codes and functions which we can use while writing code in Python.</p>\n",
        "</li>\n",
        "<li>\n",
        "<p><strong>Free</strong>: Python is free to download and use. This means you can download it for free and use it in your application.</p>\n",
        "</li>\n",
        "<li>\n",
        "<p><strong>Supports exception handling</strong>: Python supports exception handling which means we can write less error prone code and can test various scenarios that can cause an exception later on.</p>\n",
        "</li>\n",
        "<li>\n",
        "<p><strong>Automatic memory management</strong>: Python supports automatic memory management which means the memory is cleared and freed automatically. You do not have to bother clearing the memory.</p>\n",
        "</li>\n",
        "</ol>\n",
        "<blockquote class=\"tip\" style=\"border: 2px solid #FFE19E; margin: 1em 0.2em\">\n",
        "<div class=\"box-title tip-title\" id=\"tip-why-jupyter\"><button class=\"gtn-boxify-button tip\" type=\"button\" aria-controls=\"tip-why-jupyter\" aria-expanded=\"true\"><i class=\"far fa-lightbulb\" aria-hidden=\"true\" ></i> <span>Tip: Why Jupyter?</span><span class=\"fold-unfold fa fa-minus-square\"></span></button></div>\n",
        "<p>JupyterLab is a User Interface including notebooks. A user can open several notebooks or files as tabs in the same window, like an IDE. JupyterNotebook is a web-based interactive computational environment for creating Jupyter notebook documents. It supports several languages like Python (IPython), Julia, R etc. and is largely used for data analysis, data visualization and further interactive, exploratory computing.</p>\n",
        "<p>JupyterNotebook has several advantages:</p>\n",
        "<ul>\n",
        "<li>You can easily type, edit, and copy and paste blocks of code.</li>\n",
        "<li>Tab complete allows you to easily access the names of things you are using and learn more about them.</li>\n",
        "<li>It allows you to annotate your code with links, different sized text, bullets, etc. to make it more accessible to you and your collaborators.</li>\n",
        "<li>It allows you to display figures next to the code that produces them to tell a complete story of the analysis.</li>\n",
        "</ul>\n",
        "<p>Each notebook contains one or more cells that contain code, text, or images. Each notebook can be exported (File, Export as, Executable script) as Python script that can be run from the command line.</p>\n",
        "<p>We will be using JupyterNotebook in Galaxy and as a result you need to frequently save the notebook in the workspace. This is both for good practice and to protect you in case you accidentally close the browser. Your environment will still run, so it will contain the last saved notebook you have.  Furthermore, you need to download a notebook, before you delete or close a notebook in your history or you will lose it.</p>\n",
        "</blockquote>\n",
        "<h1 id=\"python-fundamentals\">Python Fundamentals</h1>\n",
        "<h2 id=\"variables\">Variables</h2>\n",
        "<p>Any Python interpreter can be used as a calculator:</p>\n"
      ]
    },
    {
      "cell_type": "code",
      "execution_count": 42,
      "id": "cell-1",
      "metadata": {
        "attributes": {
          "classes": [
            "> <comment-title></comment-title>"
          ],
          "id": ""
        }
      },
      "outputs": [
        {
          "data": {
            "text/plain": [
              "23"
            ]
          },
          "execution_count": 42,
          "metadata": {},
          "output_type": "execute_result"
        }
      ],
      "source": [
        "3 + 5 * 4"
      ]
    },
    {
      "cell_type": "markdown",
      "id": "cell-2",
      "metadata": {
        "collapsed": false,
        "editable": false
      },
      "source": [
        "<p>This is great but not very interesting. To do anything useful with data, we need to assign its value to a variable. In Python, we can assign a value to a variable, using the equals sign <code class=\"language-plaintext highlighter-rouge\">=</code>. For example, we can track the weight of a patient who weighs 60 kilograms by assigning the value 60 to a variable <code class=\"language-plaintext highlighter-rouge\">weight_kg</code>:</p>\n"
      ]
    },
    {
      "cell_type": "code",
      "execution_count": 43,
      "id": "cell-3",
      "metadata": {
        "attributes": {
          "classes": [
            "> <comment-title></comment-title>"
          ],
          "id": ""
        }
      },
      "outputs": [],
      "source": [
        "weight_kg = 60"
      ]
    },
    {
      "cell_type": "markdown",
      "id": "cell-4",
      "metadata": {
        "collapsed": false,
        "editable": false
      },
      "source": [
        "<p>From now on, whenever we use <code style=\"color: inherit\">weight_kg</code>, Python will substitute the value we assigned to it.</p>\n",
        "<p>In Python, variable names:</p>\n",
        "<ul>\n",
        "<li>can include letters, digits, and underscores</li>\n",
        "<li>cannot start with a digit</li>\n",
        "<li>are case sensitive</li>\n",
        "</ul>\n",
        "<p>This means that, for example:</p>\n",
        "<ul>\n",
        "<li><code style=\"color: inherit\">weight0</code> is a valid variable name, whereas <code style=\"color: inherit\">0weight</code> is not</li>\n",
        "<li><code style=\"color: inherit\">weight</code> and <code style=\"color: inherit\">Weight</code> are different variables</li>\n",
        "</ul>\n",
        "<h3 id=\"types-of-data\">Types of data</h3>\n",
        "<p>Python knows various types of data. Three common ones are:</p>\n",
        "<ul>\n",
        "<li>integer numbers</li>\n",
        "<li>floating point numbers, and</li>\n",
        "<li>strings.</li>\n",
        "</ul>\n",
        "<p>In the example above, variable <code style=\"color: inherit\">weight_kg</code> has an integer value of <code style=\"color: inherit\">60</code>. If we want to more precisely track the weight of our patient, we can use a floating point value by executing:</p>\n"
      ]
    },
    {
      "cell_type": "code",
      "execution_count": 44,
      "id": "cell-5",
      "metadata": {
        "attributes": {
          "classes": [
            "> <comment-title></comment-title>"
          ],
          "id": ""
        }
      },
      "outputs": [],
      "source": [
        "weight_kg = 60.3"
      ]
    },
    {
      "cell_type": "markdown",
      "id": "cell-6",
      "metadata": {
        "collapsed": false,
        "editable": false
      },
      "source": [
        "<p>To create a string, we add single or double quotes around some text. To identify and track a patient throughout our study, we can assign each person a unique identifier by storing it in a string:</p>\n"
      ]
    },
    {
      "cell_type": "code",
      "execution_count": 45,
      "id": "cell-7",
      "metadata": {
        "attributes": {
          "classes": [
            "> <comment-title></comment-title>"
          ],
          "id": ""
        }
      },
      "outputs": [],
      "source": [
        "patient_id = '001'"
      ]
    },
    {
      "cell_type": "markdown",
      "id": "cell-8",
      "metadata": {
        "collapsed": false,
        "editable": false
      },
      "source": [
        "<h3 id=\"using-variables-in-python\">Using Variables in Python</h3>\n",
        "<p>Once we have data stored with variable names, we can make use of it in calculations. We may want to store our patient’s weight in pounds as well as kilograms:</p>\n"
      ]
    },
    {
      "cell_type": "code",
      "execution_count": 46,
      "id": "cell-9",
      "metadata": {
        "attributes": {
          "classes": [
            "> <comment-title></comment-title>"
          ],
          "id": ""
        }
      },
      "outputs": [],
      "source": [
        "weight_lb = 2.2 * weight_kg"
      ]
    },
    {
      "cell_type": "markdown",
      "id": "cell-10",
      "metadata": {
        "collapsed": false,
        "editable": false
      },
      "source": [
        "<p>We might decide to add a prefix to our patient identifier:</p>\n"
      ]
    },
    {
      "cell_type": "code",
      "execution_count": 47,
      "id": "cell-11",
      "metadata": {
        "attributes": {
          "classes": [
            "> <comment-title></comment-title>"
          ],
          "id": ""
        }
      },
      "outputs": [],
      "source": [
        "patient_id = 'inflam_' + patient_id"
      ]
    },
    {
      "cell_type": "markdown",
      "id": "cell-12",
      "metadata": {
        "collapsed": false,
        "editable": false
      },
      "source": [
        "<h3 id=\"variables-persist-between-cells\">Variables Persist Between Cells</h3>\n",
        "<p>Be aware that it is the order of execution of cells that is important in a Jupyter notebook, not the order in which they appear. Python will remember all the code that was run previously, including any variables you have defined, irrespective of the order in the notebook. Therefore if you define variables lower down the notebook and then (re)run cells further up, those defined further down will still be present. As an example, create two cells with the following content, in this order:</p>\n"
      ]
    },
    {
      "cell_type": "code",
      "execution_count": 48,
      "id": "cell-13",
      "metadata": {
        "attributes": {
          "classes": [
            "> <comment-title></comment-title>"
          ],
          "id": ""
        }
      },
      "outputs": [],
      "source": [
        "# print(myval)\n",
        "# myval = 1 # NameError"
      ]
    },
    {
      "cell_type": "markdown",
      "id": "cell-14",
      "metadata": {
        "collapsed": false,
        "editable": false
      },
      "source": [
        "<p>If you execute this in order, the first cell will give an error. However, if you run the first cell after the second cell, it will print out 1. To prevent confusion, it can be helpful to use the Kernel -&gt; Restart &amp; Run All option which clears the interpreter and runs everything from a clean slate going top to bottom.</p>\n",
        "<blockquote class=\"question\" style=\"border: 2px solid #8A9AD0; margin: 1em 0.2em\">\n",
        "<div class=\"box-title question-title\" id=\"question-variables-and-values\"><i class=\"far fa-question-circle\" aria-hidden=\"true\" ></i> Question: Variables and values</div>\n",
        "<p>What values do the variables <code style=\"color: inherit\">mass</code> and <code style=\"color: inherit\">age</code> have after each of the following statements? Test your answer by executing the lines.</p>\n",
        "<div class=\"language-plaintext highlighter-rouge\"><div><pre style=\"color: inherit; background: transparent\"><code style=\"color: inherit\">mass = 47.5\n",
        "age = 122\n",
        "mass = mass * 2.0\n",
        "age = age - 20\n",
        "</code></pre></div>  </div>\n",
        "<br/><details style=\"border: 2px solid #B8C3EA; margin: 1em 0.2em;padding: 0.5em; cursor: pointer;\"><summary>👁 View solution</summary>\n",
        "<div class=\"box-title solution-title\" id=\"solution\"><button class=\"gtn-boxify-button solution\" type=\"button\" aria-controls=\"solution\" aria-expanded=\"true\"><i class=\"far fa-eye\" aria-hidden=\"true\" ></i> <span>Solution</span><span class=\"fold-unfold fa fa-minus-square\"></span></button></div>\n",
        "<p><code style=\"color: inherit\">mass</code> holds a value of 47.5, <code style=\"color: inherit\">age</code> does not exist\n",
        "<code style=\"color: inherit\">mass</code> still holds a value of 47.5, <code style=\"color: inherit\">age</code> holds a value of 122\n",
        "<code style=\"color: inherit\">mass</code> now has a value of 95.0, <code style=\"color: inherit\">age</code>’s value is still 122\n",
        "<code style=\"color: inherit\">mass</code> still has a value of 95.0, <code style=\"color: inherit\">age</code> now holds 102</p>\n",
        "</details>\n",
        "</blockquote>\n",
        "<blockquote class=\"question\" style=\"border: 2px solid #8A9AD0; margin: 1em 0.2em\">\n",
        "<div class=\"box-title question-title\" id=\"question-variables\"><i class=\"far fa-question-circle\" aria-hidden=\"true\" ></i> Question: Variables</div>\n",
        "<p>Python allows you to assign multiple values to multiple variables in one line by separating the variables and values with commas. What does the following program print out?</p>\n",
        "<div class=\"language-plaintext highlighter-rouge\"><div><pre style=\"color: inherit; background: transparent\"><code style=\"color: inherit\">first, second = 'Grace', 'Hopper'\n",
        "third, fourth = second, first\n",
        "print(third, fourth)\n",
        "</code></pre></div>  </div>\n",
        "<br/><details style=\"border: 2px solid #B8C3EA; margin: 1em 0.2em;padding: 0.5em; cursor: pointer;\"><summary>👁 View solution</summary>\n",
        "<div class=\"box-title solution-title\" id=\"solution-1\"><button class=\"gtn-boxify-button solution\" type=\"button\" aria-controls=\"solution-1\" aria-expanded=\"true\"><i class=\"far fa-eye\" aria-hidden=\"true\" ></i> <span>Solution</span><span class=\"fold-unfold fa fa-minus-square\"></span></button></div>\n",
        "<p>Hopper Grace</p>\n",
        "</blockquote>\n",
        "</blockquote>\n",
        "<blockquote class=\"question\" style=\"border: 2px solid #8A9AD0; margin: 1em 0.2em\">\n",
        "<div class=\"box-title question-title\" id=\"question-variables-and-data-types\"><i class=\"far fa-question-circle\" aria-hidden=\"true\" ></i> Question: Variables and data types</div>\n",
        "<p>What are the data types of the following variables?</p>\n",
        "<div class=\"language-plaintext highlighter-rouge\"><div><pre style=\"color: inherit; background: transparent\"><code style=\"color: inherit\">planet = 'Earth'\n",
        "apples = 5\n",
        "distance = 10.5\n",
        "</code></pre></div>  </div>\n",
        "<br/><details style=\"border: 2px solid #B8C3EA; margin: 1em 0.2em;padding: 0.5em; cursor: pointer;\"><summary>👁 View solution</summary>\n",
        "<div class=\"box-title solution-title\" id=\"solution-2\"><button class=\"gtn-boxify-button solution\" type=\"button\" aria-controls=\"solution-2\" aria-expanded=\"true\"><i class=\"far fa-eye\" aria-hidden=\"true\" ></i> <span>Solution</span><span class=\"fold-unfold fa fa-minus-square\"></span></button></div>\n",
        "<div class=\"language-plaintext highlighter-rouge\"><div><pre style=\"color: inherit; background: transparent\"><code style=\"color: inherit\">type(planet)\n",
        "type(apples)\n",
        "type(distance)\n",
        "</code></pre></div>    </div>\n",
        "</blockquote>\n",
        "</blockquote>\n",
        "<h2 id=\"lists\">Lists</h2>\n",
        "<p>Lists are built into the language so we do not have to load a library to use them. We create a list by putting values inside square brackets and separating the values with commas:</p>\n"
      ]
    },
    {
      "cell_type": "code",
      "execution_count": 49,
      "id": "cell-15",
      "metadata": {
        "attributes": {
          "classes": [
            "> <comment-title></comment-title>"
          ],
          "id": ""
        }
      },
      "outputs": [
        {
          "name": "stdout",
          "output_type": "stream",
          "text": [
            "odds are: [1, 3, 5, 7]\n"
          ]
        }
      ],
      "source": [
        "odds = [1, 3, 5, 7]\n",
        "print('odds are:', odds)"
      ]
    },
    {
      "cell_type": "markdown",
      "id": "cell-16",
      "metadata": {
        "collapsed": false,
        "editable": false
      },
      "source": [
        "<p>We can access elements of a list using indices – numbered positions of elements in the list. These positions are numbered starting at 0, so the first element has an index of 0.</p>\n"
      ]
    },
    {
      "cell_type": "code",
      "execution_count": 50,
      "id": "cell-17",
      "metadata": {
        "attributes": {
          "classes": [
            "> <comment-title></comment-title>"
          ],
          "id": ""
        }
      },
      "outputs": [
        {
          "name": "stdout",
          "output_type": "stream",
          "text": [
            "first element: 1\n",
            "last element: 7\n",
            "\"-1\" element: 7\n"
          ]
        }
      ],
      "source": [
        "print('first element:', odds[0])\n",
        "print('last element:', odds[3])\n",
        "print('\"-1\" element:', odds[-1])"
      ]
    },
    {
      "cell_type": "markdown",
      "id": "cell-18",
      "metadata": {
        "collapsed": false,
        "editable": false
      },
      "source": [
        "<p>Yes, we can use negative numbers as indices in Python. When we do so, the index <code style=\"color: inherit\">-1</code> gives us the last element in the list, <code style=\"color: inherit\">-2</code> the second to last, and so on. Because of this, <code style=\"color: inherit\">odds[3]</code> and <code style=\"color: inherit\">odds[-1]</code> point to the same element here.</p>\n",
        "<p>There is one important difference between lists and strings: we can change the values in a list, but we cannot change individual characters in a string. For example:</p>\n"
      ]
    },
    {
      "cell_type": "code",
      "execution_count": 51,
      "id": "cell-19",
      "metadata": {
        "attributes": {
          "classes": [
            "> <comment-title></comment-title>"
          ],
          "id": ""
        }
      },
      "outputs": [
        {
          "name": "stdout",
          "output_type": "stream",
          "text": [
            "names is originally: ['Curie', 'Darwing', 'Turing']\n",
            "final value of names: ['Curie', 'Darwin', 'Turing']\n"
          ]
        }
      ],
      "source": [
        "names = ['Curie', 'Darwing', 'Turing']  # typo in Darwin's name\n",
        "print('names is originally:', names)\n",
        "names[1] = 'Darwin'  # correct the name\n",
        "print('final value of names:', names)"
      ]
    },
    {
      "cell_type": "markdown",
      "id": "cell-20",
      "metadata": {
        "collapsed": false,
        "editable": false
      },
      "source": [
        "<p>works, but the following does not:</p>\n"
      ]
    },
    {
      "cell_type": "code",
      "execution_count": 52,
      "id": "cell-21",
      "metadata": {
        "attributes": {
          "classes": [
            "> <comment-title></comment-title>"
          ],
          "id": ""
        }
      },
      "outputs": [],
      "source": [
        "name = 'Darwin'\n",
        "# name[0] = 'd' # TypeError"
      ]
    },
    {
      "cell_type": "markdown",
      "id": "cell-22",
      "metadata": {
        "collapsed": false,
        "editable": false
      },
      "source": [
        "<p>Lists in Python can contain elements of different types. Example:</p>\n"
      ]
    },
    {
      "cell_type": "code",
      "execution_count": 53,
      "id": "cell-23",
      "metadata": {
        "attributes": {
          "classes": [
            "> <comment-title></comment-title>"
          ],
          "id": ""
        }
      },
      "outputs": [],
      "source": [
        "sample_ages = [10, 12.5, 'Unknown']"
      ]
    },
    {
      "cell_type": "markdown",
      "id": "cell-24",
      "metadata": {
        "collapsed": false,
        "editable": false
      },
      "source": [
        "<p>There are many ways to change the contents of lists besides assigning new values to individual elements:</p>\n",
        "<p>We can append new elements to a list</p>\n"
      ]
    },
    {
      "cell_type": "code",
      "execution_count": 54,
      "id": "cell-25",
      "metadata": {
        "attributes": {
          "classes": [
            "> <comment-title></comment-title>"
          ],
          "id": ""
        }
      },
      "outputs": [
        {
          "name": "stdout",
          "output_type": "stream",
          "text": [
            "odds after adding a value: [1, 3, 5, 7, 11]\n"
          ]
        }
      ],
      "source": [
        "odds.append(11)\n",
        "print('odds after adding a value:', odds)"
      ]
    },
    {
      "cell_type": "markdown",
      "id": "cell-26",
      "metadata": {
        "collapsed": false,
        "editable": false
      },
      "source": [
        "<p>We can pop an element off the end of a list</p>\n"
      ]
    },
    {
      "cell_type": "code",
      "execution_count": 55,
      "id": "cell-27",
      "metadata": {
        "attributes": {
          "classes": [
            "> <comment-title></comment-title>"
          ],
          "id": ""
        }
      },
      "outputs": [
        {
          "name": "stdout",
          "output_type": "stream",
          "text": [
            "odds after removing the first element: [3, 5, 7, 11]\n",
            "removed_element: 1\n"
          ]
        }
      ],
      "source": [
        "removed_element = odds.pop(0)\n",
        "print('odds after removing the first element:', odds)\n",
        "print('removed_element:', removed_element)"
      ]
    },
    {
      "cell_type": "markdown",
      "id": "cell-28",
      "metadata": {
        "collapsed": false,
        "editable": false
      },
      "source": [
        "<p>Or we can reverse the list</p>\n"
      ]
    },
    {
      "cell_type": "code",
      "execution_count": 56,
      "id": "cell-29",
      "metadata": {
        "attributes": {
          "classes": [
            "> <comment-title></comment-title>"
          ],
          "id": ""
        }
      },
      "outputs": [
        {
          "name": "stdout",
          "output_type": "stream",
          "text": [
            "odds after reversing: [11, 7, 5, 3]\n"
          ]
        }
      ],
      "source": [
        "odds.reverse()\n",
        "print('odds after reversing:', odds)"
      ]
    },
    {
      "cell_type": "markdown",
      "id": "cell-30",
      "metadata": {
        "collapsed": false,
        "editable": false
      },
      "source": [
        "<h3 id=\"mutable-vs-immutable-data\">Mutable vs Immutable data</h3>\n",
        "<p>Data which can be modified in place is called mutable, while data which cannot be modified is called immutable. Strings and numbers are immutable. This does not mean that variables with string or number values are constants, but when we want to change the value of a string or number variable, we can only replace the old value with a completely new value.</p>\n",
        "<p>Lists and arrays, on the other hand, are mutable: we can modify them after they have been created. We can change individual elements, append new elements, or reorder the whole list. For some operations, like sorting, we can choose whether to use a function that modifies the data in-place or a function that returns a modified copy and leaves the original unchanged.</p>\n",
        "<p>Be careful when modifying data in-place. If two variables refer to the same list, and you modify the list value, it will change for both variables!</p>\n"
      ]
    },
    {
      "cell_type": "code",
      "execution_count": 57,
      "id": "cell-31",
      "metadata": {
        "attributes": {
          "classes": [
            "> <comment-title></comment-title>"
          ],
          "id": ""
        }
      },
      "outputs": [
        {
          "name": "stdout",
          "output_type": "stream",
          "text": [
            "Ingredients in my salsa: ['hot peppers', 'onions', 'cilantro', 'tomatoes']\n"
          ]
        }
      ],
      "source": [
        "salsa = ['peppers', 'onions', 'cilantro', 'tomatoes']\n",
        "my_salsa = salsa        # <-- my_salsa and salsa point to the *same* list data in memory\n",
        "salsa[0] = 'hot peppers'\n",
        "print('Ingredients in my salsa:', my_salsa)"
      ]
    },
    {
      "cell_type": "markdown",
      "id": "cell-32",
      "metadata": {
        "collapsed": false,
        "editable": false
      },
      "source": [
        "<p>If you want variables with mutable values to be independent, you must make a copy of the value when you assign it.</p>\n"
      ]
    },
    {
      "cell_type": "code",
      "execution_count": 58,
      "id": "cell-33",
      "metadata": {
        "attributes": {
          "classes": [
            "> <comment-title></comment-title>"
          ],
          "id": ""
        }
      },
      "outputs": [
        {
          "name": "stdout",
          "output_type": "stream",
          "text": [
            "Ingredients in my salsa: ['peppers', 'onions', 'cilantro', 'tomatoes']\n"
          ]
        }
      ],
      "source": [
        "salsa = ['peppers', 'onions', 'cilantro', 'tomatoes']\n",
        "my_salsa = salsa.copy()        # <-- makes a *copy* of the list\n",
        "salsa[0] = 'hot peppers'\n",
        "print('Ingredients in my salsa:', my_salsa)"
      ]
    },
    {
      "cell_type": "markdown",
      "id": "cell-34",
      "metadata": {
        "collapsed": false,
        "editable": false
      },
      "source": [
        "<p>Because of pitfalls like this, code which modifies data in place can be more difficult to understand. However, it is often far more efficient to modify a large data structure in place than to create a modified copy for every small change. You should consider both of these aspects when writing your code.</p>\n",
        "<h3 id=\"nested-lists\">Nested lists</h3>\n",
        "<p>Since a list can contain any Python variables, it can even contain other lists.</p>\n",
        "<p>For example, we could represent the products in the shelves of a small grocery shop:</p>\n"
      ]
    },
    {
      "cell_type": "code",
      "execution_count": 59,
      "id": "cell-35",
      "metadata": {
        "attributes": {
          "classes": [
            "> <comment-title></comment-title>"
          ],
          "id": ""
        }
      },
      "outputs": [],
      "source": [
        "x = [['pepper', 'zucchini', 'onion'],\n",
        "   ['cabbage', 'lettuce', 'garlic'],\n",
        "   ['apple', 'pear', 'banana']]"
      ]
    },
    {
      "cell_type": "markdown",
      "id": "cell-36",
      "metadata": {
        "collapsed": false,
        "editable": false
      },
      "source": [
        "<p>Here is an example of how indexing a list of lists <code style=\"color: inherit\">x</code> works:</p>\n"
      ]
    },
    {
      "cell_type": "code",
      "execution_count": 60,
      "id": "cell-37",
      "metadata": {
        "attributes": {
          "classes": [
            "> <comment-title></comment-title>"
          ],
          "id": ""
        }
      },
      "outputs": [
        {
          "name": "stdout",
          "output_type": "stream",
          "text": [
            "[['pepper', 'zucchini', 'onion']]\n",
            "['pepper', 'zucchini', 'onion']\n",
            "pepper\n"
          ]
        }
      ],
      "source": [
        "print([x[0]])\n",
        "print(x[0])\n",
        "print(x[0][0])"
      ]
    },
    {
      "cell_type": "markdown",
      "id": "cell-38",
      "metadata": {
        "collapsed": false,
        "editable": false
      },
      "source": [
        "<h3 id=\"slicing\">Slicing</h3>\n",
        "<p>Subsets of lists can be accessed by specifying ranges of values in brackets. This is commonly referred to as “slicing” the list.</p>\n"
      ]
    },
    {
      "cell_type": "code",
      "execution_count": 61,
      "id": "cell-39",
      "metadata": {
        "attributes": {
          "classes": [
            "> <comment-title></comment-title>"
          ],
          "id": ""
        }
      },
      "outputs": [
        {
          "name": "stdout",
          "output_type": "stream",
          "text": [
            "autosomes: ['2', '3', '4']\n",
            "last: 4\n"
          ]
        }
      ],
      "source": [
        "chromosomes = ['X', 'Y', '2', '3', '4']\n",
        "autosomes = chromosomes[2:5]\n",
        "print('autosomes:', autosomes)\n",
        "last = chromosomes[-1]\n",
        "print('last:', last)"
      ]
    },
    {
      "cell_type": "markdown",
      "id": "cell-40",
      "metadata": {
        "collapsed": false,
        "editable": false
      },
      "source": [
        "<blockquote class=\"question\" style=\"border: 2px solid #8A9AD0; margin: 1em 0.2em\">\n",
        "<div class=\"box-title question-title\" id=\"question-negative-indices\"><i class=\"far fa-question-circle\" aria-hidden=\"true\" ></i> Question: Negative indices</div>\n",
        "<p>Use slicing to access only the last four characters of a string or entries of a list.</p>\n",
        "<div class=\"language-plaintext highlighter-rouge\"><div><pre style=\"color: inherit; background: transparent\"><code style=\"color: inherit\">string_for_slicing = 'Observation date: 02-Feb-2013'\n",
        "list_for_slicing = [['fluorine', 'F'], ['chlorine', 'Cl'], ['bromine', 'Br'], ['iodine', 'I'], ['astatine', 'At']]\n",
        "</code></pre></div>  </div>\n",
        "<p>Your output should be:\n",
        "‘2013’\n",
        "[[‘chlorine’, ‘Cl’], [‘bromine’, ‘Br’], [‘iodine’, ‘I’], [‘astatine’, ‘At’]]</p>\n",
        "<p>Would your solution work regardless of whether you knew beforehand the length of the string or list (e.g. if you wanted to apply the solution to a set of lists of different lengths)? If not, try to change your approach to make it more robust.\n",
        "Hint: Remember that indices can be negative as well as positive.</p>\n",
        "<br/><details style=\"border: 2px solid #B8C3EA; margin: 1em 0.2em;padding: 0.5em; cursor: pointer;\"><summary>👁 View solution</summary>\n",
        "<div class=\"box-title solution-title\" id=\"solution-3\"><button class=\"gtn-boxify-button solution\" type=\"button\" aria-controls=\"solution-3\" aria-expanded=\"true\"><i class=\"far fa-eye\" aria-hidden=\"true\" ></i> <span>Solution</span><span class=\"fold-unfold fa fa-minus-square\"></span></button></div>\n",
        "<p>Use negative indices to count elements from the end of a container (such as list or string):</p>\n",
        "<div class=\"language-plaintext highlighter-rouge\"><div><pre style=\"color: inherit; background: transparent\"><code style=\"color: inherit\">string_for_slicing[-4:]\n",
        "list_for_slicing[-4:]\n",
        "</code></pre></div>    </div>\n",
        "</details>\n",
        "</blockquote>\n",
        "<blockquote class=\"question\" style=\"border: 2px solid #8A9AD0; margin: 1em 0.2em\">\n",
        "<div class=\"box-title question-title\" id=\"question-slicing\"><i class=\"far fa-question-circle\" aria-hidden=\"true\" ></i> Question: Slicing</div>\n",
        "<p>So far we’ve seen how to use slicing to take single blocks of successive entries from a sequence. But what if we want to take a subset of entries that aren’t next to each other in the sequence?</p>\n",
        "<p>You can achieve this by providing a third argument to the range within the brackets, called the step size. The example below shows how you can take every third entry in a list:</p>\n",
        "<div class=\"language-plaintext highlighter-rouge\"><div><pre style=\"color: inherit; background: transparent\"><code style=\"color: inherit\">primes = [2, 3, 5, 7, 11, 13, 17, 19, 23, 29, 31, 37]\n",
        "subset = primes[0:12:3]\n",
        "print('subset', subset)\n",
        "</code></pre></div>  </div>\n",
        "<p>Notice that the slice taken begins with the first entry in the range, followed by entries taken at equally-spaced intervals (the steps) thereafter. What if you wanted to begin the subset with the third entry? Use the previous example to write your solution that gives the following output.</p>\n",
        "<br/><details style=\"border: 2px solid #B8C3EA; margin: 1em 0.2em;padding: 0.5em; cursor: pointer;\"><summary>👁 View solution</summary>\n",
        "<div class=\"box-title solution-title\" id=\"solution-4\"><button class=\"gtn-boxify-button solution\" type=\"button\" aria-controls=\"solution-4\" aria-expanded=\"true\"><i class=\"far fa-eye\" aria-hidden=\"true\" ></i> <span>Solution</span><span class=\"fold-unfold fa fa-minus-square\"></span></button></div>\n",
        "<p>You would need to specify that as the starting point of the sliced range:</p>\n",
        "<div class=\"language-plaintext highlighter-rouge\"><div><pre style=\"color: inherit; background: transparent\"><code style=\"color: inherit\">subset = primes[2:12:3]\n",
        "print('subset', subset)\n",
        "</code></pre></div>    </div>\n",
        "</blockquote>\n",
        "</blockquote>\n",
        "<h2 id=\"strings\">Strings</h2>\n",
        "<h3 id=\"use-an-index-to-get-a-single-character-from-a-string\">Use an index to get a single character from a string.</h3>\n",
        "<p>The characters (individual letters, numbers,and so on) in a string are ordered. For example, the string ‘AB’ is not the same as ‘BA’. Because of this ordering, we can treat the string as a list of characters. Each position in the string (first, second, etc.) is given a number. This number is called an index or sometimes a subscript. Indices are numbered from 0.You can use the position’s index in square brackets to get the character at that position.</p>\n"
      ]
    },
    {
      "cell_type": "code",
      "execution_count": 62,
      "id": "cell-41",
      "metadata": {
        "attributes": {
          "classes": [
            "> <comment-title></comment-title>"
          ],
          "id": ""
        }
      },
      "outputs": [
        {
          "name": "stdout",
          "output_type": "stream",
          "text": [
            "h\n"
          ]
        }
      ],
      "source": [
        "atom_name = 'helium'\n",
        "print(atom_name[0])"
      ]
    },
    {
      "cell_type": "markdown",
      "id": "cell-42",
      "metadata": {
        "collapsed": false,
        "editable": false
      },
      "source": [
        "<h3 id=\"use-a-slice-to-get-a-substring\">Use a slice to get a substring.</h3>\n",
        "<p>A part of a string is called a substring. A substring can be as short as a single character. An item in a list is called an element. Whenever we treat a string as if it were a list, the string’s elements are its individual characters. A slice is a part of a string (or, more generally, any list-like thing). We take a slice by using [start:stop], where start is replaced with the index of the first element we want and stop is replaced with the index of the element just after the last element we want. Mathematically, you might say that a slice selects [start:stop). The difference between stop and start is the slice’s length. Taking a slice does not change the contents of the original string. Instead, the slice is a copy of part of the original string.</p>\n"
      ]
    },
    {
      "cell_type": "code",
      "execution_count": 63,
      "id": "cell-43",
      "metadata": {
        "attributes": {
          "classes": [
            "> <comment-title></comment-title>"
          ],
          "id": ""
        }
      },
      "outputs": [
        {
          "name": "stdout",
          "output_type": "stream",
          "text": [
            "sod\n"
          ]
        }
      ],
      "source": [
        "atom_name = 'sodium'\n",
        "print(atom_name[0:3])"
      ]
    },
    {
      "cell_type": "markdown",
      "id": "cell-44",
      "metadata": {
        "collapsed": false,
        "editable": false
      },
      "source": [
        "<p>You can use the built-in function <code style=\"color: inherit\">len</code> to find the length of a string.</p>\n"
      ]
    },
    {
      "cell_type": "code",
      "execution_count": 64,
      "id": "cell-45",
      "metadata": {
        "attributes": {
          "classes": [
            "> <comment-title></comment-title>"
          ],
          "id": ""
        }
      },
      "outputs": [
        {
          "name": "stdout",
          "output_type": "stream",
          "text": [
            "6\n"
          ]
        }
      ],
      "source": [
        "print(len('helium'))"
      ]
    },
    {
      "cell_type": "markdown",
      "id": "cell-46",
      "metadata": {
        "collapsed": false,
        "editable": false
      },
      "source": [
        "<p>Nested functions are evaluated from the inside out, like in mathematics.</p>\n",
        "<blockquote class=\"question\" style=\"border: 2px solid #8A9AD0; margin: 1em 0.2em\">\n",
        "<div class=\"box-title question-title\" id=\"question-slicing-1\"><i class=\"far fa-question-circle\" aria-hidden=\"true\" ></i> Question: Slicing</div>\n",
        "<p>Use what you have learnt in this tutorial to answer the following questions:\n",
        "a. What does the following program print?</p>\n",
        "<div class=\"language-plaintext highlighter-rouge\"><div><pre style=\"color: inherit; background: transparent\"><code style=\"color: inherit\">atom_name = 'carbon'\n",
        "print('atom_name[1:3] is:', atom_name[1:3])\n",
        "</code></pre></div>  </div>\n",
        "<p>b. What does <code style=\"color: inherit\">thing[low:high]</code> do?\n",
        "c. What does <code style=\"color: inherit\">thing[low:]</code> (without a value after the colon) do?\n",
        "d. What does <code style=\"color: inherit\">thing[:high]</code> (without a value before the colon) do?\n",
        "e. What does <code style=\"color: inherit\">thing[:]</code> (just a colon) do?\n",
        "f. What does <code style=\"color: inherit\">thing[number:some-negative-number]</code> do?\n",
        "g. What happens when you choose a high value which is out of range? (i.e., try <code style=\"color: inherit\">atom_name[0:15]</code>)</p>\n",
        "<br/><details style=\"border: 2px solid #B8C3EA; margin: 1em 0.2em;padding: 0.5em; cursor: pointer;\"><summary>👁 View solution</summary>\n",
        "<div class=\"box-title solution-title\" id=\"solution-5\"><button class=\"gtn-boxify-button solution\" type=\"button\" aria-controls=\"solution-5\" aria-expanded=\"true\"><i class=\"far fa-eye\" aria-hidden=\"true\" ></i> <span>Solution</span><span class=\"fold-unfold fa fa-minus-square\"></span></button></div>\n",
        "<p>a. <code style=\"color: inherit\">atom_name[1:3] is: ar</code>\n",
        "b. <code style=\"color: inherit\">thing[low:high]</code> returns a slice from low to the value before high\n",
        "c. <code style=\"color: inherit\">thing[low:]</code> returns a slice from low all the way to the end of thing\n",
        "d. <code style=\"color: inherit\">thing[:high]</code> returns a slice from the beginning of thing to the value before high\n",
        "e. <code style=\"color: inherit\">thing[:]</code> returns all of thing\n",
        "f. <code style=\"color: inherit\">thing[number:some-negative-number]</code> returns a slice from number to some-negative-number values from the end of thing\n",
        "g. If a part of the slice is out of range, the operation does not fail. <code style=\"color: inherit\">atom_name[0:15]</code> gives the same result as <code style=\"color: inherit\">atom_name[0:]</code>.</p>\n",
        "</details>\n",
        "</blockquote>\n",
        "<h3 id=\"you-can-use-the--and--operators-on-stringslists\">You can use the “+” and “*” operators on strings/lists.</h3>\n",
        "<p>“Adding” character strings concatenates them.</p>\n"
      ]
    },
    {
      "cell_type": "code",
      "execution_count": 65,
      "id": "cell-47",
      "metadata": {
        "attributes": {
          "classes": [
            "> <comment-title></comment-title>"
          ],
          "id": ""
        }
      },
      "outputs": [
        {
          "name": "stdout",
          "output_type": "stream",
          "text": [
            "Ahmed Walsh\n"
          ]
        }
      ],
      "source": [
        "full_name = 'Ahmed' + ' ' + 'Walsh'\n",
        "print(full_name)"
      ]
    },
    {
      "cell_type": "markdown",
      "id": "cell-48",
      "metadata": {
        "collapsed": false,
        "editable": false
      },
      "source": [
        "<p>Multiplying a character string by an integer “N” creates a new string that consists of that character string repeated N times.</p>\n",
        "<p>Since multiplication is repeated addition.</p>\n"
      ]
    },
    {
      "cell_type": "code",
      "execution_count": 66,
      "id": "cell-49",
      "metadata": {
        "attributes": {
          "classes": [
            "> <comment-title></comment-title>"
          ],
          "id": ""
        }
      },
      "outputs": [
        {
          "name": "stdout",
          "output_type": "stream",
          "text": [
            "==========\n"
          ]
        }
      ],
      "source": [
        "separator = '=' * 10\n",
        "print(separator)"
      ]
    },
    {
      "cell_type": "markdown",
      "id": "cell-50",
      "metadata": {
        "collapsed": false,
        "editable": false
      },
      "source": [
        "<p>The same rules apply for lists. Consider the following example:</p>\n"
      ]
    },
    {
      "cell_type": "code",
      "execution_count": 67,
      "id": "cell-51",
      "metadata": {
        "attributes": {
          "classes": [
            "> <comment-title></comment-title>"
          ],
          "id": ""
        }
      },
      "outputs": [
        {
          "name": "stdout",
          "output_type": "stream",
          "text": [
            "[2, 4, 6, 8, 10, 2, 4, 6, 8, 10]\n"
          ]
        }
      ],
      "source": [
        "counts = [2, 4, 6, 8, 10]\n",
        "repeats = counts * 2\n",
        "print(repeats)"
      ]
    },
    {
      "cell_type": "markdown",
      "id": "cell-52",
      "metadata": {
        "collapsed": false,
        "editable": false
      },
      "source": [
        "<p>It’s equivalent to:</p>\n"
      ]
    },
    {
      "cell_type": "code",
      "execution_count": 68,
      "id": "cell-53",
      "metadata": {
        "attributes": {
          "classes": [
            "> <comment-title></comment-title>"
          ],
          "id": ""
        }
      },
      "outputs": [
        {
          "data": {
            "text/plain": [
              "[2, 4, 6, 8, 10, 2, 4, 6, 8, 10]"
            ]
          },
          "execution_count": 68,
          "metadata": {},
          "output_type": "execute_result"
        }
      ],
      "source": [
        "counts + counts"
      ]
    },
    {
      "cell_type": "markdown",
      "id": "cell-54",
      "metadata": {
        "collapsed": false,
        "editable": false
      },
      "source": [
        "<p>Strings have a length (but numbers don’t).The built-in function <code style=\"color: inherit\">len</code> counts the number of characters in a string.</p>\n"
      ]
    },
    {
      "cell_type": "code",
      "execution_count": 69,
      "id": "cell-55",
      "metadata": {
        "attributes": {
          "classes": [
            "> <comment-title></comment-title>"
          ],
          "id": ""
        }
      },
      "outputs": [
        {
          "name": "stdout",
          "output_type": "stream",
          "text": [
            "11\n"
          ]
        }
      ],
      "source": [
        "print(len(full_name))"
      ]
    },
    {
      "cell_type": "markdown",
      "id": "cell-56",
      "metadata": {
        "collapsed": false,
        "editable": false
      },
      "source": [
        "<p>But numbers don’t have a length (not even zero). For example, the following command returns an error message.</p>\n"
      ]
    },
    {
      "cell_type": "code",
      "execution_count": 70,
      "id": "cell-57",
      "metadata": {
        "attributes": {
          "classes": [
            "> <comment-title></comment-title>"
          ],
          "id": ""
        }
      },
      "outputs": [],
      "source": [
        "# print(len(52)) # TypeError: object of type 'int' has no len()"
      ]
    },
    {
      "cell_type": "markdown",
      "id": "cell-58",
      "metadata": {
        "collapsed": false,
        "editable": false
      },
      "source": [
        "<h2 id=\"type-conversion\">Type conversion</h2>\n",
        "<p>Python converts automatically integers to floats, when needed, but you must convert numbers to strings or vice versa when operating on them.\n",
        "It is not allowed to add numbers and strings. For example <code style=\"color: inherit\">print(1 + '2')</code> is ambiguous: should <code style=\"color: inherit\">1 + '2'</code> be <code style=\"color: inherit\">3</code> or <code style=\"color: inherit\">'12'</code>?</p>\n",
        "<p>Some types can be converted to other types by using the type name as a function.</p>\n"
      ]
    },
    {
      "cell_type": "code",
      "execution_count": 71,
      "id": "cell-59",
      "metadata": {
        "attributes": {
          "classes": [
            "> <comment-title></comment-title>"
          ],
          "id": ""
        }
      },
      "outputs": [
        {
          "name": "stdout",
          "output_type": "stream",
          "text": [
            "3\n",
            "12\n"
          ]
        }
      ],
      "source": [
        "print(1 + int('2'))\n",
        "print(str(1) + '2')"
      ]
    },
    {
      "cell_type": "markdown",
      "id": "cell-60",
      "metadata": {
        "collapsed": false,
        "editable": false
      },
      "source": [
        "<blockquote class=\"question\" style=\"border: 2px solid #8A9AD0; margin: 1em 0.2em\">\n",
        "<div class=\"box-title question-title\" id=\"question-data-types\"><i class=\"far fa-question-circle\" aria-hidden=\"true\" ></i> Question: Data types</div>\n",
        "<p>What type of value is 3.25 + 4?</p>\n",
        "<br/><details style=\"border: 2px solid #B8C3EA; margin: 1em 0.2em;padding: 0.5em; cursor: pointer;\"><summary>👁 View solution</summary>\n",
        "<div class=\"box-title solution-title\" id=\"solution-6\"><button class=\"gtn-boxify-button solution\" type=\"button\" aria-controls=\"solution-6\" aria-expanded=\"true\"><i class=\"far fa-eye\" aria-hidden=\"true\" ></i> <span>Solution</span><span class=\"fold-unfold fa fa-minus-square\"></span></button></div>\n",
        "<p>It is a float: integers are automatically converted to floats as necessary.</p>\n",
        "</details>\n",
        "</blockquote>\n",
        "<blockquote class=\"question\" style=\"border: 2px solid #8A9AD0; margin: 1em 0.2em\">\n",
        "<div class=\"box-title question-title\" id=\"question-division\"><i class=\"far fa-question-circle\" aria-hidden=\"true\" ></i> Question: Division</div>\n",
        "<p>In Python 3, the <code style=\"color: inherit\">//</code> operator performs integer (whole-number) floor division, the <code style=\"color: inherit\">/</code> operator performs floating-point division, and the <code style=\"color: inherit\">%</code> (or <em>modulo</em>) operator calculates and returns the remainder from integer division:</p>\n",
        "<blockquote class=\"code-in\" style=\"border: 2px solid #86D486; margin: 1em 0.2em\">\n",
        "<div class=\"box-title code-in-title\" id=\"code-in-python\"><i class=\"far fa-keyboard\" aria-hidden=\"true\" ></i> Code In: Python</div>\n",
        "<div class=\"language-plaintext highlighter-rouge\"><div><pre style=\"color: inherit; background: transparent\"><code style=\"color: inherit\">print('5 // 3:', 5 // 3)\n",
        "print('5 / 3:', 5 / 3)\n",
        "print('5 % 3:', 5 % 3)\n",
        "</code></pre></div>    </div>\n",
        "</blockquote>\n",
        "<blockquote class=\"code-out\" style=\"border: 2px solid #fb99d0; margin: 1em 0.2em\">\n",
        "<div class=\"box-title code-out-title\" id=\"code-out\"><i class=\"fas fa-laptop-code\" aria-hidden=\"true\" ></i> Code Out</div>\n",
        "<div class=\"language-plaintext highlighter-rouge\"><div><pre style=\"color: inherit; background: transparent\"><code style=\"color: inherit\">5 // 3: 1\n",
        "5 / 3: 1.6666666666666667\n",
        "5 % 3: 2\n",
        "</code></pre></div>    </div>\n",
        "</blockquote>\n",
        "<p>If <code style=\"color: inherit\">num_subjects</code> is the number of subjects taking part in a study, and <code style=\"color: inherit\">num_per_survey</code> is the number that can take part in a single survey, write an expression that calculates the number of surveys needed to reach everyone once.</p>\n",
        "<br/><details style=\"border: 2px solid #B8C3EA; margin: 1em 0.2em;padding: 0.5em; cursor: pointer;\"><summary>👁 View solution</summary>\n",
        "<div class=\"box-title solution-title\" id=\"solution-7\"><button class=\"gtn-boxify-button solution\" type=\"button\" aria-controls=\"solution-7\" aria-expanded=\"true\"><i class=\"far fa-eye\" aria-hidden=\"true\" ></i> <span>Solution</span><span class=\"fold-unfold fa fa-minus-square\"></span></button></div>\n",
        "<p>We want the minimum number of surveys that reaches everyone once, which is the rounded up value of <code style=\"color: inherit\">num_subjects/ num_per_survey</code>. This is equivalent to performing a floor division with <code style=\"color: inherit\">//</code> and adding 1. Before the division we need to subtract 1 from the number of subjects to deal with the case where <code style=\"color: inherit\">num_subjects</code> is evenly divisible by <code style=\"color: inherit\">num_per_survey</code>.</p>\n",
        "<div class=\"language-plaintext highlighter-rouge\"><div><pre style=\"color: inherit; background: transparent\"><code style=\"color: inherit\">num_subjects = 600\n",
        "num_per_survey = 42\n",
        "num_surveys = (num_subjects - 1) // num_per_survey + 1\n",
        "\n",
        "print(num_subjects, 'subjects,', num_per_survey, 'per survey:', num_surveys)\n",
        "</code></pre></div>    </div>\n",
        "</blockquote>\n",
        "</blockquote>\n",
        "<blockquote class=\"question\" style=\"border: 2px solid #8A9AD0; margin: 1em 0.2em\">\n",
        "<div class=\"box-title question-title\" id=\"question-typecasting\"><i class=\"far fa-question-circle\" aria-hidden=\"true\" ></i> Question: Typecasting</div>\n",
        "<p>Where reasonable, <code style=\"color: inherit\">float()</code> will convert a string to a floating point number, and <code style=\"color: inherit\">int()</code> will convert a floating point number to an integer:</p>\n",
        "<blockquote class=\"code-in\" style=\"border: 2px solid #86D486; margin: 1em 0.2em\">\n",
        "<div class=\"box-title code-in-title\" id=\"code-in-python-1\"><i class=\"far fa-keyboard\" aria-hidden=\"true\" ></i> Code In: Python</div>\n",
        "<div class=\"language-plaintext highlighter-rouge\"><div><pre style=\"color: inherit; background: transparent\"><code style=\"color: inherit\">print(\"string to float:\", float(\"3.4\"))\n",
        "print(\"float to int:\", int(3.4))\n",
        "</code></pre></div>    </div>\n",
        "</blockquote>\n",
        "<blockquote class=\"code-out\" style=\"border: 2px solid #fb99d0; margin: 1em 0.2em\">\n",
        "<div class=\"box-title code-out-title\" id=\"code-out-1\"><i class=\"fas fa-laptop-code\" aria-hidden=\"true\" ></i> Code Out</div>\n",
        "<div class=\"language-plaintext highlighter-rouge\"><div><pre style=\"color: inherit; background: transparent\"><code style=\"color: inherit\">string to float: 3.4\n",
        "float to int: 3\n",
        "</code></pre></div>    </div>\n",
        "</blockquote>\n",
        "<p>If the conversion doesn’t make sense, however, an error message will occur.\n",
        "Given this information, what do you expect the following program to do? What does it actually do? Why do you think it does that?</p>\n",
        "<div class=\"language-plaintext highlighter-rouge\"><div><pre style=\"color: inherit; background: transparent\"><code style=\"color: inherit\">print(\"fractional string to int:\", int(\"3.4\"))\n",
        "</code></pre></div>  </div>\n",
        "<br/><details style=\"border: 2px solid #B8C3EA; margin: 1em 0.2em;padding: 0.5em; cursor: pointer;\"><summary>👁 View solution</summary>\n",
        "<div class=\"box-title solution-title\" id=\"solution-8\"><button class=\"gtn-boxify-button solution\" type=\"button\" aria-controls=\"solution-8\" aria-expanded=\"true\"><i class=\"far fa-eye\" aria-hidden=\"true\" ></i> <span>Solution</span><span class=\"fold-unfold fa fa-minus-square\"></span></button></div>\n",
        "<p>Python 3 throws an error. If you ask Python to perform two consecutive typecasts, you must convert it explicitly in code.</p>\n",
        "<div class=\"language-plaintext highlighter-rouge\"><div><pre style=\"color: inherit; background: transparent\"><code style=\"color: inherit\">int(float(\"3.4\"))\n",
        "</code></pre></div>    </div>\n",
        "</blockquote>\n",
        "</blockquote>\n",
        "<blockquote class=\"question\" style=\"border: 2px solid #8A9AD0; margin: 1em 0.2em\">\n",
        "<div class=\"box-title question-title\" id=\"question-typecasting-1\"><i class=\"far fa-question-circle\" aria-hidden=\"true\" ></i> Question: Typecasting</div>\n",
        "<p>Which of the following will return the floating point number <code style=\"color: inherit\">2.0</code>? Note: there may be more than one right answer.</p>\n",
        "<div class=\"language-plaintext highlighter-rouge\"><div><pre style=\"color: inherit; background: transparent\"><code style=\"color: inherit\">first = 1.0\n",
        "second = \"1\"\n",
        "third = \"1.1\"\n",
        "</code></pre></div>  </div>\n",
        "<ol>\n",
        "<li><code style=\"color: inherit\">first + float(second)</code></li>\n",
        "<li><code style=\"color: inherit\">float(second) + float(third)</code></li>\n",
        "<li><code style=\"color: inherit\">first + int(third)</code></li>\n",
        "<li><code style=\"color: inherit\">first + int(float(third))</code></li>\n",
        "<li><code style=\"color: inherit\">int(first) + int(float(third))</code></li>\n",
        "<li><code style=\"color: inherit\">2.0 * second</code></li>\n",
        "</ol>\n",
        "<br/><details style=\"border: 2px solid #B8C3EA; margin: 1em 0.2em;padding: 0.5em; cursor: pointer;\"><summary>👁 View solution</summary>\n",
        "<div class=\"box-title solution-title\" id=\"solution-9\"><button class=\"gtn-boxify-button solution\" type=\"button\" aria-controls=\"solution-9\" aria-expanded=\"true\"><i class=\"far fa-eye\" aria-hidden=\"true\" ></i> <span>Solution</span><span class=\"fold-unfold fa fa-minus-square\"></span></button></div>\n",
        "<p>Answer: 1 and 4</p>\n",
        "</blockquote>\n",
        "</blockquote>\n",
        "<blockquote class=\"question\" style=\"border: 2px solid #8A9AD0; margin: 1em 0.2em\">\n",
        "<div class=\"box-title question-title\" id=\"question-imaginary-numbers\"><i class=\"far fa-question-circle\" aria-hidden=\"true\" ></i> Question: Imaginary numbers</div>\n",
        "<p>Python provides complex numbers, which are written as <code style=\"color: inherit\">1.0+2.0j</code>. If <code style=\"color: inherit\">val</code> is a complex number, its real and imaginary parts can be accessed using dot notation as <code style=\"color: inherit\">val.real</code> and <code style=\"color: inherit\">val.imag</code>.</p>\n",
        "<div class=\"language-plaintext highlighter-rouge\"><div><pre style=\"color: inherit; background: transparent\"><code style=\"color: inherit\">complex = 6 + 2j\n",
        "print(complex.real)\n",
        "print(complex.imag)\n",
        "</code></pre></div>  </div>\n",
        "<p>Output:\n",
        "6.0\n",
        "2.0</p>\n",
        "<ol>\n",
        "<li>Why do you think Python uses <code style=\"color: inherit\">j</code> instead of i for the imaginary part?</li>\n",
        "<li>What do you expect <code style=\"color: inherit\">1+2j + 3</code> to produce?</li>\n",
        "<li>What do you expect <code style=\"color: inherit\">4j</code> to be? What about <code style=\"color: inherit\">4 j</code> or <code style=\"color: inherit\">4 + j</code>?</li>\n",
        "</ol>\n",
        "<br/><details style=\"border: 2px solid #B8C3EA; margin: 1em 0.2em;padding: 0.5em; cursor: pointer;\"><summary>👁 View solution</summary>\n",
        "<div class=\"box-title solution-title\" id=\"solution-10\"><button class=\"gtn-boxify-button solution\" type=\"button\" aria-controls=\"solution-10\" aria-expanded=\"true\"><i class=\"far fa-eye\" aria-hidden=\"true\" ></i> <span>Solution</span><span class=\"fold-unfold fa fa-minus-square\"></span></button></div>\n",
        "<ol>\n",
        "<li>Standard mathematics treatments typically use i to denote an imaginary number. However, from media reports it was an early convention established from electrical engineering that now presents a technically expensive area to change.</li>\n",
        "<li><code style=\"color: inherit\">(4+2j)</code></li>\n",
        "<li><code style=\"color: inherit\">4j</code> and Syntax Error: invalid syntax. In the latter cases, <code style=\"color: inherit\">j</code> is considered a variable and the statement depends on if <code style=\"color: inherit\">j</code> is defined and if so, its assigned value.</li>\n",
        "</ol>\n",
        "</blockquote>\n",
        "</blockquote>\n",
        "<h2 id=\"built-in-python-functions\">Built-in Python functions</h2>\n",
        "<p>To carry out common tasks with data and variables in Python, the language provides us with several built-in functions. To display information to the screen, we use the <code style=\"color: inherit\">print</code> function:</p>\n"
      ]
    },
    {
      "cell_type": "code",
      "execution_count": 72,
      "id": "cell-61",
      "metadata": {
        "attributes": {
          "classes": [
            "> <comment-title></comment-title>"
          ],
          "id": ""
        }
      },
      "outputs": [
        {
          "name": "stdout",
          "output_type": "stream",
          "text": [
            "132.66\n",
            "inflam_001\n"
          ]
        }
      ],
      "source": [
        "print(weight_lb)\n",
        "print(patient_id)"
      ]
    },
    {
      "cell_type": "markdown",
      "id": "cell-62",
      "metadata": {
        "collapsed": false,
        "editable": false
      },
      "source": [
        "<p>When we want to make use of a function, referred to as calling the function, we follow its name by parentheses. The parentheses are important: if you leave them off, the function doesn’t actually run! Sometimes you will include values or variables inside the parentheses for the function to use. In the case of <code style=\"color: inherit\">print</code>, we use the parentheses to tell the function what value we want to display. <code style=\"color: inherit\">print</code> automatically puts a single space between outputs to separate them and wraps around to a new line at the end.</p>\n",
        "<p>We can display multiple things at once using only one <code style=\"color: inherit\">print</code> call:</p>\n"
      ]
    },
    {
      "cell_type": "code",
      "execution_count": 73,
      "id": "cell-63",
      "metadata": {
        "attributes": {
          "classes": [
            "> <comment-title></comment-title>"
          ],
          "id": ""
        }
      },
      "outputs": [
        {
          "name": "stdout",
          "output_type": "stream",
          "text": [
            "inflam_001 weight in kilograms: 60.3\n"
          ]
        }
      ],
      "source": [
        "print(patient_id, 'weight in kilograms:', weight_kg)"
      ]
    },
    {
      "cell_type": "markdown",
      "id": "cell-64",
      "metadata": {
        "collapsed": false,
        "editable": false
      },
      "source": [
        "<p>We can also call a function inside of another function call. For example, Python has a built-in function called <code style=\"color: inherit\">type</code> that tells you a value’s data type:</p>\n"
      ]
    },
    {
      "cell_type": "code",
      "execution_count": 74,
      "id": "cell-65",
      "metadata": {
        "attributes": {
          "classes": [
            "> <comment-title></comment-title>"
          ],
          "id": ""
        }
      },
      "outputs": [
        {
          "name": "stdout",
          "output_type": "stream",
          "text": [
            "<class 'float'>\n",
            "<class 'str'>\n"
          ]
        }
      ],
      "source": [
        "print(type(60.3))\n",
        "print(type(patient_id))"
      ]
    },
    {
      "cell_type": "markdown",
      "id": "cell-66",
      "metadata": {
        "collapsed": false,
        "editable": false
      },
      "source": [
        "<p>Moreover, we can do arithmetic with variables right inside the <code style=\"color: inherit\">print</code> function:</p>\n"
      ]
    },
    {
      "cell_type": "code",
      "execution_count": 75,
      "id": "cell-67",
      "metadata": {
        "attributes": {
          "classes": [
            "> <comment-title></comment-title>"
          ],
          "id": ""
        }
      },
      "outputs": [
        {
          "name": "stdout",
          "output_type": "stream",
          "text": [
            "weight in pounds: 132.66\n"
          ]
        }
      ],
      "source": [
        "print('weight in pounds:', 2.2 * weight_kg)"
      ]
    },
    {
      "cell_type": "markdown",
      "id": "cell-68",
      "metadata": {
        "collapsed": false,
        "editable": false
      },
      "source": [
        "<p>The above command, however, did not change the value of <code style=\"color: inherit\">weight_kg</code>:</p>\n"
      ]
    },
    {
      "cell_type": "code",
      "execution_count": 76,
      "id": "cell-69",
      "metadata": {
        "attributes": {
          "classes": [
            "> <comment-title></comment-title>"
          ],
          "id": ""
        }
      },
      "outputs": [
        {
          "name": "stdout",
          "output_type": "stream",
          "text": [
            "60.3\n"
          ]
        }
      ],
      "source": [
        "print(weight_kg)"
      ]
    },
    {
      "cell_type": "markdown",
      "id": "cell-70",
      "metadata": {
        "collapsed": false,
        "editable": false
      },
      "source": [
        "<p>To change the value of the <code style=\"color: inherit\">weight_kg</code> variable, we have to assign <code style=\"color: inherit\">weight_kg</code> a new value using the equals <code style=\"color: inherit\">=</code> sign:</p>\n"
      ]
    },
    {
      "cell_type": "code",
      "execution_count": 77,
      "id": "cell-71",
      "metadata": {
        "attributes": {
          "classes": [
            "> <comment-title></comment-title>"
          ],
          "id": ""
        }
      },
      "outputs": [
        {
          "name": "stdout",
          "output_type": "stream",
          "text": [
            "weight in kilograms is now: 65.0\n"
          ]
        }
      ],
      "source": [
        "weight_kg = 65.0\n",
        "print('weight in kilograms is now:', weight_kg)"
      ]
    },
    {
      "cell_type": "markdown",
      "id": "cell-72",
      "metadata": {
        "collapsed": false,
        "editable": false
      },
      "source": [
        "<p>A function may take zero or more arguments.  An <em>argument</em> is a value passed into a function. You must always use parentheses, even if they’re empty, so that Python knows a function is being called.</p>\n",
        "<p>Every function call produces some result. If the function doesn’t have a useful result to return, it usually returns the special value <code style=\"color: inherit\">None</code>. <code style=\"color: inherit\">None</code> is a Python object that stands in anytime there is no value.</p>\n"
      ]
    },
    {
      "cell_type": "code",
      "execution_count": 78,
      "id": "cell-73",
      "metadata": {
        "attributes": {
          "classes": [
            "> <comment-title></comment-title>"
          ],
          "id": ""
        }
      },
      "outputs": [
        {
          "name": "stdout",
          "output_type": "stream",
          "text": [
            "example\n",
            "result of print is None\n"
          ]
        }
      ],
      "source": [
        "result = print('example')\n",
        "print('result of print is', result)"
      ]
    },
    {
      "cell_type": "markdown",
      "id": "cell-74",
      "metadata": {
        "collapsed": false,
        "editable": false
      },
      "source": [
        "<p>Commonly-used built-in functions include <code style=\"color: inherit\">max</code>, <code style=\"color: inherit\">min</code>, and <code style=\"color: inherit\">round</code>. <code style=\"color: inherit\">max</code> and <code style=\"color: inherit\">min</code> work on character strings as well as numbers. From “larger” and “smaller”, they use the order: (0-9, A-Z, a-z) to compare letters.</p>\n"
      ]
    },
    {
      "cell_type": "code",
      "execution_count": 79,
      "id": "cell-75",
      "metadata": {
        "attributes": {
          "classes": [
            "> <comment-title></comment-title>"
          ],
          "id": ""
        }
      },
      "outputs": [
        {
          "name": "stdout",
          "output_type": "stream",
          "text": [
            "3\n",
            "0\n"
          ]
        }
      ],
      "source": [
        "print(max(1, 2, 3))\n",
        "print(min('a', 'A', '0'))"
      ]
    },
    {
      "cell_type": "markdown",
      "id": "cell-76",
      "metadata": {
        "collapsed": false,
        "editable": false
      },
      "source": [
        "<p>Functions may have default values for some arguments. <code style=\"color: inherit\">round</code> will round off a floating-point number. By default, it rounds to zero decimal places.</p>\n"
      ]
    },
    {
      "cell_type": "code",
      "execution_count": 80,
      "id": "cell-77",
      "metadata": {
        "attributes": {
          "classes": [
            "> <comment-title></comment-title>"
          ],
          "id": ""
        }
      },
      "outputs": [
        {
          "data": {
            "text/plain": [
              "4"
            ]
          },
          "execution_count": 80,
          "metadata": {},
          "output_type": "execute_result"
        }
      ],
      "source": [
        "round(3.712)"
      ]
    },
    {
      "cell_type": "markdown",
      "id": "cell-78",
      "metadata": {
        "collapsed": false,
        "editable": false
      },
      "source": [
        "<p>We can specify the number of decimal places we want.</p>\n"
      ]
    },
    {
      "cell_type": "code",
      "execution_count": 81,
      "id": "cell-79",
      "metadata": {
        "attributes": {
          "classes": [
            "> <comment-title></comment-title>"
          ],
          "id": ""
        }
      },
      "outputs": [
        {
          "data": {
            "text/plain": [
              "3.7"
            ]
          },
          "execution_count": 81,
          "metadata": {},
          "output_type": "execute_result"
        }
      ],
      "source": [
        "round(3.712, 1)"
      ]
    },
    {
      "cell_type": "markdown",
      "id": "cell-80",
      "metadata": {
        "collapsed": false,
        "editable": false
      },
      "source": [
        "<h3 id=\"functions-attached-to-objects-are-called-methods\">Functions attached to objects are called methods</h3>\n",
        "<p>Methods have parentheses like functions, but come after the variable. Some methods are used for internal Python operations, and are marked with double underlines.</p>\n"
      ]
    },
    {
      "cell_type": "code",
      "execution_count": 82,
      "id": "cell-81",
      "metadata": {
        "attributes": {
          "classes": [
            "> <comment-title></comment-title>"
          ],
          "id": ""
        }
      },
      "outputs": [
        {
          "name": "stdout",
          "output_type": "stream",
          "text": [
            "12\n",
            "hELLO WORLD!\n",
            "12\n"
          ]
        }
      ],
      "source": [
        "my_string = 'Hello world!'  # creation of a string object\n",
        "\n",
        "print(len(my_string))       # the len function takes a string as an argument and returns the length of the string\n",
        "\n",
        "print(my_string.swapcase()) # calling the swapcase method on the my_string object\n",
        "\n",
        "print(my_string.__len__())  # calling the internal __len__ method on the my_string object, used by len(my_string)"
      ]
    },
    {
      "cell_type": "markdown",
      "id": "cell-82",
      "metadata": {
        "collapsed": false,
        "editable": false
      },
      "source": [
        "<p>You might even see them chained together. They operate left to right.</p>\n"
      ]
    },
    {
      "cell_type": "code",
      "execution_count": 83,
      "id": "cell-83",
      "metadata": {
        "attributes": {
          "classes": [
            "> <comment-title></comment-title>"
          ],
          "id": ""
        }
      },
      "outputs": [
        {
          "name": "stdout",
          "output_type": "stream",
          "text": [
            "False\n",
            "HELLO WORLD!\n",
            "True\n"
          ]
        }
      ],
      "source": [
        "print(my_string.isupper())          # Not all the letters are uppercase\n",
        "print(my_string.upper())            # This capitalizes all the letters\n",
        "\n",
        "print(my_string.upper().isupper())  # Now all the letters are uppercase"
      ]
    },
    {
      "cell_type": "markdown",
      "id": "cell-84",
      "metadata": {
        "collapsed": false,
        "editable": false
      },
      "source": [
        "<h3 id=\"use-the-built-in-function-help-to-get-help-for-a-function\">Use the built-in function <code style=\"color: inherit\">help</code> to get help for a function.</h3>\n",
        "<p>Every built-in function has online documentation.</p>\n"
      ]
    },
    {
      "cell_type": "code",
      "execution_count": 84,
      "id": "cell-85",
      "metadata": {
        "attributes": {
          "classes": [
            "> <comment-title></comment-title>"
          ],
          "id": ""
        }
      },
      "outputs": [
        {
          "name": "stdout",
          "output_type": "stream",
          "text": [
            "Help on built-in function round in module builtins:\n",
            "\n",
            "round(number, ndigits=None)\n",
            "    Round a number to a given precision in decimal digits.\n",
            "    \n",
            "    The return value is an integer if ndigits is omitted or None.  Otherwise\n",
            "    the return value has the same type as the number.  ndigits may be negative.\n",
            "\n"
          ]
        }
      ],
      "source": [
        "help(round)"
      ]
    },
    {
      "cell_type": "markdown",
      "id": "cell-86",
      "metadata": {
        "collapsed": false,
        "editable": false
      },
      "source": [
        "<h2 id=\"conditionals\">Conditionals</h2>\n",
        "<p>An if statement (more properly called a conditional statement) controls whether some block of code is executed or not.\n",
        "The first line opens with if and ends with a colon and the block of code to be executed is indented. An example is showed below.</p>\n"
      ]
    },
    {
      "cell_type": "code",
      "execution_count": 85,
      "id": "cell-87",
      "metadata": {
        "attributes": {
          "classes": [
            "> <comment-title></comment-title>"
          ],
          "id": ""
        }
      },
      "outputs": [
        {
          "name": "stdout",
          "output_type": "stream",
          "text": [
            "not greater\n",
            "done\n"
          ]
        }
      ],
      "source": [
        "num = 37\n",
        "if num > 100:\n",
        "    print('greater')\n",
        "else:\n",
        "    print('not greater')\n",
        "print('done')"
      ]
    },
    {
      "cell_type": "markdown",
      "id": "cell-88",
      "metadata": {
        "collapsed": false,
        "editable": false
      },
      "source": [
        "<p>If the expression that follows the if statement is true, the body of the <code style=\"color: inherit\">if</code> (i.e., the set of lines indented underneath it) is executed, and <code style=\"color: inherit\">“greater”</code> is printed. If it is false, the body of the <code style=\"color: inherit\">else</code> is executed instead, and <code style=\"color: inherit\">“not greater”</code> is printed. Only one or the other is ever executed before continuing on with program execution to print <code style=\"color: inherit\">“done”</code>:</p>\n",
        "<p><a href=\"../../images/python-basics/Figure5_Conditionals.png\" rel=\"noopener noreferrer\"><img src=\"data:image/png;base64,iVBORw0KGgoAAAANSUhEUgAAAVIAAAEMCAYAAACWUT5oAAAACXBIWXMAAC4j\n",
        "AAAuIwF4pT92AAAXoUlEQVR42u2dCfAU1Z3HH6d/EAQERVBEIVwSiK7RNbom\n",
        "8chmPcpU3LiWiRvWzSKWYlCTeGGi5RWT8liSKndNZc3GikfUTWlcj3gbRSOi\n",
        "MR7xxBs1gIA3h+i+X/rbOz1Nz0zPTM9/umc+n6of82d6pvv1636fee/169fO\n",
        "AeSLHh8TfGxOVgAANMaePj7xcR5ZAQCASAEAECkAACIFAECkAACASAEAECkA\n",
        "ACIFAECkAACASAEAECkAACIFAECkAACASAEAECkAACIFAECkAACASAEAECkA\n",
        "ACIFAECkAACASAEAECkAACIFAECkAACASAEAmuIxSbOemEK2AQCUOLVOiT5C\n",
        "lgEAlDOpTpGeQpYBAGzMo3WIdALZBQCwMfNp1gMANMdkmvUAAM3zpxoS/Zhm\n",
        "PQBAdU6rIdKHySIAgOaa9yeTRQAAtXmsSrN+e7IHAKA2368g0sVkDQBAOqZU\n",
        "EOlJZA0AQOPNe5r1AABNNu8fIksAAJpr3p9IlgAA1M/jNOsBAJrjBzTrAQCy\n",
        "ad7TrAcAaLJ5vx3ZAABQPz0+jvfxpo9LfGxNlgAApKOfjyN8vKxm/Ud6/cDH\n",
        "j3xsThYBAFQW6JE+XpI4V7vgTqYhPg7x8Yzef88FTxUdTpYBAJQwUT4hUX4o\n",
        "UY6Mfaa/RPuaPveWRDuI7AOAbuYLPu6XGNe7oC90XI3vDJRQ/6Lvvar/9yc7\n",
        "AaCb2NHHba402P5qH1PrXMdQ1Ujf0XqeUs22D9kLAJ3MRElzg+R3h49dm1zn\n",
        "FuoKWKN1LvKxD1kNAJ3GVmq2r3OleUX3zXgb47WN8Cq/1Xg/S9YDQNEZptri\n",
        "e5Lbs73Q/J6uWm/YbXCDjxkcCgAoGjaY3vovV0hoS11wQWhAL6bhcz7u1vY3\n",
        "SK7cIQUAuSccovSqBLZSQh3cxjRZF8IflZ61av5vyaECgLzRR032pySsdyTQ\n",
        "oTlJX1+l73ml7111OWzGoQOAPLC3jwclqDUS1BY5TesA1ZjfUHqXS/ibcBgB\n",
        "oB3s7EpjQTeoyTy+IGnfVAJdrfS/LMH247ACQG8w2QUXbj6WhOzvTxd0X0aq\n",
        "Bv2B9uVJdQEAALSEsap1rpd07vGxe4fs2zaxfXvABbevAgBkwgjV2t6XZB51\n",
        "2Q+mzwtTY7Vt67rYiVMAoDGucOVPsIzH8V2QB0Ml0PBe9iVq9vbtgn3fxcft\n",
        "rnwM6sScpdHmZl2TcG5aN8WnqnzPltlk2TxMEFrObj7mKi7TCXp25L0JHbzv\n",
        "dgXbLsQs035bobMLMQO78Dywmvdi5cM6Nf/H5CBdNvrAxsTe6OOoWHzTVb/x\n",
        "4e+0P7tRzKE3OVwn3tQGv/8ZH98uwH72dckTK2/a5cc/HCObp4mle5SW0xr4\n",
        "LiKF3IjUfvFtcPepqrFY7WCOC65e2zyZ0WFAZ0tKIfbsoWtdcPvkEq2j3XNp\n",
        "mijCZ8hXmli52+mv2t6Lrv0TS6cRqV0IvF/it3PyJ9qHqEjtR2KezmU77o/4\n",
        "OCDn5yp0kEiHuFKf1AUqYGPUFLT3PltBpD06IW/xsb+PWSqQZ7Rp3z7vY6Er\n",
        "PRspzcTK3U4eJpbucZX77w/Xj6DJ704fX3NBd5Qtmx0T6f76+ywfX/HxS50H\n",
        "W+fwXIUOFukvYp+tJdJwXV/Wibyb1mHLe3MwuHU3xCdWnsahroshrnxi6add\n",
        "700sHYr0Oh//FolvueCuMjuXFrjggpnNuBWOk70oJtID9ffpLhidYC2tmTk7\n",
        "V6ELRHp8CpH+OCLScyrUIqxfsjduU5zgyidWthrL33KIm6IdE0vXatrvopql\n",
        "TSH4Vf3fmu//ntC0/0cfv3XB/APL1AUwJAfnKnSRSI+LfXYPvf/3+r+dqIsj\n",
        "IrWrqu+78ivgo3pBZqPVbF+r9D3sOncsaLvozYmla4n0h6qFhjXH4Tr2cZGa\n",
        "YA/WZ+yzeyr9J7TxXAVE+tcT1pp69/r4Vx9XudIV8HC5zc15vQv6pL7ugqvB\n",
        "t7Yo7e2YWLnbiU4sHQo164mla4n0SC0/0QV9m4/o//8RE+lR+ttaTYdKwJ9I\n",
        "rr19rkKHYxdk3nDlMxrZr/TLkV/zKHbV8znJ6zc6WRdFlm+v91corIN/sxYU\n",
        "tHZPrNxO7GLJ6RWW7aFm67EuuDW03uVpSZpYOqtB8P30o3hYheV2nH/m420f\n",
        "L7igv/RKvTfJBRfKJugH9QQ1+9dqncdEfmh741wFyB39JMxXVIBXufZPrNzb\n",
        "9KjmtSRhmUlipZq41i/4qisfqlZreSMwsTRAQQgHjf/ZlW4TtCb95hms22o3\n",
        "O2obU1TjHhurndvy/rEa4fjId/upBvSFSK14Bx/7uaDfrRL13k11oSv1A8dF\n",
        "OlqthP0i71mz+79SLm8GJpYGyDl7+fiDCuh61Xi2znD947TuiyWC110weHtP\n",
        "LZ+o5VtFvmPDbC6PfNf+fk2iek41vlXqHlnuKt9ya2Nc/9sF/XppsKboTpJU\n",
        "XKQmyLdc+VwBp2t/0izPAiaWhsJgnf2PqCB1eljBD2cqatXTMkMZXqKapXUT\n",
        "3CWxphXpAtVYrdZn/YU2Td0g1XLtTqFjK2x7htZlw3LsMSbfcelm35+bINJ5\n",
        "Oi+iHKb09EuxPEvsQs65rnQR0PofX+qC89X6YP8FRRWD2a50T/TKDo8PIzXR\n",
        "BS3qewtlGB2wf4aavWlFGhW81caiox2sL/KCFDW5r+qzNiTnGhcMFK9HpHZl\n",
        "+r7Ye9Z/uU7rr7U8S+xHxQbQL3Wl23JXd/i5ukr7ej2KKpZIj+iS/bXC/qhr\n",
        "3cWMcQminK9aaSWR/mdMpNFlJo+vxUR6UR3p+RtJ8hNX+T73JJGepK6EKNZv\n",
        "+VjK5VkQXgx82ZVfDOyGiWFGIVJEmnfCixmhYMKLGVk8xbOWSLfX8uhQodsz\n",
        "Fqn1If6Tj5tVI73KVb+hIEmkB6mZ3hN570wfv0q5vBnCi4FPuuwvBiJSQKQZ\n",
        "E06o8abyYJlr/mJGLZH2kxjm6++9VTPOQqR2xf+nLugLfsIFt+SmmZUqSaQD\n",
        "lR8/1A/PeKXlGymXN4pdDHzAlV8M3KYLz01EikgLRzihxtuudH90o0/JrCVS\n",
        "w6ZX+1g1YZu67dKMRGp3iNnwo8/VmeYkkRq7Ssp2ccf6JRfUubwerAsiPjHM\n",
        "1C4+JxEpIi30yXueK12UesK17imZ1o2Q9ezxrbgTy35MbParYQ0ur8WnXPlz\n",
        "n+6QoDkXESkiLTjbuvIJNazW+HmyJVPGKI/XKY9tshomhkGkiLQD2cFtPKHG\n",
        "jmRLUwx35U9ZZWIYRIpIuwSb+Sc+ocZEsqUubOiV9UO/5bpzYhhEikhBRCfU\n",
        "CJ+SuRXZUpX+EuZryreVrvsmhkGkiBRixCfUCJ+SOYysKSP+NNFwLOgIsgaR\n",
        "IlIIiU+osUI1rR6y5v/vcGrVxDCIFBBph7GpBLpa+fiK6/2nZOYFm+HqPlc+\n",
        "FnQypwgiRaSQlpGufAzqU657rkbbkzTDwfSfSKAzOCUQKSKFRhnnysegPuiC\n",
        "20A7ke1d+VNW7c6qPTgFECkihayY5srv2LEa284dsm/xp6xafyiD6REpIkWk\n",
        "LcMex3unK+83nFTQfbFHfVj3xbvaH3tQnHVf9OUwI9Juwa4mX6WCHI3FOmCL\n",
        "Epb92jHeLyusxhY+5jccgzq2QOeOXVBbrvTbUzXtgtpADmsmzE8oe9e70o0L\n",
        "VycEtyy3kbtc6YJAmvg9WZYp4djK55S/77t8j62MT6z8toQ6hEOZKfPqLJc2\n",
        "pGwLsq19HF3nATuWLGsJ4RjU110+7/aJP2V1jYQ/ikPXEmyM7YY6yuUdZFl7\n",
        "sYsEH6U8WPY5bn9sLeEY1PD5PFlMLN0s0aesfqQuiPEcqpZzXx0iPYrsKk7z\n",
        "/h6yqtfYXDW+D5T3L6rG2psXcaITK4djQadzaHLXvKdZX7Dm/VyyqtfZRjXA\n",
        "9ToGj7vWTSwdMsmVD9OyH9DdORS5bd7TrC9Q855mfXuZGpPbQhfcfpklY135\n",
        "xMr2ZFXGgraXhTTri8XdNOsLwa6qgUQnlp7Z5DrjEysvcYwFzQvHpWjWc8Ev\n",
        "RxxDs75QWE3xYVc+sfSEOtcRn1jZnpzKWNB8sU2kFZIUt5NF+WKrKs17mvX5\n",
        "JByS9KyO01o1zUfX+F58YmXGguab+6uIdA7Zkz/uqXCw7iZrck04BnWpjte7\n",
        "aqpvFvtcX33uRX3uQ8dY0CJwPM36YjG3wgE7hqwpBINd+RjU5a40sbTVXB93\n",
        "5WNBtyXLCt28p1lfoOY9zfriYU37n7rSTEx/ceUXp3YhizqieU+zPsf8nmZ9\n",
        "x2AXn37lgotRDzmGMnVS855mfc45lmZ9xzHU8Yz4Tmve30aW5L95vyHSrB9N\n",
        "lgDkggciIj2S7ChO8/4usgIgN5xAs76YzfujyQqA3DBOzftbyYriNO/X0awH\n",
        "yGXzfnY37KjdG3t1B8STHbIf36HsdQ0HuORH53RS/NEFjxzp5H38uR3Mema1\n",
        "Jlof1hTqj2O6gns53zsm/vqPTSYxgWh7PKjjMQDHdAXhlHOc+8WN46IiXcg5\n",
        "nQvuRqRdKVIoLl9HpIgUECkgUkQKiBQQKSBSRAqIFBApIFJEikgRKSBSQKSI\n",
        "FBApIFJApIgUECkgUkCkiBSRIlJApIBIESkgUkCkgEgRKSBSQKSASBEpIFJA\n",
        "pJA7kY7x8bxe0zDdx4gKyxa79j3fvFq60pA27YgUkXZSWWu23BShDPeKSDfz\n",
        "caZe0/Cij8MqLHvJx05tOgjV0pWGtGlHpIi0k8pas+WmCGW4IZH2+JgcMfz+\n",
        "Pobr//187KjXiQqb6X2KXgdoeR+9Z49ZGBtZ9zQfS32c4oJnMMV5zAUTqYZs\n",
        "7eOLPgb7GOJjyyrpcPo1+pKPnbUs6UTcz8cMH31rpKvSuiptO552RAq1RJqH\n",
        "slZrPcZ4H4f42FdpTruNauW4UjlqtBxXSks95bhSGW5IpFa1XevjOq3YmhJv\n",
        "ytSjtK7zXfD4km+54CmCn+g1/Ptife91Hx/62FPrvlbrfsElPyzrXld6pOs8\n",
        "Fzzs7s8+3vfxvz5u0rKkdBzoY7WPp30sUdq3jaz7B9r2PT6e8vGqDmpSuqqt\n",
        "K2nb8bQjUkgj0jyUtVrrmauy8DuVm2ci0qu1jWrluFI5arQcJ6Wl3nJcqQw3\n",
        "LFL7/DmR967Q98ON3xH5JU06uJfI9PYLdJcOUprq93D9Mk5VpnxR79u2lieI\n",
        "NEzHSB+rfByj5X2UsddEfn0+iKzPeMiVP4QuTFetdSXlQTTtiBTqEWm7y1q1\n",
        "9dh210ek2kfl4JaU26hWjpP2r9lyHE1LI+W4UhluSqTjI+/tJWtvrWX7RJYl\n",
        "HdxpkeVn+Litzn4My5g/xd67PEGkYToO9/GefsmnK+bqPRfJyMGq4h+q/pAL\n",
        "EtJVa12jEvKgHhApIs1TWau2nu/6eC32+YN9rIk0qatto1o5TipHzZbjaFqy\n",
        "LMcNi/SjWB/iDK1jil63q3Fwo30U8/ULV8/BvdDHb2PvfS9BpGE6TlWzYVFC\n",
        "hE/r/LGPFfoF+4ULrtAlibTWukYl5AEihUZF2u6yVm09C3zcEPv8Hvr80BTb\n",
        "qFaOk8pRs+U4mpYsy3FTNdLoEIujfayssPFWHFzL7Fdi711aRaSz9EuzSeTz\n",
        "o3TQnX69rImyQ2T5zRVEWmtdiBSyrpG2s6xVW8/J6oOM93muSLmNauU4af+a\n",
        "LcfRtGRZjpsS6fmqRtuG7BHCl2V0cJ/WyVKNGfqlnq1fj73UN1JJpHYivuPj\n",
        "RAlqrD57pZb/g5aPiDSfbH0XJaSr1roQKWQt0naWtWrr2UHlcI7KYY/Sd1HK\n",
        "bVQrx0n712w5jqYly3LclEitL2OZ+kNuV+KzOLhnuaAD+qQa6Zil7VtGPerj\n",
        "5z5+UyUTDtIv+TL9at3oY4tIv8rNytiXfdzqgmESdkXvgIR0VVsXIoWsRdrO\n",
        "slZrPXOUrtdVXqwsDKtjG5XKcaVy1Ew5jqclq3LclEiN0W7jMWVZYAdiYJXl\n",
        "gyIHdpBe7VfnzBrrHaTq/6QKy7eNZGS4fwMrpKvWuhoFkSLSPJW1NFh/6K6u\n",
        "8h1VlbbRjnIcT0sW5bhpkbaLLfUr8xU1J3Z3wbCJvTugYCFSRJqnskY5bpFI\n",
        "Z7pg8Gq7+YaPP7hgcPDjPo7okJMLkSLSvJU1ynELRJo3+nTYiYVIEWk3UuRy\n",
        "zDR6iBQQKSBSRAqIFBApIFJESjYgUkCkgEgRKSJFpIBIAZEiUkCkgEgBkSJS\n",
        "QKSASAGRIlJEikgBkQIiRaSASAGRAiJFpFBskdqErCOItsd9iLQrRcq5X9yY\n",
        "HYr0Y/1B5Cf645iuEilR/HBn+7i64LFYO7OoA/blXPzSNfxzB5yv1eJ6lcul\n",
        "Hb6fV3bKCRlWr4+gbALkhvCRHdeTFYgUABApIgUARAqIFACRAiIFQKSASAEA\n",
        "kSJSAECkgEgBECkgUgBECogUABApIgUARAqIFACRAiIFQKSASAEAkSJSAECk\n",
        "gEgBECkgUgBECogUABApIgUARAqIFACRAiIFQKSASAEAkSJSAECkgEgBEClk\n",
        "KNIbfZxHdET8xMedPs4nLwobCxBpsThEB4wgiPzFL1FUMejj4zM+diY6Jhaq\n",
        "EF5KXhQ+hqAogPZwk0R6LlkBAIBIAQAQKQAAIgUAQKQAAIBIAQAQKQAAIgUA\n",
        "QKQAAIBIAQAQKQAAIgUAQKQAAIBIAQAQKQAAIgUAQKQAAIBIAQAQKQBAHpjo\n",
        "Y11CfCyRbkhY9oGPgWQdAECJVa6+p1I+R5YBAJTz6zpFejpZBgBQzsw6JGpN\n",
        "/sFkGQBA4837Z8kqAIDmmvffJ6sAABpv3tOsBwCowWqa9QAAzXE1zXoAgNY1\n",
        "72nWAwA02bx/hqwBAEjHNRVEehpZAwDQePOeZj0AQJ28TbMeAKA5/icm0lPJ\n",
        "EgCA+tiZZj0AQHbNe5r1AABNNu9p1gMANNG8t9nxe8gKAOht+vi4wsfiDojl\n",
        "HbIfF3JaAhSLzV19s80TrY93OC0BiinSG8iKXPAYIgVApIBIARApIFIAQKSI\n",
        "FAAQKSIFAEQKiBQAkQIiBQBEikgBAJEiUgBApIBIARApIFIAQKSIFAAQKSIF\n",
        "AEQKiBQAkQIiBYA8inSMj+f1mobpPkZUWW4TIu+S8P4sH9f00j5VSgMiBUCk\n",
        "LWEzH2fqNQ0v+jisyvKXfOyU8P7RPu7qpX2qlAZECoBIU2HPSpocqT3u72N4\n",
        "ZHk/HzvqdaI+O8VHfx8DtKyP3jvAx9jId6f5WOrjFB9bVRHQBP1t391LNdgk\n",
        "kY73cYiPfV35M55qpcNpnV9ywTOi+lVJAyIFQKR1Y03atT6ukwys2f5mpIY2\n",
        "Sts53wUPqfue/j9OYX9frO+97uNDH3vqu9dq3S/4mF1h+/dqG8e74Nn2L2gd\n",
        "t8VEOtfHah+/8/GUCx7fPFHLaqXjQH33aR9LtJ/bJqQBkQIg0oZFaus5J/Ke\n",
        "PVRvYUykd6g2Oi5BpJeoljdY8ru4jqb9cNUiTdLfVK1ygmQYitS2uz4iRvuM\n",
        "9Z/eEhNpUjpG+ljl45jId6915f2vw/U+IgVApE2JdHzkvb0ktk0iIt0nJq2o\n",
        "SKdFvnuGapNpRWrYM+2XxWR2aUSk3/XxWuw7B/tY46NvjXQc7uM91bCnK+bq\n",
        "vSxBpABdLtKPJKSQGVr3yIhIt6si0mj/5/xYkzyNSK3meHPsvXmR9SxI2M89\n",
        "tO2hNdJhkn7fx6KE6I9IARBpljXS6HAmu9CzMta0b6VIT/PxRuy9KyPrOdnH\n",
        "qwmiXRFLU1I6Zqn2uUlk2SiJmBopACLNVKTnq2ltwnzQx2UZifRpibkan1at\n",
        "+Ns+BvrYVZIM17ODls9RLbJHabwohUjHSHAnuuDqvl3Nv0miRqQAiDRTkV7u\n",
        "gn5K63e83ZUG0Tcr0rNccOX+pBrpMNmul0BXSOzR9cxR2uwilF2Bv9HHsBQi\n",
        "NQ5SDXuZtmHf3QKRAkDWIjVGu43HX2bBMNU00+zTTlU+O1S11TENpGGQC8aQ\n",
        "TmrR8UCkAIgUECkAIm2UmS4YpA6IFACRAiIFAESKSAEAkSJSAECkgEgBECkg\n",
        "UgBApIgUABApIgUARAqIFACRAiIFAESKSAEAkSJSAECkgEgBukSkD7jg8cRE\n",
        "e+MFRApQPIZJpER+YhWnJUDxOMrHeURu4lBOyc7m/wBB0V8P3TzFRAAAAABJ\n",
        "RU5ErkJggg==\n",
        "\"\" alt=\"A flow chart diagram is shown with a decision box of number &gt; 100. For true it branches to print 'greater'. For false it branches to print 'not greater'. Both branches re-connect to print done.\" width=\"338\" height=\"268\" loading=\"lazy\" /></a></p>\n",
        "<p>Conditional statements don’t have to include an <code style=\"color: inherit\">else</code>.  If there isn’t one, Python simply does nothing if the expression is false:</p>\n"
      ]
    },
    {
      "cell_type": "code",
      "execution_count": 86,
      "id": "cell-89",
      "metadata": {
        "attributes": {
          "classes": [
            "> <comment-title></comment-title>"
          ],
          "id": ""
        }
      },
      "outputs": [
        {
          "name": "stdout",
          "output_type": "stream",
          "text": [
            "before conditional...\n",
            "...after conditional\n"
          ]
        }
      ],
      "source": [
        "num = 53\n",
        "print('before conditional...')\n",
        "if num > 100:\n",
        "    print(num, 'is greater than 100')\n",
        "print('...after conditional')"
      ]
    },
    {
      "cell_type": "markdown",
      "id": "cell-90",
      "metadata": {
        "collapsed": false,
        "editable": false
      },
      "source": [
        "<p>We can also chain several expressions together using <code style=\"color: inherit\">elif</code>, which is short for “else if”. The following Python code uses <code style=\"color: inherit\">elif</code> to print the sign of a number.</p>\n"
      ]
    },
    {
      "cell_type": "code",
      "execution_count": 87,
      "id": "cell-91",
      "metadata": {
        "attributes": {
          "classes": [
            "> <comment-title></comment-title>"
          ],
          "id": ""
        }
      },
      "outputs": [
        {
          "name": "stdout",
          "output_type": "stream",
          "text": [
            "-3 is negative\n"
          ]
        }
      ],
      "source": [
        "num = -3\n",
        "\n",
        "if num > 0:\n",
        "    print(num, 'is positive')\n",
        "elif num == 0:\n",
        "    print(num, 'is zero')\n",
        "else:\n",
        "    print(num, 'is negative')"
      ]
    },
    {
      "cell_type": "markdown",
      "id": "cell-92",
      "metadata": {
        "collapsed": false,
        "editable": false
      },
      "source": [
        "<h3 id=\"comparison-operators-in-python\">Comparison operators in Python</h3>\n",
        "<p>The operators used for comparing values in conditionals are the following:</p>\n",
        "<ul>\n",
        "<li><code style=\"color: inherit\">&gt;</code> : greater than</li>\n",
        "<li><code style=\"color: inherit\">&lt;</code> : less than</li>\n",
        "<li><code style=\"color: inherit\">==</code> : equal to</li>\n",
        "<li><code style=\"color: inherit\">!=</code> : does not equal</li>\n",
        "<li><code style=\"color: inherit\">&gt;=</code> : greater than or equal to</li>\n",
        "<li><code style=\"color: inherit\">&lt;=</code> : less than or equal to</li>\n",
        "</ul>\n",
        "<h3 id=\"logical-operators-in-python\">Logical operators in Python</h3>\n",
        "<p>We can also combine expressions using <code style=\"color: inherit\">and</code> and <code style=\"color: inherit\">or</code>. <code style=\"color: inherit\">and</code> is only true if both parts are true:</p>\n"
      ]
    },
    {
      "cell_type": "code",
      "execution_count": 88,
      "id": "cell-93",
      "metadata": {
        "attributes": {
          "classes": [
            "> <comment-title></comment-title>"
          ],
          "id": ""
        }
      },
      "outputs": [
        {
          "name": "stdout",
          "output_type": "stream",
          "text": [
            "at least one part is false\n"
          ]
        }
      ],
      "source": [
        "if (1 > 0) and (-1 >= 0):\n",
        "    print('both parts are true')\n",
        "else:\n",
        "    print('at least one part is false')"
      ]
    },
    {
      "cell_type": "markdown",
      "id": "cell-94",
      "metadata": {
        "collapsed": false,
        "editable": false
      },
      "source": [
        "<p>while <code style=\"color: inherit\">or</code> is true if at least one part is true:</p>\n"
      ]
    },
    {
      "cell_type": "code",
      "execution_count": 89,
      "id": "cell-95",
      "metadata": {
        "attributes": {
          "classes": [
            "> <comment-title></comment-title>"
          ],
          "id": ""
        }
      },
      "outputs": [
        {
          "name": "stdout",
          "output_type": "stream",
          "text": [
            "at least one test is true\n"
          ]
        }
      ],
      "source": [
        "if (1 < 0) or (1 >= 0):\n",
        "    print('at least one test is true')"
      ]
    },
    {
      "cell_type": "markdown",
      "id": "cell-96",
      "metadata": {
        "collapsed": false,
        "editable": false
      },
      "source": [
        "<h3 id=\"true-and-false\">True and False</h3>\n",
        "<p><code style=\"color: inherit\">True</code> and <code style=\"color: inherit\">False</code> are special words in Python called booleans, which represent truth values. A statement such as <code style=\"color: inherit\">1 &lt; 0</code> returns the value <code style=\"color: inherit\">False</code>, while <code style=\"color: inherit\">-1 &lt; 0</code> returns the value <code style=\"color: inherit\">True</code>.</p>\n",
        "<blockquote class=\"question\" style=\"border: 2px solid #8A9AD0; margin: 1em 0.2em\">\n",
        "<div class=\"box-title question-title\" id=\"question-conditionals\"><i class=\"far fa-question-circle\" aria-hidden=\"true\" ></i> Question: Conditionals</div>\n",
        "<p>What does this program print?</p>\n",
        "<div class=\"language-plaintext highlighter-rouge\"><div><pre style=\"color: inherit; background: transparent\"><code style=\"color: inherit\">pressure = 71.9\n",
        "if pressure &gt; 50.0:\n",
        "    pressure = 25.0\n",
        "elif pressure &lt;= 50.0:\n",
        "    pressure = 0.0\n",
        "print(pressure)\n",
        "</code></pre></div>  </div>\n",
        "<br/><details style=\"border: 2px solid #B8C3EA; margin: 1em 0.2em;padding: 0.5em; cursor: pointer;\"><summary>👁 View solution</summary>\n",
        "<div class=\"box-title solution-title\" id=\"solution-11\"><button class=\"gtn-boxify-button solution\" type=\"button\" aria-controls=\"solution-11\" aria-expanded=\"true\"><i class=\"far fa-eye\" aria-hidden=\"true\" ></i> <span>Solution</span><span class=\"fold-unfold fa fa-minus-square\"></span></button></div>\n",
        "<p>25</p>\n",
        "</details>\n",
        "</blockquote>\n",
        "<blockquote class=\"question\" style=\"border: 2px solid #8A9AD0; margin: 1em 0.2em\">\n",
        "<div class=\"box-title question-title\" id=\"question-conditionals-1\"><i class=\"far fa-question-circle\" aria-hidden=\"true\" ></i> Question: Conditionals</div>\n",
        "<p>Write some conditions that print <code style=\"color: inherit\">True</code> if the variable <code style=\"color: inherit\">a</code> is within 10% of the variable <code style=\"color: inherit\">b</code> and <code style=\"color: inherit\">False</code> otherwise. Compare your implementation with your partner’s: do you get the same answer for all possible pairs of numbers?\n",
        "Hint: There is a built-in function <code style=\"color: inherit\">abs()</code> that returns the absolute value of a number.</p>\n",
        "<br/><details style=\"border: 2px solid #B8C3EA; margin: 1em 0.2em;padding: 0.5em; cursor: pointer;\"><summary>👁 View solution</summary>\n",
        "<div class=\"box-title solution-title\" id=\"solution-12\"><button class=\"gtn-boxify-button solution\" type=\"button\" aria-controls=\"solution-12\" aria-expanded=\"true\"><i class=\"far fa-eye\" aria-hidden=\"true\" ></i> <span>Solution</span><span class=\"fold-unfold fa fa-minus-square\"></span></button></div>\n",
        "<div class=\"language-plaintext highlighter-rouge\"><div><pre style=\"color: inherit; background: transparent\"><code style=\"color: inherit\">a = 5\n",
        "b = 5.1\n",
        "if abs(a - b) &lt;= 0.1 * abs(b):\n",
        "   print('True')\n",
        "else:\n",
        "   print('False')\n",
        "</code></pre></div>    </div>\n",
        "</blockquote>\n",
        "</blockquote>\n",
        "<h2 id=\"for-loops\">For loops</h2>\n",
        "<p>Doing calculations on the values in a list one by one is very time consuming.</p>\n"
      ]
    },
    {
      "cell_type": "code",
      "execution_count": 90,
      "id": "cell-97",
      "metadata": {
        "attributes": {
          "classes": [
            "> <comment-title></comment-title>"
          ],
          "id": ""
        }
      },
      "outputs": [
        {
          "name": "stdout",
          "output_type": "stream",
          "text": [
            "1\n",
            "3\n",
            "5\n",
            "7\n",
            "9\n",
            "11\n"
          ]
        }
      ],
      "source": [
        "odds = [1, 3, 5, 7, 9, 11]\n",
        "print(odds[0])\n",
        "print(odds[1])\n",
        "print(odds[2])\n",
        "print(odds[3])\n",
        "print(odds[4])\n",
        "print(odds[5])\n"
      ]
    },
    {
      "cell_type": "markdown",
      "id": "cell-98",
      "metadata": {
        "collapsed": false,
        "editable": false
      },
      "source": [
        "<p>A for loop tells Python to execute some statements once for each value in a list, a character string, or some other collection.\n",
        "“for each thing in this group, do these operations”. The for loop equivalent to the previous code is:</p>\n"
      ]
    },
    {
      "cell_type": "code",
      "execution_count": 91,
      "id": "cell-99",
      "metadata": {
        "attributes": {
          "classes": [
            "> <comment-title></comment-title>"
          ],
          "id": ""
        }
      },
      "outputs": [
        {
          "name": "stdout",
          "output_type": "stream",
          "text": [
            "1\n",
            "3\n",
            "5\n",
            "7\n",
            "9\n",
            "11\n"
          ]
        }
      ],
      "source": [
        "for num in odds:\n",
        "    print(num)"
      ]
    },
    {
      "cell_type": "markdown",
      "id": "cell-100",
      "metadata": {
        "collapsed": false,
        "editable": false
      },
      "source": [
        "<p>The improved version uses a for loop to repeat an operation — in this case, printing — once for each thing in a sequence. The general form of a loop is:</p>\n"
      ]
    },
    {
      "cell_type": "code",
      "execution_count": 93,
      "id": "cell-101",
      "metadata": {
        "attributes": {
          "classes": [
            "> <comment-title></comment-title>"
          ],
          "id": ""
        }
      },
      "outputs": [],
      "source": [
        "# for variable in collection:\n",
        "    # do things using variable, such as print"
      ]
    },
    {
      "cell_type": "markdown",
      "id": "cell-102",
      "metadata": {
        "collapsed": false,
        "editable": false
      },
      "source": [
        "<p>Using the odds example above, the loop might look like this:\n",
        "<a href=\"../../images/python-basics/Figure6_For_loop.png\" rel=\"noopener noreferrer\"><img src=\"data:image/png;base64,iVBORw0KGgoAAAANSUhEUgAAAeAAAAKCCAYAAAAJAApZAAAACXBIWXMAAA7E\n",
        "AAAOxAGVKw4bAAAgAElEQVR42u2dP8hsx3mHF+L8u8TYiU2kxijEiQghUhM3\n",
        "2hRCIDAq3NkY202qJU5ApEkVELq9igVhVCUEQ5zCCIzD/RpBMIpKk0JgNV+h\n",
        "OnITiCCFio1+373z3dl355wz5+z5M/PO88BBuvd+++2es+fMM+8778zsTgAA\n",
        "ALA6Oy4BAAAAAgYAAEDAAAAAgIABAAAQMAAAACBgAAAABAwAAAAIGAAAAAED\n",
        "AAAAAgYAAEDAAAAACBgAAAAQMAAAAAIGAAAABAwAAICAAQAAAAEDAAAgYAAA\n",
        "AEDAAAAACBhgY27e3Z12b5rj3RsuDBTG7en4DvcqAoYmH/j9+7cLv45GDWD0\n",
        "vfrO8XTLxUHAgICbEPCvj6d99LOHj1b6TLN3DG5Ohzc73ufNOb+/nvNZ9Bw3\n",
        "ENbUeyPrdQgYAQMCdivg/en46/EN+qwC/uiQIamhzzmvgK8XYub7zCmUwes4\n",
        "1zW89t6Y+LpY2AgYAQMCdi3gngZ9TgHfvr9fMUp0GgGbaHJR0V9zb1xzTyFg\n",
        "BAwIuA0Bm5/5aLkUdBCw/Z2XYj6crldwLOA5ft88wrz2fjkvqjv/Tm3B3fXf\n",
        "3dR748p7CgEjYCiQrl71UFRhX3f3UGeIdOLrUpXH24h6hIBDQ7f4GHBOFOlH\n",
        "wOf3wrWf4zyqv7ynTNR/dSZh6r1x5T2FgBEwlEReOjH1YCen4TwR0r5HpJNe\n",
        "N5AeHJbwuHTmuDG4zHHBEgQ8S6NbgIBnjn7tczB4v88tr0WLsBAwAoYCGSMl\n",
        "09BmFf0kGseJr+uWNgIec87zvOdAp22Fhr0vXYyAETAChvKxMjRpNSu9PiE+\n",
        "ffAvG+frXxf/m21sH/8bAp4jS7B81mSR85ylsGwoVW/OGQEDAobZoojkw9iV\n",
        "vjR/f9EAdo2nzfS6IhqO2gQ85/SZ3OlBc0/ZeXLlzwrL5nuPoSzLDgEDAob5\n",
        "BdIdHZ03diEqGErXdf3uqa/rnmazzjiqjwh4+Ua3P/uxyHvMej4j5h0jYEDA\n",
        "MFdj0/XgJgU8+NB3iHTq6wYkvE0hUCVFWIkx90WrxhdJD3ffA0tcw65K+7P3\n",
        "nnvJUQQMCLhdAWdFwPcP7PoR8KCIBxuTVqugTx1TvlaKgpdcAnNlgcRinr0T\n",
        "g4ABAbdEzrhq15jtUCPbJfepr8sRy7TlIBHwshHwnKKyHa9V53+fndcCY9sI\n",
        "GBBwYwoeaND6Vv/pngYypgo693VP/q1X2J4EfP5Zsz9LskEdGpcd+15PvsPU\n",
        "e12MQdvrMv69ur+/oWGHCe/1eUcla9GYi/vwmvNCwICAG+WKopNV5wFnfM7V\n",
        "G5M8AWdX1p416iMzAdfM5x79XlPPadp7dd03w68d/15562mnvutp5zX1Ok6/\n",
        "/ggYAUNZZAkxHW30rWh1fP8waSWs9OuGBbx+NfTYtaCXFHBuozyPPLLeKzn2\n",
        "O1XA9jrmZBwmvNfknZCmnNfUe2Pq6xAwAoZyY+F3p4ntImoID/1Hh94Gafzr\n",
        "OiS8WSMybwTcfa4jxht7piF1f48zv1fv9zHTe2UVdk17r2nT3aa917R7Y/rr\n",
        "EDACBnDChDHgKVmJpRtJ3quu97oWBIyAAXwJeIFdchZcSYr3qvW9Zr5XETAC\n",
        "BkDA6Qhl8Wk2vFdd74WAETCXAOAxS+xNfP8719xRiPeq4r2K6ywCAgYAAEDA\n",
        "AAAAgIABAAAQMAAAACBgAAAABAwAAAAIGAAAAAEDAAAAAgYAAEDAAAAACBgA\n",
        "AAAQMAAAAAIGAAAABAwAAICAAQAAAAEDAAAgYABYnpvT4X6j9v3p+GuuCAAC\n",
        "hsa4PR3fCSJ4crx7w2VZmo8OZ9d8//5t9fdO/jlMfR0AAgbP8r07DicUvK6A\n",
        "Dx/Vf/8gYEDAABMlgIDXxEMKGgEDAgaY1ny+v0e6gIABEDBsKuB3jieaQUDA\n",
        "AAgYlqQz9dzTIHa9pqtg69fH0/7sZ84b3aExz7hzEH725t3hz9nfqehp+KPz\n",
        "C39v3+/8912On48ax42vj0lBTz33q777ocI7+7q7a5Eh0omvu7j2yZ8bd08B\n",
        "IGAoK/IdFHA8Vtl9XDR+ZwI+jpbVmYTej2XVL455BHzsPmf9zp4OTLYYcwU8\n",
        "4tz7mfg9dsgwfO59j0gnve7XPec79LNU7wMCBj8RcFeVdEbh1kBDOkbA/Ue3\n",
        "vKYK+Lojcyw9U8Bjzr3nak7/Hkdcl6nXM35dt7QRMCBg8BoJp8aAbSNqGrje\n",
        "tGhCwGNShJcSimTTM4d2TgHff95kZ+KpqOxnzTrPUQLOO/fsDteI79H+29Nz\n",
        "u4yor39dX2X44387P19S0ICAwamAzxrRZJGWiazinzHSGjtmeS4h2xh3i3Qe\n",
        "AV9GludCsVHuuVTmFXD+uXcx/Xs0f38RYZ6fd2fmZOrrKAwEBAxtCjivoe+c\n",
        "ytQjmCU/2zwCvkwjn0nsQigTIrFcAU/8Xub5Hoc6Fl2/e+rrutPvRLeAgKEh\n",
        "AedFdQi4dAFf8T2aLEa2SKe+bkDCzFUHBAxNCjgrcupMQSPgUgQ87ntcPwIe\n",
        "FDFpaUDA4F/AOeNxPWN9JQj4QqSkoMd9j6ZgKnssd+rrOhgYnwdAwOBMwJcR\n",
        "yNA8zzPxbCTg7irh/qpdvwK+7ns8/7f4c46pgs593ZN/6xV2/LuoggYEDE4F\n",
        "nLt4Q/L1Wwl4YP5xiwK+6ntcdR5wxufsqbRnHjAgYHAk4NyGNFEcs5WAT/0r\n",
        "MB3fPzQo4Cu+x6nXc9LrhgXcnWVBwICAwZuABxrTTtksKuDzzzO4JnT8Oz6q\n",
        "XcDD536a83vsup7hGnx0GPc9DL6uQ8IZY9ekoAEBAwAAIGAAAABAwAAAAAgY\n",
        "AAAAEDAAAAACBgAAAAQMAACAgAEAABAwAAAAIGAAAAAEDAAAAAgYAAAAAQMA\n",
        "AAACBgAAQMAAAACAgAEAABAwAAAAAgYAAAAEDAAAgIAB4Do++eST08cff3z6\n",
        "3//9Xy4GAAIGgDX47LPPTr/xG79xd7z66qtcEAAEDABr8MEHH9wLWMenn37K\n",
        "RQFAwACwNK+//vqZgB89esRFAUDAALAkcfo5HBIyACBgAFgQm34Oh8QMAAgY\n",
        "ABbCpp/DITEDAAIGgAVIpZ9JQwMgYABYmK70M2loAAQMAAvy8OHDXgGThgZA\n",
        "wACwAM8++2yvgElDAyBgAJiZDz/8sFe+pKEBEDAALMBQ+pk0NAACBoAFGEo/\n",
        "k4YGQMAAMDO56edwAAACBoAZyE0/h0PCBgAEDABXkpt+DoeEDQAIGACuYGz6\n",
        "WYeEDQAIGACuYGz6mTQ0AAIGgBl48cUXJwmYNDQAAgaAiXzyySeT5EsaGgAB\n",
        "A8AVvP3225MFTBoaAAEDwESmpp9JQwMgYAC4go8//rjziEXb9TNKYQMAAgaA\n",
        "GWHlKwBAwAAIGAAQMAACBgAEDAAIGAAQMAACBgAEDAAIGAAQMAACBgAEDAAI\n",
        "GAAQMAACBgAEDAAIGAAQMAACBgAEDICAAQABAwACBgAEDICAAQABAwACBgAE\n",
        "DICAAQABAwACBgAEDICAAQABAwACBgAEDICAAQABAyzJZ599dvr444/vjg8+\n",
        "+OD0r//6r5sesYC3/iwffvjh/bUBAAQMcBWffPLJnVxeffXVM9lx5B2vv/76\n",
        "6dGjR6dPP/2UmwkAAQP0I1k8fPjw9OyzzyLRGY8XX3zxrjOjLAIAIGCAC/EO\n",
        "iUTR8Pe+97276G7rtG8px9tvv313TXRItH3XTx0bRAyAgAHukEC6ZCHRaryX\n",
        "NOo4lL5X+llS7rq2uq4AgICh0ag3Nb6rKA45zIeiXUW9qbS+sg5EwwAIGBpC\n",
        "VbtWCIh3GxGrE6SIGQAQMDhHkrWRmNLQsJ6IbWpaUkbCAAgYHKN5qrbhVzQM\n",
        "62PnMisSJh0NgIDBIYqw4vQnUdf22GwEEgZAwOAMNerxFBnkW66EVXkOAAgY\n",
        "nGDTnci3LOxUMJa0BEDA4ABNN7LrJkN5xIVZylYAAAIGGnZYAWUl4o6SFvIA\n",
        "AAQMTqJfUptlE6ei6SwBIGComHjsV5EwlI2K5RirB0DA4IC48nntVa5uj/vT\n",
        "bre7Ow43j//u5rC7/zsd++Nt7+t2++Pp/CduT8d9x+tvDhd/b9/v/Ped/674\n",
        "c26JqqBZIAUAAUPF2DHFteeXngn4eDztd0aG4TDWm0fAx9Oh6/30O6OftUeq\n",
        "U7Am8bQk0tAACBgqREU8W84tPRNp77E/xc6bQ8DXHYfTloGwTUOzMAcAAobK\n",
        "iMd/t5h6dCngSLRGlrFI5xTwfXB9m4rAn4rWftatU9HxLlUUzgEgYKgMbXVX\n",
        "joDPo9w+kc4jYPt+djzYRrk3ZynrrQUcTx1DwAAIGCpj60Z8qkjnEfBlGvlM\n",
        "wBeGPf+9Wwt4684TAAIGQMBNCnjr4QMABAyAgImAETAAAoa6iFdV2nwMeKqA\n",
        "L0TahoAZAwZAwFAxRVVBX1HN/PTfbi7m9noVMFXQAAgYKiZe0GHzecBjBHzb\n",
        "s2hHAwJmHjAAAobKsRsxbLkS1igBnxJLSMbTi44H1wJmJSwABAwOiFOZa29v\n",
        "1y/gcyEOrgkd/44b3wJmLWgABAwOiJejlIyhbNgNCQABgxNsGvrDDz/kohQM\n",
        "+wEDIGBwRDylhUa9XOzuVWsPGQAgYICFo2AWdii/o8RwAQACBifEc4KZW1oe\n",
        "8cpXfD8ACBgcoeIepZ9DA//ss89S4FMI8bQjHZIxACBgcISEK/Ei4XLlq9Qz\n",
        "C28AIGBwKuG4wZeEqYzehrjiGfkCIGBoMOpiwYd1UVFcvEBK6Ajp7wEAAYNz\n",
        "FPXG6egwRUlyhmVQdKtiOHvdJWPkC4CAofFIDBGvJ14yDwAIGBrHjkXGh9Yl\n",
        "1oIQRGjj0Fi7pJvq4DD2DoCAAc6iYTsXNXUoOtaCERzpIxXlWvFKzBRbASBg\n",
        "gKSI4znDHNcfioRJ6wMgYIAslEZV+jleIpEj71Ckq/S9pEv6HgABA1yNlkgs\n",
        "4fi3f/u3i6UbSziQLQACBnDNf/7nf54J+Fe/+hUXBQABA8DS/PM///OZgP/u\n",
        "7/6OiwKAgAFgaY7H45mAf/d3f5fKYgAEDABL89JLL10UPv34xz/mwgAgYABY\n",
        "ki996UvJ6mN2dwJAwACwEHZHp/h45ZVXSEUDIGAAWIK+pTPD8pkAgIABYGZy\n",
        "Vulib10ABAwAM6INDMYs/4iEARAwAMzA2GUxtSQkhVkACBgArkBLPU5dm1k7\n",
        "EAEAAgaAFaLfVEpaEgcABAwAmXSN/f7pn/7p/f//zu/8zv3//9Zv/VZvlTSb\n",
        "JgAgYAAYQIVUceXzX//1X9//f19U/Hu/93u9Y8OkpQEQMAD08PDhwzNxvvvu\n",
        "u2fRrI7w529/+9tnon355ZcHi7QkYqqlARAwAETY1LNkGQtXf9am9+HPipRt\n",
        "VPzGG29kVUvrd5GaBkDAAM2j6UMSY5xuFnE6WkVVil7jn/uv//qvu4KrWLA/\n",
        "/elPz35Gxxe+8IWkjBVxM3UJAAEDIN8nEaqiUx2xLANxmlqi1s9Z4Wq3pDh6\n",
        "HhKxJK7omvQ0AAIGaAIJz0awISKNU9L6mVjY8c8rMrYSD9GtfkdqOcvf/M3f\n",
        "7ExR63VMYQJAwABNyVdRaCDeiEH/HxOP/YZ0der36c//93//dzfmawWt48GD\n",
        "B50ilrj1vqSoARAwgBtSEWssXxHL1P6bXSkrRKySsC3Mkkj1fvq3LhHreOaZ\n",
        "ZwZlTOEWAAIGcC1fO/6bEl8qCg7E48ThePTo0b2k+0T8wgsvDK6yRWQMgIAB\n",
        "qiKeRtQlX/tz8fhvXxSs8d6h9wpFW0HEknLXlodf//rXT9/85jd7ZazXhrFm\n",
        "AEDAAMUh2aWi0pR8hZ3/20UcBUuGtopZkraCVeRrhak/9620pUU/vv/97w/O\n",
        "MdbnppoaAAEDFIEiTlscFcZlu0hVRXf97jiVbIu1+uQfR8MBvVfqZ+P0tBb7\n",
        "+OEPf5i1IYQ+DxXVAAgYYHWU4rVjrRJfX4QYTz+SqIdQhJwqyEr93tS4ryRp\n",
        "P89QejoI9kc/+tHpH//xH3t/Lj5vfVaEDICAARaNelMp3VSEaokjUP1/DnGE\n",
        "Lcl2CV5/n1qgQ6/pSoeHqLiraCvI+Cc/+cnprbfeuoj2+4QsyVPMBYCAARaL\n",
        "elPjrl2CzIlmU5KM31OS7SM1Njy0j7A+myQ9JFj9uzaReO+99+7EnRMd67Pr\n",
        "MyNkAAQMMBqJIyWnVIq3T95j0s9dr42nHY3tLASB98lfEb5emyNj/dx///d/\n",
        "38lbv7cvkkbIAAgYYBR2HDYIdOx4Zxwt5gjUYtPLOfLqKtIKaeKhc8iVcbyy\n",
        "lg69JlfI8RiyMglUWQMCBmicrrWWx0S98e+Kf8cUyeg18efpGw9ORfBdU5Fy\n",
        "RDxGxvpcYf6wPl8Qct9UqJTQQ5RMYRcgYIBG6CqymhL1pqLX3OKrLpHaNPAY\n",
        "mevzXyvicI1C2nlsQZbeQ9Gu/j43Qg6/R50fiZ1lMwEBAzgiLOOYavz191NT\n",
        "o3bpyWvHPe0qWFOEPpeIw3XLHQMOqeq4aC3IXH+fW2UdR8lMfwIEDFAxEkBK\n",
        "HqkFLcYSS71r6cmxxLsp5U6BWlrEAclVnyenQjqsrmWvcYiSx4wjxwuEpH4n\n",
        "AAIGKIiusdFr0s2WWCBd83GnYNO/1/zuJUQcotvc8d++jSD0e4LYx4wlh4rr\n",
        "ECVT4AUIGGBjuqqD1WD3rc88JbKeUjSVew42ZXttenspEYfPK4nmzB8OhVx9\n",
        "a0/rs4Rq65xoOxZ9+N1MgwIEDLAiXfNj1SjPnbaMBTk1TTwktfhc9P9zSKVv\n",
        "3Wid0xyRvN5DnZ2ccd+clbVClBwKvMZEyfFSmkTJgIABZkaNa6qx71sh6tr3\n",
        "G9r3dw7sSlljK6P70GfuErGizrlS6mMLuXK3SQxToHJX7bLvwWIhgIABrpRI\n",
        "1xrJUxbEyCUW19DykddiK6MV0c19DdcQcdx5GVPIpe8xp4MT0uBTp0GxWAgg\n",
        "YIBM1GDm7hI0t7CmrPt8DXa5ymvmG5ci4vCeYax3iW0SFeHqc+u8pkyDYrEQ\n",
        "QMAAEV2rWCmKWSOlGE8TGrvu81xR99QlL0sVcRzBzlXI1fUeLBYCCBhgghi6\n",
        "phXljBnOJYmlph7lYKO4Jc97KxHH0WvO8pjx5hFTOmAsFgIIGKBHekusYjUF\n",
        "O/Voi2th9xBeOurfWsThvEMqeUwh19R7g8VCAAFD83StYqWGcYsGLk6Nzjmn\n",
        "eGxkaKcnrdEJKUHEsSBzI9YxhVx9585iIYCAoQnWWMVqSqO/xtSjKZ9lzulJ\n",
        "OTLqKoDT97N2VmJMIVdYr3qOe4jFQgABgyvWWsVqCnGHYIkq5CnZgaUro4e+\n",
        "qy4Rh+9ri4hvTCFXWK96js/JYiGAgKFa+lax2rpRmnvXo7mYa+MGjyIOmZQx\n",
        "61Xrs8753bJYCCBgKBr1+lON01KrWE0hjsrnXgjjWubcuMGriMPnm1LINfdn\n",
        "YLEQBAywOX2rWG0lka5Gc8upRzmfb+6NGzyLOI5Ocwq59Jm7dnKa63OwWAgC\n",
        "BliNrnTz0qtYTf2sWyy8cU0nQf+/9TSYWkQcOoNhveqc+cZLfu65FgshSkbA\n",
        "ABeNS6rIaq1VrKYQjx9uXQg2FEnFjXUpqfIhES+5ZvdUQiFXn/wk67UWgJm6\n",
        "WMgcU7AAAYMD1AjYxmPNVaymyqOUqUc52Mrokq5tn4glilIjtqHIWPfw0lFx\n",
        "irGLhSxRZAYIGCrARmchQis9TRYLrdT0syWWxVqLdIwVcWqBFf255M5YmG/c\n",
        "Vc0c1qfeqpMWLxYyVHG9VJEZIGAoPCrbarrMFOJ0eS2fWQ1xLLdSP7dEnIos\n",
        "S5hjndOh7FoVLJzD1tkSfUZFvDlFZsgYAUMD8i2twnmIWGQ1VZra7QtLTp2n\n",
        "ouE1V/a6thMhyXVFnCWIOHTKcorMwkphpKkRMDiUb00Pdrzc4xYbL1xLLIXS\n",
        "o8rUTlf6/DXdL7rfu6LNsYvJLL0AR06R2VZj2wgYYAD1pPUAd0WFtci3LzqJ\n",
        "d2DS+dbeAUqda1jPuMQFT3LuG52jxF1SdqJrv+qcqVc61yDxtTJFOTLue9Zz\n",
        "MwUIGGAm4mjFpq1qinxjyeo8dF5h95pvfvOb9//2k5/8pMrvKRbBm2++eV81\n",
        "ayO1kgQ2NGyR2gyixOEBfeaUiFOV/xKUXVZ0i7W9cyq+x3YM9N2UMC8dAYNL\n",
        "AcfHX/3VX1WVdra7CuXuZhOLujTihRy+/e1vZ51TaQILjXb8GX/60592Fj6V\n",
        "PD+7S8Rh6lXXUqxbVt3rcw1VfOcspBLXIpT8HSFgcCHg+Hjw4MHp3//934tO\n",
        "P9l5vmOPUha7mLJqUnyUiDpuzzzzTNbnr6FxT63+9pWvfKX3vEqIGtVB6Or4\n",
        "dE29SlW41zKNDwFD8Yxp6Euf5jBmlxp7lHJOY7a/q0HAatCVkv3DP/xDNwIO\n",
        "5zXmuyppxkD4Trqe/bCMbDyObY9Wq6sRMMzK1IY+jBeXRN98zqFzKSlarD2K\n",
        "D9HW0FSZ0s9h6HsaI+ASq9f70tNf//rXT3/wB3/QeT61zKVHwOBSwCU2KnbO\n",
        "bO5R2hrGUzsSJchL0dU1mYjSBRzmC9fcyUvRNb7dlw1DwAAbCbjEBRamFGKV\n",
        "uMSjXQEr9yglfTu1AxHuq1LpKrLKPUqvHtZz8Bd/8RfVDdsgYGhKwCVXRI89\n",
        "l1JTaVOirFIEnNrXuPZCsqmdolLHgVOdi7HnV8NSowgY3Am45J7v2Ia/1KjE\n",
        "7gtc2xSkayRccoR4TceiVGFNHbppMQ2NgIGIsYcx6c/SV8VKbX5R0xzg1M5Z\n",
        "OUfp0908FPtdey41RPUIGIpm7JhpDRWqY6RVw6YMY8YcS2SKhGv4XqYMEZSW\n",
        "cdF3c82Ydq1LuyJgqE7AelBrWAc2dxpPycU+U78jIvn1z2ts5+IXv/hFcVGw\n",
        "XTrTU8YCAYOLxr2miffeUmc5801Lz06MkXBN1bVjI/xXXnmlyPPQNZ9aZKZV\n",
        "8hAwwEICrm2cZ0hYtS2llxPV1zA8kDveWNtaw0orjynOKjViTC07mXN8+ctf\n",
        "biYKRsCwqoBrnGowlFKrcTH5IXnVck45Dfw777xT3fczRl5vvfVW0ecyJRou\n",
        "/ZwQMFQn4BIX28hhKN1Z4zkNTUuqRcA5U3l+8IMfVPtM5YynfuMb33DVoahl\n",
        "oREEDEXxy1/+sneOX60PlD63x8UD+ipvaylcCo17X/XtCy+8UPVzlTPeXcuz\n",
        "ldr5yVNmCQHDZhyPR7fLzHU1GjX30vvEVZOARV/xksYUa2eoOKumuorcnZ/+\n",
        "/M//HAED5PLGG2+47cmmGoxadtqZEl3VKqnaplSNPb+udPs//dM/VXc+OdFw\n",
        "bR1BBAyb8bd/+7cuJSVS6Vovi8enGnVvHQov+80qa5HqDP793/+9u05FCytj\n",
        "XS1g9VDUk9FYmG6Mlg8VGaih1jUpeWqAPp8+59zn/yd/8icXqb/vfve7q15b\n",
        "PdB6aFW8Mue5vfbaa2fn9sUvfnHW36/nR8/RkCiWeN6+9a1vnZ3b7//+789+\n",
        "b+i7U4fFpuz1Z/39nPfjyy+/fNGQ6xznPB/dX7rP+r6v+FnT/Tvn+2tcOz6/\n",
        "L33pS7Pfi0PR55z34ksvvdRZYLZUG121gHPz+K0eSq2Ulj65ZnJ86dd2jhV4\n",
        "SjnUSNhOxlCkUNN3F/ZLnrLyU4mH7jv7fV271WAph9p422nyci/qHLbOjOxa\n",
        "bsjXejhL4NpF0ku+tnOsQVuiqEKK24uo4uP55593dT5xY+6lI9jKvbhljcpu\n",
        "SuRrv4CQYlKvr+UjpGPs9dm6CMmOX+rzxWmmmq/tz3/+8wv56s8h5VnL+enz\n",
        "2qhC5/qrX/0qGSHX9LyFIYGuhjvcj/q5Gs5H95XOx953+v5SW/HV9qx5vhf1\n",
        "PaTmI29VzzFawHHaOe4ZQX96fqtUh60MTaWUaru2ceOgsVhPFdc2wtA4etyx\n",
        "qLkqNLUYw/e///2qlx20nVuNxZaU4pxzyMrTvWiHCHSeW9yHu7GNQ0sl4tc2\n",
        "NvEXvNU2W3GDV8sORGOvrbeJ+2r4PFfyxp3T2tbRzpGwp2eta3U7D/eizeZu\n",
        "MVw4SsDx2EbNKwBtdfNugccGPHVtPTTkXR0nb6sC2ZXFPIjKdgg9BSe2fsTT\n",
        "vRgPGWyxpegoAcc9V1LPecQ9rLUFGKef9Tm8UWKx21JRsLdsUzyM4KEtsYVX\n",
        "3It1dgaLFnBrC2XPQdxpWfvGjXt3XhbEiHnuuefcTtjfumFYM6ryEFHFw3O6\n",
        "L7kX68xerN1GTxYwlC/geGzKu4A91iN4ft7ie9ODgOMhEW8C9n4vbtlGOxDw\n",
        "7em43512u8fH/ni78OsQcFsCPr9Pzo7DTcWN3s3psOs4r93yzwUCRsAIGAEj\n",
        "4MW+luNpHzXkS7hqcQHfHAYFtdvtTwvdOkUIeKlOBgJGwAgYASPglSLGGgV8\n",
        "e9xnCHg5SREBj8xIbJClQMAIGAEj4DIE3BMx1ixg+9kvxXw4LdHMryfgZT7/\n",
        "MgLOjNzDsT+eblc4HwS8UoZsgcwaAkbADgQcX8/96XjjIAWdHYUhYCJgBLxs\n",
        "hmy5zFp7Au6KlIaupn3dXe82Q6QTX3dzuD4ll/PlqgHKPYoXcIg4bhsS8EJR\n",
        "FgK+PrJaqmO9vYA7OiIl34tTM2QLZ9YaEnBe+ih1UVMyDNHWvkekk15nHuJr\n",
        "JJzz5Y7ZuaNcAS+fKipDwJcN31JB1qZjwAunbpcS8Pnzvl7HYlUBDxYHzl8Y\n",
        "eP29ODVDtnxmrREBj0kdmQcnqxo1IceJr+uW9jIC9hEBOxXwjJ2xqgS8cOdi\n",
        "EQFvFP2uKuCB+3GpDtRsAh6dIVs+s9aGgK0MzZWz0usT4tOXXjYi178u/jfb\n",
        "k3z8b3MLeI0oAwEv0eAtNwWpFAEvdY5LCPj8eV/2u9lKwH3n2N3eFXgvUoS1\n",
        "roDPbo5k76xrXM38/cUVP29Inspxptdd2ZNEwL4j4HrHgPPFvEQkObuA7fd0\n",
        "WHdUex0Bd7VZHd/djNcAAVct4LyK4/PpHSENfX5TXV7wrt899XXd8z+nfNkI\n",
        "2GERVmJoYwlJbTbrYAWZzS3g84zFuooAACAASURBVGd23eh3KwEP1srM2DFE\n",
        "wFULePjG6RTw4AXvEOnU1w1IeGxhR86Xq5/JPRBwAQJOSXiBKHi7aX/LRVLL\n",
        "CNh83pXm/iJgBFylgLMi4PubZ/0IeFDEI25sqqARcO0RcOkpaPuMHtaeU7Wa\n",
        "gIfmny/XEUHAVQs4Z1y1a8x2qDfeJfepr8tpcPNTXKSgaxWwqb7sa+gqTEHf\n",
        "RUqpc7sY8y69CGv76Hc9AQ/P0NghYASc00sdmq8bX9juyr8xVdC5r3vyb73C\n",
        "RsDNCHjKtLlaBOxgM4ahdsWbgEctxYmAEfAsN86q84AzPufMKWgvAl67UV86\n",
        "BZ13PnXuhpR1bgvmcucR8DpLgpYl4O7vT23YWYeEKmgEfBot0vRD1Lei1fF4\n",
        "mLQSVvp1wwIe86W3uRa0DwGnU7LrjTUuPgbcdW4rpHFnEbBpT7aKfrcQcI6Y\n",
        "57weCNiDgAekOHQxLwqiwgtuDr033fjXdUh4QsNEBLzc6lGbFmGtgOct4K4X\n",
        "sO3wrT/1qDgBn8lp3usxx704NUO2dGaN3ZAc0+wY8Aog4IYFvPHCG5sJ+POg\n",
        "IWvDmZmvx7xrQY8R6fKZNQSMgBEwAkbAFbOWgLvXJyh9M4bpGbKlM2sIGAEj\n",
        "YASMgBFwVgS8RVGg53sRASNgBIyAETACvioKXjILj4ARMF8uAkbACLh5AXMv\n",
        "ImDMioARMI0eAkbAtNEImC8XASNgBIyAuRcbEfBnn32GXRFwMQL+8MMPXZ2b\n",
        "ni/Pjd7bb7/tSsC6/7wK2Pu9+Oqrr9Yh4C0/aK28+OKLm12zuFeuz+GNL37x\n",
        "i64a8a7vTscnn3zitmP6wQcfuIrodV9yL9YZ3a8dWI4S8MOHD+8/qHqwUHbP\n",
        "0b6/p6zFp59+enZu3iL8OEL0IqmYZ5991lWDHgcnOnR/ci/WlbnYIkgZJeBH\n",
        "jx7df1g9QJ5usiV4/fXX76+XHtCtGwZ9Ho8RlLc0tJ6rWFChcfDSgYqjRQ8p\n",
        "zbgR99Yh9H4vbt0+jhKwLnr8ZejDMxac18io87IFcadpy8+xZI887hTWHk2p\n",
        "wYsbhS984QtnDUTtz5uV1T/8wz9UfT6636ygvGQJda913YvKhtZ8L+qzxxnd\n",
        "rYZVd9c+QLr51KgzJvy48dT1semorSNPGy3qz/qcNWUwuq7tD3/4w4sGUA2f\n",
        "7seaGgh9XnXa7Ln86Ec/unjelAKsqaMRvrs4I1Tz/aj7St+X7Qjqu9H9GP+d\n",
        "7tfanjWdm9r0oXtRkXBt96I+qz5zXJuzZWdpN+VFtufA0X2UkK7Rw29vOE/X\n",
        "Vg+Ux3snNApd4qr5iKMpL4fuQ92PHp81tfle78WthgcnCzhEwl2pF46nDWgp\n",
        "UZg+R1fq1sO1Vc/WS8On58qOZ6cikloPRbz/8z//46YxVwMeR4GenjXv9+LW\n",
        "syd21zbqOgE9SB57fVMbl5ACLTW9pM+XKmKq/drqflTjUOP9qM+rz63nqavT\n",
        "pkyG/l3XobYGUJJSFGUraNW413g/hvPpq6mo9VnzfC/qs+oz67OXkDrfnQBm\n",
        "wtvqRhZWpuL7KoUtF/jhXkTAwINDg853h4ARMAIGEN6WF0TAfF8ImHsRAUN1\n",
        "jYK3lZsQMN8XAuZeRMBAo7AB3hekR8A8ayWem4eFgxAw0ChcSbwg/ZbzBhEw\n",
        "Am5JwN4XeELAwIMzUsAet3ZEwDxrnBsCBh4cBIyAETACRsAAPDgIGAHzrHFu\n",
        "CBh4cBDwQsTLQnqpYPcsYG/7KSNgAB6cTuINHzwK2Nt3JynFyw96g+geAQM0\n",
        "8+B4n5vo7bvznrFAwAgYAAHz3SFgBMy9iICBB2c5Wlpms6bN41sUsPdFYeLx\n",
        "bQ/3IgIGBDzjudn9UYmoys5YqPPkCe+LwnjuXCBgQMCcW1MC9paxIL2OgAEQ\n",
        "sBOU5kPACBgBI2Bw8uB4m5vobYzUe4P+8OFDtwLWEIhXAcf34osvvoiAAei5\n",
        "+j43jwJupSLf8/i2x+geAQOS4tw6G3RFjgi4nu+L9DoCBnAtKe+rKnls0D0v\n",
        "1YiAETBAMwL23ih4nOPsOWPheXzbYzYGAQONHo1CJ97Std4XqiC9joABmhGw\n",
        "91WwPC9D6XGhCp0TAkbAAE0I2PsqWN7GS1uaJ6ton84uAgZwK2DNR2QVrHp4\n",
        "9OjR/flon2O+Lzq7CBgQMOdVdLToZeGDVqqEPS5U0dJOSAgYENUA3qcgffDB\n",
        "B+7StUzTqZc42+Rt+hgCBgRMg+deVp7TmKTXETBAMw9Pa/MSoXzee++90xtv\n",
        "vHH62c9+RhuCgAH8PjytVWUCbEVrGzEgYJiNeKzUk4Bbq8oEKEHALSxDiYCB\n",
        "h2dEVO9tG0KAkvBYEIiAAQHPENV7rIAGKInWVsFCwICA6ZEDIGAEDAi4LCjA\n",
        "AlgPTasKz5s6vwgYoGEBU4AFsM3z1sIqWAgYEHAPFGABrIf3NdcRMCyGIkRP\n",
        "AqYAC2C7Dm8rIGBIyjTeoi5n/DMuoNDYae1QgAVAhxcBw2oozRqPw4wRsLeC\n",
        "JS072WYB1s3p8ObutLs79qfjr1d++48OT9778+Od4+nW1bW9PR3f2d2f3+Ej\n",
        "2py4099ihxcBQzLqHStgbwVLr776apsFWLEAPz/276+rwJt3t3vvVRT8/v7p\n",
        "9X33hobnCd4yaAgYJj0AkrD+PxbqWAHXXkDx2WefnXVA9OdWBbxulLZx9L0G\n",
        "vz6e9t7PcQKtZpwQMNwLWBIN1b5jBeypYjhOhykSboslJJiZenWdfk5fC49R\n",
        "/hRanIKEgOEs6ut6IMYKuHbi8eyW0mFrSadLwN7Tz/dXgzS06w48AoZZe6RD\n",
        "Ava2jViz47+bCjiOvJ0XKJ2l+Q+n1hVsh3xaAgHDrAKuvYKx9PHfOHoKkooj\n",
        "x86oKh57vPv3Din2jFHmvLeNXC8+mzly3nfqe19Emxdp7Z50cCTJ8PcX53L2\n",
        "+85/V28ngnHgzvajtSEfBAxXC/jRo0f3P6v1XGum9PHfcxGdR43dcrACPnbL\n",
        "IlfA78c/190BGBLwvfQGosIp7z2fgI/919kUrg1XkTcU7Wfgqf1AwLC6gD3N\n",
        "AS59/PdMKG9myu1CrNMi0fz3fvq63Ai4X5TT3nsuAV93pFLMFGLFtLgLEgKG\n",
        "2QTsacw0Xo+2xHO5FFHUwFvJxsJJCDgZeY0ScPTvvfOHh8eAz0SdJeC8955T\n",
        "wOlOyuX3YD/r4Pk2XogVtzWt7IKEgGE2AXupYNRnL33+73njfhldnUec3XLu\n",
        "jLqyBWzHLvuiupECTghp6nvPI+DLcdrO6/z4XwdTzAg43eltaQoSAoarBeyp\n",
        "ArqGsaihVG2nOHILf3IFPEZmcwt4xHvPI+CBjs7F573+fFuh5QpoBAz3xOMw\n",
        "Q0fX62ovoIhT6ZIxAkbACHhZWq6ARsBwtYAl3dKllYNNP5eaSkfACNhru6Pl\n",
        "KBEwNNsT1cOQc8TEGzjUPH4Tp59L7onPMwZcuICHirCmCvjieiHgrfHSgUfA\n",
        "sDrxHp61j9/UkH6+FIqRg63cjRv2ggQ8PsKdr5r56b9dzqFeT8BMQwq0XICF\n",
        "gGG2qLHm8d9a0s9pAWfM7d1cwN3zgacsxDHqvQfmP28jYBbiCDS76xgChmuJ\n",
        "K6VrTh/Vkn6+FNE+e0WorQXctbDF/c+NWIpyLvnfvc/7h/UFzFKUd3hbQx4B\n",
        "w2a9V6Wja6WW9HOXiKxgxi6wMY+AM3YzupBw/Pv7o8Jr3/sicxB+x0cbCJjN\n",
        "GFxl0BDwlUgeWoEltwiphEOfd8sxk3jN5Jp7rzWln3NEVDOtFCaxHeFjVPXc\n",
        "6hKUCPhJDyyu4q312OLmjasXa54+EK/9XMNOTp4FfBYZeju3jui45QKsOPPU\n",
        "YgFWswJWlBOPX3o4dDOvlQa2UWPND09chVnDOrSuBXyWhnY6Nsr47z2tF2A1\n",
        "K+C456VDUbCEXFMKWp/XRu+SyRo3cjx5vub0c5xG17WsoRHwLeCMceTa41/S\n",
        "z3fEBVh69lqlOQHbFZ+USq2196XPHadQ19hCT+8Zi7/m3UviMahq0uje07Su\n",
        "z294gY5WoACrQQHb1GmJ+73O0alYMhUdv1ctUWNXR8JLGh2gNlpfAatJAdvK\n",
        "XU/jDmuMZdrot+bKRS9pdIAa8bKELQKe2Oh6iX7nPrcwJctz9Gs7LK1OgQDY\n",
        "ApuJbJmmBBxXPtc8djkU3U+dTqPfIbGmiiL00HiJfvXde+lIANT8/NUw9Q8B\n",
        "LyBgb2mPuKpwyk1ti7kk465rV3v6Pq6Cb3ELNIAtidsab5lIBIyARwlYIrXT\n",
        "sqyY4orFlJxrvU41rHwF4I24vam5LUHACPgqAes1XSuBhTS0TT3XPmUgvgeI\n",
        "fgHWxc4+aH34BwE3KmA7dSl1/OIXvzjrrdY+XuppBS+A2tspZh8g4OYELIHm\n",
        "LsP5ta99bfPUs85rrnnN8dzD1os/ALYg7viTgULA83J7PO13u9PuyXFYcaW5\n",
        "HAFLZPH0mzHHmpPlVSUZyzJE33pgp3YC7Ngv0S/Atm1wywtwIOBZG+Db03H/\n",
        "VLwlCtgWUo051uypxlMUuo4pafD4uyf6BdgGL3uII+BSBHxzuBBvSQKWrOI1\n",
        "j8cef/zHf7zZd6RoXR0HTVW4Zg4y0S/A9rABAwKeuRGOI9/96XhTVgpaPczU\n",
        "FKOxx1pTdfqmCMVzB8cWbxD9AmxP/Awz/ouA5xPw/smuLQWNASuV2zXFqNTx\n",
        "XwlX56HDjvXGD++Y3jPRL0AZxMGAt5UIEfAmArY+LkPAL7zwwiziDYcenC2x\n",
        "04fGzEWOi86IfgHKeIZZ/hUBuxXwEseWBRN22lRu79nOdWbVK4BtiIsrt+7Q\n",
        "I2AEXJ2At1izNVVApoc3p/dst070uuaszvMb3/jG6Y/+6I/ujp/97Geuzu8H\n",
        "P/jB/bn9x3/8h8vv8Hg83p/jv/zLv7g8x3haIbuPIWAEPPJYe9Wa1BrVufIV\n",
        "sbg973jkeWcnm7b0msGIO4pep+a0cI4IGAHfHQ8ePDg999xzd8dLL710d7z2\n",
        "2munt95666732XWoMQ9FUKljTfnaBUPGRLC2M+K54MPzvsZx4Z3X8ft4G1Gv\n",
        "U3OYfoSAmxJwzY2VjXz1wI5Z/crK23Phlfd9jePv0WsnKs7UeJ2aE3ekat/M\n",
        "BQEjYNcCtmnnsQ2v3dfYc7orFpS3MW7vnYtAnJr1ujUf048QMAKuJPq1Y75d\n",
        "6fLUeKBkG7/ec7GHXbLT2/hoC9tGtpB+ts80MxEQMAKuoEEaOlLfX9zT9j7V\n",
        "wXP020rxVVwZ7LWTwfQjBLyogG8Ou861oM+OhW3sQcA5exR3fX8tpZ7j6+Qx\n",
        "PRuPi3odw7eRodf7lelHCHhBAad3QULA01Aj1FeFHR+xdGzk7PlBt/ObvZ2r\n",
        "PT+vY4bx7mReN6ZvpZOBgCuIgPfHWwS8AEpPxg229zSX9+g3Tll6FZOIh0u8\n",
        "7ovbyneJgDcUcCm0KmA7ZclzkYf36Fd4ntccsMWCLYxxe12JDgEj4GYFbMd9\n",
        "vU7jSJ2vx+i3bztKr9+j13mxpJ8RMAJ2jJ2G472HbaMmj2nLFqYeiRbGuOO6\n",
        "DNLPCBgBO5ZRC9Mb4nvX4/na6NdrxNTC3F8RV7KTfkbACNgJdhzU8ypJXdG+\n",
        "t3vXPpue798W5v7aKN/j/YqAr+yVeSvwiBtpz3Mn7VKV3seWbIfDY6NtF97w\n",
        "2mDb8yTKh6YEHM+981b8EBd2eKweTcm3hXVl7bQjj4VJLSy8YZ9Rz8MmLWww\n",
        "gYAn4HWcyc6F9VYNnJJvC+NKLaxt3Ur0K1oovrLn6X1mAgIe2ZDH8wzHbPBe\n",
        "8jnF42cex0TjcbOWetXx9+q1kjSOljxHha3s7mTPExBwbxSsm0Q3TY0PhHqX\n",
        "duN6Tz1O27loSb7xcInXyNBGv56jwjiD4zl7w+IbCHgQu4BDOL785S+fnnvu\n",
        "ueKPZ555Jvn5PY1rp9LOrci3hcIrG/16nivayspXrRSZIeAZ+PnPf3568OBB\n",
        "9u47pR8//vGPka9DMXlNV7YU/cbfp9eVr2zWhq0HEXBvjzSOMDwcOh8PaUo1\n",
        "zC3L1w6ReBVTnKr03FjbJRk9FyXFw2FeN5hAwDM8EHbcVA2AKkz1cORuh7f1\n",
        "oc9rx0drj5ZSHaOW5GtTz16n5NhOhufK53gaWUtpdu+L4yDgidgF7Wvvqenz\n",
        "x412rSkudX6sfFvrRcdRoa6F1zG0Vla9EvE97fl+biXNjoBn7KV5eSDshvS1\n",
        "NdxxlNDSIhu2I9VC56Ol6LeVqUe2o8HcXwQ8+EB4G3eKo4paGu/UNCPPkV9u\n",
        "x9BzBNFS9NvC3sapjgYg4CRx+tnbHLU4iqxh3DSVclanqDX52opvNdotLNLg\n",
        "fZqKPVfP0W/cqWLuLwLOulG8pThr2Q1JVc52ZavQaWixcMPOSfeakrXFj96L\n",
        "61o5V+b+IuBJAmY7wvWxBWPxSmQtYsfuPacpW9hUIvUsel54w3YgmfuLgBFw\n",
        "gQLWZ7Nze8Pn9Nw4DUUOcWfEc+NloyTPHQ3bzniP9FvZYAIBI+BVBaxGU43H\n",
        "Ndcp/I7UoiGtV0rGHRLvEWE85OB5Lmxr0W9LVd4IGAGvImD9nvg6TYlW9CDq\n",
        "danVxpSyKuFB1ViVPksQocSgzoIalaUbTTvu67kzYoXkvePVUpU3xVcIGAHP\n",
        "JGAr3ikCllg1zmtXGgufqZQCjdS847WmAdnqWO8NVxzpexdSS3OcW9lgAgEj\n",
        "4EUFLCGkhDnmd/VFvPrdJY0N2eUe9f86R/vZl2hQ7FKb3otW7OIi3itkW4p+\n",
        "46El7+eKgIsW8O3puN+ddrvEcbgpVsBD4s35XUonpqYUBbFJyqWNC9lq3Jgl\n",
        "twBMid9z1GCLzLxH+i1Fv/ZepvgKAW8j4JtDWrxnx/50vC1DwCFSzRFvfFjp\n",
        "Sk5du0mVKt74Ounzhc03YuLOxJxp6NT2it6jQbuutfcCnZai33gYxXtRHQIu\n",
        "WMC3x32GgNeJhPsE3JcizjmGpBunmmttaJcsFrKV4N4jhtYKr1qKfkUrS2wi\n",
        "4EoEbP16KebD6WbFRiAIOEwDWmrvY/1e/f5aozl9bl0rW3w2Z6/eytd7Ktau\n",
        "eNXC+GCc3fA+77elaVYIuHAB96jZjAuvK+DvfOc7yfm3c0rXQ1RjG5O5N7Kw\n",
        "Fc8tbNNmK8y9N9D2O/Z+vnG70tJe3Qi4ZgHvj6elh4FTMpnr+NrXvnYXuXlL\n",
        "JXZdsznWpbYNs6Ik7+OgdmpKC+nJlta3tiuaeU+1I+AqBXxZFb1GMfSSAvbc\n",
        "kEoaunZ2ysw152zXeG5Bvvb5aqE4p+Xol3WfEXAZAr49nvY9BVj7NUqgFxZw\n",
        "K/P84gZmqkDsXF/v040CNvXsPTpqbXcnG/0y9QgBVyDgdaYgWQE/ePBgVgF7\n",
        "6u32LZ93bUSTkm8L27PZ1HMLyxK2tLuTPV+mHiHgaiLgLcaAdZ7qoYfUqnrn\n",
        "qd2Ips4Frhm7CUIY1w4V0VMLplqVr40E9f/e0+12kRHvY90svIGAyxVwisQC\n",
        "HUunonNXwpIU9AApSkktwdh1eGlUdZ1yznlMI9OqfIXdWKKF87a7O3nvcPSt\n",
        "HgcIuDwBpyS8cBR8zWYM6tErEtSDptemVsryNKZnhXnNZgyp39VKdagtNmuh\n",
        "6rm1RUZES9E+AkbAqws4RUhh64GrebGNvk6Hzi1kAnToz2PG8lLybSU9Z9OS\n",
        "rVTFtrS7k2DPXwRcqICfTDdKivXmdCg0BQ3LRdEtjY3Fz1Irld62SK+FdDvL\n",
        "TiLgsgWcsxb0RktRwjoNsQTUknztnOkWzt1G/C2sAmXvc6JfBFyQgJVl3lW1\n",
        "GxIsI99WCq5C5N/a8prCFiK1IKOW5jkj4AoF/DgQ7p6GtOJ2wAh45Ua4Rfna\n",
        "KLCFCuBUp6OFVGxrq3wh4FoFXAgIeFns5hatydc+P62MgdrzbmURCqJfBIyA\n",
        "EXARUZ8VTytrO/dF/62Medvx7hammLW2yhcCRsAIuEAU4dkVxMIqYy1h5762\n",
        "EhHZFa9aWGLTDjNQ+YyAFxGw5631EPD16P6w04xaTMWl5vu20gGJV7xqpfCq\n",
        "xWIzBLwS8Tiet55dnCprpTJ1Kezyiq1GAmp87drZrYz72lW+Wljxykb8alMA\n",
        "Ac9GXNnnbeUez52LNRsgm3KON2xoDVt41uoqX610aOfYjhMQcCd2OoGXhtWO\n",
        "0bWyFvHcEY9NOUvGrRag2KKrFsY/UxmQVoqQ2O8XAa+CXUKvdlmpUxFPGWhl\n",
        "Td45ox0b6bUmnFRnpMXFNlKd2VbSsHG7SBuCgBft6aWKa/Tg1VJwEDZKSI1V\n",
        "tjY39drOCynny2vSatGV3du4FRGRQUPAq2JXefFykDbKx6ZYQ/V4y3MerYBa\n",
        "W2wkrnpuqTPb2g5PCLjQ6KfWQ40mkW9+BsQurEHh2mXFc2uRkE27t5J6bnGH\n",
        "JwRcEHrQlIJ+5ZVXqpKuGkt9bn1+5urlNzZ2+EGdF1Jul9FfS9kUOyzVShTY\n",
        "4g5PCLgg1PDqYbONcm0SRsDTol6u3WNsEVprBWi2MLOVe4JFNxDwZj2/VAFT\n",
        "rUfrhUN933NqrJfrlW6EW4yC7Pm3cl/YaUesHYCAV6Nr7Fc94RqOuFCmxXGr\n",
        "HJRCTV2nFtdy7rtG9tq0hF0XoKXORzzkwKIbCHizHq9kXGOvVxKRcOP0eYtb\n",
        "5FnCsEKqUI2x3m75trbDky06a2Vv4/CMtBj1I2B6vLOjVBILcXSP86pTUmp6\n",
        "LcznDsdaU6CsfFuST8COe7fUOWPaEQLePPr11OjYHm1LUbCklVrJKnSwSp7X\n",
        "a+sQ1ugoWPm2mDWx16Cl8U+mHSHgzYgjJG/TLDyf21jx6lqU3rDYTtMaIkC+\n",
        "lyt9tRQBMu0IAW9KfPN5a3ji6N7zNJK+Cnal1mpJJaYKAZcUMPK9vO6tbLSQ\n",
        "yrgw7QgBr07cAHkjXsnHY6++L+LVcEJNUX/cWYqFsJSAke+lgForPrL1L0w7\n",
        "QsAIeEbilKYnAXdVNdcoXtsQaipILOMlGkXke9lBbXGxkbijx25HCBgBI+BO\n",
        "whSrrvnONYrXNoQh/bmkgJHv0+yJ3eGpJfQssdsRAkbAFQp4zQZbUYpdk9gW\n",
        "V9WcNoxlGxZNWUrAyDcd/bU27ms7Hy3vc42AXQj45nTY7U67gWN/vK1WwHEE\n",
        "unQ0LSmoUeiKdkO1Zu3yiFPP8TVdQsDI9ym2bqC1RSfiDi2FVwi4GQHvDjfV\n",
        "CVi/wzZYSwg4R7r6N087PcVRWCzDuQWMfJ9iU6+tRX+seIWAiYALF7AEp0a7\n",
        "a33sOcbL9B56+CX3PulKFvoZb2NUsQgUkcSrX8UdnnDuU1OktspX312r8rXy\n",
        "aW3FJz1z8bPGilcI2KGAD6ebQs5trIDVyKvBztmKcernUUTXVcEcH5KS58VD\n",
        "Ujsy9R1TImGbuWhtbWebYYnv6xaX2rT3XEvj3ggYARcrYIkuR4pjr5XeX5Ge\n",
        "ZJoj9SDdFhrGJQWs62cL11qWr91kodXVvpjzi4ARcCECDtNd+tK/YwQcUsq5\n",
        "EW6IQhSltTgOpesfp53nSkFb2bQuX2HvxxbvN7vLEyBgpwJOHPvj6XaDc0sJ\n",
        "WH/XN60n93jvvffu0tX6vTnRbYg89N6KilnwPS86HhOp2DQra/tejoG3uD+2\n",
        "zbYw5xcBtyXgJ8fKRdBnAn755ZcnR7tTD4S7noAV1Vn5tp5mtNXfLXZGbOEZ\n",
        "c34RcLMC3u32pzULoVO76yx5KM2lRk4NHwUe04nT0znX0U6taWX3q6EOSetp\n",
        "eFv13PpQBAJ2K+B8Ma85FWlJAX/rW9+6i7DU0BPdbtfA2kpnRcGtpxhtKr7V\n",
        "xSbsvcFzioAbE/Dn3B5P+40W41hSwC2OpZUWJdtiK0U7rTeyKfmy0QTPKwJu\n",
        "VcA2Ct5IwM8///zpz/7sz2YTMNMYtkPfqx3vVTFc6+lFu7k8G02w4AYCJgI+\n",
        "i4C3SkGHh1APp9LGQytQIeAySY33UliTnn7V6jh4PO2qtY0mEHCDAr45dEw1\n",
        "sunnDYuwunrBsZC7lp5EwGUIxk4fU+PaerEV8u3voLHWMwJuQ8BONmMIC2oo\n",
        "quoTMmmtdb9Hm3JmvPcptmPS6ninXe2q9TngCBgBbybfqQLOFTICXieyswtJ\n",
        "MN57jq30bVU6NgvQ4lrXCLhRAd9xkW7edhWsuQScetD1e0l9Lh/N2AyEomCq\n",
        "WZFvThaA1a4QcFsCLpAlBAzLkyq0ankbwRz5tnx/2/uF+gwEjIARMIxEBXGp\n",
        "jSxoUPvl2/o2i3ZHMUDACBgBw8goJlVoRSqxP9prfZvF1vc4RsAIGAHD7FGv\n",
        "iq9oTM+xmyuwzeL3WGoSASNgBAxThWKjXv2ZuZvIdwi7xSBFkQgYASNguCLq\n",
        "1fgdUS/yHcKu88x8XwTsQsDelmyLe8kUZ2yPpGEjF6Je5Du28xZnTdhiEAFX\n",
        "TRyJeGsE47mBzB/dXiQ23UzU249dhKTVzRXiDlw8N7z164GAnT3knqJEWyFJ\n",
        "Ne02qIFMpZupcO4nNdWo9U0F7DUha4KAXUQmHm/qOPqViGFdJAvbYIbvgnm9\n",
        "4+XbepbATr9iBywE7AYbodTcQKYKfKiQXDfzoPsnlW6WWNgarv/a2XsX+Z4X\n",
        "U1JQiYBdRiupRRAURaoxreFQj7irshbWy6akxCuJkG4elq9d+1odltbla9sm\n",
        "FttAwG57mddsUF/iQYHPOmjYInXv6O/IPkyXL9eFoisE3NgNn9r+rbaDaS3r\n",
        "ddpSWYcSxnlz7pMShlokFJs1QL6PsTsc8UwjYPeo2KH2SFgPLj3l9cVb0hKS\n",
        "NQhYQrHypUDtMXa+ONcFAbuPfrsa1VoP5v6uJ96SCqxs0U5X3cCW49J29gHF\n",
        "gucdE+o4EHBT8u0aw1PDWkMRlsSQKgBiusI8DWIN4u0ScGnYaUaMbT7FpuSp\n",
        "AkfA7rHjvjUXL6WKyajAndYp6xuO0D1S6pSiUgWsa2rHNSUY5PsYW/FMxwQB\n",
        "uyeVrvMgj7h6UhKB/EZQEVoqmxDmYJbeobGbcCiCl/j0/zq3LYYmUpXORHf9\n",
        "14eOMwJ2T1zsoAfAC+o5s1doPhp/7KsBqGkRjdSGD6mOioq65QAADzJJREFU\n",
        "xFryo9J5vHwZD0fATRA3ut5u+vjcKMhKR7safuiKdpU5kMxqi9JyBLzWikqp\n",
        "Yisqes+xaXnki4CbwXOUGDfERBz50a7+reZGMJxfONTJ0L2dEvOSUV2q2Aq5\n",
        "nGOvEc8pNCtgb9ixwJaRgPrGdvX3+nfvqXqb6lzifJVZsO+jbALDIMgXEDAC\n",
        "boSQYu5bWKX2aPeae2KJQh/9PtvJWXO8uaYsBRssAAJGwO6kq/FuG4HZaFdi\n",
        "9rozkSKpkH62GxrYbe3mFLD93cxDz5Mv1eCAgCcL+PZ03O9Ou13mcbhBwAuc\n",
        "pxr6PumGFF8L6+laESoDoGukv7fzTOcgNb+X8V7kCwh4BQHfnA67EQLeHz9X\n",
        "dp0CDuOoWy+Np8hVDZk+R9eYrk0xt9bI5SyrOocgdU/YFD/jvXny1b3L/tCA\n",
        "gImAe6Mbm9KdK3IagyLXnCg3RBX6zC03bqk9ru3iHHNH2myB2d9RYZUrQMCz\n",
        "C3jIz8fTPhLw/ni72rldI2A10LZKc83x8jBtJieSCxXMLUa6OSLWd6lrOde4\n",
        "d9fGJcw1R76AgIsS8M0hjoAPp5sVz22sgHOqhpe4VkESeu/cHakU5Yb5rbDu\n",
        "PWUja1LOyBcQcHkC3jD6zRWwopmhhSnmFHAckXXt4NS1KhVR7rakFvIg5Yx8\n",
        "AQEXKeDz6Hd/Wtm/vQIeWpjiWgFLtHp/NdphWsyY36/Ppca99bHcEkgtrEGV\n",
        "M/IFBFyugE30u2bxVZeAwxzZnBTz0PHRRx/d/X41wrFkc4qkugqDlFLW70O4\n",
        "ZUW9tpPGFoLIFxBw0QK+Pe43jX6tgJ9//vmrpTvXEWSrzgANU7kSSXWm9L2R\n",
        "cka+gIALFrCZG7zi3N8uAW8lWkXGiqL0WYhs64l6U2Pw7E+LfAEBFy/g8+h3\n",
        "d9og+7y4gL/61a/eL3eoBjtIVgcRElFva6Sqw5EvIODVBVxG9Lu0gImGiHrh\n",
        "MakVrlpY8hQQcHECttHv/ni72bnFAv7Lv/zLyQVSqYNFF/xEbqmiPKLe6fIl\n",
        "8gUEvImA7bKU6y680SfgMA1JjWpY9OKaamhFTFAvGo+3GygQ9SJfQMD1Cvjm\n",
        "UEz02yXgVEOshmTsnGAEXC+pqUVEveOvIfIFBFyMgG30u83Uo7ECtqgRUXp5\n",
        "aKchBFwfXelm3RvIIx+7RrqGdqjwBwS8pYALWHhjDgGnfkdqUwQEXA996WaK\n",
        "ha6XL1kDQMCbR8BlRjxz7gccjx8j4PLR95Wqbg4dKMQx7loiX0DACHgzAUM9\n",
        "aBghNYQQliSFcfK1MwiQLyBgBIyA4QxlKFLjvKSbp5FanESRMAACRsAIGO6/\n",
        "69SOU4qCGS6YLl+bRUC+gIARMAKGO5ROtmOTTCu6HjvHVwfbLwICRsAIGHrF\n",
        "q4pnxnmno/Fz9j4GBIyAETCc0VfZrO+YVayuw3ZqWGADEPBKAvb2oMUNNWNX\n",
        "PsSbqmxWgRUR2vXX146hs8AGIOCFiR86b41YvPgCmycgXkgjyTLNCBDwBqhQ\n",
        "xWOa1lZwkppEvKWckz6/BKdnT1OjthRdah9fskWAgFdCDYC3bfbswgFq8KCe\n",
        "aKyruKrmiDcluq07vqmxdKZsAQJeGbtOrv5ca/opteA+0W8dHcHUPF4PVbh6\n",
        "loa2vlzz/PR57DOva8xCJYCAN2ogUr1zRZGKRtQrLv1Q4921xRyUe98p49Il\n",
        "J/29/r32scg40gz7Ddssjf5/DVIrW+nPVDoDAt4Qpf66IpBaD9Jp5d5r6hj1\n",
        "pWQ9FVd1ZWMk4TWrjHVN7TWvOdsFCNgdf/M3f1O9eL/yla+cfvnLX3InF4YE\n",
        "0NfJU7bFWySm84nPMcguRMFrERdbMjMAEHCBDYVNTdV+sBRh+dFuWKvZ6/cU\n",
        "Lwajc7UFZopAlxx7Tc3v1eegLgIQcCGkxoD1Zz24NYz/6lAjn4qu1MBBedGu\n",
        "OnstzOHtWrVrjWg0VXnN4hqAgAvDVkTWPHaaGsumunO9LIoivL5o12OaeYyA\n",
        "w1SqMB94qalIqZQz83sBAReGnQfsRVaxhNXww3IdHkVvfcMX3oqqrhFw3PmI\n",
        "09Px+PC134f9LthMARBwocQ9ZU/pWjVErIS1DBLFUIpZ1173VuvpTrutn2XO\n",
        "zm+qypkpRoCAK4kUvaVqWQt6/mxJ1ypVcSeOaOsptgo6lqE6J3MsGKMOUep7\n",
        "YQ48IODCiR9Yb9EKuyHNJ92ucd0QZXlYMGMp4rFeXctwnew47ZTnT0K3C5mw\n",
        "qhUg4AoF7A32Ax5PGNO1hXmpVapIMeeR2uDeSnPK/Wl/b/g9dIQAASNgBFwJ\n",
        "iqIk06F54KGKmfH08fSl7nVdx3RkulatY+U3QMAIGAFXEOVqnHYotRwiXf0c\n",
        "Kc3r0TVXZiFEv7on45R0btRrvzP9PgqtAAEjYARcuHCHduWJx3Rp1Mv6DrsW\n",
        "miHlDAgYAbsXcFhWsfT9hccKVxFVqF6mMS+PVNRLoRUgYATsXsBhzqsdHy0F\n",
        "fT6dp8b/JNGhlHJ8PfQaxnPLJbVvL1EvIGAEnMHt6bjfnXY7c+yPn/9L+QIe\n",
        "mvO6ZaciVCnnRLcIt050/xH1AgJGwOO5OVyK9+zYn44rWHisgOMU85DQlkaf\n",
        "JY5sx+5UpZ/XuajBJloi6gVAwC0I+PZ42vfKd71IOEfAXSnmoWPOSDJEtWFH\n",
        "p9w0cixbRev6HUS49ZJaSpKoFxAwAh4R/HZHuuf/tjsdbrYTcM6yinMJWNXE\n",
        "QbIhop0i2jDlRK8nnewH3R9UOAMg4Gv1ezpEgt1f5JnP/323sIGtgMOCE2PG\n",
        "TvsEHNLEOsIWc9cK1o7bxpEtjbEv9H2mtg0k6gUEjICvFnDKr2dR8MJp6FjA\n",
        "X/3qV6+W7lKHOgShSEoNL/Nv/ZNKN9u1ogEQMAJ2IeAtDzW0EmxIHYeIFtG2\n",
        "R1e6WeP4DCkAIOArsFOPDqebHkF7ELAa01iuCBZS9KWb2SoTAAHP8vtsodWW\n",
        "ldBLCpiF7yEX0s0ACHgVAV9EuYUI+LXXXputAAsBQ+79l5reRroZAAEvJODu\n",
        "SFhV0bfH/WZV0IGwVvKYpRsRMOTStXEC6WYABLyKgHPEvF94OazclbDCilNj\n",
        "FuNAwGBROrlrbjnpZgAEvK2Az1bJWn45yilrQYeVsYZ2EkLAEN8zuh9S2ZQw\n",
        "/xwAEPDyAr45pCNbuz700stgnebZDUmNp9KGNqWIgEGos5bqqOnvGOcFQMCr\n",
        "CvhsjLeyzRhy0EIZKubSAe3SVWClKFhSBgAEvEkEXIJ8lxIwIN6uAitlRRjn\n",
        "BUDA2wm4JwpeIeuMgGFV8YYCK1U+AwAC3lzAJTWaCBiWEi8FVgAIGAEjYFhZ\n",
        "vBRYASBgBIyAYSXxauEWxAuAgBFwBqpYRsCQgyqXGeMFQMCrEi8e4K13r6rU\n",
        "cG5MGwKLKpY1x7trwRXEC4CAFyXu9XtbpzY+N+ZmQkBSVYesax1wxAuAgFeP\n",
        "EhUJeJnHGKefdVCtCsrwaBw3JV3JGPECIOBVkZi8LRqvc4qjG8Z/20bZj66N\n",
        "NtTpZAENAARcRBQcGiVFkLU1ShKvPReJmKimPcIGCV3juxIywxIACLgI+iIE\n",
        "RZClH127FtHItoXSzF1bAjKVCAABVxMJ13ywG01b0W5fNTPjuwAIuAqUxlVj\n",
        "NWZz+lIONbSKhtUYM6bnHw2T9EW7EjL3AgACrhZFkTUcVDm3gaLYvrHdUEhI\n",
        "9gMAAVcrXUUOashqGP8NhxpmRUWkGn1Gu11TiIh2ARCwi+iir6CppkMyhvo7\n",
        "guoEdi2YQbQLgIBdoGrhvoauxkPj2KSm60Lfl1ap6ksxE+0CIGBXjV5KXiGl\n",
        "W8MYsDoQqYZb5wHlZ16GxnVDJTPRLgACdkVc8ayGTtKtFUVFEjHp6PKlqyi2\n",
        "r9o+SLfm+xEAEHAnagTjRs9LhGElTLqyjEyLOkNDU9xUbKWMBt8ZAAJ2TTyP\n",
        "0tOWfWq845QmqcttvoMwV3eoviAsDYl0ARBwM8TRiDdJxZ0L0tDrEFLLOdX0\n",
        "uvf0s0wbA4AmBew5TRun15XWhOWi3KHK5TCmG9LLSBcAEHDUQHpDET1bEi5z\n",
        "XZVRyIlyJWXJmUIqAEDAawj49nja73an3ZPjcLPw6xDwoqh4StmEvpWo4iOs\n",
        "x02UCwAIeDUB356O+6cCzRfp1Nch4CWQOJUmlnBzFmdRlBumC1FEBQAIeG0B\n",
        "3xwuBJol0qmvQ8CzIGGGlLKEOzSOy1guACDgogQcR7D70/EmN5U89XXbCDhU\n",
        "+EpStRJvtJEj27iITa9jaU8AQMAlCnh//Pz/TiPGcqe+bj0BK0JUpGcXj6hF\n",
        "tvrsU/Z3DrtLMX8aABBw0QK2Xq2/CGto+7uSUFSqzxvSyGNlq5+XpBXhIlwA\n",
        "QMAIeHUB52x/t6WAlQKPx2vHijYUTOm1IbqlaAoAEDAC3kTAklrOIhJrCVjR\n",
        "bJBsmGs7dY9mnVNIJVOhDAAIGAFvLuCcnXiGjqnFSCGK1dhsiGT12a7Zi1mv\n",
        "1e9QRyKkkZEtACBgBFyEgL/73e/ez22dKjq7a1SYwhOOELXGkeu1ck0VR8Xj\n",
        "tYgWABAwAi5awL/92789mwSXPEI0K8lK5Oo06DyYbwsACBgBVyngkg4JNhRC\n",
        "hUiW+bUAAAgYAY+cwhNSzRqDDSnoELkiVwAABIyAZzyYLwsAgICLEPDNYde5\n",
        "pvPZYaw69XVjBfyd73xn1AYDCBgAAAFXIOD0bkbDIp36uvECtvOA9W9T5v+G\n",
        "g/1tAQAQcFUR8P54O8vrrhVwTJgXPGaKksZ5AQAAAW8u4BKZsha05tUquh3a\n",
        "LQgBAwAgYAQ8o4AtqmBOrZqFgAEAEDACXlDANjoO2/vpvwAAgIAR8AoCBgAA\n",
        "BIyAETAAAAJGwAgYAAAQMAJGwAAACBgBI2AAAEDATQlYlcoIGAAAARdJvNiE\n",
        "t/WNtdRkODf9PwAAIOBiiJdf1IITnogXz2DtZgAABFwUWtEpSEq7BGmxCQ9I\n",
        "uHF6Xes9AwAAAi4GiSnenk9jpbVLWKl0e04AAICAi0Op5zhalLxUwKR1kGsT\n",
        "bzzu6y2qBwBAwA4ZsxVfTQdjvwAACLiKSDhO3dZ8qACrtggeAAABN4zGhFWY\n",
        "pXHT2mSsKVWK5L1VcwMAIGAAAABAwAAAAAgYAAAAEDAAAAACBgAAAAQMAACA\n",
        "gAEAAAABAwAAIGAAAAAEDAAAAAgYAAAAAQMAAAACBgAAQMAAAACAgAEAABAw\n",
        "AAAAIGAAAAAEDAAA0Bb/D7YAQ1+Qm6FhAAAAAElFTkSuQmCC\n",
        "\"\" alt=\"A cartoon schematic shows a  small array named odds with the odd numbers from 1 to 11. A for loop is written &quot;for num in odds&quot; and for each of these items in the array print(num) happens, and the output is shown below, the odd numbers printed out.\" width=\"480\" height=\"642\" loading=\"lazy\" /></a></p>\n",
        "<p>where each number (<code class=\"language-plaintext highlighter-rouge\">num</code>) in the variable odds is looped through and printed one number after another. The other numbers in the diagram denote which loop cycle the number was printed in (1 being the first loop cycle, and 6 being the final loop cycle).</p>\n",
        "<p>We can call the loop variable anything we like, but there must be a colon at the end of the line starting the loop, and we must indent anything we want to run inside the loop. Unlike many other languages, there is no command to signify the end of the loop body (e.g. end for); what is indented after the for statement belongs to the loop. Python uses indentation to show nesting. Any consistent indentation is legal, but almost everyone uses four spaces.</p>\n",
        "<p>When looping through a list, the position index and corresponding value can be retrieved at the same time using the <code style=\"color: inherit\">enumerate()</code> function.</p>\n"
      ]
    },
    {
      "cell_type": "code",
      "execution_count": 95,
      "id": "cell-103",
      "metadata": {
        "attributes": {
          "classes": [
            "> <comment-title></comment-title>"
          ],
          "id": ""
        }
      },
      "outputs": [
        {
          "name": "stdout",
          "output_type": "stream",
          "text": [
            "0 tic\n",
            "1 tac\n",
            "2 toe\n"
          ]
        }
      ],
      "source": [
        "for i, v in enumerate(['tic', 'tac', 'toe']):\n",
        "    print(i, v)"
      ]
    },
    {
      "cell_type": "markdown",
      "id": "cell-104",
      "metadata": {
        "collapsed": false,
        "editable": false
      },
      "source": [
        "<p>To loop over two or more lists at the same time, the entries can be paired with the <code style=\"color: inherit\">zip()</code> function.</p>\n"
      ]
    },
    {
      "cell_type": "code",
      "execution_count": 96,
      "id": "cell-105",
      "metadata": {
        "attributes": {
          "classes": [
            "> <comment-title></comment-title>"
          ],
          "id": ""
        }
      },
      "outputs": [
        {
          "name": "stdout",
          "output_type": "stream",
          "text": [
            "What is your name?  It is lancelot.\n",
            "What is your quest?  It is the holy grail.\n",
            "What is your favorite color?  It is blue.\n"
          ]
        }
      ],
      "source": [
        "questions = ['name', 'quest', 'favorite color']\n",
        "answers = ['lancelot', 'the holy grail', 'blue']\n",
        "for q, a in zip(questions, answers):\n",
        "   print('What is your {0}?  It is {1}.'.format(q, a))"
      ]
    },
    {
      "cell_type": "markdown",
      "id": "cell-106",
      "metadata": {
        "collapsed": false,
        "editable": false
      },
      "source": [
        "<p>We can choose any name we want for variables. It is a good idea to choose variable names that are meaningful, otherwise it would be more difficult to understand what the loop is doing.</p>\n",
        "<p>Here’s another loop that repeatedly updates a variable:</p>\n"
      ]
    },
    {
      "cell_type": "code",
      "execution_count": 97,
      "id": "cell-107",
      "metadata": {
        "attributes": {
          "classes": [
            "> <comment-title></comment-title>"
          ],
          "id": ""
        }
      },
      "outputs": [
        {
          "name": "stdout",
          "output_type": "stream",
          "text": [
            "There are 3 names in the list.\n",
            "After the loop, name is Darwin\n"
          ]
        }
      ],
      "source": [
        "length = 0\n",
        "names = ['Curie', 'Darwin', 'Turing']\n",
        "for value in names:\n",
        "    length = length + 1\n",
        "print('There are', length, 'names in the list.')\n",
        "print('After the loop, name is', name)"
      ]
    },
    {
      "cell_type": "markdown",
      "id": "cell-108",
      "metadata": {
        "collapsed": false,
        "editable": false
      },
      "source": [
        "<p>It is worth tracing the execution of this little program step by step. Since there are three names in <code style=\"color: inherit\">names</code>, the statement on line 4 will be executed three times. The first time around, <code style=\"color: inherit\">length</code> is <code style=\"color: inherit\">0</code> (the value assigned to it on line 1) and <code style=\"color: inherit\">value</code> is <code style=\"color: inherit\">Curie</code>. The statement adds 1 to the old value of <code style=\"color: inherit\">length</code>, producing 1, and updates <code style=\"color: inherit\">length</code> to refer to that new value. The next time around, <code style=\"color: inherit\">value</code> is <code style=\"color: inherit\">Darwin</code> and <code style=\"color: inherit\">length</code> is <code style=\"color: inherit\">1</code>, so <code style=\"color: inherit\">length</code> is updated to be <code style=\"color: inherit\">2</code>. After one more update, <code style=\"color: inherit\">length</code> is <code style=\"color: inherit\">3</code>; since there is nothing left in <code style=\"color: inherit\">names</code> for Python to process, the loop finishes and the print function on line 5 tells us our final answer.</p>\n",
        "<p>Note that a loop variable is a variable that is being used to record progress in a loop. It still exists after the loop is over, stores the value assigned to it last, and we can re-use variables previously defined as loop variables as well.</p>\n",
        "<blockquote class=\"question\" style=\"border: 2px solid #8A9AD0; margin: 1em 0.2em\">\n",
        "<div class=\"box-title question-title\" id=\"question-range-of-numbers\"><i class=\"far fa-question-circle\" aria-hidden=\"true\" ></i> Question: range of numbers</div>\n",
        "<p>Python has a built-in function called <code style=\"color: inherit\">range()</code> that generates a sequence of numbers. <code style=\"color: inherit\">range</code> can accept 1, 2, or 3 parameters.\n",
        "If one parameter is given, <code style=\"color: inherit\">range</code> generates a sequence of that length, starting at zero and incrementing by 1. For example, <code style=\"color: inherit\">range(3)</code> produces the numbers <code style=\"color: inherit\">0, 1, 2</code>.\n",
        "If two parameters are given, <code style=\"color: inherit\">range</code> starts at the first and ends just before the second, incrementing by one. For example, <code style=\"color: inherit\">range(2, 5)</code> produces <code style=\"color: inherit\">2, 3, 4</code>.\n",
        "If <code style=\"color: inherit\">range</code> is given 3 parameters, it starts at the first one, ends just before the second one, and increments by the third one. For example, <code style=\"color: inherit\">range(3, 10, 2)</code> produces <code style=\"color: inherit\">3, 5, 7, 9</code>.\n",
        "Using <code style=\"color: inherit\">range</code>, write a loop that uses <code style=\"color: inherit\">range</code> to print the first 3 natural numbers:</p>\n",
        "<div class=\"language-plaintext highlighter-rouge\"><div><pre style=\"color: inherit; background: transparent\"><code style=\"color: inherit\">1\n",
        "2\n",
        "3\n",
        "</code></pre></div>  </div>\n",
        "<br/><details style=\"border: 2px solid #B8C3EA; margin: 1em 0.2em;padding: 0.5em; cursor: pointer;\"><summary>👁 View solution</summary>\n",
        "<div class=\"box-title solution-title\" id=\"solution-13\"><button class=\"gtn-boxify-button solution\" type=\"button\" aria-controls=\"solution-13\" aria-expanded=\"true\"><i class=\"far fa-eye\" aria-hidden=\"true\" ></i> <span>Solution</span><span class=\"fold-unfold fa fa-minus-square\"></span></button></div>\n",
        "<div class=\"language-plaintext highlighter-rouge\"><div><pre style=\"color: inherit; background: transparent\"><code style=\"color: inherit\"> for i in range(1, 4):\n",
        "    print(i)\n",
        "</code></pre></div>    </div>\n",
        "</details>\n",
        "</blockquote>\n",
        "<blockquote class=\"question\" style=\"border: 2px solid #8A9AD0; margin: 1em 0.2em\">\n",
        "<div class=\"box-title question-title\" id=\"question-number-of-iterations\"><i class=\"far fa-question-circle\" aria-hidden=\"true\" ></i> Question: Number of iterations</div>\n",
        "<p>Given the following loop:</p>\n",
        "<div class=\"language-plaintext highlighter-rouge\"><div><pre style=\"color: inherit; background: transparent\"><code style=\"color: inherit\">word = 'oxygen'\n",
        "for char in word:\n",
        "   print(char)\n",
        "</code></pre></div>  </div>\n",
        "<p>How many times is the for loop executed?</p>\n",
        "<br/><details style=\"border: 2px solid #B8C3EA; margin: 1em 0.2em;padding: 0.5em; cursor: pointer;\"><summary>👁 View solution</summary>\n",
        "<div class=\"box-title solution-title\" id=\"solution-14\"><button class=\"gtn-boxify-button solution\" type=\"button\" aria-controls=\"solution-14\" aria-expanded=\"true\"><i class=\"far fa-eye\" aria-hidden=\"true\" ></i> <span>Solution</span><span class=\"fold-unfold fa fa-minus-square\"></span></button></div>\n",
        "<p>The body of the loop is executed 6 times.</p>\n",
        "</blockquote>\n",
        "</blockquote>\n",
        "<blockquote class=\"question\" style=\"border: 2px solid #8A9AD0; margin: 1em 0.2em\">\n",
        "<div class=\"box-title question-title\" id=\"question-exponentiation\"><i class=\"far fa-question-circle\" aria-hidden=\"true\" ></i> Question: Exponentiation</div>\n",
        "<p>Exponentiation is built into Python:</p>\n",
        "<div class=\"language-plaintext highlighter-rouge\"><div><pre style=\"color: inherit; background: transparent\"><code style=\"color: inherit\">print(5 ** 3)\n",
        "</code></pre></div>  </div>\n",
        "<p>Output:\n",
        "125</p>\n",
        "<p>Write a loop that calculates the same result as <code style=\"color: inherit\">5 ** 3</code> using multiplication (and without exponentiation).</p>\n",
        "<br/><details style=\"border: 2px solid #B8C3EA; margin: 1em 0.2em;padding: 0.5em; cursor: pointer;\"><summary>👁 View solution</summary>\n",
        "<div class=\"box-title solution-title\" id=\"solution-15\"><button class=\"gtn-boxify-button solution\" type=\"button\" aria-controls=\"solution-15\" aria-expanded=\"true\"><i class=\"far fa-eye\" aria-hidden=\"true\" ></i> <span>Solution</span><span class=\"fold-unfold fa fa-minus-square\"></span></button></div>\n",
        "<div class=\"language-plaintext highlighter-rouge\"><div><pre style=\"color: inherit; background: transparent\"><code style=\"color: inherit\">result = 1\n",
        "for number in range(0, 3):\n",
        "    result = result * 5\n",
        "print(result)\n",
        "</code></pre></div>    </div>\n",
        "</blockquote>\n",
        "</blockquote>\n",
        "<blockquote class=\"question\" style=\"border: 2px solid #8A9AD0; margin: 1em 0.2em\">\n",
        "<div class=\"box-title question-title\" id=\"question-iterations-over-a-list\"><i class=\"far fa-question-circle\" aria-hidden=\"true\" ></i> Question: Iterations over a list</div>\n",
        "<p>Write a loop that calculates the sum of elements in a list by adding each element and printing the final value, so <code style=\"color: inherit\">[124, 402, 36]</code> prints <code style=\"color: inherit\">562</code></p>\n",
        "<br/><details style=\"border: 2px solid #B8C3EA; margin: 1em 0.2em;padding: 0.5em; cursor: pointer;\"><summary>👁 View solution</summary>\n",
        "<div class=\"box-title solution-title\" id=\"solution-16\"><button class=\"gtn-boxify-button solution\" type=\"button\" aria-controls=\"solution-16\" aria-expanded=\"true\"><i class=\"far fa-eye\" aria-hidden=\"true\" ></i> <span>Solution</span><span class=\"fold-unfold fa fa-minus-square\"></span></button></div>\n",
        "<div class=\"language-plaintext highlighter-rouge\"><div><pre style=\"color: inherit; background: transparent\"><code style=\"color: inherit\">numbers = [124, 402, 36]\n",
        "summed = 0\n",
        "for num in numbers:\n",
        "    summed = summed + num\n",
        "print(summed)\n",
        "</code></pre></div>    </div>\n",
        "</blockquote>\n",
        "</blockquote>\n",
        "<blockquote class=\"question\" style=\"border: 2px solid #8A9AD0; margin: 1em 0.2em\">\n",
        "<div class=\"box-title question-title\" id=\"question-polynomial\"><i class=\"far fa-question-circle\" aria-hidden=\"true\" ></i> Question: Polynomial</div>\n",
        "<p>Suppose you have encoded a polynomial as a list of coefficients in the following way: the first element is the constant term, the second element is the coefficient of the linear term, the third is the coefficient of the quadratic term, etc.</p>\n",
        "<div class=\"language-plaintext highlighter-rouge\"><div><pre style=\"color: inherit; background: transparent\"><code style=\"color: inherit\">x = 5\n",
        "coefs = [2, 4, 3]\n",
        "y = coefs[0] * x**0 + coefs[1] * x**1 + coefs[2] * x**2\n",
        "print(y)\n",
        "</code></pre></div>  </div>\n",
        "<p>Output:\n",
        "97</p>\n",
        "<p>Write a loop using <code style=\"color: inherit\">enumerate(coefs)</code> which computes the value <code style=\"color: inherit\">y</code> of any polynomial, given <code style=\"color: inherit\">x</code> and <code style=\"color: inherit\">coefs</code>.</p>\n",
        "<br/><details style=\"border: 2px solid #B8C3EA; margin: 1em 0.2em;padding: 0.5em; cursor: pointer;\"><summary>👁 View solution</summary>\n",
        "<div class=\"box-title solution-title\" id=\"solution-17\"><button class=\"gtn-boxify-button solution\" type=\"button\" aria-controls=\"solution-17\" aria-expanded=\"true\"><i class=\"far fa-eye\" aria-hidden=\"true\" ></i> <span>Solution</span><span class=\"fold-unfold fa fa-minus-square\"></span></button></div>\n",
        "<div class=\"language-plaintext highlighter-rouge\"><div><pre style=\"color: inherit; background: transparent\"><code style=\"color: inherit\">y = 0\n",
        "for idx, coef in enumerate(coefs):\n",
        "    y = y + coef * x**idx\n",
        "</code></pre></div>    </div>\n",
        "</blockquote>\n",
        "</blockquote>\n",
        "<blockquote class=\"question\" style=\"border: 2px solid #8A9AD0; margin: 1em 0.2em\">\n",
        "<div class=\"box-title question-title\" id=\"question-for-loops-and-conditionals\"><i class=\"far fa-question-circle\" aria-hidden=\"true\" ></i> Question: For loops and conditionals</div>\n",
        "<p>Fill in the blanks so that this program creates a new list containing zeroes where the original list’s values were negative and ones where the original list’s values were positive.</p>\n",
        "<div class=\"language-plaintext highlighter-rouge\"><div><pre style=\"color: inherit; background: transparent\"><code style=\"color: inherit\">original = [-1.5, 0.2, 0.4, 0.0, -1.3, 0.4]\n",
        "result = ____\n",
        "for value in original:\n",
        "    if ____:\n",
        "        result.append(0)\n",
        "    else:\n",
        "        ____\n",
        "    print(result)\n",
        "</code></pre></div>  </div>\n",
        "<p>Output:\n",
        "[0, 1, 1, 1, 0, 1]</p>\n",
        "<br/><details style=\"border: 2px solid #B8C3EA; margin: 1em 0.2em;padding: 0.5em; cursor: pointer;\"><summary>👁 View solution</summary>\n",
        "<div class=\"box-title solution-title\" id=\"solution-18\"><button class=\"gtn-boxify-button solution\" type=\"button\" aria-controls=\"solution-18\" aria-expanded=\"true\"><i class=\"far fa-eye\" aria-hidden=\"true\" ></i> <span>Solution</span><span class=\"fold-unfold fa fa-minus-square\"></span></button></div>\n",
        "<div class=\"language-plaintext highlighter-rouge\"><div><pre style=\"color: inherit; background: transparent\"><code style=\"color: inherit\">original = [-1.5, 0.2, 0.4, 0.0, -1.3, 0.4]\n",
        "result = []\n",
        "for value in original:\n",
        "    if value &lt; 0:\n",
        "        result.append(0)\n",
        "    else:\n",
        "        result.append(1)\n",
        "    print(result)\n",
        "</code></pre></div>    </div>\n",
        "</blockquote>\n",
        "</blockquote>\n",
        "<h2 id=\"while-loops\">While loops</h2>\n",
        "<p>With the while loop we can execute a set of statements as long as an expression is true. The following example prints <code style=\"color: inherit\">i</code> as long as <code style=\"color: inherit\">i</code> is less than 6:</p>\n"
      ]
    },
    {
      "cell_type": "code",
      "execution_count": 98,
      "id": "cell-109",
      "metadata": {
        "attributes": {
          "classes": [
            "> <comment-title></comment-title>"
          ],
          "id": ""
        }
      },
      "outputs": [
        {
          "name": "stdout",
          "output_type": "stream",
          "text": [
            "1\n",
            "3\n",
            "5\n"
          ]
        }
      ],
      "source": [
        "odds = [1, 3, 5, 7, 9, 11]\n",
        "i = 0\n",
        "while odds[i] < 6:\n",
        "  print(odds[i])\n",
        "  i = i + 1"
      ]
    },
    {
      "cell_type": "markdown",
      "id": "cell-110",
      "metadata": {
        "collapsed": false,
        "editable": false
      },
      "source": [
        "<p>Remember to increment <code style=\"color: inherit\">i</code>, or else the loop will continue forever. The while loop requires relevant variables to be ready, in this example we need to define an indexing variable, <code style=\"color: inherit\">i</code>, which we set to 0.</p>\n",
        "<p>With the <code style=\"color: inherit\">break</code> statement we can stop the loop even if the while condition is true:</p>\n"
      ]
    },
    {
      "cell_type": "code",
      "execution_count": 99,
      "id": "cell-111",
      "metadata": {
        "attributes": {
          "classes": [
            "> <comment-title></comment-title>"
          ],
          "id": ""
        }
      },
      "outputs": [
        {
          "name": "stdout",
          "output_type": "stream",
          "text": [
            "1\n",
            "3\n"
          ]
        }
      ],
      "source": [
        "odds = [1, 3, 5, 7, 9, 11]\n",
        "i = 0\n",
        "while odds[i] < 6:\n",
        "  print(odds[i])\n",
        "  if odds[i] == 3:\n",
        "    break\n",
        "  i = i + 1"
      ]
    },
    {
      "cell_type": "markdown",
      "id": "cell-112",
      "metadata": {
        "collapsed": false,
        "editable": false
      },
      "source": [
        "<p>With the <code style=\"color: inherit\">continue</code> statement we can stop the current iteration, and continue with the next:</p>\n"
      ]
    },
    {
      "cell_type": "code",
      "execution_count": 100,
      "id": "cell-113",
      "metadata": {
        "attributes": {
          "classes": [
            "> <comment-title></comment-title>"
          ],
          "id": ""
        }
      },
      "outputs": [
        {
          "name": "stdout",
          "output_type": "stream",
          "text": [
            "5\n",
            "7\n"
          ]
        }
      ],
      "source": [
        "odds = [1, 3, 5, 7, 9, 11]\n",
        "i = 0\n",
        "while odds[i] < 6:\n",
        "  i = i + 1\n",
        "  if odds[i] == 3:\n",
        "    continue\n",
        "  print(odds[i])\n"
      ]
    },
    {
      "cell_type": "markdown",
      "id": "cell-114",
      "metadata": {
        "collapsed": false,
        "editable": false
      },
      "source": [
        "<p>With the <code style=\"color: inherit\">else</code> statement we can run a block of code once when the condition no longer is true:</p>\n"
      ]
    },
    {
      "cell_type": "code",
      "execution_count": 101,
      "id": "cell-115",
      "metadata": {
        "attributes": {
          "classes": [
            "> <comment-title></comment-title>"
          ],
          "id": ""
        }
      },
      "outputs": [
        {
          "name": "stdout",
          "output_type": "stream",
          "text": [
            "1\n",
            "3\n",
            "5\n",
            "condition is no longer True\n"
          ]
        }
      ],
      "source": [
        "odds = [1, 3, 5, 7, 9, 11]\n",
        "i = 0\n",
        "while odds[i] < 6:\n",
        "  print(odds[i])\n",
        "  i = i + 1\n",
        "else:\n",
        "  print(\"condition is no longer True\")"
      ]
    },
    {
      "cell_type": "markdown",
      "id": "cell-116",
      "metadata": {
        "collapsed": false,
        "editable": false
      },
      "source": [
        "<h2 id=\"create-functions\">Create Functions</h2>\n",
        "<p>Human beings can only keep a few items in working memory at a time. Breaking down larger/more complicated pieces of code in functions helps in understanding and using it. A function can be re-used. Write one time, use many times.</p>\n"
      ]
    },
    {
      "cell_type": "code",
      "execution_count": 102,
      "id": "cell-117",
      "metadata": {
        "attributes": {
          "classes": [
            "> <comment-title></comment-title>"
          ],
          "id": ""
        }
      },
      "outputs": [],
      "source": [
        "def fahr_to_celsius(temp):\n",
        "    return ((temp - 32) * (5/9))"
      ]
    },
    {
      "cell_type": "markdown",
      "id": "cell-118",
      "metadata": {
        "collapsed": false,
        "editable": false
      },
      "source": [
        "<p><a href=\"../../images/python-basics/Figure7_Functions.png\" rel=\"noopener noreferrer\"><img src=\"data:image/png;base64,iVBORw0KGgoAAAANSUhEUgAAAVQAAACCCAYAAAAZgjAzAAAABmJLR0QA/wD/\n",
        "AP+gvaeTAAAeyElEQVR42u1dCZgU1dUtA+JuNO4roDGJChJ34xI1Ku4s09MC\n",
        "EgkamCAwDKCJ+qtxEDXiFpjuHkRRScRgiBoSJBoTFKNRRMQtBjcQBSMiioAC\n",
        "IlL/uVW3hzc11dXV20zXcM73nW+mq19Xvbr16tR9971617IIgiCIssZt4M0h\n",
        "y3YAXwRXgENpOoIgiPwF9Q7w9jyOsQQ8qoTlmxPlXDeidYBtbDMR1IfAARRU\n",
        "NvbNDG0j1Mba8nI1Lw4BXwBXgo+CEz2Cugc4FVwGLgJH6PbfgWvA5br9ez77\n",
        "rgU/Aj8H3wKPAevBDeD/9Hf9tOz14PvgavBl8GTdnql8pnoJloKDwbfBL9SL\n",
        "3g98Wj9PB7cLcY7pfV0BzgHfAScZjTRT3coNQecQZPti27Ic7HAt+Dz4Bngn\n",
        "2C4HO4gN54Hzm9Fu+bZ/b13LtU34aURk0UZP4kr9vyu4zhDULcDn1GvdGmyv\n",
        "5c/V76cFeKhHqvF2088dwX0Dnrh91PBSj4Hgx+A2Gcpnq5dc8H+Cu4IHWG6M\n",
        "V8ofBm4P/husyWFfD4NbKuXhc2HEPNRs5xBk+2Lashzs8DcVDuEM8Joc7CDl\n",
        "t9LzbE675dP+vXUtxzYRpBGRxDHqYbYxts0wBLWLeq7m99X6NMsmqF30iXS6\n",
        "xwsIK0KLdB9+5bPVa6keN42/gjcYn0caZcPsy3w636iNI2qCGnQOQbYvpi3L\n",
        "wQ5nG5/PVE81rB265tBmi2m3fNp/1wi0iSCNiCR6aLfARMIQ1G7qsb5pcCH4\n",
        "SAhBFVxiubMAxKCTjSeRnwj107KL9eKtB0/LUD5bveSCdzLKP2g1noUwyHLj\n",
        "v/ns6xrtKkZNUIPOIcj2xbRlOdjhCI8wrcjBDp1zaLPFtFs+7b9zRNpEJo2I\n",
        "rIe6xLNtqiGoh6vxMnUbsglqGrtqXGWcfv7A00AO0oZtNoKFxlPQWz5bvXK5\n",
        "4Lnuy9vwPoi4oGazfTFtWQ52iBmfexoeaq52aE67Fdr+o9AmvBoR2RiqBKQr\n",
        "DEN+aQjqtyw3gH+Lxkak/CFG4DhIUA8Fj9dYlbjzU4wuxVywtyfe+qHGWATn\n",
        "g7ZxAb3ls9Urlwue6768guqtW9QENZvti2nLcrDD8+oF7aKe0a/ztENz2q3Q\n",
        "9l+ubSJIIyKLTnrCz4J/0tiGd5R/shpRnlqzjfhMkKAea7mjg6vAT3TfO+t3\n",
        "FdqVkP0N1G1iSBmRfAz8Dfi6cQH9ygfVK5cLnuu+vILqV7eodfmDbF9MW5aD\n",
        "HWrUifgUvMtyB27ysUNz2q3Q9l+ubSJIIwiCiJinThAEQVBQCYIgKKgEUdaQ\n",
        "qRx70wwlgwyGbEkzRA4ym2FbmoHIBSKk8gbHkTRFSSBvy/zX2jTaS0QDp1ru\n",
        "dMjv0BREWMi8NnmN8GqaoiTYS7vIR9MUkYK8Q/+u1fiNMILIil+AL7E7WjLI\n",
        "myy1NEPkcDc4gWYgckEHy523dihNURLI64AyP7AdTREpnGG5bzTtQFMQYSFv\n",
        "XjwFXkZTlAT7aFf/MJoiUvi25b6i2pWmIHLBcMtdHqwNTVF0SFxa3oy5iqaI\n",
        "HO63Iv4ePNH8+L529Q+iKUoCWTR4Nh9WkYOs6LTAct+VJ4jQXf1n9KYnio+O\n",
        "FuPSUYSs0iSr+Z9EUxC5QLIKzLTKd2m4qD+sZlluOIWIFmS5zTE0A5ELZLkv\n",
        "mcC/P01REsgK68+yqx858MULImfIWomybuUlNEVJ8APt6n+XpogU+OIFkRdq\n",
        "wb+zq1+yh5UMQg2iKSIHefFiFM1A5AJJnyBJvPalKUqC/7Pc7JV8WEULF1t8\n",
        "8YLIEbKS+mtW49S2RPHAuHQ0wRcviLwgaVim0Qwl6+pLnqL+NEWkwBcviJyQ\n",
        "zux4HPiR5eaiIYqDncAD9f/rLTfDJFH+aGd4o4P1QcgFgYiskAUd5G2P9uBb\n",
        "YCVNUlRIEjVZ7vAIfVjtSZNEAmdZ7iwXeTuQL14QodHXclPVSnzoCZqj6LgP\n",
        "3AB+bnFUP0r4LbjRcrO03khzEGExXgVV+IXlpq09lWYpGp437CuvKj4H7kiz\n",
        "lD0eM67bMu3y70OzENnwtNFwXgXPp0mKht3VMxXbfqO25uh++UPipx8Y94U8\n",
        "BDm6T2TF9uqVfqNP5F1pkqJipN6QIqq3Wu67+0T54xzt7n9puavwc94pEQqS\n",
        "WXMlOJqmKAmmgIvAk2mKSCFpuQOIF9AURC6QRR5+SDOUDLJS13Y0Q+QwAtyN\n",
        "ZiAIgiAIgiAIgiAIgiAIgiAIgiAIgiAIgogWaq1XQBu8soB9tAUngcvBbwre\n",
        "nwMbb2HZb4DrQUx4t3vksQ/UwV7Xcsa1K8Cq6DYOe5baXln0fbfI0o/DKpN3\n",
        "g3/K9H11ZapiWDxZltftsj4TdkXdV9dUJH9M8Wq9gvpT3cdGcA74LBI/9C3g\n",
        "ZsNaoDZeIrCRLdL+EYglA+2dIiiok8G5ERZUrHZldwCvL4GgYiEYe1xzn9GI\n",
        "WPJQCNLXw3qO7xQguJPBsr1uwypTYyD4cyherVdQa3UfrxTpZuugXlG3AvdD\n",
        "QS3OeQwvvqC2lBgl7wWfyVKmrAW1ulfdgaifPawixYWJWhRjsJ5prXU/uBr8\n",
        "EOyXUVBrrR7gC+AacBU4E0sen+QpM1l/68c8BNoRQDsDjS6/fQD4O/A9VzDt\n",
        "Zfp5T39BtbEYtv0SuMYVONvnjS+706bjiOfk7HON/i7HxYKdY2Y6D4+nbZ8O\n",
        "vgCuBT9VEd69APHDivH2EPA1rQeWWrTxWqu9n8/5TteeAN5Dtx8FO+YvqDba\n",
        "hv0vEGsR2KtB5FOy+/iUM20xLfyD0D5Rf3Ncfse1rF91u2cHCNGXNZWpwRmE\n",
        "dJ0jVD4c3uO3ja6beLjYPh1c6e4z8ejQeKLBfiPiqe/K72oqk+Pw91MR8Zp4\n",
        "ohf+LgMXVPes69Kwr1jqBpT7fFhlohrfLQHXwgN9siZe//1M1kb5F3HMPwRd\n",
        "EalzdTzVH2XPo/iVxhs1BXAtuAH8vIkAukKbLvcfcIH+/zV4YkO5Uda1Tve+\n",
        "FqvtuN+v0s95dvntb6t3erLePJfoZ+G2RrnTwHvAC7UsFrq257ni1+TG/FpF\n",
        "8WdgL/B98PUAQUUOdfte8HjwSBBpXuwcF7yw22ud/6zC1sGgseiJs3+pH9aW\n",
        "tc8FL1Yhn9u4XE7HvgPEYh12HXi2nvNkd/8NZZCW2l6lNouB3UF0Ie233XBL\n",
        "roJq76r7m6YPCOEV4FUZeh/C2YULai7HhWcXrz9XRA7C19nv+yEVyfbDe4/v\n",
        "ABH6M0ToNfk/zdra2obrMTSW+AH2swpd73k1sUQM/3eXLjg+v117Sm1bU1Al\n",
        "Xgvhi+PvN9WVyXeqY3WnixhWx1IPmoKK7zc6IgkRrYmP2x+fnxDhTe+vifjH\n",
        "krfj++XuAzSDp+2Kvl3O3naUxXQnFUQRviT4LXBwE4/SHWBa6mwbZV1q/P5O\n",
        "Lfd3n33foN/NLlIX87t68+TwZHU8FflNZx+P9yfGtp/rtr0zCOo/mq/L73z/\n",
        "GbiNsa1S69E1z1AJVgOzx/h8Z9yYNgZkbLkZv2Nsgz3sr8B+eQjqKVrno3Ko\n",
        "66wiCGpOx4VgjYa4rI/Hp7YppMsvA1oiZiPidzTYb2jvxN7Y9hW8336NPNRY\n",
        "8lgVwHerY4mExkCvgwC/4hFUe2hF4oQmHi68Wt+HQ2Wqr3w/pFfyexTUlsD1\n",
        "1gmGeB7gbJtqtWniodZiAZRN5WaBjytf1W2ftbygivdmD1Kv6hPt2n6lvznd\n",
        "c2OKt7aVz014ZAZB/UUzCirSyNh/8WzbQetxTR7Hu1h/2ylLuRVuiKTJdnju\n",
        "9tg8BHUvDVnMUo93v2YS1JyOC2G5B1waIs6aTVBXVFcmmthvWDzxOsRxrCmI\n",
        "w3ulDlYRnQcP9Ua3XHKkCKzXQ62qmrCl5zif4iFwcwZB7ersvzJxCsWtJTDK\n",
        "OtMQynaGGP63kaCOsk4LiIu63f6WF9SrQaQKsZGz3j5Wu7A99Ddn5RmLSwvq\n",
        "uc0oqEvd8EKT7TJV7LY8jne5nkPAWrV2Gy2zQR9EJuXh81CeMVRM47H/pnHM\n",
        "dOjkR6UV1NyOCxF7ACL0fiGCKt6ten0bNOZqciPE8iFTUCU8oPucK8LpimFy\n",
        "OD4v8gjqGp96LISHe5+/oNad5Oy/MnE2xa1lPNTDDVHc3RDDjzwe6hEN5UZb\n",
        "HUOGE5pbUOc3FSL7nCIJ6lkR9lD7Nw17+JaTAZy79EHkpU/qDrsm/Ci/I9gn\n",
        "q7C9l6egXub2OBptO9P/uoU/LgSoTgaRCvVQZQAJHupdIpZejoiP3ydPQbWr\n",
        "zp+wraceEqcdk6GO3Z2QQEXqaIpby8RQd9SBqE2xURm198ZQJyD9rTtBX7ZN\n",
        "tOqsrRrCA6OQP6rWqioDQUXKCfsWz7bxZSioKfDNLIK7wjPgdkERYqg+3q05\n",
        "U8F+WAfq2oTc70+1TrvkUJcr1dNuk4egpo9nxnivCBbU7MeV0X0n7tgzuUuw\n",
        "oCZSKPdmZkFNPFwdT74UFIvNR1Dh3fZs8EAr6o+TbRi88p2x4IQNMNDlnX1g\n",
        "4tIL63dGmQEivhTA0ojq3Sp8XzmDS278dK3PKH+VIbQyxepdcF2DyLa8oIp3\n",
        "tURFEKlZ7IE65ajcBLVKu9EDwEPVAzRH+Y/WrvdMd86tcx7LdfS9TZ7HTI/y\n",
        "17v2c0b5H/SM8h+iXeQn3SlG9hl6bBktj2cQ6vU6s+IEnYZmDnJ11xkN/TRG\n",
        "LTMqkGTQnuHZzy6eUf4njM87G+X20dkPyCZq7+YOKjpT5Lwx1JDHVRFKD9LE\n",
        "U4HXWN6ScrrvECN5EUBE0Rzlr47XHSJvK8nUJhG8mnjyjJpYaiC2TZMR/TwF\n",
        "9WtwMcISPwMvkBkB+PueN65qeKh/BF8OPA8OSjWLlzoF/NIZyR+F1cYzz0Pt\n",
        "poNSq1SAF4PTwNPLQFB31DdtlqswzNCbq9wEtZ2K/1IVOb95qGfq4No69VYf\n",
        "APco4Jjeeagf6zzUfT3lROAf0QfRWp0yNd6d4+u7XxHeBcZ5GHFa+2D1ehfr\n",
        "4KD8vbOpR2tPDJif6xl8sS9SEZW5wI+raHoFNeRxG3XXXxMPNPA2ide2ky69\n",
        "DGCpsDaZh6pvXD2ic0zXypQpcPyIWP0B+QiqhBGceaoQUYnHosxT6d/61U8G\n",
        "xnAev6KgEgTRYhgWSwyCwHxSfXbdVuVTJ1dQw5Z31hqAiMNTZuoVgiBasJMm\n",
        "3h2mLIFDoiqoENPZ4E28mgRBtDhq4qkTJeYZRUF1V5tKXVfdt25HXkkiwrAn\n",
        "hWBV6zkuQRAEQRBEM+Aw8K48eAtNRxAE0RhYAR/v41vOxPxc2JemIwiCaCqo\n",
        "02kGgiAICipBEAQFlSAIgoJKEARBUFAJgiAoqARBEBRUgiAICipBEARBQSUI\n",
        "gqCgEgRB5A1JXdupSPuSfEE3U1BzQK01Eqx1EhC2AmAtzLslN3yh5ZyFipHu\n",
        "g7eni5pYIgZ7/VNX6l+LNVPfwsr51/Tvf9/WZjlJ3awpSN6XbKXgG8hXdZlf\n",
        "uhJ3ub3k6pqK5I+L3AYmVcfqTm+OdlUdT/XXlf8bMVOKaxOSldVNO1PfKG27\n",
        "k+qlMjkf/ApcgoW/fyNr1Ya1HwW1ZQV1iaZoGRD1U9HUG19LeotCy2XL7rm5\n",
        "ASlFarHW6P2SAM8RkVhqrGNDTQ29SWCSj8siz1hX9UoVm3tVZCb57zc1BvuY\n",
        "U2j9hsYTPxlekTzCFFTJdYXUKT+vik/4dqnaVVpQ8dDoh/8r08zWBvXc/4Xf\n",
        "PtF4f/XnOvZCWm/UvRvs+WvNqZUMaz8KKgW1WF6E3LzPFKMcBTWE11qZHCc3\n",
        "v3hKDeKDfFFNRCeWelDyTw3qOX73Jt/1qjvQEZCK1KmFXfvU8SLk1bFEAoL2\n",
        "Z8kphc//Rh3vHBG/4zulaldpQQ3KsOr7AKhInOB33iqy8938Zw12vllE1bRz\n",
        "kP1EUJHb3HoHRFI0C4nELNO9lQv0DxBJ2iwcyLrA+A4ZKq0XQMkn/ig40RDU\n",
        "X4IPe46fAMdGVlBrrcdV/FLgrU4yQTdJ4Luecj3AF8A1mkhwppMWe9P3HYzM\n",
        "rX4cYJSdpdtuM7aly52Xc/1qrQe1jPz9PfgFuAjsXYhpftXtnh3QsL6UdMiF\n",
        "lJMkcH5dOL+bRhO9TZd89u4+E4/CU+poiot2/8ZpwrpnnGRzlcll4ILqnnVd\n",
        "NnXz3JXpIQTVTjdPutXIHFoTr/9+2T7A4omr5fwGx1N7BpWDl/VLKSeeXgZh\n",
        "fhG2+0PhNbK3kPQtmjxwsWRgLXSP2dqLKahV50/YNvzDKPGoPAB82t9ytIWJ\n",
        "nm2nOe0IYZcw9hNBfQ4U9d1FBfIa/U7SBf8XvF5FVkQBmTytw/W7t8Ar9X/J\n",
        "1b7OENS9wC/B9E0gqX2XgUe2AkGV9NXfgHPBV8ENRpl+huD9B1yg/38Nnqhl\n",
        "9gSfVX6l379jbDuvQEENql9aUNdpVtk39PMa6yYr78Rq6a4SBK1zIeWGVCTb\n",
        "D+89voN4OZIFVP5P00yXLFk3sZ9V8CjmaXyxu3S9JMNn7Sm1bU1BlfibpFCW\n",
        "XPGSAlm6o3ITiOdmCqoIgXNzQERr4uP2l+6gCG96f+UAEY0hPZO7QLjOQV0/\n",
        "FmHIem1wnvKwyJT8D/u6XYTE9MpyhcRyXa80NU9SSDuCFU88X2gsNVt7MWKo\n",
        "K/XvctThVr+Y56Z4dP1hWra7j6Cuqokl6xuVR1oaKY+2c0Ww/TYJag/je+Rg\n",
        "x03mArnZrc9UDNOYqF37Y8DlKqZpzPB0+R8D0/lxzlNxtlqBoK7BI+ZkY3sn\n",
        "/dtWvUIbabAvNb6/U3/395y7/PkJqn/9GgvqAmuCtSX+7uQIrlvnswvofo5G\n",
        "o1ofj09tU4xy2br8MkAhjdjsTg7tndhbBhIkntbIQ40lj9WG/650SbVrdx0E\n",
        "+BWPoNrSFWzi4cKrLaOwytIGrx1xvmwZUofHkz/SB8kVGUWrMtVX9jekV/J7\n",
        "BcR4Lxcb4npsk46hyv7w/2Pp9NWlaFfyYHGuXTzZ04mdwiZqn8kBNpwig3V+\n",
        "DxB5GEi339MTqNF93hRkP1NQTa+xi3bvBaLgr3t+L97rFBXheT5delNQpRv5\n",
        "tP4v3sBVrURQH8rw/Q8NsZul5R9XL1G2fdZMgvpQwDmkBXWKsW2ZbutXwI1+\n",
        "j9zsRSyXTVBXID/973y6wa/LgI0piMN7pQ5WEZ0HYbnRLZccKQLr9VC9o+ES\n",
        "KggzYuwHEQHpiqYp3ddCmyC60cfUxJNnyAi/jDDDBndlFNOKCXtVx5IfyECV\n",
        "6d37CEJXx06YIVAk0S/aKH/Y9uIR2d+7IY6mQq4xzw24/hdl+O0QHeQafOmF\n",
        "9TuLTcSGIurSRoLsl8lDPT8HD3WJZ99TPYK6tYqzeEhfgPu3EkGt8/1+lHVa\n",
        "ltjo180kqHUhBHWSsW2pbuufd8N3PYP3i1YuQFBFqNRj2KAxV5Mb0yPfaUGV\n",
        "8IDuc276poAgDcfnRR5BXeNTj4XwcO/LS/wq6o9rFAc2BLwYwI1+iSOE8EKb\n",
        "fIfMo+KBy0Mkm5BXV9ad5NgJ04iKUS/Y+yi/AbBStivPNevudtFTFT77myDX\n",
        "PVMYR7ZLDFW8er1uX4AD1MsfHmQ/U1Cf1fipdJ+eB39txFBlIOo6UJ7c0h1a\n",
        "BR6h38lAVrrSB2nM1Ps0vxt8DXwywAZRE9SxGb4/okHsRlsdQ+4zm6A+qd/f\n",
        "4Xyus7YKIahjm11QK5N1EscqYrlAD9WJCcI7E7H0ckR8/D55CqrtHdjQOO2Y\n",
        "fAdUnLTQSu98x4LFxh2UE+H4hU88c5bEi2v6jN0jrADVVKSOLrdbLmx7adxL\n",
        "SfZ0HjSxRA+vx+48dOGFZtuHhJIkbivXEN724RrH/UmQ/UxBNUf5pQthxmUk\n",
        "rjITlNzcb4J9jO86qQCLIMuk20k+gioDMXKwi1u9oLoxyeVaZqIjfq7f3gbe\n",
        "66nYVuWzz3c0fnl1hmP+Uff3iH4+pRwFVbpIThwOAybFKAdBSKHcm5n3k3gY\n",
        "XdmXgmKx+Qiq3IxeDxODOn1auun5xUrTsT2ZL9nIw4on/yozFWQgL6QAjRQP\n",
        "LNepR82BbO3F74UFnSb2TfrBusmTTN4mA3kS581R1OVFiY8yebVp+zWXTaSb\n",
        "L12pHVu9oLplqgzBW+1MWXJH1F2RbVp+qjELYE6TUf5R1hD9fqMzqFVrfViW\n",
        "Hqp6S8PiqbOKUg5vSen0mwEy3UdE0YwDypQciSHK1CYRPIkr1sRSA7Ftmozo\n",
        "5ymoMoF7sfOmTCx5gXh4+Pue303bAp7aQoknops/TCbLy/xOievJTAhzRFu7\n",
        "tOiqpq41J7oLM3mrKhgvl+Mtl629uINIiRQerpcK0R5muOGVVKN7QOKhTnup\n",
        "TF4VGK7AtDsnbuu2vwG6v41BA5PNaT+5AeTE7s1SrvUIqluum8Y+V+m0qMXg\n",
        "NLBpoF5CA7WYDVGLHoArmo27/24X/179fjEE9qJyFFTthr8mjbsY5UQkpEuv\n",
        "o9ob/eah6hs0j+gc07UyZQocnx6MyFVQJYzgzFOFiErXEGWeSv+2xT21WHKU\n",
        "U//K5GdurDj1NrbdIkLheRC9kmker58oiZ1lgE+mPJXrbRfUXmSKlHvdHbFc\n",
        "L6P34rl7R/D1jaeV2d7aktgvjjdTp2Gtcd8629QDaEn7bWe5A1EywLVfqxBU\n",
        "ItibiCUGoXF9km0qT9hyzVt3V1A3t2vmrJmAhxE8/t2i3q4y4fKLbt1Optjl\n",
        "O1sjivajoLYCOE9rjGRnC/qHLUdBbZZQwuxM8yuj1q5oPwpqq4Mzoo1YZrHK\n",
        "UVBLB3e1pNR1MsWqtbQr2o+CShAEQUElCIKgoBIEQVBQCYIgCAoqQRAEBbVZ\n",
        "Ia+2/YxmIHxwJk1AUFDDQ97IedVqmuWA2LwhE8ZngX+hKYhcBFWSZe2dI/do\n",
        "Jecv8+s+stxFZP6PzYFQyCuP72q7GE1zEGFxBvi/PDgv4uct61TeY7mLx8hN\n",
        "I6/q7svmsNlDQj/jLDdXm7SLtZab240giAzYUR8I6ZtGOIdmYbsAZeWi9Ua7\n",
        "eJlmIYhwuNTwUH9PcxCWux7xVYaoTqFJCCI7ZDk6Se8gy/rNAkfSJAQgWQMk\n",
        "o3Bfy13AnXF1ggiBB8Df6v9HgbvTJITlxk/v1//lYdueJiGIYEhGWUnxsQ1N\n",
        "QRiQlEGLLTe/G0EQIbCr5c5SOJGmIAzIouyS2+0cmoIgwkMSGt5EMxAe3KUk\n",
        "CCIkLrLctDBb0xSEAYmVvmcFJ7MkCMKAvN31seUOQBFEGpI4TmZ7dKUpCCI8\n",
        "ZoDX0gyEBzL/uI5mIIjwqLLcN6O2pCkIA/K+/gJwe5qCIMKhA/gJ2ImmIAzI\n",
        "bI8PwR/TFAQRDt8CnwIvpykID/4I3kIzEER41IDPgW1oCsJAb3C+xRc7CCI0\n",
        "DrTcUf2DaArCgCwaLS92HENTEET4rv4z4BCagvBAsjJcTzMQRHhcCc4Et6Ap\n",
        "CAP9wVfAdjQFQYTDIdrV35+mIAzsAy4FD6MpCCIcJH3Fi+AlNAVhQHoqj1lc\n",
        "25QgcoKsaXoDzUB4IBP3b9UHLkEQBEEQBEFsnlhkcSEeoghYUmYNKdf6LCnj\n",
        "G2HJZnyTRu3cKahEVrRthobftoVvRAoq2xUFlSgZZKrJFZa7WtN83bYHOBVc\n",
        "pg1nhG6vBzdY7psosr2fbpdtexr7HGs1HjzyO0Z62xzLTU0xKctNUQt+BH5u\n",
        "uVkrjwmoj0zsljUwV1tu3vWTs9Q/0/mm6zkYfBv8Arwd3A98Wj9Pt9z0GlbI\n",
        "fWU650x1Y7sqXbuS+cwPebZJEr+6LO3IK6jZ6hnUJohWKKiylqjkK99CKe/H\n",
        "32a5K9+3VwE7N8CTCNPwzWOkt8lbLVsqXwAvzFDHI7Uh7qafO4L7BtSnjzZi\n",
        "ecd/oOXOW90mQ/ls5yv1/Kflrl50ALhCy8t8Rxld/rflrikQdl9B59yaPNQo\n",
        "tCupwxpr00r+bfShfVyIdhRWULOdN9EKBdVczbwLuNJqvOBItT7pC2n4XX2O\n",
        "az7xb9RG54cu+nSXVBbt8ugqLtJ9+JXPdr5L9bhp/NVzbiONsmH2FXTOrU1Q\n",
        "y71dCZ41POIzLHf91DDtKKygZjtvohUKamfjsyzKu85y0zCnuRB8pMCG39nn\n",
        "uOYapteAdwbUUybzv6iNc7LhrfrVp5+WXawNfz14Woby2c7XW88HwaHG50FG\n",
        "tzHXfXnPubUJahTalYRzHtP/7wNHh2xHYQU123kTrVBQzQZ4uG7L9J78Bz4N\n",
        "f6V2ZdK436fhdyqw4achXe/pGuvyq89B2i03b7SFhpfpLZ/tfHMR1Fz35T3n\n",
        "D1qZoEahXcmDea2GkCQ+f3DIdmQKalA9s5030coFVVZyet5yF+fdXrsq8v58\n",
        "ejm0uZa73qQJGaCp0v8P1IZZzIZ/KHi85Q4uSJd/itGN89ZH4q0fWpsyn54P\n",
        "2saN4C2f7XxzEdRc9+U9Zz/bsl2Vrl2lIR7qPyx34ClsOzIFNaie2c6baOWC\n",
        "KthDu9VL9Sk924hVVWgXSLYPNJ7C0hjnqLg8UOSGf6zuf5Xlpjv5E7hzQH1E\n",
        "bOfrjfIb8HXjRvArH3S+uQhqrvvynrNf3diuSteu0rhIxfKXnu1B7cgU1Gz1\n",
        "DDpvgiAIgiAIgiAih/8HMx2y55Me/+oAAAAASUVORK5CYII=\n",
        "\"\" alt=\"The above function fahr to celsius is shown except annotated. def is labelled &quot;def statement&quot;, fahr_to_celsius is noted as the function name. Inside parentheses is temp and an arrow shows it is called parameter names. The next line which is indented is annotated as the function body which has a return statement and the calculation from above.\" width=\"340\" height=\"130\" loading=\"lazy\" /></a></p>\n",
        "<p>The function definition opens with the keyword <code style=\"color: inherit\">def</code> followed by the name of the function <code style=\"color: inherit\">fahr_to_celsius</code> and a parenthesized list of parameter names <code style=\"color: inherit\">temp</code>. The body of the function — the statements that are executed when it runs — is indented below the definition line. The body concludes with a <code style=\"color: inherit\">return</code> keyword followed by the return value.</p>\n",
        "<p>When we call the function, the values we pass to it are assigned to those variables so that we can use them inside the function. Inside the function, we use a return statement to send a result back to whoever asked for it.</p>\n",
        "<p>Let’s try running our function.</p>\n"
      ]
    },
    {
      "cell_type": "code",
      "execution_count": 103,
      "id": "cell-119",
      "metadata": {
        "attributes": {
          "classes": [
            "> <comment-title></comment-title>"
          ],
          "id": ""
        }
      },
      "outputs": [
        {
          "name": "stdout",
          "output_type": "stream",
          "text": [
            "freezing point of water: 0.0 C\n",
            "boiling point of water: 100.0 C\n"
          ]
        }
      ],
      "source": [
        "fahr_to_celsius(32)\n",
        "print('freezing point of water:', fahr_to_celsius(32), 'C')\n",
        "print('boiling point of water:', fahr_to_celsius(212), 'C')"
      ]
    },
    {
      "cell_type": "markdown",
      "id": "cell-120",
      "metadata": {
        "collapsed": false,
        "editable": false
      },
      "source": [
        "<p>We’ve successfully called the function that we defined, and we have access to the value that we returned.</p>\n",
        "<p>Now that we’ve seen how to turn Fahrenheit into Celsius, we can also write the function to turn Celsius into Kelvin:</p>\n"
      ]
    },
    {
      "cell_type": "code",
      "execution_count": 104,
      "id": "cell-121",
      "metadata": {
        "attributes": {
          "classes": [
            "> <comment-title></comment-title>"
          ],
          "id": ""
        }
      },
      "outputs": [
        {
          "name": "stdout",
          "output_type": "stream",
          "text": [
            "freezing point of water in Kelvin: 273.15\n"
          ]
        }
      ],
      "source": [
        "def celsius_to_kelvin(temp_c):\n",
        "    return temp_c + 273.15\n",
        "\n",
        "print('freezing point of water in Kelvin:', celsius_to_kelvin(0.))"
      ]
    },
    {
      "cell_type": "markdown",
      "id": "cell-122",
      "metadata": {
        "collapsed": false,
        "editable": false
      },
      "source": [
        "<p>What about converting Fahrenheit to Kelvin? We could write out the formula, but we don’t need to. Instead, we can compose the two functions we have already created:</p>\n"
      ]
    },
    {
      "cell_type": "code",
      "execution_count": 105,
      "id": "cell-123",
      "metadata": {
        "attributes": {
          "classes": [
            "> <comment-title></comment-title>"
          ],
          "id": ""
        }
      },
      "outputs": [
        {
          "name": "stdout",
          "output_type": "stream",
          "text": [
            "boiling point of water in Kelvin: 373.15\n"
          ]
        }
      ],
      "source": [
        "def fahr_to_kelvin(temp_f):\n",
        "    temp_c = fahr_to_celsius(temp_f)\n",
        "    temp_k = celsius_to_kelvin(temp_c)\n",
        "    return temp_k\n",
        "\n",
        "print('boiling point of water in Kelvin:', fahr_to_kelvin(212.0))"
      ]
    },
    {
      "cell_type": "markdown",
      "id": "cell-124",
      "metadata": {
        "collapsed": false,
        "editable": false
      },
      "source": [
        "<p>This is our first taste of how larger programs are built: we define basic operations, then combine them in ever-larger chunks to get the effect we want. Real-life functions will usually be larger than the ones shown here — typically half a dozen to a few dozen lines — but they shouldn’t ever be much longer than that, or the next person who reads it won’t be able to understand what’s going on.</p>\n",
        "<h3 id=\"variable-scope\">Variable Scope</h3>\n",
        "<p>In composing our temperature conversion functions, we created variables inside of those functions, <code style=\"color: inherit\">temp</code>, <code style=\"color: inherit\">temp_c</code>, <code style=\"color: inherit\">temp_f</code>, and <code style=\"color: inherit\">temp_k</code>. We refer to these variables as local variables because they no longer exist once the function is done executing. If we try to access their values outside of the function, we will encounter an error:</p>\n"
      ]
    },
    {
      "cell_type": "code",
      "execution_count": 107,
      "id": "cell-125",
      "metadata": {
        "attributes": {
          "classes": [
            "> <comment-title></comment-title>"
          ],
          "id": ""
        }
      },
      "outputs": [],
      "source": [
        "# print('Again, temperature in Kelvin was:', temp_k)\n",
        "# NameError: name 'temp_k' is not defined"
      ]
    },
    {
      "cell_type": "markdown",
      "id": "cell-126",
      "metadata": {
        "collapsed": false,
        "editable": false
      },
      "source": [
        "<p>If you want to reuse the temperature in Kelvin after you have calculated it with fahr_to_kelvin, you can store the result of the function call in a variable:</p>\n"
      ]
    },
    {
      "cell_type": "code",
      "execution_count": 108,
      "id": "cell-127",
      "metadata": {
        "attributes": {
          "classes": [
            "> <comment-title></comment-title>"
          ],
          "id": ""
        }
      },
      "outputs": [
        {
          "name": "stdout",
          "output_type": "stream",
          "text": [
            "temperature in Kelvin was: 373.15\n"
          ]
        }
      ],
      "source": [
        "temp_kelvin = fahr_to_kelvin(212.0)\n",
        "print('temperature in Kelvin was:', temp_kelvin)"
      ]
    },
    {
      "cell_type": "markdown",
      "id": "cell-128",
      "metadata": {
        "collapsed": false,
        "editable": false
      },
      "source": [
        "<h3 id=\"defining-default-parameters\">Defining Default parameters</h3>\n",
        "<p>If we usually want a function to work one way, but occasionally need it to do something else, we can allow people to pass a parameter when they need to but provide a default to make the normal case easier. The example below shows how Python matches values to parameters:</p>\n"
      ]
    },
    {
      "cell_type": "code",
      "execution_count": 109,
      "id": "cell-129",
      "metadata": {
        "attributes": {
          "classes": [
            "> <comment-title></comment-title>"
          ],
          "id": ""
        }
      },
      "outputs": [
        {
          "name": "stdout",
          "output_type": "stream",
          "text": [
            "no parameters:\n",
            "a: 1 b: 2 c: 3\n",
            "one parameter:\n",
            "a: 55 b: 2 c: 3\n",
            "two parameters:\n",
            "a: 55 b: 66 c: 3\n"
          ]
        }
      ],
      "source": [
        "def display(a=1, b=2, c=3):\n",
        "    print('a:', a, 'b:', b, 'c:', c)\n",
        "\n",
        "print('no parameters:')\n",
        "display()\n",
        "print('one parameter:')\n",
        "display(55)\n",
        "print('two parameters:')\n",
        "display(55, 66)"
      ]
    },
    {
      "cell_type": "markdown",
      "id": "cell-130",
      "metadata": {
        "collapsed": false,
        "editable": false
      },
      "source": [
        "<p>As this example shows, parameters are matched up from left to right, and any that haven’t been given a value explicitly get their default value. We can override this behavior by naming the value as we pass it in:</p>\n"
      ]
    },
    {
      "cell_type": "code",
      "execution_count": 110,
      "id": "cell-131",
      "metadata": {
        "attributes": {
          "classes": [
            "> <comment-title></comment-title>"
          ],
          "id": ""
        }
      },
      "outputs": [
        {
          "name": "stdout",
          "output_type": "stream",
          "text": [
            "only setting the value of c\n",
            "a: 1 b: 2 c: 77\n"
          ]
        }
      ],
      "source": [
        "print('only setting the value of c')\n",
        "display(c=77)"
      ]
    },
    {
      "cell_type": "markdown",
      "id": "cell-132",
      "metadata": {
        "collapsed": false,
        "editable": false
      },
      "source": [
        "<blockquote class=\"question\" style=\"border: 2px solid #8A9AD0; margin: 1em 0.2em\">\n",
        "<div class=\"box-title question-title\" id=\"question-variable-scope\"><i class=\"far fa-question-circle\" aria-hidden=\"true\" ></i> Question: Variable scope</div>\n",
        "<p>What does the following piece of code display when run — and why?</p>\n",
        "<div class=\"language-plaintext highlighter-rouge\"><div><pre style=\"color: inherit; background: transparent\"><code style=\"color: inherit\">f = 0\n",
        "k = 0\n",
        "\n",
        "def f2k(f):\n",
        "    k = ((f - 32) * (5.0 / 9.0)) + 273.15\n",
        "    return k\n",
        "\n",
        "print(f2k(8))\n",
        "print(f2k(41))\n",
        "print(f2k(32))\n",
        "print(k)\n",
        "</code></pre></div>  </div>\n",
        "<br/><details style=\"border: 2px solid #B8C3EA; margin: 1em 0.2em;padding: 0.5em; cursor: pointer;\"><summary>👁 View solution</summary>\n",
        "<div class=\"box-title solution-title\" id=\"solution-19\"><button class=\"gtn-boxify-button solution\" type=\"button\" aria-controls=\"solution-19\" aria-expanded=\"true\"><i class=\"far fa-eye\" aria-hidden=\"true\" ></i> <span>Solution</span><span class=\"fold-unfold fa fa-minus-square\"></span></button></div>\n",
        "<p>Output:\n",
        "259.81666666666666\n",
        "278.15\n",
        "273.15\n",
        "0</p>\n",
        "<p><code style=\"color: inherit\">k</code> is 0 because the <code style=\"color: inherit\">k</code> inside the function <code style=\"color: inherit\">f2k</code> doesn’t know about the <code style=\"color: inherit\">k</code> defined outside the function. When the <code style=\"color: inherit\">f2k</code> function is called, it creates a local variable <code style=\"color: inherit\">k</code>. The function does not return any values and does not alter <code style=\"color: inherit\">k</code> outside of its local copy. Therefore the original value of <code style=\"color: inherit\">k</code> remains unchanged.</p>\n",
        "</details>\n",
        "</blockquote>\n",
        "<h2 id=\"libraries\">Libraries</h2>\n",
        "<p>A library is a collection of files (called modules) that contains functions for use by other programs. It may also contain data values (e.g., numerical constants) and other things. A library’s contents are supposed to be related, but there’s no way to enforce that. The Python standard library is an extensive suite of modules that comes with Python itself. Many additional libraries are available from PyPI (the Python Package Index).</p>\n",
        "<h3 id=\"libraries-and-modules\">Libraries and modules</h3>\n",
        "<p>A library is a collection of modules, but the terms are often used interchangeably, especially since many libraries only consist of a single module, so don’t worry if you mix them.</p>\n",
        "<h3 id=\"a-program-must-import-a-library-module-before-using-it\">A program must import a library module before using it.</h3>\n",
        "<p>You can use <code style=\"color: inherit\">import</code> to load a library module into a program’s memory, then refer to things from the <code style=\"color: inherit\">module as module_name.thing_name</code>. Python uses <code style=\"color: inherit\">.</code> to mean “part of”. For example, using <code style=\"color: inherit\">math</code>, one of the modules in the standard library:</p>\n"
      ]
    },
    {
      "cell_type": "code",
      "execution_count": 111,
      "id": "cell-133",
      "metadata": {
        "attributes": {
          "classes": [
            "> <comment-title></comment-title>"
          ],
          "id": ""
        }
      },
      "outputs": [
        {
          "name": "stdout",
          "output_type": "stream",
          "text": [
            "pi is 3.141592653589793\n",
            "cos(pi) is -1.0\n"
          ]
        }
      ],
      "source": [
        "import math\n",
        "\n",
        "print('pi is', math.pi)\n",
        "print('cos(pi) is', math.cos(math.pi))"
      ]
    },
    {
      "cell_type": "markdown",
      "id": "cell-134",
      "metadata": {
        "collapsed": false,
        "editable": false
      },
      "source": [
        "<p>You can use <code style=\"color: inherit\">help</code> to learn about the contents of a library module. it works just like help for a function.</p>\n"
      ]
    },
    {
      "cell_type": "code",
      "execution_count": 112,
      "id": "cell-135",
      "metadata": {
        "attributes": {
          "classes": [
            "> <comment-title></comment-title>"
          ],
          "id": ""
        }
      },
      "outputs": [
        {
          "name": "stdout",
          "output_type": "stream",
          "text": [
            "Help on built-in module math:\n",
            "\n",
            "NAME\n",
            "    math\n",
            "\n",
            "DESCRIPTION\n",
            "    This module provides access to the mathematical functions\n",
            "    defined by the C standard.\n",
            "\n",
            "FUNCTIONS\n",
            "    acos(x, /)\n",
            "        Return the arc cosine (measured in radians) of x.\n",
            "        \n",
            "        The result is between 0 and pi.\n",
            "    \n",
            "    acosh(x, /)\n",
            "        Return the inverse hyperbolic cosine of x.\n",
            "    \n",
            "    asin(x, /)\n",
            "        Return the arc sine (measured in radians) of x.\n",
            "        \n",
            "        The result is between -pi/2 and pi/2.\n",
            "    \n",
            "    asinh(x, /)\n",
            "        Return the inverse hyperbolic sine of x.\n",
            "    \n",
            "    atan(x, /)\n",
            "        Return the arc tangent (measured in radians) of x.\n",
            "        \n",
            "        The result is between -pi/2 and pi/2.\n",
            "    \n",
            "    atan2(y, x, /)\n",
            "        Return the arc tangent (measured in radians) of y/x.\n",
            "        \n",
            "        Unlike atan(y/x), the signs of both x and y are considered.\n",
            "    \n",
            "    atanh(x, /)\n",
            "        Return the inverse hyperbolic tangent of x.\n",
            "    \n",
            "    cbrt(x, /)\n",
            "        Return the cube root of x.\n",
            "    \n",
            "    ceil(x, /)\n",
            "        Return the ceiling of x as an Integral.\n",
            "        \n",
            "        This is the smallest integer >= x.\n",
            "    \n",
            "    comb(n, k, /)\n",
            "        Number of ways to choose k items from n items without repetition and without order.\n",
            "        \n",
            "        Evaluates to n! / (k! * (n - k)!) when k <= n and evaluates\n",
            "        to zero when k > n.\n",
            "        \n",
            "        Also called the binomial coefficient because it is equivalent\n",
            "        to the coefficient of k-th term in polynomial expansion of the\n",
            "        expression (1 + x)**n.\n",
            "        \n",
            "        Raises TypeError if either of the arguments are not integers.\n",
            "        Raises ValueError if either of the arguments are negative.\n",
            "    \n",
            "    copysign(x, y, /)\n",
            "        Return a float with the magnitude (absolute value) of x but the sign of y.\n",
            "        \n",
            "        On platforms that support signed zeros, copysign(1.0, -0.0)\n",
            "        returns -1.0.\n",
            "    \n",
            "    cos(x, /)\n",
            "        Return the cosine of x (measured in radians).\n",
            "    \n",
            "    cosh(x, /)\n",
            "        Return the hyperbolic cosine of x.\n",
            "    \n",
            "    degrees(x, /)\n",
            "        Convert angle x from radians to degrees.\n",
            "    \n",
            "    dist(p, q, /)\n",
            "        Return the Euclidean distance between two points p and q.\n",
            "        \n",
            "        The points should be specified as sequences (or iterables) of\n",
            "        coordinates.  Both inputs must have the same dimension.\n",
            "        \n",
            "        Roughly equivalent to:\n",
            "            sqrt(sum((px - qx) ** 2.0 for px, qx in zip(p, q)))\n",
            "    \n",
            "    erf(x, /)\n",
            "        Error function at x.\n",
            "    \n",
            "    erfc(x, /)\n",
            "        Complementary error function at x.\n",
            "    \n",
            "    exp(x, /)\n",
            "        Return e raised to the power of x.\n",
            "    \n",
            "    exp2(x, /)\n",
            "        Return 2 raised to the power of x.\n",
            "    \n",
            "    expm1(x, /)\n",
            "        Return exp(x)-1.\n",
            "        \n",
            "        This function avoids the loss of precision involved in the direct evaluation of exp(x)-1 for small x.\n",
            "    \n",
            "    fabs(x, /)\n",
            "        Return the absolute value of the float x.\n",
            "    \n",
            "    factorial(n, /)\n",
            "        Find n!.\n",
            "        \n",
            "        Raise a ValueError if x is negative or non-integral.\n",
            "    \n",
            "    floor(x, /)\n",
            "        Return the floor of x as an Integral.\n",
            "        \n",
            "        This is the largest integer <= x.\n",
            "    \n",
            "    fmod(x, y, /)\n",
            "        Return fmod(x, y), according to platform C.\n",
            "        \n",
            "        x % y may differ.\n",
            "    \n",
            "    frexp(x, /)\n",
            "        Return the mantissa and exponent of x, as pair (m, e).\n",
            "        \n",
            "        m is a float and e is an int, such that x = m * 2.**e.\n",
            "        If x is 0, m and e are both 0.  Else 0.5 <= abs(m) < 1.0.\n",
            "    \n",
            "    fsum(seq, /)\n",
            "        Return an accurate floating point sum of values in the iterable seq.\n",
            "        \n",
            "        Assumes IEEE-754 floating point arithmetic.\n",
            "    \n",
            "    gamma(x, /)\n",
            "        Gamma function at x.\n",
            "    \n",
            "    gcd(*integers)\n",
            "        Greatest Common Divisor.\n",
            "    \n",
            "    hypot(...)\n",
            "        hypot(*coordinates) -> value\n",
            "        \n",
            "        Multidimensional Euclidean distance from the origin to a point.\n",
            "        \n",
            "        Roughly equivalent to:\n",
            "            sqrt(sum(x**2 for x in coordinates))\n",
            "        \n",
            "        For a two dimensional point (x, y), gives the hypotenuse\n",
            "        using the Pythagorean theorem:  sqrt(x*x + y*y).\n",
            "        \n",
            "        For example, the hypotenuse of a 3/4/5 right triangle is:\n",
            "        \n",
            "            >>> hypot(3.0, 4.0)\n",
            "            5.0\n",
            "    \n",
            "    isclose(a, b, *, rel_tol=1e-09, abs_tol=0.0)\n",
            "        Determine whether two floating point numbers are close in value.\n",
            "        \n",
            "          rel_tol\n",
            "            maximum difference for being considered \"close\", relative to the\n",
            "            magnitude of the input values\n",
            "          abs_tol\n",
            "            maximum difference for being considered \"close\", regardless of the\n",
            "            magnitude of the input values\n",
            "        \n",
            "        Return True if a is close in value to b, and False otherwise.\n",
            "        \n",
            "        For the values to be considered close, the difference between them\n",
            "        must be smaller than at least one of the tolerances.\n",
            "        \n",
            "        -inf, inf and NaN behave similarly to the IEEE 754 Standard.  That\n",
            "        is, NaN is not close to anything, even itself.  inf and -inf are\n",
            "        only close to themselves.\n",
            "    \n",
            "    isfinite(x, /)\n",
            "        Return True if x is neither an infinity nor a NaN, and False otherwise.\n",
            "    \n",
            "    isinf(x, /)\n",
            "        Return True if x is a positive or negative infinity, and False otherwise.\n",
            "    \n",
            "    isnan(x, /)\n",
            "        Return True if x is a NaN (not a number), and False otherwise.\n",
            "    \n",
            "    isqrt(n, /)\n",
            "        Return the integer part of the square root of the input.\n",
            "    \n",
            "    lcm(*integers)\n",
            "        Least Common Multiple.\n",
            "    \n",
            "    ldexp(x, i, /)\n",
            "        Return x * (2**i).\n",
            "        \n",
            "        This is essentially the inverse of frexp().\n",
            "    \n",
            "    lgamma(x, /)\n",
            "        Natural logarithm of absolute value of Gamma function at x.\n",
            "    \n",
            "    log(...)\n",
            "        log(x, [base=math.e])\n",
            "        Return the logarithm of x to the given base.\n",
            "        \n",
            "        If the base not specified, returns the natural logarithm (base e) of x.\n",
            "    \n",
            "    log10(x, /)\n",
            "        Return the base 10 logarithm of x.\n",
            "    \n",
            "    log1p(x, /)\n",
            "        Return the natural logarithm of 1+x (base e).\n",
            "        \n",
            "        The result is computed in a way which is accurate for x near zero.\n",
            "    \n",
            "    log2(x, /)\n",
            "        Return the base 2 logarithm of x.\n",
            "    \n",
            "    modf(x, /)\n",
            "        Return the fractional and integer parts of x.\n",
            "        \n",
            "        Both results carry the sign of x and are floats.\n",
            "    \n",
            "    nextafter(x, y, /)\n",
            "        Return the next floating-point value after x towards y.\n",
            "    \n",
            "    perm(n, k=None, /)\n",
            "        Number of ways to choose k items from n items without repetition and with order.\n",
            "        \n",
            "        Evaluates to n! / (n - k)! when k <= n and evaluates\n",
            "        to zero when k > n.\n",
            "        \n",
            "        If k is not specified or is None, then k defaults to n\n",
            "        and the function returns n!.\n",
            "        \n",
            "        Raises TypeError if either of the arguments are not integers.\n",
            "        Raises ValueError if either of the arguments are negative.\n",
            "    \n",
            "    pow(x, y, /)\n",
            "        Return x**y (x to the power of y).\n",
            "    \n",
            "    prod(iterable, /, *, start=1)\n",
            "        Calculate the product of all the elements in the input iterable.\n",
            "        \n",
            "        The default start value for the product is 1.\n",
            "        \n",
            "        When the iterable is empty, return the start value.  This function is\n",
            "        intended specifically for use with numeric values and may reject\n",
            "        non-numeric types.\n",
            "    \n",
            "    radians(x, /)\n",
            "        Convert angle x from degrees to radians.\n",
            "    \n",
            "    remainder(x, y, /)\n",
            "        Difference between x and the closest integer multiple of y.\n",
            "        \n",
            "        Return x - n*y where n*y is the closest integer multiple of y.\n",
            "        In the case where x is exactly halfway between two multiples of\n",
            "        y, the nearest even value of n is used. The result is always exact.\n",
            "    \n",
            "    sin(x, /)\n",
            "        Return the sine of x (measured in radians).\n",
            "    \n",
            "    sinh(x, /)\n",
            "        Return the hyperbolic sine of x.\n",
            "    \n",
            "    sqrt(x, /)\n",
            "        Return the square root of x.\n",
            "    \n",
            "    tan(x, /)\n",
            "        Return the tangent of x (measured in radians).\n",
            "    \n",
            "    tanh(x, /)\n",
            "        Return the hyperbolic tangent of x.\n",
            "    \n",
            "    trunc(x, /)\n",
            "        Truncates the Real x to the nearest Integral toward 0.\n",
            "        \n",
            "        Uses the __trunc__ magic method.\n",
            "    \n",
            "    ulp(x, /)\n",
            "        Return the value of the least significant bit of the float x.\n",
            "\n",
            "DATA\n",
            "    e = 2.718281828459045\n",
            "    inf = inf\n",
            "    nan = nan\n",
            "    pi = 3.141592653589793\n",
            "    tau = 6.283185307179586\n",
            "\n",
            "FILE\n",
            "    (built-in)\n",
            "\n",
            "\n"
          ]
        }
      ],
      "source": [
        "help(math)"
      ]
    },
    {
      "cell_type": "markdown",
      "id": "cell-136",
      "metadata": {
        "collapsed": false,
        "editable": false
      },
      "source": [
        "<p>You can import specific items from a library module to shorten programs. You can use <code style=\"color: inherit\">from ... import ...</code> to load only specific items from a library module. Then refer to them directly without library name as prefix.</p>\n"
      ]
    },
    {
      "cell_type": "code",
      "execution_count": 113,
      "id": "cell-137",
      "metadata": {
        "attributes": {
          "classes": [
            "> <comment-title></comment-title>"
          ],
          "id": ""
        }
      },
      "outputs": [
        {
          "name": "stdout",
          "output_type": "stream",
          "text": [
            "cos(pi) is -1.0\n"
          ]
        }
      ],
      "source": [
        "from math import cos, pi\n",
        "\n",
        "print('cos(pi) is', cos(pi))"
      ]
    },
    {
      "cell_type": "markdown",
      "id": "cell-138",
      "metadata": {
        "collapsed": false,
        "editable": false
      },
      "source": [
        "<p>You can create an alias for a library module when importing it to shorten programs. Use <code style=\"color: inherit\">import ... as ...</code> to give a library a short alias while importing it. Then refer to items in the library using that shortened name.</p>\n"
      ]
    },
    {
      "cell_type": "code",
      "execution_count": 114,
      "id": "cell-139",
      "metadata": {
        "attributes": {
          "classes": [
            "> <comment-title></comment-title>"
          ],
          "id": ""
        }
      },
      "outputs": [
        {
          "name": "stdout",
          "output_type": "stream",
          "text": [
            "cos(pi) is -1.0\n"
          ]
        }
      ],
      "source": [
        "import math as m\n",
        "\n",
        "print('cos(pi) is', m.cos(m.pi))"
      ]
    },
    {
      "cell_type": "markdown",
      "id": "cell-140",
      "metadata": {
        "collapsed": false,
        "editable": false
      },
      "source": [
        "<h1 id=\"programming-style\">Programming style</h1>\n",
        "<p>A consistent coding style helps others (including our future selves) read and understand code more easily. Code is read much more often than it is written, and as the <a href=\"https://www.python.org/dev/peps/pep-0020/\">Zen of Python</a> states, “Readability counts”. Python proposed a standard style through one of its first Python Enhancement Proposals (PEP), <a href=\"https://www.python.org/dev/peps/pep-0008/\">PEP8</a>.</p>\n",
        "<p>Some points worth highlighting:</p>\n",
        "<ul>\n",
        "<li>document your code and ensure that assumptions, internal algorithms, expected inputs, expected outputs, etc., are clear</li>\n",
        "<li>use clear, semantically meaningful variable names</li>\n",
        "<li>use white-space, not tabs, to indent lines (tabs can cause problems across different text editors, operating systems, and version control systems)</li>\n",
        "</ul>\n",
        "<h1 id=\"python-community\">Python community</h1>\n",
        "<p>Python supports a large and diverse community across academia and industry.</p>\n",
        "<ul>\n",
        "<li>The <a href=\"https://docs.python.org/3/\">Python 3 documentation</a> covers the core language and the standard library.</li>\n",
        "<li><a href=\"https://pycon.org/\">PyCon</a> is the largest annual conference for the Python community.</li>\n",
        "<li><a href=\"https://scipy.org/\">SciPy</a> is a rich collection of scientific utilities. It is also the name of <a href=\"https://conference.scipy.org/\">a series of annual conferences</a>.</li>\n",
        "<li><a href=\"https://jupyter.org/\">Jupyter</a> is the home of Project Jupyter.</li>\n",
        "<li><a href=\"https://pandas.pydata.org/\">Pandas</a> is the home of the Pandas data library.</li>\n",
        "<li><a href=\"https://stackoverflow.com/questions/tagged/python?tab=Votes\">Stack Overflow’s</a> general Python section can be helpful, as well as the sections on <a href=\"https://stackoverflow.com/questions/tagged/numpy?tab=Votes\">NumPy</a>, <a href=\"https://stackoverflow.com/questions/tagged/scipy?tab=Votes\">SciPy</a>, and <a href=\"https://stackoverflow.com/questions/tagged/pandas?tab=Votes\">Pandas</a>.</li>\n",
        "</ul>\n"
      ]
    },
    {
      "cell_type": "markdown",
      "id": "final-ending-cell",
      "metadata": {
        "collapsed": false,
        "editable": false
      },
      "source": [
        "# Key Points\n",
        "\n",
        "- Python is a fairly easy programming language to learn and use, but be mindful of the indexing.\n",
        "- Python has many libraries offering a variety of capabilities, which makes it popular for beginners, as well as, more experienced users\n",
        "\n",
        "# Congratulations on successfully completing this tutorial!\n"
      ]
    }
  ],
  "metadata": {
    "kernelspec": {
      "display_name": "Python 3",
      "language": "python",
      "name": "python3"
    },
    "language_info": {
      "codemirror_mode": {
        "name": "ipython",
        "version": 3
      },
      "file_extension": ".py",
      "mimetype": "text/x-python",
      "name": "python",
      "nbconvert_exporter": "python",
      "pygments_lexer": "ipython3",
      "version": "3.11.5"
    }
  },
  "nbformat": 4,
  "nbformat_minor": 5
}
