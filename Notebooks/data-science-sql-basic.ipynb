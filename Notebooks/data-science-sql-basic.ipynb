{
  "cells": [
    {
      "cell_type": "markdown",
      "id": "metadata",
      "metadata": {
        "collapsed": false,
        "editable": false
      },
      "source": [
        "<div style=\"border: 2px solid #8A9AD0; margin: 1em 0.2em; padding: 0.5em;\">\n",
        "\n",
        "# Introduction to SQL\n",
        "\n",
        "by [The Carpentries](https://training.galaxyproject.org/hall-of-fame/carpentries/), [Helena Rasche](https://training.galaxyproject.org/hall-of-fame/hexylena/), [Donny Vrins](https://training.galaxyproject.org/hall-of-fame/dirowa/), [Bazante Sanders](https://training.galaxyproject.org/hall-of-fame/bazante1/), [Avans Hogeschool](https://training.galaxyproject.org/hall-of-fame/avans-atgm/)\n",
        "\n",
        "CC-BY licensed content from the [Galaxy Training Network](https://training.galaxyproject.org/)\n",
        "\n",
        "**Objectives**\n",
        "\n",
        "- How can I get data from a database?\n",
        "- How can I sort a query's results?\n",
        "- How can I remove duplicate values from a query's results?\n",
        "- How can I select subsets of data?\n",
        "- How can I calculate new values on the fly?\n",
        "- How do databases represent missing information?\n",
        "- What special handling does missing information require?\n",
        "\n",
        "**Objectives**\n",
        "\n",
        "- Explain the difference between a table, a record, and a field.\n",
        "- Explain the difference between a database and a database manager.\n",
        "- Write a query to select all values for specific fields from a single table.\n",
        "- Write queries that display results in a particular order.\n",
        "- Write queries that eliminate duplicate values from data.\n",
        "- Write queries that select records that satisfy user-specified conditions.\n",
        "- Explain the order in which the clauses in a query are executed.\n",
        "- Write queries that calculate new values for each selected record.\n",
        "- Explain how databases represent missing information.\n",
        "- Explain the three-valued logic databases use when manipulating missing information.\n",
        "- Write queries that handle missing information correctly.\n",
        "\n",
        "**Time Estimation: 3H**\n",
        "</div>\n"
      ]
    },
    {
      "cell_type": "markdown",
      "id": "cell-0",
      "metadata": {
        "collapsed": false,
        "editable": false
      },
      "source": [
        "<p>This tutorial will introduce you to Structured Query Language (SQL) which can be used to query databases!</p>\n",
        "<blockquote class=\"comment\" style=\"border: 2px solid #ffecc1; margin: 1em 0.2em\">\n",
        "<div class=\"box-title comment-title\" id=\"comment\"><i class=\"far fa-comment-dots\" aria-hidden=\"true\" ></i> Comment</div>\n",
        "<p>This tutorial is <strong>significantly</strong> based on <a href=\"https://carpentries.org\">the Carpentries</a> <a href=\"https://github.com/swcarpentry/sql-novice-survey/\">Databases and SQL</a> lesson, which is licensed CC-BY 4.0.</p>\n",
        "<p>Abigail Cabunoc and Sheldon McKay (eds): “Software Carpentry: Using Databases and SQL.”  Version 2017.08, August 2017,\n",
        "<a href=\"https://github.com/swcarpentry/sql-novice-survey\">github.com/swcarpentry/sql-novice-survey</a>, <a href=\"https://doi.org/10.5281/zenodo.838776\">https://doi.org/10.5281/zenodo.838776</a></p>\n",
        "<p>Adaptations have been made to make this work better in a GTN/Galaxy environment.</p>\n",
        "</blockquote>\n",
        "<blockquote class=\"agenda\" style=\"border: 2px solid #86D486;display: none; margin: 1em 0.2em\">\n",
        "<div class=\"box-title agenda-title\" id=\"agenda\">Agenda</div>\n",
        "<p>In this tutorial, we will cover:</p>\n",
        "</blockquote>\n"
      ]
    },
    {
      "cell_type": "code",
      "execution_count": 1,
      "id": "c35a477c",
      "metadata": {},
      "outputs": [],
      "source": [
        "# Install required packages # SQL alchemy\n",
        "# pip install ipython-sql sqlalchemy"
      ]
    },
    {
      "cell_type": "code",
      "execution_count": 2,
      "id": "a71b2d78",
      "metadata": {},
      "outputs": [
        {
          "name": "stdout",
          "output_type": "stream",
          "text": [
            "Requirement already satisfied: ipython-sql in c:\\users\\lenovo\\appdata\\local\\programs\\python\\python311\\lib\\site-packages (0.5.0)\n",
            "Requirement already satisfied: sqlalchemy in c:\\users\\lenovo\\appdata\\local\\programs\\python\\python311\\lib\\site-packages (2.0.41)\n",
            "Requirement already satisfied: prettytable in c:\\users\\lenovo\\appdata\\local\\programs\\python\\python311\\lib\\site-packages (from ipython-sql) (3.16.0)\n",
            "Requirement already satisfied: ipython in c:\\users\\lenovo\\appdata\\roaming\\python\\python311\\site-packages (from ipython-sql) (8.15.0)\n",
            "Requirement already satisfied: sqlparse in c:\\users\\lenovo\\appdata\\local\\programs\\python\\python311\\lib\\site-packages (from ipython-sql) (0.5.3)\n",
            "Requirement already satisfied: six in c:\\users\\lenovo\\appdata\\roaming\\python\\python311\\site-packages (from ipython-sql) (1.16.0)\n",
            "Requirement already satisfied: ipython-genutils in c:\\users\\lenovo\\appdata\\local\\programs\\python\\python311\\lib\\site-packages (from ipython-sql) (0.2.0)\n",
            "Requirement already satisfied: greenlet>=1 in c:\\users\\lenovo\\appdata\\local\\programs\\python\\python311\\lib\\site-packages (from sqlalchemy) (3.2.3)\n",
            "Requirement already satisfied: typing-extensions>=4.6.0 in c:\\users\\lenovo\\appdata\\local\\programs\\python\\python311\\lib\\site-packages (from sqlalchemy) (4.14.0)\n",
            "Requirement already satisfied: backcall in c:\\users\\lenovo\\appdata\\roaming\\python\\python311\\site-packages (from ipython->ipython-sql) (0.2.0)\n",
            "Requirement already satisfied: decorator in c:\\users\\lenovo\\appdata\\roaming\\python\\python311\\site-packages (from ipython->ipython-sql) (5.1.1)\n",
            "Requirement already satisfied: jedi>=0.16 in c:\\users\\lenovo\\appdata\\roaming\\python\\python311\\site-packages (from ipython->ipython-sql) (0.19.0)\n",
            "Requirement already satisfied: matplotlib-inline in c:\\users\\lenovo\\appdata\\roaming\\python\\python311\\site-packages (from ipython->ipython-sql) (0.1.6)\n",
            "Requirement already satisfied: pickleshare in c:\\users\\lenovo\\appdata\\roaming\\python\\python311\\site-packages (from ipython->ipython-sql) (0.7.5)\n",
            "Requirement already satisfied: prompt-toolkit!=3.0.37,<3.1.0,>=3.0.30 in c:\\users\\lenovo\\appdata\\roaming\\python\\python311\\site-packages (from ipython->ipython-sql) (3.0.39)\n",
            "Requirement already satisfied: pygments>=2.4.0 in c:\\users\\lenovo\\appdata\\roaming\\python\\python311\\site-packages (from ipython->ipython-sql) (2.16.1)\n",
            "Requirement already satisfied: stack-data in c:\\users\\lenovo\\appdata\\roaming\\python\\python311\\site-packages (from ipython->ipython-sql) (0.6.2)\n",
            "Requirement already satisfied: traitlets>=5 in c:\\users\\lenovo\\appdata\\roaming\\python\\python311\\site-packages (from ipython->ipython-sql) (5.9.0)\n",
            "Requirement already satisfied: colorama in c:\\users\\lenovo\\appdata\\roaming\\python\\python311\\site-packages (from ipython->ipython-sql) (0.4.6)\n",
            "Requirement already satisfied: wcwidth in c:\\users\\lenovo\\appdata\\roaming\\python\\python311\\site-packages (from prettytable->ipython-sql) (0.2.6)\n",
            "Requirement already satisfied: parso<0.9.0,>=0.8.3 in c:\\users\\lenovo\\appdata\\roaming\\python\\python311\\site-packages (from jedi>=0.16->ipython->ipython-sql) (0.8.3)\n",
            "Requirement already satisfied: executing>=1.2.0 in c:\\users\\lenovo\\appdata\\roaming\\python\\python311\\site-packages (from stack-data->ipython->ipython-sql) (1.2.0)\n",
            "Requirement already satisfied: asttokens>=2.1.0 in c:\\users\\lenovo\\appdata\\roaming\\python\\python311\\site-packages (from stack-data->ipython->ipython-sql) (2.4.0)\n",
            "Requirement already satisfied: pure-eval in c:\\users\\lenovo\\appdata\\roaming\\python\\python311\\site-packages (from stack-data->ipython->ipython-sql) (0.2.2)\n",
            "Note: you may need to restart the kernel to use updated packages.\n"
          ]
        },
        {
          "name": "stderr",
          "output_type": "stream",
          "text": [
            "\n",
            "[notice] A new release of pip is available: 23.2.1 -> 25.1.1\n",
            "[notice] To update, run: python.exe -m pip install --upgrade pip\n"
          ]
        },
        {
          "name": "stdout",
          "output_type": "stream",
          "text": [
            "Downloaded survey.db\n"
          ]
        }
      ],
      "source": [
        "# Install SQL and SQLAlchemy libraries\n",
        "%pip install ipython-sql sqlalchemy\n",
        "\n",
        "# Download the SQLite database file\n",
        "import urllib.request\n",
        "url = \"http://swcarpentry.github.io/sql-novice-survey/files/survey.db\"\n",
        "filename = \"survey.db\"\n",
        "urllib.request.urlretrieve(url, filename)\n",
        "print(\"Downloaded survey.db\")\n"
      ]
    },
    {
      "cell_type": "code",
      "execution_count": 3,
      "id": "5d926f0b",
      "metadata": {},
      "outputs": [],
      "source": [
        "# Import and configure SQL magic\n",
        "import sqlalchemy\n",
        "%load_ext sql\n",
        "%sql sqlite:///survey.db\n",
        "%config SqlMagic.displaycon = False\n"
      ]
    },
    {
      "cell_type": "code",
      "execution_count": 4,
      "id": "eb5aae8c",
      "metadata": {},
      "outputs": [
        {
          "name": "stderr",
          "output_type": "stream",
          "text": [
            "C:\\Users\\Lenovo\\AppData\\Local\\Temp\\ipykernel_11232\\3045698007.py:2: DeprecationWarning: the 'PLAIN_COLUMNS' constant is deprecated, use the 'TableStyle' enum instead\n",
            "  prettytable.DEFAULT = prettytable.PLAIN_COLUMNS  # or prettytable.DEFAULT_STYLE\n"
          ]
        }
      ],
      "source": [
        "import prettytable\n",
        "prettytable.DEFAULT = prettytable.PLAIN_COLUMNS  # or prettytable.DEFAULT_STYLE\n"
      ]
    },
    {
      "cell_type": "code",
      "execution_count": 5,
      "id": "954808f3",
      "metadata": {},
      "outputs": [
        {
          "name": "stdout",
          "output_type": "stream",
          "text": [
            "Done.\n"
          ]
        },
        {
          "data": {
            "text/html": [
              "<table>\n",
              "    <thead>\n",
              "        <tr>\n",
              "            <th>id</th>\n",
              "            <th>personal</th>\n",
              "            <th>family</th>\n",
              "        </tr>\n",
              "    </thead>\n",
              "    <tbody>\n",
              "        <tr>\n",
              "            <td>dyer</td>\n",
              "            <td>William</td>\n",
              "            <td>Dyer</td>\n",
              "        </tr>\n",
              "        <tr>\n",
              "            <td>pb</td>\n",
              "            <td>Frank</td>\n",
              "            <td>Pabodie</td>\n",
              "        </tr>\n",
              "        <tr>\n",
              "            <td>lake</td>\n",
              "            <td>Anderson</td>\n",
              "            <td>Lake</td>\n",
              "        </tr>\n",
              "        <tr>\n",
              "            <td>roe</td>\n",
              "            <td>Valentina</td>\n",
              "            <td>Roerich</td>\n",
              "        </tr>\n",
              "        <tr>\n",
              "            <td>danforth</td>\n",
              "            <td>Frank</td>\n",
              "            <td>Danforth</td>\n",
              "        </tr>\n",
              "    </tbody>\n",
              "</table>"
            ],
            "text/plain": [
              "[('dyer', 'William', 'Dyer'),\n",
              " ('pb', 'Frank', 'Pabodie'),\n",
              " ('lake', 'Anderson', 'Lake'),\n",
              " ('roe', 'Valentina', 'Roerich'),\n",
              " ('danforth', 'Frank', 'Danforth')]"
            ]
          },
          "execution_count": 5,
          "metadata": {},
          "output_type": "execute_result"
        }
      ],
      "source": [
        "%%sql\n",
        "SELECT * FROM person;\n"
      ]
    },
    {
      "cell_type": "code",
      "execution_count": 6,
      "id": "cell-1",
      "metadata": {
        "attributes": {
          "classes": [
            "> <comment-title></comment-title>"
          ],
          "id": ""
        }
      },
      "outputs": [],
      "source": [
        "# This code is not working\n",
        "# This preamble sets up the sql \"magic\" for jupyter. Use %%sql in your cells to write sql!\n",
        "# !python3 -m pip install ipython-sql sqlalchemy\n",
        "# !wget -c http://swcarpentry.github.io/sql-novice-survey/files/survey.db\n",
        "# import sqlalchemy\n",
        "# engine = sqlalchemy.create_engine(\"sqlite:///survey.db\")\n",
        "# %load_ext sql\n",
        "# %sql sqlite:///survey.db\n",
        "# %config SqlMagic.displaycon=False"
      ]
    },
    {
      "cell_type": "markdown",
      "id": "cell-2",
      "metadata": {
        "collapsed": false,
        "editable": false
      },
      "source": [
        "<h1 id=\"selecting-data\">Selecting Data</h1>\n",
        "<p>A relational database\n",
        "is a way to store and manipulate information.\n",
        "Databases are arranged as table.\n",
        "Each table has columns (also known as fields) that describe the data,\n",
        "and rows (also known as records) which contain the data.</p>\n",
        "<p>When we are using a spreadsheet,\n",
        "we put formulas into cells to calculate new values based on old ones.\n",
        "When we are using a database,\n",
        "we send commands\n",
        "(usually called queries)\n",
        "to a database manager:\n",
        "a program that manipulates the database for us.\n",
        "The database manager does whatever lookups and calculations the query specifies,\n",
        "returning the results in a tabular form\n",
        "that we can then use as a starting point for further queries.</p>\n",
        "<p>Queries are written in a language called <abbr title=\"Structured Query Language\">SQL</abbr>,\n",
        "SQL provides hundreds of different ways to analyze and recombine data.\n",
        "We will only look at a handful of queries,\n",
        "but that handful accounts for most of what scientists do.</p>\n",
        "<blockquote class=\"tip\" style=\"border: 2px solid #FFE19E; margin: 1em 0.2em\">\n",
        "<div class=\"box-title tip-title\" id=\"tip-changing-database-managers\"><button class=\"gtn-boxify-button tip\" type=\"button\" aria-controls=\"tip-changing-database-managers\" aria-expanded=\"true\"><i class=\"far fa-lightbulb\" aria-hidden=\"true\" ></i> <span>Tip: Changing Database Managers</span><span class=\"fold-unfold fa fa-minus-square\"></span></button></div>\n",
        "<p>Many database managers — Oracle,\n",
        "IBM DB2, PostgreSQL, MySQL, Microsoft Access, and SQLite —  understand\n",
        "SQL but each stores data in a different way,\n",
        "so a database created with one cannot be used directly by another.\n",
        "However, every database manager\n",
        "can import and export data in a variety of formats like .csv, SQL,\n",
        "so it <em>is</em> possible to move information from one to another.</p>\n",
        "</blockquote>\n",
        "<p>Before we get into using <abbr title=\"Structured Query Language\">SQL</abbr> to select the data, let’s take a look at the tables of the database we will use in our examples:</p>\n",
        "<p><strong>Person</strong>: people who took readings.</p>\n",
        "<table>\n",
        "<thead>\n",
        "<tr>\n",
        "<th>id</th>\n",
        "<th>personal</th>\n",
        "<th>family</th>\n",
        "</tr>\n",
        "</thead>\n",
        "<tbody>\n",
        "<tr>\n",
        "<td>dyer</td>\n",
        "<td>William</td>\n",
        "<td>Dyer</td>\n",
        "</tr>\n",
        "<tr>\n",
        "<td>pb</td>\n",
        "<td>Frank</td>\n",
        "<td>Pabodie</td>\n",
        "</tr>\n",
        "<tr>\n",
        "<td>lake</td>\n",
        "<td>Anderson</td>\n",
        "<td>Lake</td>\n",
        "</tr>\n",
        "<tr>\n",
        "<td>roe</td>\n",
        "<td>Valentina</td>\n",
        "<td>Roerich</td>\n",
        "</tr>\n",
        "<tr>\n",
        "<td>danforth</td>\n",
        "<td>Frank</td>\n",
        "<td>Danforth</td>\n",
        "</tr>\n",
        "</tbody>\n",
        "</table>\n",
        "<p><strong>Site</strong>: locations where readings were taken.</p>\n",
        "<table>\n",
        "<thead>\n",
        "<tr>\n",
        "<th>name</th>\n",
        "<th>lat</th>\n",
        "<th>long</th>\n",
        "</tr>\n",
        "</thead>\n",
        "<tbody>\n",
        "<tr>\n",
        "<td>DR-1</td>\n",
        "<td>-49.85</td>\n",
        "<td>-128.57</td>\n",
        "</tr>\n",
        "<tr>\n",
        "<td>DR-3</td>\n",
        "<td>-47.15</td>\n",
        "<td>-126.72</td>\n",
        "</tr>\n",
        "<tr>\n",
        "<td>MSK-4</td>\n",
        "<td>-48.87</td>\n",
        "<td>-123.4</td>\n",
        "</tr>\n",
        "</tbody>\n",
        "</table>\n",
        "<p><strong>Visited</strong>: when readings were taken at specific sites.</p>\n",
        "<table>\n",
        "<thead>\n",
        "<tr>\n",
        "<th>id</th>\n",
        "<th>site</th>\n",
        "<th>dated</th>\n",
        "</tr>\n",
        "</thead>\n",
        "<tbody>\n",
        "<tr>\n",
        "<td>619</td>\n",
        "<td>DR-1</td>\n",
        "<td>1927-02-08</td>\n",
        "</tr>\n",
        "<tr>\n",
        "<td>622</td>\n",
        "<td>DR-1</td>\n",
        "<td>1927-02-10</td>\n",
        "</tr>\n",
        "<tr>\n",
        "<td>734</td>\n",
        "<td>DR-3</td>\n",
        "<td>1930-01-07</td>\n",
        "</tr>\n",
        "<tr>\n",
        "<td>735</td>\n",
        "<td>DR-3</td>\n",
        "<td>1930-01-12</td>\n",
        "</tr>\n",
        "<tr>\n",
        "<td>751</td>\n",
        "<td>DR-3</td>\n",
        "<td>1930-02-26</td>\n",
        "</tr>\n",
        "<tr>\n",
        "<td>752</td>\n",
        "<td>DR-3</td>\n",
        "<td>None</td>\n",
        "</tr>\n",
        "<tr>\n",
        "<td>837</td>\n",
        "<td>MSK-4</td>\n",
        "<td>1932-01-14</td>\n",
        "</tr>\n",
        "<tr>\n",
        "<td>844</td>\n",
        "<td>DR-1</td>\n",
        "<td>1932-03-22</td>\n",
        "</tr>\n",
        "</tbody>\n",
        "</table>\n",
        "<p><strong>Survey</strong>: the actual readings.  The field <code style=\"color: inherit\">quant</code> is short for quantitative and indicates what is being measured.  Values are <code style=\"color: inherit\">rad</code>, <code style=\"color: inherit\">sal</code>, and <code style=\"color: inherit\">temp</code> referring to ‘radiation’, ‘salinity’ and ‘temperature’, respectively.</p>\n",
        "<table>\n",
        "<thead>\n",
        "<tr>\n",
        "<th>taken</th>\n",
        "<th>person</th>\n",
        "<th>quant</th>\n",
        "<th>reading</th>\n",
        "</tr>\n",
        "</thead>\n",
        "<tbody>\n",
        "<tr>\n",
        "<td>619</td>\n",
        "<td>dyer</td>\n",
        "<td>rad</td>\n",
        "<td>9.82</td>\n",
        "</tr>\n",
        "<tr>\n",
        "<td>619</td>\n",
        "<td>dyer</td>\n",
        "<td>sal</td>\n",
        "<td>0.13</td>\n",
        "</tr>\n",
        "<tr>\n",
        "<td>622</td>\n",
        "<td>dyer</td>\n",
        "<td>rad</td>\n",
        "<td>7.8</td>\n",
        "</tr>\n",
        "<tr>\n",
        "<td>622</td>\n",
        "<td>dyer</td>\n",
        "<td>sal</td>\n",
        "<td>0.09</td>\n",
        "</tr>\n",
        "<tr>\n",
        "<td>734</td>\n",
        "<td>pb</td>\n",
        "<td>rad</td>\n",
        "<td>8.41</td>\n",
        "</tr>\n",
        "<tr>\n",
        "<td>734</td>\n",
        "<td>lake</td>\n",
        "<td>sal</td>\n",
        "<td>0.05</td>\n",
        "</tr>\n",
        "<tr>\n",
        "<td>734</td>\n",
        "<td>pb</td>\n",
        "<td>temp</td>\n",
        "<td>-21.5</td>\n",
        "</tr>\n",
        "<tr>\n",
        "<td>735</td>\n",
        "<td>pb</td>\n",
        "<td>rad</td>\n",
        "<td>7.22</td>\n",
        "</tr>\n",
        "<tr>\n",
        "<td>735</td>\n",
        "<td>None</td>\n",
        "<td>sal</td>\n",
        "<td>0.06</td>\n",
        "</tr>\n",
        "<tr>\n",
        "<td>735</td>\n",
        "<td>None</td>\n",
        "<td>temp</td>\n",
        "<td>-26.0</td>\n",
        "</tr>\n",
        "<tr>\n",
        "<td>751</td>\n",
        "<td>pb</td>\n",
        "<td>rad</td>\n",
        "<td>4.35</td>\n",
        "</tr>\n",
        "<tr>\n",
        "<td>751</td>\n",
        "<td>pb</td>\n",
        "<td>temp</td>\n",
        "<td>-18.5</td>\n",
        "</tr>\n",
        "<tr>\n",
        "<td>751</td>\n",
        "<td>lake</td>\n",
        "<td>sal</td>\n",
        "<td>0.1</td>\n",
        "</tr>\n",
        "<tr>\n",
        "<td>752</td>\n",
        "<td>lake</td>\n",
        "<td>rad</td>\n",
        "<td>2.19</td>\n",
        "</tr>\n",
        "<tr>\n",
        "<td>752</td>\n",
        "<td>lake</td>\n",
        "<td>sal</td>\n",
        "<td>0.09</td>\n",
        "</tr>\n",
        "<tr>\n",
        "<td>752</td>\n",
        "<td>lake</td>\n",
        "<td>temp</td>\n",
        "<td>-16.0</td>\n",
        "</tr>\n",
        "<tr>\n",
        "<td>752</td>\n",
        "<td>roe</td>\n",
        "<td>sal</td>\n",
        "<td>41.6</td>\n",
        "</tr>\n",
        "<tr>\n",
        "<td>837</td>\n",
        "<td>lake</td>\n",
        "<td>rad</td>\n",
        "<td>1.46</td>\n",
        "</tr>\n",
        "<tr>\n",
        "<td>837</td>\n",
        "<td>lake</td>\n",
        "<td>sal</td>\n",
        "<td>0.21</td>\n",
        "</tr>\n",
        "<tr>\n",
        "<td>837</td>\n",
        "<td>roe</td>\n",
        "<td>sal</td>\n",
        "<td>22.5</td>\n",
        "</tr>\n",
        "<tr>\n",
        "<td>844</td>\n",
        "<td>roe</td>\n",
        "<td>rad</td>\n",
        "<td>11.25</td>\n",
        "</tr>\n",
        "</tbody>\n",
        "</table>\n",
        "<p>Notice that three entries — one in the <code style=\"color: inherit\">Visited</code> table,\n",
        "and two in the <code style=\"color: inherit\">Survey</code> table — don’t contain any actual\n",
        "data, but instead have a special <code style=\"color: inherit\">None</code> entry:\n",
        "we’ll return to these missing values.</p>\n",
        "<p>For now,\n",
        "let’s write an SQL query that displays scientists’ names.\n",
        "We do this using the SQL command <code style=\"color: inherit\">SELECT</code>,\n",
        "giving it the names of the columns we want and the table we want them from.\n",
        "Our query and its output look like this:</p>\n"
      ]
    },
    {
      "cell_type": "code",
      "execution_count": 7,
      "id": "cell-3",
      "metadata": {
        "attributes": {
          "classes": [
            "> <comment-title></comment-title>"
          ],
          "id": ""
        }
      },
      "outputs": [
        {
          "name": "stdout",
          "output_type": "stream",
          "text": [
            "Done.\n"
          ]
        },
        {
          "data": {
            "text/html": [
              "<table>\n",
              "    <thead>\n",
              "        <tr>\n",
              "            <th>family</th>\n",
              "            <th>personal</th>\n",
              "        </tr>\n",
              "    </thead>\n",
              "    <tbody>\n",
              "        <tr>\n",
              "            <td>Dyer</td>\n",
              "            <td>William</td>\n",
              "        </tr>\n",
              "        <tr>\n",
              "            <td>Pabodie</td>\n",
              "            <td>Frank</td>\n",
              "        </tr>\n",
              "        <tr>\n",
              "            <td>Lake</td>\n",
              "            <td>Anderson</td>\n",
              "        </tr>\n",
              "        <tr>\n",
              "            <td>Roerich</td>\n",
              "            <td>Valentina</td>\n",
              "        </tr>\n",
              "        <tr>\n",
              "            <td>Danforth</td>\n",
              "            <td>Frank</td>\n",
              "        </tr>\n",
              "    </tbody>\n",
              "</table>"
            ],
            "text/plain": [
              "[('Dyer', 'William'),\n",
              " ('Pabodie', 'Frank'),\n",
              " ('Lake', 'Anderson'),\n",
              " ('Roerich', 'Valentina'),\n",
              " ('Danforth', 'Frank')]"
            ]
          },
          "execution_count": 7,
          "metadata": {},
          "output_type": "execute_result"
        }
      ],
      "source": [
        "%%sql\n",
        "SELECT family, personal FROM Person;"
      ]
    },
    {
      "cell_type": "markdown",
      "id": "cell-4",
      "metadata": {
        "collapsed": false,
        "editable": false
      },
      "source": [
        "<p>The semicolon at the end of the query\n",
        "tells the database manager that the query is complete and ready to run.\n",
        "We have written our commands in upper case and the names for the table and columns\n",
        "in lower case,\n",
        "but we don’t have to:\n",
        "as the example below shows,\n",
        "SQL is case insensitive.</p>\n"
      ]
    },
    {
      "cell_type": "code",
      "execution_count": 8,
      "id": "cell-5",
      "metadata": {
        "attributes": {
          "classes": [
            "> <comment-title></comment-title>"
          ],
          "id": ""
        }
      },
      "outputs": [
        {
          "name": "stdout",
          "output_type": "stream",
          "text": [
            "Done.\n"
          ]
        },
        {
          "data": {
            "text/html": [
              "<table>\n",
              "    <thead>\n",
              "        <tr>\n",
              "            <th>family</th>\n",
              "            <th>personal</th>\n",
              "        </tr>\n",
              "    </thead>\n",
              "    <tbody>\n",
              "        <tr>\n",
              "            <td>Dyer</td>\n",
              "            <td>William</td>\n",
              "        </tr>\n",
              "        <tr>\n",
              "            <td>Pabodie</td>\n",
              "            <td>Frank</td>\n",
              "        </tr>\n",
              "        <tr>\n",
              "            <td>Lake</td>\n",
              "            <td>Anderson</td>\n",
              "        </tr>\n",
              "        <tr>\n",
              "            <td>Roerich</td>\n",
              "            <td>Valentina</td>\n",
              "        </tr>\n",
              "        <tr>\n",
              "            <td>Danforth</td>\n",
              "            <td>Frank</td>\n",
              "        </tr>\n",
              "    </tbody>\n",
              "</table>"
            ],
            "text/plain": [
              "[('Dyer', 'William'),\n",
              " ('Pabodie', 'Frank'),\n",
              " ('Lake', 'Anderson'),\n",
              " ('Roerich', 'Valentina'),\n",
              " ('Danforth', 'Frank')]"
            ]
          },
          "execution_count": 8,
          "metadata": {},
          "output_type": "execute_result"
        }
      ],
      "source": [
        "%%sql\n",
        "SeLeCt FaMiLy, PeRsOnAl FrOm PeRsOn;"
      ]
    },
    {
      "cell_type": "markdown",
      "id": "cell-6",
      "metadata": {
        "collapsed": false,
        "editable": false
      },
      "source": [
        "<p>You can use SQL’s case insensitivity to your advantage. For instance,\n",
        "some people choose to write SQL keywords (such as <code style=\"color: inherit\">SELECT</code> and <code style=\"color: inherit\">FROM</code>)\n",
        "in capital letters and <strong>field</strong> and <strong>table</strong> names in lower\n",
        "case. This can make it easier to locate parts of an SQL statement. For\n",
        "instance, you can scan the statement, quickly locate the prominent\n",
        "<code style=\"color: inherit\">FROM</code> keyword and know the table name follows.  Whatever casing\n",
        "convention you choose, please be consistent: complex queries are hard\n",
        "enough to read without the extra cognitive load of random\n",
        "capitalization.  One convention is to use UPPER CASE for SQL\n",
        "statements, to distinguish them from tables and column names. This is\n",
        "the convention that we will use for this lesson.</p>\n",
        "<blockquote class=\"question\" style=\"border: 2px solid #8A9AD0; margin: 1em 0.2em\">\n",
        "<div class=\"box-title question-title\" id=\"question-is-a-personal-and-family-name-column-a-good-design\"><i class=\"far fa-question-circle\" aria-hidden=\"true\" ></i> Question: Is a personal and family name column a good design?</div>\n",
        "<p>If you were tasked with designing a database to store this same data, is storing the name data in\n",
        "this way the best way to do it? Why or why not?</p>\n",
        "<p>Can you think of any names that would be difficult to enter in such a schema?</p>\n",
        "<br/><details style=\"border: 2px solid #B8C3EA; margin: 1em 0.2em;padding: 0.5em; cursor: pointer;\"><summary>👁 View solution</summary>\n",
        "<div class=\"box-title solution-title\" id=\"solution\"><button class=\"gtn-boxify-button solution\" type=\"button\" aria-controls=\"solution\" aria-expanded=\"true\"><i class=\"far fa-eye\" aria-hidden=\"true\" ></i> <span>Solution</span><span class=\"fold-unfold fa fa-minus-square\"></span></button></div>\n",
        "<p>No, it is generally not. There are a lot of <a href=\"https://shinesolutions.com/2018/01/08/falsehoods-programmers-believe-about-names-with-examples/\">falsehoods that programmers believe about names</a>.\n",
        "The situation is much more complex as you can read in that article, but names vary wildly and\n",
        "generally placing constraints on how names are entered is only likely to frustrate you or your\n",
        "users later on when they need to enter data into that database.</p>\n",
        "<p>In general you should consider using a single text field for the name and allowing users to\n",
        "specify them as whatever they like (if it is a system with registration), or asking what they\n",
        "wish to be recorded (if you are doing this sort of data collection).</p>\n",
        "<p>If you are doing scientific research, you might know that names are generally very poor\n",
        "identifiers of a single human, and in that case consider recording their\n",
        "<a href=\"https://orcid.org/\">ORCiD</a> which will help you reference that individual when you are\n",
        "publishing later.</p>\n",
        "<p>This is also a good time to consider what data you really <em>need</em> to collect. If you are working\n",
        "in the EU under GDPR, do you really need their full legal name? Is that necessary? Do you have a\n",
        "plan for ensuring that data is correct when publishing, if any part of their name has changed\n",
        "since?</p>\n",
        "</details>\n",
        "</blockquote>\n"
      ]
    },
    {
      "cell_type": "code",
      "execution_count": 9,
      "id": "cell-7",
      "metadata": {
        "attributes": {
          "classes": [
            "> <comment-title></comment-title>"
          ],
          "id": ""
        }
      },
      "outputs": [
        {
          "name": "stdout",
          "output_type": "stream",
          "text": [
            "Done.\n"
          ]
        },
        {
          "data": {
            "text/plain": [
              "[]"
            ]
          },
          "execution_count": 9,
          "metadata": {},
          "output_type": "execute_result"
        }
      ],
      "source": [
        "%%sql\n",
        "-- Try solutions here!"
      ]
    },
    {
      "cell_type": "markdown",
      "id": "cell-8",
      "metadata": {
        "collapsed": false,
        "editable": false
      },
      "source": [
        "<p>While we are on the topic of SQL’s syntax, one aspect of SQL’s syntax\n",
        "that can frustrate novices and experts alike is forgetting to finish a\n",
        "command with <code style=\"color: inherit\">;</code> (semicolon).  When you press enter for a command\n",
        "without adding the <code style=\"color: inherit\">;</code> to the end, it can look something like this:</p>\n",
        "<div class=\"language-plaintext highlighter-rouge\"><div><pre style=\"color: inherit; background: transparent\"><code style=\"color: inherit\">SELECT id FROM Person\n",
        "...&gt;\n",
        "...&gt;\n",
        "</code></pre></div></div>\n",
        "<p>This is SQL’s prompt, where it is waiting for additional commands or\n",
        "for a <code style=\"color: inherit\">;</code> to let SQL know to finish.  This is easy to fix!  Just type\n",
        "<code style=\"color: inherit\">;</code> and press enter!</p>\n",
        "<p>Now, going back to our query,\n",
        "it’s important to understand that\n",
        "the rows and columns in a database table aren’t actually stored in any particular order.\n",
        "They will always be <em>displayed</em> in some order,\n",
        "but we can control that in various ways.\n",
        "For example,\n",
        "we could swap the columns in the output by writing our query as:</p>\n"
      ]
    },
    {
      "cell_type": "code",
      "execution_count": 10,
      "id": "cell-9",
      "metadata": {
        "attributes": {
          "classes": [
            "> <comment-title></comment-title>"
          ],
          "id": ""
        }
      },
      "outputs": [
        {
          "name": "stdout",
          "output_type": "stream",
          "text": [
            "Done.\n"
          ]
        },
        {
          "data": {
            "text/html": [
              "<table>\n",
              "    <thead>\n",
              "        <tr>\n",
              "            <th>personal</th>\n",
              "            <th>family</th>\n",
              "        </tr>\n",
              "    </thead>\n",
              "    <tbody>\n",
              "        <tr>\n",
              "            <td>William</td>\n",
              "            <td>Dyer</td>\n",
              "        </tr>\n",
              "        <tr>\n",
              "            <td>Frank</td>\n",
              "            <td>Pabodie</td>\n",
              "        </tr>\n",
              "        <tr>\n",
              "            <td>Anderson</td>\n",
              "            <td>Lake</td>\n",
              "        </tr>\n",
              "        <tr>\n",
              "            <td>Valentina</td>\n",
              "            <td>Roerich</td>\n",
              "        </tr>\n",
              "        <tr>\n",
              "            <td>Frank</td>\n",
              "            <td>Danforth</td>\n",
              "        </tr>\n",
              "    </tbody>\n",
              "</table>"
            ],
            "text/plain": [
              "[('William', 'Dyer'),\n",
              " ('Frank', 'Pabodie'),\n",
              " ('Anderson', 'Lake'),\n",
              " ('Valentina', 'Roerich'),\n",
              " ('Frank', 'Danforth')]"
            ]
          },
          "execution_count": 10,
          "metadata": {},
          "output_type": "execute_result"
        }
      ],
      "source": [
        "%%sql\n",
        "SELECT personal, family FROM Person;"
      ]
    },
    {
      "cell_type": "markdown",
      "id": "cell-10",
      "metadata": {
        "collapsed": false,
        "editable": false
      },
      "source": [
        "<p>or even repeat columns:</p>\n"
      ]
    },
    {
      "cell_type": "code",
      "execution_count": 11,
      "id": "cell-11",
      "metadata": {
        "attributes": {
          "classes": [
            "> <comment-title></comment-title>"
          ],
          "id": ""
        }
      },
      "outputs": [
        {
          "name": "stdout",
          "output_type": "stream",
          "text": [
            "Done.\n"
          ]
        },
        {
          "data": {
            "text/html": [
              "<table>\n",
              "    <thead>\n",
              "        <tr>\n",
              "            <th>id</th>\n",
              "            <th>id_1</th>\n",
              "            <th>id_2</th>\n",
              "        </tr>\n",
              "    </thead>\n",
              "    <tbody>\n",
              "        <tr>\n",
              "            <td>dyer</td>\n",
              "            <td>dyer</td>\n",
              "            <td>dyer</td>\n",
              "        </tr>\n",
              "        <tr>\n",
              "            <td>pb</td>\n",
              "            <td>pb</td>\n",
              "            <td>pb</td>\n",
              "        </tr>\n",
              "        <tr>\n",
              "            <td>lake</td>\n",
              "            <td>lake</td>\n",
              "            <td>lake</td>\n",
              "        </tr>\n",
              "        <tr>\n",
              "            <td>roe</td>\n",
              "            <td>roe</td>\n",
              "            <td>roe</td>\n",
              "        </tr>\n",
              "        <tr>\n",
              "            <td>danforth</td>\n",
              "            <td>danforth</td>\n",
              "            <td>danforth</td>\n",
              "        </tr>\n",
              "    </tbody>\n",
              "</table>"
            ],
            "text/plain": [
              "[('dyer', 'dyer', 'dyer'),\n",
              " ('pb', 'pb', 'pb'),\n",
              " ('lake', 'lake', 'lake'),\n",
              " ('roe', 'roe', 'roe'),\n",
              " ('danforth', 'danforth', 'danforth')]"
            ]
          },
          "execution_count": 11,
          "metadata": {},
          "output_type": "execute_result"
        }
      ],
      "source": [
        "%%sql\n",
        "SELECT id, id, id FROM Person;"
      ]
    },
    {
      "cell_type": "markdown",
      "id": "cell-12",
      "metadata": {
        "collapsed": false,
        "editable": false
      },
      "source": [
        "<p>As a shortcut,\n",
        "we can select all of the columns in a table using <code style=\"color: inherit\">*</code>:</p>\n"
      ]
    },
    {
      "cell_type": "code",
      "execution_count": 12,
      "id": "cell-13",
      "metadata": {
        "attributes": {
          "classes": [
            "> <comment-title></comment-title>"
          ],
          "id": ""
        }
      },
      "outputs": [
        {
          "name": "stdout",
          "output_type": "stream",
          "text": [
            "Done.\n"
          ]
        },
        {
          "data": {
            "text/html": [
              "<table>\n",
              "    <thead>\n",
              "        <tr>\n",
              "            <th>id</th>\n",
              "            <th>personal</th>\n",
              "            <th>family</th>\n",
              "        </tr>\n",
              "    </thead>\n",
              "    <tbody>\n",
              "        <tr>\n",
              "            <td>dyer</td>\n",
              "            <td>William</td>\n",
              "            <td>Dyer</td>\n",
              "        </tr>\n",
              "        <tr>\n",
              "            <td>pb</td>\n",
              "            <td>Frank</td>\n",
              "            <td>Pabodie</td>\n",
              "        </tr>\n",
              "        <tr>\n",
              "            <td>lake</td>\n",
              "            <td>Anderson</td>\n",
              "            <td>Lake</td>\n",
              "        </tr>\n",
              "        <tr>\n",
              "            <td>roe</td>\n",
              "            <td>Valentina</td>\n",
              "            <td>Roerich</td>\n",
              "        </tr>\n",
              "        <tr>\n",
              "            <td>danforth</td>\n",
              "            <td>Frank</td>\n",
              "            <td>Danforth</td>\n",
              "        </tr>\n",
              "    </tbody>\n",
              "</table>"
            ],
            "text/plain": [
              "[('dyer', 'William', 'Dyer'),\n",
              " ('pb', 'Frank', 'Pabodie'),\n",
              " ('lake', 'Anderson', 'Lake'),\n",
              " ('roe', 'Valentina', 'Roerich'),\n",
              " ('danforth', 'Frank', 'Danforth')]"
            ]
          },
          "execution_count": 12,
          "metadata": {},
          "output_type": "execute_result"
        }
      ],
      "source": [
        "%%sql\n",
        "SELECT * FROM Person;"
      ]
    },
    {
      "cell_type": "markdown",
      "id": "cell-14",
      "metadata": {
        "collapsed": false,
        "editable": false
      },
      "source": [
        "<blockquote class=\"question\" style=\"border: 2px solid #8A9AD0; margin: 1em 0.2em\">\n",
        "<div class=\"box-title question-title\" id=\"question-selecting-site-names\"><i class=\"far fa-question-circle\" aria-hidden=\"true\" ></i> Question: Selecting Site Names</div>\n",
        "<p>Write a query that selects only the <code style=\"color: inherit\">name</code> column from the <code style=\"color: inherit\">Site</code> table.</p>\n",
        "<br/><details style=\"border: 2px solid #B8C3EA; margin: 1em 0.2em;padding: 0.5em; cursor: pointer;\"><summary>👁 View solution</summary>\n",
        "<div class=\"box-title solution-title\" id=\"solution-1\"><button class=\"gtn-boxify-button solution\" type=\"button\" aria-controls=\"solution-1\" aria-expanded=\"true\"><i class=\"far fa-eye\" aria-hidden=\"true\" ></i> <span>Solution</span><span class=\"fold-unfold fa fa-minus-square\"></span></button></div>\n",
        "<div class=\"language-plaintext highlighter-rouge\"><div><pre style=\"color: inherit; background: transparent\"><code style=\"color: inherit\">SELECT name FROM Site;\n",
        "</code></pre></div>    </div>\n",
        "<table>\n",
        "<thead>\n",
        "<tr>\n",
        "<th>name</th>\n",
        "</tr>\n",
        "</thead>\n",
        "<tbody>\n",
        "<tr>\n",
        "<td>DR-1</td>\n",
        "</tr>\n",
        "<tr>\n",
        "<td>DR-3</td>\n",
        "</tr>\n",
        "<tr>\n",
        "<td>MSK-4</td>\n",
        "</tr>\n",
        "</tbody>\n",
        "</table>\n",
        "</details>\n",
        "</blockquote>\n"
      ]
    },
    {
      "cell_type": "code",
      "execution_count": 13,
      "id": "cell-15",
      "metadata": {
        "attributes": {
          "classes": [
            "> <comment-title></comment-title>"
          ],
          "id": ""
        }
      },
      "outputs": [
        {
          "name": "stdout",
          "output_type": "stream",
          "text": [
            "Done.\n"
          ]
        },
        {
          "data": {
            "text/html": [
              "<table>\n",
              "    <thead>\n",
              "        <tr>\n",
              "            <th>name</th>\n",
              "        </tr>\n",
              "    </thead>\n",
              "    <tbody>\n",
              "        <tr>\n",
              "            <td>DR-1</td>\n",
              "        </tr>\n",
              "        <tr>\n",
              "            <td>DR-3</td>\n",
              "        </tr>\n",
              "        <tr>\n",
              "            <td>MSK-4</td>\n",
              "        </tr>\n",
              "    </tbody>\n",
              "</table>"
            ],
            "text/plain": [
              "[('DR-1',), ('DR-3',), ('MSK-4',)]"
            ]
          },
          "execution_count": 13,
          "metadata": {},
          "output_type": "execute_result"
        }
      ],
      "source": [
        "%%sql\n",
        "-- Try solutions here!\n",
        "SELECT name FROM Site;"
      ]
    },
    {
      "cell_type": "markdown",
      "id": "cell-16",
      "metadata": {
        "collapsed": false,
        "editable": false
      },
      "source": [
        "<blockquote class=\"question\" style=\"border: 2px solid #8A9AD0; margin: 1em 0.2em\">\n",
        "<div class=\"box-title question-title\" id=\"question-query-style\"><i class=\"far fa-question-circle\" aria-hidden=\"true\" ></i> Question: Query Style</div>\n",
        "<p>Many people format queries as:</p>\n",
        "<div class=\"language-plaintext highlighter-rouge\"><div><pre style=\"color: inherit; background: transparent\"><code style=\"color: inherit\">SELECT personal, family FROM person;\n",
        "</code></pre></div>  </div>\n",
        "<p>or as:</p>\n",
        "<div class=\"language-plaintext highlighter-rouge\"><div><pre style=\"color: inherit; background: transparent\"><code style=\"color: inherit\">select Personal, Family from PERSON;\n",
        "</code></pre></div>  </div>\n",
        "<p>What style do you find easiest to read, and why?</p>\n",
        "</blockquote>\n"
      ]
    },
    {
      "cell_type": "code",
      "execution_count": 14,
      "id": "cell-17",
      "metadata": {
        "attributes": {
          "classes": [
            "> <comment-title></comment-title>"
          ],
          "id": ""
        }
      },
      "outputs": [
        {
          "name": "stdout",
          "output_type": "stream",
          "text": [
            "Done.\n"
          ]
        },
        {
          "data": {
            "text/plain": [
              "[]"
            ]
          },
          "execution_count": 14,
          "metadata": {},
          "output_type": "execute_result"
        }
      ],
      "source": [
        "%%sql\n",
        "-- Try solutions here!"
      ]
    },
    {
      "cell_type": "markdown",
      "id": "cell-18",
      "metadata": {
        "collapsed": false,
        "editable": false
      },
      "source": [
        "<h1 id=\"sorting-and-removing-duplicates\">Sorting and Removing Duplicates</h1>\n",
        "<p>In beginning our examination of the Antarctic data, we want to know:</p>\n",
        "<ul>\n",
        "<li>what kind of quantity measurements were taken at each site;</li>\n",
        "<li>which scientists took measurements on the expedition;</li>\n",
        "</ul>\n",
        "<p>To determine which measurements were taken at each site,\n",
        "we can examine the <code style=\"color: inherit\">Survey</code> table.\n",
        "Data is often redundant,\n",
        "so queries often return redundant information.\n",
        "For example,\n",
        "if we select the quantities that have been measured\n",
        "from the <code style=\"color: inherit\">Survey</code> table,\n",
        "we get this:</p>\n"
      ]
    },
    {
      "cell_type": "code",
      "execution_count": 15,
      "id": "cell-19",
      "metadata": {
        "attributes": {
          "classes": [
            "> <comment-title></comment-title>"
          ],
          "id": ""
        }
      },
      "outputs": [
        {
          "name": "stdout",
          "output_type": "stream",
          "text": [
            "Done.\n"
          ]
        },
        {
          "data": {
            "text/html": [
              "<table>\n",
              "    <thead>\n",
              "        <tr>\n",
              "            <th>quant</th>\n",
              "        </tr>\n",
              "    </thead>\n",
              "    <tbody>\n",
              "        <tr>\n",
              "            <td>rad</td>\n",
              "        </tr>\n",
              "        <tr>\n",
              "            <td>sal</td>\n",
              "        </tr>\n",
              "        <tr>\n",
              "            <td>rad</td>\n",
              "        </tr>\n",
              "        <tr>\n",
              "            <td>sal</td>\n",
              "        </tr>\n",
              "        <tr>\n",
              "            <td>rad</td>\n",
              "        </tr>\n",
              "        <tr>\n",
              "            <td>sal</td>\n",
              "        </tr>\n",
              "        <tr>\n",
              "            <td>temp</td>\n",
              "        </tr>\n",
              "        <tr>\n",
              "            <td>rad</td>\n",
              "        </tr>\n",
              "        <tr>\n",
              "            <td>sal</td>\n",
              "        </tr>\n",
              "        <tr>\n",
              "            <td>temp</td>\n",
              "        </tr>\n",
              "        <tr>\n",
              "            <td>rad</td>\n",
              "        </tr>\n",
              "        <tr>\n",
              "            <td>temp</td>\n",
              "        </tr>\n",
              "        <tr>\n",
              "            <td>sal</td>\n",
              "        </tr>\n",
              "        <tr>\n",
              "            <td>rad</td>\n",
              "        </tr>\n",
              "        <tr>\n",
              "            <td>sal</td>\n",
              "        </tr>\n",
              "        <tr>\n",
              "            <td>temp</td>\n",
              "        </tr>\n",
              "        <tr>\n",
              "            <td>sal</td>\n",
              "        </tr>\n",
              "        <tr>\n",
              "            <td>rad</td>\n",
              "        </tr>\n",
              "        <tr>\n",
              "            <td>sal</td>\n",
              "        </tr>\n",
              "        <tr>\n",
              "            <td>sal</td>\n",
              "        </tr>\n",
              "        <tr>\n",
              "            <td>rad</td>\n",
              "        </tr>\n",
              "    </tbody>\n",
              "</table>"
            ],
            "text/plain": [
              "[('rad',),\n",
              " ('sal',),\n",
              " ('rad',),\n",
              " ('sal',),\n",
              " ('rad',),\n",
              " ('sal',),\n",
              " ('temp',),\n",
              " ('rad',),\n",
              " ('sal',),\n",
              " ('temp',),\n",
              " ('rad',),\n",
              " ('temp',),\n",
              " ('sal',),\n",
              " ('rad',),\n",
              " ('sal',),\n",
              " ('temp',),\n",
              " ('sal',),\n",
              " ('rad',),\n",
              " ('sal',),\n",
              " ('sal',),\n",
              " ('rad',)]"
            ]
          },
          "execution_count": 15,
          "metadata": {},
          "output_type": "execute_result"
        }
      ],
      "source": [
        "%%sql\n",
        "SELECT quant FROM Survey;"
      ]
    },
    {
      "cell_type": "markdown",
      "id": "cell-20",
      "metadata": {
        "collapsed": false,
        "editable": false
      },
      "source": [
        "<p>This result makes it difficult to see all of the different types of\n",
        "<code style=\"color: inherit\">quant</code> in the Survey table.  We can eliminate the redundant output to\n",
        "make the result more readable by adding the <code style=\"color: inherit\">DISTINCT</code> keyword to our\n",
        "query:</p>\n"
      ]
    },
    {
      "cell_type": "code",
      "execution_count": 16,
      "id": "cell-21",
      "metadata": {
        "attributes": {
          "classes": [
            "> <comment-title></comment-title>"
          ],
          "id": ""
        }
      },
      "outputs": [
        {
          "name": "stdout",
          "output_type": "stream",
          "text": [
            "Done.\n"
          ]
        },
        {
          "data": {
            "text/html": [
              "<table>\n",
              "    <thead>\n",
              "        <tr>\n",
              "            <th>quant</th>\n",
              "        </tr>\n",
              "    </thead>\n",
              "    <tbody>\n",
              "        <tr>\n",
              "            <td>rad</td>\n",
              "        </tr>\n",
              "        <tr>\n",
              "            <td>sal</td>\n",
              "        </tr>\n",
              "        <tr>\n",
              "            <td>temp</td>\n",
              "        </tr>\n",
              "    </tbody>\n",
              "</table>"
            ],
            "text/plain": [
              "[('rad',), ('sal',), ('temp',)]"
            ]
          },
          "execution_count": 16,
          "metadata": {},
          "output_type": "execute_result"
        }
      ],
      "source": [
        "%%sql\n",
        "SELECT DISTINCT quant FROM Survey;"
      ]
    },
    {
      "cell_type": "markdown",
      "id": "cell-22",
      "metadata": {
        "collapsed": false,
        "editable": false
      },
      "source": [
        "<p>If we want to determine which visit (stored in the <code style=\"color: inherit\">taken</code> column)\n",
        "have which <code style=\"color: inherit\">quant</code> measurement,\n",
        "we can use the <code style=\"color: inherit\">DISTINCT</code> keyword on multiple columns.\n",
        "If we select more than one column,\n",
        "distinct <em>sets</em> of values are returned\n",
        "(in this case <em>pairs</em>, because we are selecting two columns):</p>\n"
      ]
    },
    {
      "cell_type": "code",
      "execution_count": 17,
      "id": "cell-23",
      "metadata": {
        "attributes": {
          "classes": [
            "> <comment-title></comment-title>"
          ],
          "id": ""
        }
      },
      "outputs": [
        {
          "name": "stdout",
          "output_type": "stream",
          "text": [
            "Done.\n"
          ]
        },
        {
          "data": {
            "text/html": [
              "<table>\n",
              "    <thead>\n",
              "        <tr>\n",
              "            <th>taken</th>\n",
              "            <th>quant</th>\n",
              "        </tr>\n",
              "    </thead>\n",
              "    <tbody>\n",
              "        <tr>\n",
              "            <td>619</td>\n",
              "            <td>rad</td>\n",
              "        </tr>\n",
              "        <tr>\n",
              "            <td>619</td>\n",
              "            <td>sal</td>\n",
              "        </tr>\n",
              "        <tr>\n",
              "            <td>622</td>\n",
              "            <td>rad</td>\n",
              "        </tr>\n",
              "        <tr>\n",
              "            <td>622</td>\n",
              "            <td>sal</td>\n",
              "        </tr>\n",
              "        <tr>\n",
              "            <td>734</td>\n",
              "            <td>rad</td>\n",
              "        </tr>\n",
              "        <tr>\n",
              "            <td>734</td>\n",
              "            <td>sal</td>\n",
              "        </tr>\n",
              "        <tr>\n",
              "            <td>734</td>\n",
              "            <td>temp</td>\n",
              "        </tr>\n",
              "        <tr>\n",
              "            <td>735</td>\n",
              "            <td>rad</td>\n",
              "        </tr>\n",
              "        <tr>\n",
              "            <td>735</td>\n",
              "            <td>sal</td>\n",
              "        </tr>\n",
              "        <tr>\n",
              "            <td>735</td>\n",
              "            <td>temp</td>\n",
              "        </tr>\n",
              "        <tr>\n",
              "            <td>751</td>\n",
              "            <td>rad</td>\n",
              "        </tr>\n",
              "        <tr>\n",
              "            <td>751</td>\n",
              "            <td>temp</td>\n",
              "        </tr>\n",
              "        <tr>\n",
              "            <td>751</td>\n",
              "            <td>sal</td>\n",
              "        </tr>\n",
              "        <tr>\n",
              "            <td>752</td>\n",
              "            <td>rad</td>\n",
              "        </tr>\n",
              "        <tr>\n",
              "            <td>752</td>\n",
              "            <td>sal</td>\n",
              "        </tr>\n",
              "        <tr>\n",
              "            <td>752</td>\n",
              "            <td>temp</td>\n",
              "        </tr>\n",
              "        <tr>\n",
              "            <td>837</td>\n",
              "            <td>rad</td>\n",
              "        </tr>\n",
              "        <tr>\n",
              "            <td>837</td>\n",
              "            <td>sal</td>\n",
              "        </tr>\n",
              "        <tr>\n",
              "            <td>844</td>\n",
              "            <td>rad</td>\n",
              "        </tr>\n",
              "    </tbody>\n",
              "</table>"
            ],
            "text/plain": [
              "[(619, 'rad'),\n",
              " (619, 'sal'),\n",
              " (622, 'rad'),\n",
              " (622, 'sal'),\n",
              " (734, 'rad'),\n",
              " (734, 'sal'),\n",
              " (734, 'temp'),\n",
              " (735, 'rad'),\n",
              " (735, 'sal'),\n",
              " (735, 'temp'),\n",
              " (751, 'rad'),\n",
              " (751, 'temp'),\n",
              " (751, 'sal'),\n",
              " (752, 'rad'),\n",
              " (752, 'sal'),\n",
              " (752, 'temp'),\n",
              " (837, 'rad'),\n",
              " (837, 'sal'),\n",
              " (844, 'rad')]"
            ]
          },
          "execution_count": 17,
          "metadata": {},
          "output_type": "execute_result"
        }
      ],
      "source": [
        "%%sql\n",
        "SELECT DISTINCT taken, quant FROM Survey;"
      ]
    },
    {
      "cell_type": "markdown",
      "id": "cell-24",
      "metadata": {
        "collapsed": false,
        "editable": false
      },
      "source": [
        "<p>Notice in both cases that duplicates are removed\n",
        "even if the rows they come from didn’t appear to be adjacent in the database table.</p>\n",
        "<p>Our next task is to identify the scientists on the expedition by looking at the <code style=\"color: inherit\">Person</code> table.\n",
        "As we mentioned earlier,\n",
        "database records are not stored in any particular order.\n",
        "This means that query results aren’t necessarily sorted,\n",
        "and even if they are,\n",
        "we often want to sort them in a different way,\n",
        "e.g., by their identifier instead of by their personal name.\n",
        "We can do this in SQL by adding an <code style=\"color: inherit\">ORDER BY</code> clause to our query:</p>\n"
      ]
    },
    {
      "cell_type": "code",
      "execution_count": 18,
      "id": "cell-25",
      "metadata": {
        "attributes": {
          "classes": [
            "> <comment-title></comment-title>"
          ],
          "id": ""
        }
      },
      "outputs": [
        {
          "name": "stdout",
          "output_type": "stream",
          "text": [
            "Done.\n"
          ]
        },
        {
          "data": {
            "text/html": [
              "<table>\n",
              "    <thead>\n",
              "        <tr>\n",
              "            <th>id</th>\n",
              "            <th>personal</th>\n",
              "            <th>family</th>\n",
              "        </tr>\n",
              "    </thead>\n",
              "    <tbody>\n",
              "        <tr>\n",
              "            <td>danforth</td>\n",
              "            <td>Frank</td>\n",
              "            <td>Danforth</td>\n",
              "        </tr>\n",
              "        <tr>\n",
              "            <td>dyer</td>\n",
              "            <td>William</td>\n",
              "            <td>Dyer</td>\n",
              "        </tr>\n",
              "        <tr>\n",
              "            <td>lake</td>\n",
              "            <td>Anderson</td>\n",
              "            <td>Lake</td>\n",
              "        </tr>\n",
              "        <tr>\n",
              "            <td>pb</td>\n",
              "            <td>Frank</td>\n",
              "            <td>Pabodie</td>\n",
              "        </tr>\n",
              "        <tr>\n",
              "            <td>roe</td>\n",
              "            <td>Valentina</td>\n",
              "            <td>Roerich</td>\n",
              "        </tr>\n",
              "    </tbody>\n",
              "</table>"
            ],
            "text/plain": [
              "[('danforth', 'Frank', 'Danforth'),\n",
              " ('dyer', 'William', 'Dyer'),\n",
              " ('lake', 'Anderson', 'Lake'),\n",
              " ('pb', 'Frank', 'Pabodie'),\n",
              " ('roe', 'Valentina', 'Roerich')]"
            ]
          },
          "execution_count": 18,
          "metadata": {},
          "output_type": "execute_result"
        }
      ],
      "source": [
        "%%sql\n",
        "SELECT * FROM Person ORDER BY id;"
      ]
    },
    {
      "cell_type": "markdown",
      "id": "cell-26",
      "metadata": {
        "collapsed": false,
        "editable": false
      },
      "source": [
        "<table>\n",
        "<thead>\n",
        "<tr>\n",
        "<th>id</th>\n",
        "<th>personal</th>\n",
        "<th>family</th>\n",
        "</tr>\n",
        "</thead>\n",
        "<tbody>\n",
        "<tr>\n",
        "<td>danfort</td>\n",
        "<td>Frank</td>\n",
        "<td>Danforth</td>\n",
        "</tr>\n",
        "<tr>\n",
        "<td>dyer</td>\n",
        "<td>William</td>\n",
        "<td>Dyer</td>\n",
        "</tr>\n",
        "<tr>\n",
        "<td>lake</td>\n",
        "<td>Anderson</td>\n",
        "<td>Lake</td>\n",
        "</tr>\n",
        "<tr>\n",
        "<td>pb</td>\n",
        "<td>Frank</td>\n",
        "<td>Pabodie</td>\n",
        "</tr>\n",
        "<tr>\n",
        "<td>roe</td>\n",
        "<td>Valentina</td>\n",
        "<td>Roerich</td>\n",
        "</tr>\n",
        "</tbody>\n",
        "</table>\n",
        "<p>By default, when we use <code style=\"color: inherit\">ORDER BY</code>,\n",
        "results are sorted in ascending order of the column we specify\n",
        "(i.e.,\n",
        "from least to greatest).</p>\n",
        "<p>We can sort in the opposite order using <code style=\"color: inherit\">DESC</code> (for “descending”):</p>\n",
        "<blockquote class=\"tip\" style=\"border: 2px solid #FFE19E; margin: 1em 0.2em\">\n",
        "<div class=\"box-title tip-title\" id=\"tip-a-note-on-ordering\"><button class=\"gtn-boxify-button tip\" type=\"button\" aria-controls=\"tip-a-note-on-ordering\" aria-expanded=\"true\"><i class=\"far fa-lightbulb\" aria-hidden=\"true\" ></i> <span>Tip: A note on ordering</span><span class=\"fold-unfold fa fa-minus-square\"></span></button></div>\n",
        "<p>While it may look that the records are consistent every time we ask for them in this lesson, that is because no one has changed or modified any of the data so far. Remember to use <code style=\"color: inherit\">ORDER BY</code> if you want the rows returned to have any sort of consistent or predictable order.</p>\n",
        "</blockquote>\n"
      ]
    },
    {
      "cell_type": "code",
      "execution_count": 19,
      "id": "cell-27",
      "metadata": {
        "attributes": {
          "classes": [
            "> <comment-title></comment-title>"
          ],
          "id": ""
        }
      },
      "outputs": [
        {
          "name": "stdout",
          "output_type": "stream",
          "text": [
            "Done.\n"
          ]
        },
        {
          "data": {
            "text/html": [
              "<table>\n",
              "    <thead>\n",
              "        <tr>\n",
              "            <th>id</th>\n",
              "            <th>personal</th>\n",
              "            <th>family</th>\n",
              "        </tr>\n",
              "    </thead>\n",
              "    <tbody>\n",
              "        <tr>\n",
              "            <td>roe</td>\n",
              "            <td>Valentina</td>\n",
              "            <td>Roerich</td>\n",
              "        </tr>\n",
              "        <tr>\n",
              "            <td>pb</td>\n",
              "            <td>Frank</td>\n",
              "            <td>Pabodie</td>\n",
              "        </tr>\n",
              "        <tr>\n",
              "            <td>lake</td>\n",
              "            <td>Anderson</td>\n",
              "            <td>Lake</td>\n",
              "        </tr>\n",
              "        <tr>\n",
              "            <td>dyer</td>\n",
              "            <td>William</td>\n",
              "            <td>Dyer</td>\n",
              "        </tr>\n",
              "        <tr>\n",
              "            <td>danforth</td>\n",
              "            <td>Frank</td>\n",
              "            <td>Danforth</td>\n",
              "        </tr>\n",
              "    </tbody>\n",
              "</table>"
            ],
            "text/plain": [
              "[('roe', 'Valentina', 'Roerich'),\n",
              " ('pb', 'Frank', 'Pabodie'),\n",
              " ('lake', 'Anderson', 'Lake'),\n",
              " ('dyer', 'William', 'Dyer'),\n",
              " ('danforth', 'Frank', 'Danforth')]"
            ]
          },
          "execution_count": 19,
          "metadata": {},
          "output_type": "execute_result"
        }
      ],
      "source": [
        "%%sql\n",
        "SELECT * FROM person ORDER BY id DESC;"
      ]
    },
    {
      "cell_type": "markdown",
      "id": "cell-28",
      "metadata": {
        "collapsed": false,
        "editable": false
      },
      "source": [
        "<p>(And if we want to make it clear that we’re sorting in ascending order,\n",
        "we can use <code style=\"color: inherit\">ASC</code> instead of <code style=\"color: inherit\">DESC</code>.)</p>\n",
        "<p>In order to look at which scientist measured quantities during each visit,\n",
        "we can look again at the <code style=\"color: inherit\">Survey</code> table.\n",
        "We can also sort on several fields at once.\n",
        "For example,\n",
        "this query sorts results first in ascending order by <code style=\"color: inherit\">taken</code>,\n",
        "and then in descending order by <code style=\"color: inherit\">person</code>\n",
        "within each group of equal <code style=\"color: inherit\">taken</code> values:</p>\n"
      ]
    },
    {
      "cell_type": "code",
      "execution_count": 20,
      "id": "cell-29",
      "metadata": {
        "attributes": {
          "classes": [
            "> <comment-title></comment-title>"
          ],
          "id": ""
        }
      },
      "outputs": [
        {
          "name": "stdout",
          "output_type": "stream",
          "text": [
            "Done.\n"
          ]
        },
        {
          "data": {
            "text/html": [
              "<table>\n",
              "    <thead>\n",
              "        <tr>\n",
              "            <th>taken</th>\n",
              "            <th>person</th>\n",
              "            <th>quant</th>\n",
              "        </tr>\n",
              "    </thead>\n",
              "    <tbody>\n",
              "        <tr>\n",
              "            <td>619</td>\n",
              "            <td>dyer</td>\n",
              "            <td>rad</td>\n",
              "        </tr>\n",
              "        <tr>\n",
              "            <td>619</td>\n",
              "            <td>dyer</td>\n",
              "            <td>sal</td>\n",
              "        </tr>\n",
              "        <tr>\n",
              "            <td>622</td>\n",
              "            <td>dyer</td>\n",
              "            <td>rad</td>\n",
              "        </tr>\n",
              "        <tr>\n",
              "            <td>622</td>\n",
              "            <td>dyer</td>\n",
              "            <td>sal</td>\n",
              "        </tr>\n",
              "        <tr>\n",
              "            <td>734</td>\n",
              "            <td>pb</td>\n",
              "            <td>rad</td>\n",
              "        </tr>\n",
              "        <tr>\n",
              "            <td>734</td>\n",
              "            <td>pb</td>\n",
              "            <td>temp</td>\n",
              "        </tr>\n",
              "        <tr>\n",
              "            <td>734</td>\n",
              "            <td>lake</td>\n",
              "            <td>sal</td>\n",
              "        </tr>\n",
              "        <tr>\n",
              "            <td>735</td>\n",
              "            <td>pb</td>\n",
              "            <td>rad</td>\n",
              "        </tr>\n",
              "        <tr>\n",
              "            <td>735</td>\n",
              "            <td>None</td>\n",
              "            <td>sal</td>\n",
              "        </tr>\n",
              "        <tr>\n",
              "            <td>735</td>\n",
              "            <td>None</td>\n",
              "            <td>temp</td>\n",
              "        </tr>\n",
              "        <tr>\n",
              "            <td>751</td>\n",
              "            <td>pb</td>\n",
              "            <td>rad</td>\n",
              "        </tr>\n",
              "        <tr>\n",
              "            <td>751</td>\n",
              "            <td>pb</td>\n",
              "            <td>temp</td>\n",
              "        </tr>\n",
              "        <tr>\n",
              "            <td>751</td>\n",
              "            <td>lake</td>\n",
              "            <td>sal</td>\n",
              "        </tr>\n",
              "        <tr>\n",
              "            <td>752</td>\n",
              "            <td>roe</td>\n",
              "            <td>sal</td>\n",
              "        </tr>\n",
              "        <tr>\n",
              "            <td>752</td>\n",
              "            <td>lake</td>\n",
              "            <td>rad</td>\n",
              "        </tr>\n",
              "        <tr>\n",
              "            <td>752</td>\n",
              "            <td>lake</td>\n",
              "            <td>sal</td>\n",
              "        </tr>\n",
              "        <tr>\n",
              "            <td>752</td>\n",
              "            <td>lake</td>\n",
              "            <td>temp</td>\n",
              "        </tr>\n",
              "        <tr>\n",
              "            <td>837</td>\n",
              "            <td>roe</td>\n",
              "            <td>sal</td>\n",
              "        </tr>\n",
              "        <tr>\n",
              "            <td>837</td>\n",
              "            <td>lake</td>\n",
              "            <td>rad</td>\n",
              "        </tr>\n",
              "        <tr>\n",
              "            <td>837</td>\n",
              "            <td>lake</td>\n",
              "            <td>sal</td>\n",
              "        </tr>\n",
              "        <tr>\n",
              "            <td>844</td>\n",
              "            <td>roe</td>\n",
              "            <td>rad</td>\n",
              "        </tr>\n",
              "    </tbody>\n",
              "</table>"
            ],
            "text/plain": [
              "[(619, 'dyer', 'rad'),\n",
              " (619, 'dyer', 'sal'),\n",
              " (622, 'dyer', 'rad'),\n",
              " (622, 'dyer', 'sal'),\n",
              " (734, 'pb', 'rad'),\n",
              " (734, 'pb', 'temp'),\n",
              " (734, 'lake', 'sal'),\n",
              " (735, 'pb', 'rad'),\n",
              " (735, None, 'sal'),\n",
              " (735, None, 'temp'),\n",
              " (751, 'pb', 'rad'),\n",
              " (751, 'pb', 'temp'),\n",
              " (751, 'lake', 'sal'),\n",
              " (752, 'roe', 'sal'),\n",
              " (752, 'lake', 'rad'),\n",
              " (752, 'lake', 'sal'),\n",
              " (752, 'lake', 'temp'),\n",
              " (837, 'roe', 'sal'),\n",
              " (837, 'lake', 'rad'),\n",
              " (837, 'lake', 'sal'),\n",
              " (844, 'roe', 'rad')]"
            ]
          },
          "execution_count": 20,
          "metadata": {},
          "output_type": "execute_result"
        }
      ],
      "source": [
        "%%sql\n",
        "SELECT taken, person, quant FROM Survey ORDER BY taken ASC, person DESC;"
      ]
    },
    {
      "cell_type": "markdown",
      "id": "cell-30",
      "metadata": {
        "collapsed": false,
        "editable": false
      },
      "source": [
        "<p>This query gives us a good idea of which scientist was involved in which visit,\n",
        "and what measurements they performed during the visit.</p>\n",
        "<p>Looking at the table, it seems like some scientists specialized in\n",
        "certain kinds of measurements.  We can examine which scientists\n",
        "performed which measurements by selecting the appropriate columns and\n",
        "removing duplicates.</p>\n"
      ]
    },
    {
      "cell_type": "code",
      "execution_count": 21,
      "id": "cell-31",
      "metadata": {
        "attributes": {
          "classes": [
            "> <comment-title></comment-title>"
          ],
          "id": ""
        }
      },
      "outputs": [
        {
          "name": "stdout",
          "output_type": "stream",
          "text": [
            "Done.\n"
          ]
        },
        {
          "data": {
            "text/html": [
              "<table>\n",
              "    <thead>\n",
              "        <tr>\n",
              "            <th>quant</th>\n",
              "            <th>person</th>\n",
              "        </tr>\n",
              "    </thead>\n",
              "    <tbody>\n",
              "        <tr>\n",
              "            <td>rad</td>\n",
              "            <td>dyer</td>\n",
              "        </tr>\n",
              "        <tr>\n",
              "            <td>rad</td>\n",
              "            <td>pb</td>\n",
              "        </tr>\n",
              "        <tr>\n",
              "            <td>rad</td>\n",
              "            <td>lake</td>\n",
              "        </tr>\n",
              "        <tr>\n",
              "            <td>rad</td>\n",
              "            <td>roe</td>\n",
              "        </tr>\n",
              "        <tr>\n",
              "            <td>sal</td>\n",
              "            <td>dyer</td>\n",
              "        </tr>\n",
              "        <tr>\n",
              "            <td>sal</td>\n",
              "            <td>lake</td>\n",
              "        </tr>\n",
              "        <tr>\n",
              "            <td>sal</td>\n",
              "            <td>None</td>\n",
              "        </tr>\n",
              "        <tr>\n",
              "            <td>sal</td>\n",
              "            <td>roe</td>\n",
              "        </tr>\n",
              "        <tr>\n",
              "            <td>temp</td>\n",
              "            <td>pb</td>\n",
              "        </tr>\n",
              "        <tr>\n",
              "            <td>temp</td>\n",
              "            <td>None</td>\n",
              "        </tr>\n",
              "        <tr>\n",
              "            <td>temp</td>\n",
              "            <td>lake</td>\n",
              "        </tr>\n",
              "    </tbody>\n",
              "</table>"
            ],
            "text/plain": [
              "[('rad', 'dyer'),\n",
              " ('rad', 'pb'),\n",
              " ('rad', 'lake'),\n",
              " ('rad', 'roe'),\n",
              " ('sal', 'dyer'),\n",
              " ('sal', 'lake'),\n",
              " ('sal', None),\n",
              " ('sal', 'roe'),\n",
              " ('temp', 'pb'),\n",
              " ('temp', None),\n",
              " ('temp', 'lake')]"
            ]
          },
          "execution_count": 21,
          "metadata": {},
          "output_type": "execute_result"
        }
      ],
      "source": [
        "%%sql\n",
        "SELECT DISTINCT quant, person FROM Survey ORDER BY quant ASC;"
      ]
    },
    {
      "cell_type": "markdown",
      "id": "cell-32",
      "metadata": {
        "collapsed": false,
        "editable": false
      },
      "source": [
        "<blockquote class=\"question\" style=\"border: 2px solid #8A9AD0; margin: 1em 0.2em\">\n",
        "<div class=\"box-title question-title\" id=\"question-finding-distinct-dates\"><i class=\"far fa-question-circle\" aria-hidden=\"true\" ></i> Question: Finding Distinct Dates</div>\n",
        "<p>Write a query that selects distinct dates from the <code style=\"color: inherit\">Visited</code> table.</p>\n",
        "<br/><details style=\"border: 2px solid #B8C3EA; margin: 1em 0.2em;padding: 0.5em; cursor: pointer;\"><summary>👁 View solution</summary>\n",
        "<div class=\"box-title solution-title\" id=\"solution-2\"><button class=\"gtn-boxify-button solution\" type=\"button\" aria-controls=\"solution-2\" aria-expanded=\"true\"><i class=\"far fa-eye\" aria-hidden=\"true\" ></i> <span>Solution</span><span class=\"fold-unfold fa fa-minus-square\"></span></button></div>\n",
        "<div class=\"language-plaintext highlighter-rouge\"><div><pre style=\"color: inherit; background: transparent\"><code style=\"color: inherit\">SELECT DISTINCT dated FROM Visited;\n",
        "</code></pre></div>    </div>\n",
        "<table>\n",
        "<thead>\n",
        "<tr>\n",
        "<th>dated</th>\n",
        "</tr>\n",
        "</thead>\n",
        "<tbody>\n",
        "<tr>\n",
        "<td>1927-02-08</td>\n",
        "</tr>\n",
        "<tr>\n",
        "<td>1927-02-10</td>\n",
        "</tr>\n",
        "<tr>\n",
        "<td>1930-01-07</td>\n",
        "</tr>\n",
        "<tr>\n",
        "<td>1930-01-12</td>\n",
        "</tr>\n",
        "<tr>\n",
        "<td>1930-02-26</td>\n",
        "</tr>\n",
        "<tr>\n",
        "<td> </td>\n",
        "</tr>\n",
        "<tr>\n",
        "<td>1932-01-14</td>\n",
        "</tr>\n",
        "<tr>\n",
        "<td>1932-03-22</td>\n",
        "</tr>\n",
        "</tbody>\n",
        "</table>\n",
        "</details>\n",
        "</blockquote>\n"
      ]
    },
    {
      "cell_type": "code",
      "execution_count": 22,
      "id": "cell-33",
      "metadata": {
        "attributes": {
          "classes": [
            "> <comment-title></comment-title>"
          ],
          "id": ""
        }
      },
      "outputs": [
        {
          "name": "stdout",
          "output_type": "stream",
          "text": [
            "Done.\n"
          ]
        },
        {
          "data": {
            "text/html": [
              "<table>\n",
              "    <thead>\n",
              "        <tr>\n",
              "            <th>dated</th>\n",
              "        </tr>\n",
              "    </thead>\n",
              "    <tbody>\n",
              "        <tr>\n",
              "            <td>1927-02-08</td>\n",
              "        </tr>\n",
              "        <tr>\n",
              "            <td>1927-02-10</td>\n",
              "        </tr>\n",
              "        <tr>\n",
              "            <td>1930-01-07</td>\n",
              "        </tr>\n",
              "        <tr>\n",
              "            <td>1930-01-12</td>\n",
              "        </tr>\n",
              "        <tr>\n",
              "            <td>1930-02-26</td>\n",
              "        </tr>\n",
              "        <tr>\n",
              "            <td>None</td>\n",
              "        </tr>\n",
              "        <tr>\n",
              "            <td>1932-01-14</td>\n",
              "        </tr>\n",
              "        <tr>\n",
              "            <td>1932-03-22</td>\n",
              "        </tr>\n",
              "    </tbody>\n",
              "</table>"
            ],
            "text/plain": [
              "[('1927-02-08',),\n",
              " ('1927-02-10',),\n",
              " ('1930-01-07',),\n",
              " ('1930-01-12',),\n",
              " ('1930-02-26',),\n",
              " (None,),\n",
              " ('1932-01-14',),\n",
              " ('1932-03-22',)]"
            ]
          },
          "execution_count": 22,
          "metadata": {},
          "output_type": "execute_result"
        }
      ],
      "source": [
        "%%sql\n",
        "-- Try solutions here!\n",
        "SELECT DISTINCT dated FROM Visited;"
      ]
    },
    {
      "cell_type": "markdown",
      "id": "cell-34",
      "metadata": {
        "collapsed": false,
        "editable": false
      },
      "source": [
        "<blockquote class=\"question\" style=\"border: 2px solid #8A9AD0; margin: 1em 0.2em\">\n",
        "<div class=\"box-title question-title\" id=\"question-displaying-full-names\"><i class=\"far fa-question-circle\" aria-hidden=\"true\" ></i> Question: Displaying Full Names</div>\n",
        "<p>Write a query that displays the full names of the scientists in the <code style=\"color: inherit\">Person</code> table,\n",
        "ordered by family name.</p>\n",
        "<br/><details style=\"border: 2px solid #B8C3EA; margin: 1em 0.2em;padding: 0.5em; cursor: pointer;\"><summary>👁 View solution</summary>\n",
        "<div class=\"box-title solution-title\" id=\"solution-3\"><button class=\"gtn-boxify-button solution\" type=\"button\" aria-controls=\"solution-3\" aria-expanded=\"true\"><i class=\"far fa-eye\" aria-hidden=\"true\" ></i> <span>Solution</span><span class=\"fold-unfold fa fa-minus-square\"></span></button></div>\n",
        "<div class=\"language-plaintext highlighter-rouge\"><div><pre style=\"color: inherit; background: transparent\"><code style=\"color: inherit\">SELECT personal, family FROM Person ORDER BY family ASC;\n",
        "</code></pre></div>    </div>\n",
        "<table>\n",
        "<thead>\n",
        "<tr>\n",
        "<th>personal</th>\n",
        "<th>family</th>\n",
        "</tr>\n",
        "</thead>\n",
        "<tbody>\n",
        "<tr>\n",
        "<td>Frank</td>\n",
        "<td>Danforth</td>\n",
        "</tr>\n",
        "<tr>\n",
        "<td>William</td>\n",
        "<td>Dyer</td>\n",
        "</tr>\n",
        "<tr>\n",
        "<td>Anderson</td>\n",
        "<td>Lake</td>\n",
        "</tr>\n",
        "<tr>\n",
        "<td>Frank</td>\n",
        "<td>Pabodie</td>\n",
        "</tr>\n",
        "<tr>\n",
        "<td>Valentina</td>\n",
        "<td>Roerich</td>\n",
        "</tr>\n",
        "</tbody>\n",
        "</table>\n",
        "</details>\n",
        "</blockquote>\n"
      ]
    },
    {
      "cell_type": "code",
      "execution_count": 23,
      "id": "cell-35",
      "metadata": {
        "attributes": {
          "classes": [
            "> <comment-title></comment-title>"
          ],
          "id": ""
        }
      },
      "outputs": [
        {
          "name": "stdout",
          "output_type": "stream",
          "text": [
            "Done.\n"
          ]
        },
        {
          "data": {
            "text/html": [
              "<table>\n",
              "    <thead>\n",
              "        <tr>\n",
              "            <th>personal</th>\n",
              "            <th>family</th>\n",
              "        </tr>\n",
              "    </thead>\n",
              "    <tbody>\n",
              "        <tr>\n",
              "            <td>Frank</td>\n",
              "            <td>Danforth</td>\n",
              "        </tr>\n",
              "        <tr>\n",
              "            <td>William</td>\n",
              "            <td>Dyer</td>\n",
              "        </tr>\n",
              "        <tr>\n",
              "            <td>Anderson</td>\n",
              "            <td>Lake</td>\n",
              "        </tr>\n",
              "        <tr>\n",
              "            <td>Frank</td>\n",
              "            <td>Pabodie</td>\n",
              "        </tr>\n",
              "        <tr>\n",
              "            <td>Valentina</td>\n",
              "            <td>Roerich</td>\n",
              "        </tr>\n",
              "    </tbody>\n",
              "</table>"
            ],
            "text/plain": [
              "[('Frank', 'Danforth'),\n",
              " ('William', 'Dyer'),\n",
              " ('Anderson', 'Lake'),\n",
              " ('Frank', 'Pabodie'),\n",
              " ('Valentina', 'Roerich')]"
            ]
          },
          "execution_count": 23,
          "metadata": {},
          "output_type": "execute_result"
        }
      ],
      "source": [
        "%%sql\n",
        "-- Try solutions here!\n",
        "SELECT personal, family FROM Person ORDER BY family"
      ]
    },
    {
      "cell_type": "markdown",
      "id": "cell-36",
      "metadata": {
        "collapsed": false,
        "editable": false
      },
      "source": [
        "<blockquote class=\"tip\" style=\"border: 2px solid #FFE19E; margin: 1em 0.2em\">\n",
        "<div class=\"box-title tip-title\" id=\"tip-is-sorting-names-useful\"><button class=\"gtn-boxify-button tip\" type=\"button\" aria-controls=\"tip-is-sorting-names-useful\" aria-expanded=\"true\"><i class=\"far fa-lightbulb\" aria-hidden=\"true\" ></i> <span>Tip: Is sorting names useful?</span><span class=\"fold-unfold fa fa-minus-square\"></span></button></div>\n",
        "<p>If you are someone with a name which falls at the end of the alphabet, you’ve likely been\n",
        "penalised for this your entire life. Alphabetically sorting names should always be looked at\n",
        "critically and through a lens to whether you are fairly reflecting everyone’s contributions,\n",
        "rather than just the default sort order.</p>\n",
        "<p>There are many options, either by some metric of contribution that everyone could agree on, or\n",
        "better, consider random sorting, like the GTN uses with our <a href=\"{% link hall-of-fame.md %}\">Hall of Fame</a>\n",
        "page where we intentionally order randomly to tell contributors that no one persons\n",
        "contributions matter more than anothers.</p>\n",
        "<blockquote class=\"quote\">\n",
        "<p>The evidence provided in a variety of studies leaves no doubt that an\n",
        "alphabetical author ordering norm disadvantages researchers with\n",
        "last names toward the end of the alphabet. There is furthermore con-\n",
        "vincing evidence that researchers are aware of this and that they\n",
        "react strategically to such alphabetical discrimination, for example\n",
        "with their choices of who to collaborate with. See {% cite Weber_2018 %} for more.</p>\n",
        "</blockquote>\n",
        "</blockquote>\n",
        "<blockquote class=\"tip\" style=\"border: 2px solid #FFE19E; margin: 1em 0.2em\">\n",
        "<div class=\"box-title tip-title\" id=\"tip-name-collation\"><button class=\"gtn-boxify-button tip\" type=\"button\" aria-controls=\"tip-name-collation\" aria-expanded=\"true\"><i class=\"far fa-lightbulb\" aria-hidden=\"true\" ></i> <span>Tip: Name collation</span><span class=\"fold-unfold fa fa-minus-square\"></span></button></div>\n",
        "<p>When you are sorting things in SQL, you need to be aware of something called collation which can\n",
        "affect your results if you have values that are not the letters A-Z. Collating is the process of\n",
        "sorting values, and this affects many human languages when storing data in a database.</p>\n",
        "<p>Here is a Dutch example. In the old days their alphabet contained a <code style=\"color: inherit\">ÿ</code> which was later replaced\n",
        "with <code style=\"color: inherit\">ĳ</code>, a digraph of two characters squished together. This is commonly rendered as <code style=\"color: inherit\">ij</code>\n",
        "however, two separate characters, due to the internet and widespread use of keyboards featuring\n",
        "mainly ascii characters. However, it is still the 25th letter of their alphabet.</p>\n",
        "<div class=\"language-plaintext highlighter-rouge\"><div><pre style=\"color: inherit; background: transparent\"><code style=\"color: inherit\">sqlite&gt; create table nl(value text);\n",
        "sqlite&gt; insert into nl values ('appel'), ('beer'), ('index'), ('ijs'), ('jammer'), ('winkel'), ('zon');\n",
        "sqlite&gt; select * from nl order by value;\n",
        "appel\n",
        "beer\n",
        "index\n",
        "ijs\n",
        "jammer\n",
        "winkel\n",
        "zon\n",
        "</code></pre></div>  </div>\n",
        "<p>Find a dutch friend and ask them if this is the correct order for this list. Unfortunately it\n",
        "isn’t. Even though it is <code style=\"color: inherit\">ij</code> as two separate characters, it should be sorted as if it was <code style=\"color: inherit\">ĳ</code> or\n",
        "<code style=\"color: inherit\">ÿ</code>, before <code style=\"color: inherit\">z</code>. Like so: appel, beer, index, jammer, winkel, ijs, zon</p>\n",
        "<p>While there is not much you can do about it now (you’re just beginning!) it is something you\n",
        "should be aware of. When you later need to know about this, you will find the term ‘collation’\n",
        "useful, and you’ll find the procedure is different for every database engine.</p>\n",
        "</blockquote>\n",
        "<h1 id=\"filtering\">Filtering</h1>\n",
        "<p>One of the most powerful features of a database is\n",
        "the ability to filter data,\n",
        "i.e.,\n",
        "to select only those records that match certain criteria.\n",
        "For example,\n",
        "suppose we want to see when a particular site was visited.\n",
        "We can select these records from the <code style=\"color: inherit\">Visited</code> table\n",
        "by using a <code style=\"color: inherit\">WHERE</code> clause in our query:</p>\n"
      ]
    },
    {
      "cell_type": "code",
      "execution_count": 24,
      "id": "cell-37",
      "metadata": {
        "attributes": {
          "classes": [
            "> <comment-title></comment-title>"
          ],
          "id": ""
        }
      },
      "outputs": [
        {
          "name": "stdout",
          "output_type": "stream",
          "text": [
            "Done.\n"
          ]
        },
        {
          "data": {
            "text/html": [
              "<table>\n",
              "    <thead>\n",
              "        <tr>\n",
              "            <th>id</th>\n",
              "            <th>site</th>\n",
              "            <th>dated</th>\n",
              "        </tr>\n",
              "    </thead>\n",
              "    <tbody>\n",
              "        <tr>\n",
              "            <td>619</td>\n",
              "            <td>DR-1</td>\n",
              "            <td>1927-02-08</td>\n",
              "        </tr>\n",
              "        <tr>\n",
              "            <td>622</td>\n",
              "            <td>DR-1</td>\n",
              "            <td>1927-02-10</td>\n",
              "        </tr>\n",
              "        <tr>\n",
              "            <td>844</td>\n",
              "            <td>DR-1</td>\n",
              "            <td>1932-03-22</td>\n",
              "        </tr>\n",
              "    </tbody>\n",
              "</table>"
            ],
            "text/plain": [
              "[(619, 'DR-1', '1927-02-08'),\n",
              " (622, 'DR-1', '1927-02-10'),\n",
              " (844, 'DR-1', '1932-03-22')]"
            ]
          },
          "execution_count": 24,
          "metadata": {},
          "output_type": "execute_result"
        }
      ],
      "source": [
        "%%sql\n",
        "SELECT * FROM Visited WHERE site = 'DR-1';"
      ]
    },
    {
      "cell_type": "markdown",
      "id": "cell-38",
      "metadata": {
        "collapsed": false,
        "editable": false
      },
      "source": [
        "<p>The database manager executes this query in two stages.\n",
        "First,\n",
        "it checks at each row in the <code style=\"color: inherit\">Visited</code> table\n",
        "to see which ones satisfy the <code style=\"color: inherit\">WHERE</code>.\n",
        "It then uses the column names following the <code style=\"color: inherit\">SELECT</code> keyword\n",
        "to determine which columns to display.</p>\n",
        "<p>This processing order means that\n",
        "we can filter records using <code style=\"color: inherit\">WHERE</code>\n",
        "based on values in columns that aren’t then displayed:</p>\n"
      ]
    },
    {
      "cell_type": "code",
      "execution_count": 25,
      "id": "cell-39",
      "metadata": {
        "attributes": {
          "classes": [
            "> <comment-title></comment-title>"
          ],
          "id": ""
        }
      },
      "outputs": [
        {
          "name": "stdout",
          "output_type": "stream",
          "text": [
            "Done.\n"
          ]
        },
        {
          "data": {
            "text/html": [
              "<table>\n",
              "    <thead>\n",
              "        <tr>\n",
              "            <th>id</th>\n",
              "        </tr>\n",
              "    </thead>\n",
              "    <tbody>\n",
              "        <tr>\n",
              "            <td>619</td>\n",
              "        </tr>\n",
              "        <tr>\n",
              "            <td>622</td>\n",
              "        </tr>\n",
              "        <tr>\n",
              "            <td>844</td>\n",
              "        </tr>\n",
              "    </tbody>\n",
              "</table>"
            ],
            "text/plain": [
              "[(619,), (622,), (844,)]"
            ]
          },
          "execution_count": 25,
          "metadata": {},
          "output_type": "execute_result"
        }
      ],
      "source": [
        "%%sql\n",
        "SELECT id FROM Visited WHERE site = 'DR-1';"
      ]
    },
    {
      "cell_type": "markdown",
      "id": "cell-40",
      "metadata": {
        "collapsed": false,
        "editable": false
      },
      "source": [
        "<p>![SQL Filtering in Action]`(../../images/carpentries-sql/sql-filter.svg)</p>\n",
        "<p>We can use many other Boolean operators to filter our data.\n",
        "For example,\n",
        "we can ask for all information from the DR-1 site collected before 1930:</p>\n"
      ]
    },
    {
      "cell_type": "code",
      "execution_count": 26,
      "id": "cell-41",
      "metadata": {
        "attributes": {
          "classes": [
            "> <comment-title></comment-title>"
          ],
          "id": ""
        }
      },
      "outputs": [
        {
          "name": "stdout",
          "output_type": "stream",
          "text": [
            "Done.\n"
          ]
        },
        {
          "data": {
            "text/html": [
              "<table>\n",
              "    <thead>\n",
              "        <tr>\n",
              "            <th>id</th>\n",
              "            <th>site</th>\n",
              "            <th>dated</th>\n",
              "        </tr>\n",
              "    </thead>\n",
              "    <tbody>\n",
              "        <tr>\n",
              "            <td>619</td>\n",
              "            <td>DR-1</td>\n",
              "            <td>1927-02-08</td>\n",
              "        </tr>\n",
              "        <tr>\n",
              "            <td>622</td>\n",
              "            <td>DR-1</td>\n",
              "            <td>1927-02-10</td>\n",
              "        </tr>\n",
              "    </tbody>\n",
              "</table>"
            ],
            "text/plain": [
              "[(619, 'DR-1', '1927-02-08'), (622, 'DR-1', '1927-02-10')]"
            ]
          },
          "execution_count": 26,
          "metadata": {},
          "output_type": "execute_result"
        }
      ],
      "source": [
        "%%sql\n",
        "SELECT * FROM Visited WHERE site = 'DR-1' AND dated < '1930-01-01';"
      ]
    },
    {
      "cell_type": "markdown",
      "id": "cell-42",
      "metadata": {
        "collapsed": false,
        "editable": false
      },
      "source": [
        "<blockquote class=\"tip\" style=\"border: 2px solid #FFE19E; margin: 1em 0.2em\">\n",
        "<div class=\"box-title tip-title\" id=\"tip-date-types\"><button class=\"gtn-boxify-button tip\" type=\"button\" aria-controls=\"tip-date-types\" aria-expanded=\"true\"><i class=\"far fa-lightbulb\" aria-hidden=\"true\" ></i> <span>Tip: Date Types</span><span class=\"fold-unfold fa fa-minus-square\"></span></button></div>\n",
        "<p>Most database managers have a special data type for dates.\n",
        "In fact, many have two:\n",
        "one for dates,\n",
        "such as “May 31, 1971”,\n",
        "and one for durations,\n",
        "such as “31 days”.\n",
        "SQLite doesn’t:\n",
        "instead,\n",
        "it stores dates as either text\n",
        "(in the ISO-8601 standard format “YYYY-MM-DD HH:MM:SS.SSSS”),\n",
        "real numbers\n",
        "(<a href=\"https://en.wikipedia.org/wiki/Julian_day\">Julian days</a>, the number of days since November 24, 4714 BCE),\n",
        "or integers\n",
        "(<a href=\"https://en.wikipedia.org/wiki/Unix_time\">Unix time</a>, the number of seconds since midnight, January 1, 1970).\n",
        "If this sounds complicated,\n",
        "it is,\n",
        "but not nearly as complicated as figuring out\n",
        "<a href=\"https://en.wikipedia.org/wiki/Swedish_calendar\">historical dates in Sweden</a>.</p>\n",
        "</blockquote>\n",
        "<blockquote class=\"tip\" style=\"border: 2px solid #FFE19E; margin: 1em 0.2em\">\n",
        "<div class=\"box-title tip-title\" id=\"tip-30-1930-or-2030\"><button class=\"gtn-boxify-button tip\" type=\"button\" aria-controls=\"tip-30-1930-or-2030\" aria-expanded=\"true\"><i class=\"far fa-lightbulb\" aria-hidden=\"true\" ></i> <span>Tip: '30: 1930 or 2030?</span><span class=\"fold-unfold fa fa-minus-square\"></span></button></div>\n",
        "<p>Storing the year as the last two digits causes problems in databases, and is part of what caused\n",
        "<a href=\"https://en.wikipedia.org/wiki/Year_2000_problem\">Y2K</a>. Be sure to use the databases’ built in\n",
        "format for storing dates, if it is available as that will generally avoid any major issues.</p>\n",
        "<p>Similarly there is a <a href=\"https://en.wikipedia.org/wiki/Year_2000_problem#Year_2038_problem\">“Year 2038 problem”</a>,\n",
        "as the timestamps mentioned above that count seconds since Jan 1, 1970 were running out of space\n",
        "on 32-bit machines. Many systems have since migrated to work around this with 64-bit timestamps.</p>\n",
        "</blockquote>\n",
        "<p>If we want to find out what measurements were taken by either Lake or Roerich,\n",
        "we can combine the tests on their names using <code style=\"color: inherit\">OR</code>:</p>\n"
      ]
    },
    {
      "cell_type": "code",
      "execution_count": 27,
      "id": "cell-43",
      "metadata": {
        "attributes": {
          "classes": [
            "> <comment-title></comment-title>"
          ],
          "id": ""
        }
      },
      "outputs": [
        {
          "name": "stdout",
          "output_type": "stream",
          "text": [
            "Done.\n"
          ]
        },
        {
          "data": {
            "text/html": [
              "<table>\n",
              "    <thead>\n",
              "        <tr>\n",
              "            <th>taken</th>\n",
              "            <th>person</th>\n",
              "            <th>quant</th>\n",
              "            <th>reading</th>\n",
              "        </tr>\n",
              "    </thead>\n",
              "    <tbody>\n",
              "        <tr>\n",
              "            <td>734</td>\n",
              "            <td>lake</td>\n",
              "            <td>sal</td>\n",
              "            <td>0.05</td>\n",
              "        </tr>\n",
              "        <tr>\n",
              "            <td>751</td>\n",
              "            <td>lake</td>\n",
              "            <td>sal</td>\n",
              "            <td>0.1</td>\n",
              "        </tr>\n",
              "        <tr>\n",
              "            <td>752</td>\n",
              "            <td>lake</td>\n",
              "            <td>rad</td>\n",
              "            <td>2.19</td>\n",
              "        </tr>\n",
              "        <tr>\n",
              "            <td>752</td>\n",
              "            <td>lake</td>\n",
              "            <td>sal</td>\n",
              "            <td>0.09</td>\n",
              "        </tr>\n",
              "        <tr>\n",
              "            <td>752</td>\n",
              "            <td>lake</td>\n",
              "            <td>temp</td>\n",
              "            <td>-16.0</td>\n",
              "        </tr>\n",
              "        <tr>\n",
              "            <td>752</td>\n",
              "            <td>roe</td>\n",
              "            <td>sal</td>\n",
              "            <td>41.6</td>\n",
              "        </tr>\n",
              "        <tr>\n",
              "            <td>837</td>\n",
              "            <td>lake</td>\n",
              "            <td>rad</td>\n",
              "            <td>1.46</td>\n",
              "        </tr>\n",
              "        <tr>\n",
              "            <td>837</td>\n",
              "            <td>lake</td>\n",
              "            <td>sal</td>\n",
              "            <td>0.21</td>\n",
              "        </tr>\n",
              "        <tr>\n",
              "            <td>837</td>\n",
              "            <td>roe</td>\n",
              "            <td>sal</td>\n",
              "            <td>22.5</td>\n",
              "        </tr>\n",
              "        <tr>\n",
              "            <td>844</td>\n",
              "            <td>roe</td>\n",
              "            <td>rad</td>\n",
              "            <td>11.25</td>\n",
              "        </tr>\n",
              "    </tbody>\n",
              "</table>"
            ],
            "text/plain": [
              "[(734, 'lake', 'sal', 0.05),\n",
              " (751, 'lake', 'sal', 0.1),\n",
              " (752, 'lake', 'rad', 2.19),\n",
              " (752, 'lake', 'sal', 0.09),\n",
              " (752, 'lake', 'temp', -16.0),\n",
              " (752, 'roe', 'sal', 41.6),\n",
              " (837, 'lake', 'rad', 1.46),\n",
              " (837, 'lake', 'sal', 0.21),\n",
              " (837, 'roe', 'sal', 22.5),\n",
              " (844, 'roe', 'rad', 11.25)]"
            ]
          },
          "execution_count": 27,
          "metadata": {},
          "output_type": "execute_result"
        }
      ],
      "source": [
        "%%sql\n",
        "SELECT * FROM Survey WHERE person = 'lake' OR person = 'roe';"
      ]
    },
    {
      "cell_type": "markdown",
      "id": "cell-44",
      "metadata": {
        "collapsed": false,
        "editable": false
      },
      "source": [
        "<p>Alternatively,\n",
        "we can use <code style=\"color: inherit\">IN</code> to see if a value is in a specific set:</p>\n"
      ]
    },
    {
      "cell_type": "code",
      "execution_count": 28,
      "id": "cell-45",
      "metadata": {
        "attributes": {
          "classes": [
            "> <comment-title></comment-title>"
          ],
          "id": ""
        }
      },
      "outputs": [
        {
          "name": "stdout",
          "output_type": "stream",
          "text": [
            "Done.\n"
          ]
        },
        {
          "data": {
            "text/html": [
              "<table>\n",
              "    <thead>\n",
              "        <tr>\n",
              "            <th>taken</th>\n",
              "            <th>person</th>\n",
              "            <th>quant</th>\n",
              "            <th>reading</th>\n",
              "        </tr>\n",
              "    </thead>\n",
              "    <tbody>\n",
              "        <tr>\n",
              "            <td>734</td>\n",
              "            <td>lake</td>\n",
              "            <td>sal</td>\n",
              "            <td>0.05</td>\n",
              "        </tr>\n",
              "        <tr>\n",
              "            <td>751</td>\n",
              "            <td>lake</td>\n",
              "            <td>sal</td>\n",
              "            <td>0.1</td>\n",
              "        </tr>\n",
              "        <tr>\n",
              "            <td>752</td>\n",
              "            <td>lake</td>\n",
              "            <td>rad</td>\n",
              "            <td>2.19</td>\n",
              "        </tr>\n",
              "        <tr>\n",
              "            <td>752</td>\n",
              "            <td>lake</td>\n",
              "            <td>sal</td>\n",
              "            <td>0.09</td>\n",
              "        </tr>\n",
              "        <tr>\n",
              "            <td>752</td>\n",
              "            <td>lake</td>\n",
              "            <td>temp</td>\n",
              "            <td>-16.0</td>\n",
              "        </tr>\n",
              "        <tr>\n",
              "            <td>752</td>\n",
              "            <td>roe</td>\n",
              "            <td>sal</td>\n",
              "            <td>41.6</td>\n",
              "        </tr>\n",
              "        <tr>\n",
              "            <td>837</td>\n",
              "            <td>lake</td>\n",
              "            <td>rad</td>\n",
              "            <td>1.46</td>\n",
              "        </tr>\n",
              "        <tr>\n",
              "            <td>837</td>\n",
              "            <td>lake</td>\n",
              "            <td>sal</td>\n",
              "            <td>0.21</td>\n",
              "        </tr>\n",
              "        <tr>\n",
              "            <td>837</td>\n",
              "            <td>roe</td>\n",
              "            <td>sal</td>\n",
              "            <td>22.5</td>\n",
              "        </tr>\n",
              "        <tr>\n",
              "            <td>844</td>\n",
              "            <td>roe</td>\n",
              "            <td>rad</td>\n",
              "            <td>11.25</td>\n",
              "        </tr>\n",
              "    </tbody>\n",
              "</table>"
            ],
            "text/plain": [
              "[(734, 'lake', 'sal', 0.05),\n",
              " (751, 'lake', 'sal', 0.1),\n",
              " (752, 'lake', 'rad', 2.19),\n",
              " (752, 'lake', 'sal', 0.09),\n",
              " (752, 'lake', 'temp', -16.0),\n",
              " (752, 'roe', 'sal', 41.6),\n",
              " (837, 'lake', 'rad', 1.46),\n",
              " (837, 'lake', 'sal', 0.21),\n",
              " (837, 'roe', 'sal', 22.5),\n",
              " (844, 'roe', 'rad', 11.25)]"
            ]
          },
          "execution_count": 28,
          "metadata": {},
          "output_type": "execute_result"
        }
      ],
      "source": [
        "%%sql\n",
        "SELECT * FROM Survey WHERE person IN ('lake', 'roe');"
      ]
    },
    {
      "cell_type": "markdown",
      "id": "cell-46",
      "metadata": {
        "collapsed": false,
        "editable": false
      },
      "source": [
        "<p>We can combine <code style=\"color: inherit\">AND</code> with <code style=\"color: inherit\">OR</code>,\n",
        "but we need to be careful about which operator is executed first.\n",
        "If we <em>don’t</em> use parentheses,\n",
        "we get this:</p>\n"
      ]
    },
    {
      "cell_type": "code",
      "execution_count": 29,
      "id": "cell-47",
      "metadata": {
        "attributes": {
          "classes": [
            "> <comment-title></comment-title>"
          ],
          "id": ""
        }
      },
      "outputs": [
        {
          "name": "stdout",
          "output_type": "stream",
          "text": [
            "Done.\n"
          ]
        },
        {
          "data": {
            "text/html": [
              "<table>\n",
              "    <thead>\n",
              "        <tr>\n",
              "            <th>taken</th>\n",
              "            <th>person</th>\n",
              "            <th>quant</th>\n",
              "            <th>reading</th>\n",
              "        </tr>\n",
              "    </thead>\n",
              "    <tbody>\n",
              "        <tr>\n",
              "            <td>734</td>\n",
              "            <td>lake</td>\n",
              "            <td>sal</td>\n",
              "            <td>0.05</td>\n",
              "        </tr>\n",
              "        <tr>\n",
              "            <td>751</td>\n",
              "            <td>lake</td>\n",
              "            <td>sal</td>\n",
              "            <td>0.1</td>\n",
              "        </tr>\n",
              "        <tr>\n",
              "            <td>752</td>\n",
              "            <td>lake</td>\n",
              "            <td>sal</td>\n",
              "            <td>0.09</td>\n",
              "        </tr>\n",
              "        <tr>\n",
              "            <td>752</td>\n",
              "            <td>roe</td>\n",
              "            <td>sal</td>\n",
              "            <td>41.6</td>\n",
              "        </tr>\n",
              "        <tr>\n",
              "            <td>837</td>\n",
              "            <td>lake</td>\n",
              "            <td>sal</td>\n",
              "            <td>0.21</td>\n",
              "        </tr>\n",
              "        <tr>\n",
              "            <td>837</td>\n",
              "            <td>roe</td>\n",
              "            <td>sal</td>\n",
              "            <td>22.5</td>\n",
              "        </tr>\n",
              "        <tr>\n",
              "            <td>844</td>\n",
              "            <td>roe</td>\n",
              "            <td>rad</td>\n",
              "            <td>11.25</td>\n",
              "        </tr>\n",
              "    </tbody>\n",
              "</table>"
            ],
            "text/plain": [
              "[(734, 'lake', 'sal', 0.05),\n",
              " (751, 'lake', 'sal', 0.1),\n",
              " (752, 'lake', 'sal', 0.09),\n",
              " (752, 'roe', 'sal', 41.6),\n",
              " (837, 'lake', 'sal', 0.21),\n",
              " (837, 'roe', 'sal', 22.5),\n",
              " (844, 'roe', 'rad', 11.25)]"
            ]
          },
          "execution_count": 29,
          "metadata": {},
          "output_type": "execute_result"
        }
      ],
      "source": [
        "%%sql\n",
        "SELECT * FROM Survey WHERE quant = 'sal' AND person = 'lake' OR person = 'roe';"
      ]
    },
    {
      "cell_type": "markdown",
      "id": "cell-48",
      "metadata": {
        "collapsed": false,
        "editable": false
      },
      "source": [
        "<p>which is salinity measurements by Lake,\n",
        "and <em>any</em> measurement by Roerich.\n",
        "We probably want this instead:</p>\n"
      ]
    },
    {
      "cell_type": "code",
      "execution_count": 30,
      "id": "cell-49",
      "metadata": {
        "attributes": {
          "classes": [
            "> <comment-title></comment-title>"
          ],
          "id": ""
        }
      },
      "outputs": [
        {
          "name": "stdout",
          "output_type": "stream",
          "text": [
            "Done.\n"
          ]
        },
        {
          "data": {
            "text/html": [
              "<table>\n",
              "    <thead>\n",
              "        <tr>\n",
              "            <th>taken</th>\n",
              "            <th>person</th>\n",
              "            <th>quant</th>\n",
              "            <th>reading</th>\n",
              "        </tr>\n",
              "    </thead>\n",
              "    <tbody>\n",
              "        <tr>\n",
              "            <td>734</td>\n",
              "            <td>lake</td>\n",
              "            <td>sal</td>\n",
              "            <td>0.05</td>\n",
              "        </tr>\n",
              "        <tr>\n",
              "            <td>751</td>\n",
              "            <td>lake</td>\n",
              "            <td>sal</td>\n",
              "            <td>0.1</td>\n",
              "        </tr>\n",
              "        <tr>\n",
              "            <td>752</td>\n",
              "            <td>lake</td>\n",
              "            <td>sal</td>\n",
              "            <td>0.09</td>\n",
              "        </tr>\n",
              "        <tr>\n",
              "            <td>752</td>\n",
              "            <td>roe</td>\n",
              "            <td>sal</td>\n",
              "            <td>41.6</td>\n",
              "        </tr>\n",
              "        <tr>\n",
              "            <td>837</td>\n",
              "            <td>lake</td>\n",
              "            <td>sal</td>\n",
              "            <td>0.21</td>\n",
              "        </tr>\n",
              "        <tr>\n",
              "            <td>837</td>\n",
              "            <td>roe</td>\n",
              "            <td>sal</td>\n",
              "            <td>22.5</td>\n",
              "        </tr>\n",
              "    </tbody>\n",
              "</table>"
            ],
            "text/plain": [
              "[(734, 'lake', 'sal', 0.05),\n",
              " (751, 'lake', 'sal', 0.1),\n",
              " (752, 'lake', 'sal', 0.09),\n",
              " (752, 'roe', 'sal', 41.6),\n",
              " (837, 'lake', 'sal', 0.21),\n",
              " (837, 'roe', 'sal', 22.5)]"
            ]
          },
          "execution_count": 30,
          "metadata": {},
          "output_type": "execute_result"
        }
      ],
      "source": [
        "%%sql\n",
        "SELECT * FROM Survey WHERE quant = 'sal' AND (person = 'lake' OR person = 'roe');"
      ]
    },
    {
      "cell_type": "markdown",
      "id": "cell-50",
      "metadata": {
        "collapsed": false,
        "editable": false
      },
      "source": [
        "<p>We can also filter by partial matches.  For example, if we want to\n",
        "know something just about the site names beginning with “DR” we can\n",
        "use the <code style=\"color: inherit\">LIKE</code> keyword.  The percent symbol acts as a\n",
        "wildcard, matching any characters in that\n",
        "place.  It can be used at the beginning, middle, or end of the string\n",
        "<a href=\"https://www.w3schools.com/sql/sql_wildcards.asp\">See this page on wildcards</a> for more information:</p>\n"
      ]
    },
    {
      "cell_type": "code",
      "execution_count": 31,
      "id": "cell-51",
      "metadata": {
        "attributes": {
          "classes": [
            "> <comment-title></comment-title>"
          ],
          "id": ""
        }
      },
      "outputs": [
        {
          "name": "stdout",
          "output_type": "stream",
          "text": [
            "Done.\n"
          ]
        },
        {
          "data": {
            "text/html": [
              "<table>\n",
              "    <thead>\n",
              "        <tr>\n",
              "            <th>id</th>\n",
              "            <th>site</th>\n",
              "            <th>dated</th>\n",
              "        </tr>\n",
              "    </thead>\n",
              "    <tbody>\n",
              "        <tr>\n",
              "            <td>619</td>\n",
              "            <td>DR-1</td>\n",
              "            <td>1927-02-08</td>\n",
              "        </tr>\n",
              "        <tr>\n",
              "            <td>622</td>\n",
              "            <td>DR-1</td>\n",
              "            <td>1927-02-10</td>\n",
              "        </tr>\n",
              "        <tr>\n",
              "            <td>734</td>\n",
              "            <td>DR-3</td>\n",
              "            <td>1930-01-07</td>\n",
              "        </tr>\n",
              "        <tr>\n",
              "            <td>735</td>\n",
              "            <td>DR-3</td>\n",
              "            <td>1930-01-12</td>\n",
              "        </tr>\n",
              "        <tr>\n",
              "            <td>751</td>\n",
              "            <td>DR-3</td>\n",
              "            <td>1930-02-26</td>\n",
              "        </tr>\n",
              "        <tr>\n",
              "            <td>752</td>\n",
              "            <td>DR-3</td>\n",
              "            <td>None</td>\n",
              "        </tr>\n",
              "        <tr>\n",
              "            <td>844</td>\n",
              "            <td>DR-1</td>\n",
              "            <td>1932-03-22</td>\n",
              "        </tr>\n",
              "    </tbody>\n",
              "</table>"
            ],
            "text/plain": [
              "[(619, 'DR-1', '1927-02-08'),\n",
              " (622, 'DR-1', '1927-02-10'),\n",
              " (734, 'DR-3', '1930-01-07'),\n",
              " (735, 'DR-3', '1930-01-12'),\n",
              " (751, 'DR-3', '1930-02-26'),\n",
              " (752, 'DR-3', None),\n",
              " (844, 'DR-1', '1932-03-22')]"
            ]
          },
          "execution_count": 31,
          "metadata": {},
          "output_type": "execute_result"
        }
      ],
      "source": [
        "%%sql\n",
        "SELECT * FROM Visited WHERE site LIKE 'DR%';"
      ]
    },
    {
      "cell_type": "markdown",
      "id": "cell-52",
      "metadata": {
        "collapsed": false,
        "editable": false
      },
      "source": [
        "<p>Finally,\n",
        "we can use <code style=\"color: inherit\">DISTINCT</code> with <code style=\"color: inherit\">WHERE</code>\n",
        "to give a second level of filtering:</p>\n"
      ]
    },
    {
      "cell_type": "code",
      "execution_count": 32,
      "id": "cell-53",
      "metadata": {
        "attributes": {
          "classes": [
            "> <comment-title></comment-title>"
          ],
          "id": ""
        }
      },
      "outputs": [
        {
          "name": "stdout",
          "output_type": "stream",
          "text": [
            "Done.\n"
          ]
        },
        {
          "data": {
            "text/html": [
              "<table>\n",
              "    <thead>\n",
              "        <tr>\n",
              "            <th>person</th>\n",
              "            <th>quant</th>\n",
              "        </tr>\n",
              "    </thead>\n",
              "    <tbody>\n",
              "        <tr>\n",
              "            <td>lake</td>\n",
              "            <td>sal</td>\n",
              "        </tr>\n",
              "        <tr>\n",
              "            <td>lake</td>\n",
              "            <td>rad</td>\n",
              "        </tr>\n",
              "        <tr>\n",
              "            <td>lake</td>\n",
              "            <td>temp</td>\n",
              "        </tr>\n",
              "        <tr>\n",
              "            <td>roe</td>\n",
              "            <td>sal</td>\n",
              "        </tr>\n",
              "        <tr>\n",
              "            <td>roe</td>\n",
              "            <td>rad</td>\n",
              "        </tr>\n",
              "    </tbody>\n",
              "</table>"
            ],
            "text/plain": [
              "[('lake', 'sal'),\n",
              " ('lake', 'rad'),\n",
              " ('lake', 'temp'),\n",
              " ('roe', 'sal'),\n",
              " ('roe', 'rad')]"
            ]
          },
          "execution_count": 32,
          "metadata": {},
          "output_type": "execute_result"
        }
      ],
      "source": [
        "%%sql\n",
        "SELECT DISTINCT person, quant FROM Survey WHERE person = 'lake' OR person = 'roe';"
      ]
    },
    {
      "cell_type": "markdown",
      "id": "cell-54",
      "metadata": {
        "collapsed": false,
        "editable": false
      },
      "source": [
        "<p>But remember:\n",
        "<code style=\"color: inherit\">DISTINCT</code> is applied to the values displayed in the chosen columns,\n",
        "not to the entire rows as they are being processed.</p>\n",
        "<blockquote class=\"tip\" style=\"border: 2px solid #FFE19E; margin: 1em 0.2em\">\n",
        "<div class=\"box-title tip-title\" id=\"tip-growing-queries\"><button class=\"gtn-boxify-button tip\" type=\"button\" aria-controls=\"tip-growing-queries\" aria-expanded=\"true\"><i class=\"far fa-lightbulb\" aria-hidden=\"true\" ></i> <span>Tip: Growing Queries</span><span class=\"fold-unfold fa fa-minus-square\"></span></button></div>\n",
        "<p>What we have just done is how most people “grow” their <abbr title=\"Structured Query Language\">SQL</abbr> queries.\n",
        "We started with something simple that did part of what we wanted,\n",
        "then added more clauses one by one,\n",
        "testing their effects as we went.\n",
        "This is a good strategy — in fact,\n",
        "for complex queries it’s often the <em>only</em> strategy — but\n",
        "it depends on quick turnaround,\n",
        "and on us recognizing the right answer when we get it.</p>\n",
        "<p>The best way to achieve quick turnaround is often\n",
        "to put a subset of data in a temporary database\n",
        "and run our queries against that,\n",
        "or to fill a small database with synthesized records.\n",
        "For example,\n",
        "instead of trying our queries against an actual database of 20 million Australians,\n",
        "we could run it against a sample of ten thousand,\n",
        "or write a small program to generate ten thousand random (but plausible) records\n",
        "and use that.</p>\n",
        "</blockquote>\n",
        "<blockquote class=\"question\" style=\"border: 2px solid #8A9AD0; margin: 1em 0.2em\">\n",
        "<div class=\"box-title question-title\" id=\"question-fix-this-query\"><i class=\"far fa-question-circle\" aria-hidden=\"true\" ></i> Question: Fix This Query</div>\n",
        "<p>Suppose we want to select all sites that lie within 48 degrees of the equator.\n",
        "Our first query is:</p>\n",
        "<div class=\"language-plaintext highlighter-rouge\"><div><pre style=\"color: inherit; background: transparent\"><code style=\"color: inherit\">SELECT * FROM Site WHERE (lat &gt; -48) OR (lat &lt; 48);\n",
        "</code></pre></div>  </div>\n",
        "<p>Explain why this is wrong,\n",
        "and rewrite the query so that it is correct.</p>\n",
        "<br/><details style=\"border: 2px solid #B8C3EA; margin: 1em 0.2em;padding: 0.5em; cursor: pointer;\"><summary>👁 View solution</summary>\n",
        "<div class=\"box-title solution-title\" id=\"solution-4\"><button class=\"gtn-boxify-button solution\" type=\"button\" aria-controls=\"solution-4\" aria-expanded=\"true\"><i class=\"far fa-eye\" aria-hidden=\"true\" ></i> <span>Solution</span><span class=\"fold-unfold fa fa-minus-square\"></span></button></div>\n",
        "<p>Because we used <code style=\"color: inherit\">OR</code>, a site on the South Pole for example will still meet\n",
        "the second criteria and thus be included. Instead, we want to restrict this\n",
        "to sites that meet <em>both</em> criteria:</p>\n",
        "<div class=\"language-plaintext highlighter-rouge\"><div><pre style=\"color: inherit; background: transparent\"><code style=\"color: inherit\">SELECT * FROM Site WHERE (lat &gt; -48) AND (lat &lt; 48);\n",
        "</code></pre></div>    </div>\n",
        "</details>\n",
        "</blockquote>\n"
      ]
    },
    {
      "cell_type": "code",
      "execution_count": 33,
      "id": "cell-55",
      "metadata": {
        "attributes": {
          "classes": [
            "> <comment-title></comment-title>"
          ],
          "id": ""
        }
      },
      "outputs": [
        {
          "name": "stdout",
          "output_type": "stream",
          "text": [
            "Done.\n"
          ]
        },
        {
          "data": {
            "text/html": [
              "<table>\n",
              "    <thead>\n",
              "        <tr>\n",
              "            <th>name</th>\n",
              "            <th>lat</th>\n",
              "            <th>long</th>\n",
              "        </tr>\n",
              "    </thead>\n",
              "    <tbody>\n",
              "        <tr>\n",
              "            <td>DR-3</td>\n",
              "            <td>-47.15</td>\n",
              "            <td>-126.72</td>\n",
              "        </tr>\n",
              "    </tbody>\n",
              "</table>"
            ],
            "text/plain": [
              "[('DR-3', -47.15, -126.72)]"
            ]
          },
          "execution_count": 33,
          "metadata": {},
          "output_type": "execute_result"
        }
      ],
      "source": [
        "%%sql\n",
        "-- Try solutions here!\n",
        "SELECT * FROM Site WHERE (lat > -48) AND (lat < 48);"
      ]
    },
    {
      "cell_type": "markdown",
      "id": "cell-56",
      "metadata": {
        "collapsed": false,
        "editable": false
      },
      "source": [
        "<blockquote class=\"question\" style=\"border: 2px solid #8A9AD0; margin: 1em 0.2em\">\n",
        "<div class=\"box-title question-title\" id=\"question-finding-outliers\"><i class=\"far fa-question-circle\" aria-hidden=\"true\" ></i> Question: Finding Outliers</div>\n",
        "<p>Normalized salinity readings are supposed to be between 0.0 and 1.0.\n",
        "Write a query that selects all records from <code style=\"color: inherit\">Survey</code>\n",
        "with salinity values outside this range.</p>\n",
        "<br/><details style=\"border: 2px solid #B8C3EA; margin: 1em 0.2em;padding: 0.5em; cursor: pointer;\"><summary>👁 View solution</summary>\n",
        "<div class=\"box-title solution-title\" id=\"solution-5\"><button class=\"gtn-boxify-button solution\" type=\"button\" aria-controls=\"solution-5\" aria-expanded=\"true\"><i class=\"far fa-eye\" aria-hidden=\"true\" ></i> <span>Solution</span><span class=\"fold-unfold fa fa-minus-square\"></span></button></div>\n",
        "<div class=\"language-plaintext highlighter-rouge\"><div><pre style=\"color: inherit; background: transparent\"><code style=\"color: inherit\">SELECT * FROM Survey WHERE quant = 'sal' AND ((reading &gt; 1.0) OR (reading &lt; 0.0));\n",
        "</code></pre></div>    </div>\n",
        "<table>\n",
        "<thead>\n",
        "<tr>\n",
        "<th>taken</th>\n",
        "<th>person</th>\n",
        "<th>quant</th>\n",
        "<th>reading</th>\n",
        "</tr>\n",
        "</thead>\n",
        "<tbody>\n",
        "<tr>\n",
        "<td>752</td>\n",
        "<td>roe</td>\n",
        "<td>sal</td>\n",
        "<td>41.6</td>\n",
        "</tr>\n",
        "<tr>\n",
        "<td>837</td>\n",
        "<td>roe</td>\n",
        "<td>sal</td>\n",
        "<td>22.5</td>\n",
        "</tr>\n",
        "</tbody>\n",
        "</table>\n",
        "</details>\n",
        "</blockquote>\n"
      ]
    },
    {
      "cell_type": "code",
      "execution_count": 34,
      "id": "cell-57",
      "metadata": {
        "attributes": {
          "classes": [
            "> <comment-title></comment-title>"
          ],
          "id": ""
        }
      },
      "outputs": [
        {
          "name": "stdout",
          "output_type": "stream",
          "text": [
            "Done.\n"
          ]
        },
        {
          "data": {
            "text/html": [
              "<table>\n",
              "    <thead>\n",
              "        <tr>\n",
              "            <th>taken</th>\n",
              "            <th>person</th>\n",
              "            <th>quant</th>\n",
              "            <th>reading</th>\n",
              "        </tr>\n",
              "    </thead>\n",
              "    <tbody>\n",
              "        <tr>\n",
              "            <td>752</td>\n",
              "            <td>roe</td>\n",
              "            <td>sal</td>\n",
              "            <td>41.6</td>\n",
              "        </tr>\n",
              "        <tr>\n",
              "            <td>837</td>\n",
              "            <td>roe</td>\n",
              "            <td>sal</td>\n",
              "            <td>22.5</td>\n",
              "        </tr>\n",
              "    </tbody>\n",
              "</table>"
            ],
            "text/plain": [
              "[(752, 'roe', 'sal', 41.6), (837, 'roe', 'sal', 22.5)]"
            ]
          },
          "execution_count": 34,
          "metadata": {},
          "output_type": "execute_result"
        }
      ],
      "source": [
        "%%sql\n",
        "-- Try solutions here!\n",
        "SELECT * FROM Survey WHERE quant = 'sal' AND ((reading > 1.0) OR (reading < 0.0))"
      ]
    },
    {
      "cell_type": "markdown",
      "id": "cell-58",
      "metadata": {
        "collapsed": false,
        "editable": false
      },
      "source": [
        "<blockquote class=\"question\" style=\"border: 2px solid #8A9AD0; margin: 1em 0.2em\">\n",
        "<div class=\"box-title question-title\" id=\"question-matching-patterns\"><i class=\"far fa-question-circle\" aria-hidden=\"true\" ></i> Question:  Matching Patterns</div>\n",
        "<p>Which of these expressions are true?</p>\n",
        "<ol>\n",
        "<li><code style=\"color: inherit\">'a' LIKE 'a'</code></li>\n",
        "<li><code style=\"color: inherit\">'a' LIKE '%a'</code></li>\n",
        "<li><code style=\"color: inherit\">'beta' LIKE '%a'</code></li>\n",
        "<li><code style=\"color: inherit\">'alpha' LIKE 'a%%'</code></li>\n",
        "<li><code style=\"color: inherit\">'alpha' LIKE 'a%p%'</code></li>\n",
        "</ol>\n",
        "<br/><details style=\"border: 2px solid #B8C3EA; margin: 1em 0.2em;padding: 0.5em; cursor: pointer;\"><summary>👁 View solution</summary>\n",
        "<div class=\"box-title solution-title\" id=\"solution-6\"><button class=\"gtn-boxify-button solution\" type=\"button\" aria-controls=\"solution-6\" aria-expanded=\"true\"><i class=\"far fa-eye\" aria-hidden=\"true\" ></i> <span>Solution</span><span class=\"fold-unfold fa fa-minus-square\"></span></button></div>\n",
        "<ol>\n",
        "<li>True because these are the same character.</li>\n",
        "<li>True because the wildcard can match <em>zero</em> or more characters.</li>\n",
        "<li>True because the <code style=\"color: inherit\">%</code> matches <code style=\"color: inherit\">bet</code> and the <code style=\"color: inherit\">a</code> matches the <code style=\"color: inherit\">a</code>.</li>\n",
        "<li>True because the first wildcard matches <code style=\"color: inherit\">lpha</code> and the second wildcard matches zero characters (or vice versa).</li>\n",
        "<li>True because the first wildcard matches <code style=\"color: inherit\">l</code> and the second wildcard matches <code style=\"color: inherit\">ha</code>.</li>\n",
        "</ol>\n",
        "</details>\n",
        "</blockquote>\n"
      ]
    },
    {
      "cell_type": "markdown",
      "id": "cell-60",
      "metadata": {
        "collapsed": false,
        "editable": false
      },
      "source": [
        "<blockquote class=\"tip\" style=\"border: 2px solid #FFE19E; margin: 1em 0.2em\">\n",
        "<div class=\"box-title tip-title\" id=\"tip-case-insensitive-matching\"><button class=\"gtn-boxify-button tip\" type=\"button\" aria-controls=\"tip-case-insensitive-matching\" aria-expanded=\"true\"><i class=\"far fa-lightbulb\" aria-hidden=\"true\" ></i> <span>Tip: Case-insensitive matching</span><span class=\"fold-unfold fa fa-minus-square\"></span></button></div>\n",
        "<p>But what about if you don’t care about if it’s <code style=\"color: inherit\">ALPHA</code> or <code style=\"color: inherit\">alpha</code> in the database, and you are\n",
        "using a language that has a notion of case (unlike e.g. Chinese, Japenese)?</p>\n",
        "<p>Then you can use the <code style=\"color: inherit\">ILIKE</code> operator for ‘case Insensitive LIKE’.\n",
        "for example the following are true:</p>\n",
        "<ul>\n",
        "<li><code style=\"color: inherit\">'a' ILIKE 'A'</code></li>\n",
        "<li><code style=\"color: inherit\">'AlPhA' ILIKE '%lpha'</code></li>\n",
        "</ul>\n",
        "</blockquote>\n",
        "<h1 id=\"calculating-new-values\">Calculating New Values</h1>\n",
        "<p>After carefully re-reading the expedition logs,\n",
        "we realize that the radiation measurements they report\n",
        "may need to be corrected upward by 5%.\n",
        "Rather than modifying the stored data,\n",
        "we can do this calculation on the fly\n",
        "as part of our query:</p>\n"
      ]
    },
    {
      "cell_type": "code",
      "execution_count": 35,
      "id": "cell-61",
      "metadata": {
        "attributes": {
          "classes": [
            "> <comment-title></comment-title>"
          ],
          "id": ""
        }
      },
      "outputs": [
        {
          "name": "stdout",
          "output_type": "stream",
          "text": [
            "Done.\n"
          ]
        },
        {
          "data": {
            "text/html": [
              "<table>\n",
              "    <thead>\n",
              "        <tr>\n",
              "            <th>1.05 * reading</th>\n",
              "        </tr>\n",
              "    </thead>\n",
              "    <tbody>\n",
              "        <tr>\n",
              "            <td>10.311</td>\n",
              "        </tr>\n",
              "        <tr>\n",
              "            <td>8.19</td>\n",
              "        </tr>\n",
              "        <tr>\n",
              "            <td>8.8305</td>\n",
              "        </tr>\n",
              "        <tr>\n",
              "            <td>7.581</td>\n",
              "        </tr>\n",
              "        <tr>\n",
              "            <td>4.5675</td>\n",
              "        </tr>\n",
              "        <tr>\n",
              "            <td>2.2995</td>\n",
              "        </tr>\n",
              "        <tr>\n",
              "            <td>1.533</td>\n",
              "        </tr>\n",
              "        <tr>\n",
              "            <td>11.8125</td>\n",
              "        </tr>\n",
              "    </tbody>\n",
              "</table>"
            ],
            "text/plain": [
              "[(10.311,),\n",
              " (8.19,),\n",
              " (8.8305,),\n",
              " (7.581,),\n",
              " (4.5675,),\n",
              " (2.2995,),\n",
              " (1.533,),\n",
              " (11.8125,)]"
            ]
          },
          "execution_count": 35,
          "metadata": {},
          "output_type": "execute_result"
        }
      ],
      "source": [
        "%%sql\n",
        "SELECT 1.05 * reading FROM Survey WHERE quant = 'rad';"
      ]
    },
    {
      "cell_type": "markdown",
      "id": "cell-62",
      "metadata": {
        "collapsed": false,
        "editable": false
      },
      "source": [
        "<p>When we run the query,\n",
        "the expression <code style=\"color: inherit\">1.05 * reading</code> is evaluated for each row.\n",
        "Expressions can use any of the fields,\n",
        "all of usual arithmetic operators,\n",
        "and a variety of common functions.\n",
        "(Exactly which ones depends on which database manager is being used.)\n",
        "For example,\n",
        "we can convert temperature readings from Fahrenheit to Celsius\n",
        "and round to two decimal places:</p>\n"
      ]
    },
    {
      "cell_type": "code",
      "execution_count": 36,
      "id": "cell-63",
      "metadata": {
        "attributes": {
          "classes": [
            "> <comment-title></comment-title>"
          ],
          "id": ""
        }
      },
      "outputs": [
        {
          "name": "stdout",
          "output_type": "stream",
          "text": [
            "Done.\n"
          ]
        },
        {
          "data": {
            "text/html": [
              "<table>\n",
              "    <thead>\n",
              "        <tr>\n",
              "            <th>taken</th>\n",
              "            <th>round(5 * (reading - 32) / 9, 2)</th>\n",
              "        </tr>\n",
              "    </thead>\n",
              "    <tbody>\n",
              "        <tr>\n",
              "            <td>734</td>\n",
              "            <td>-29.72</td>\n",
              "        </tr>\n",
              "        <tr>\n",
              "            <td>735</td>\n",
              "            <td>-32.22</td>\n",
              "        </tr>\n",
              "        <tr>\n",
              "            <td>751</td>\n",
              "            <td>-28.06</td>\n",
              "        </tr>\n",
              "        <tr>\n",
              "            <td>752</td>\n",
              "            <td>-26.67</td>\n",
              "        </tr>\n",
              "    </tbody>\n",
              "</table>"
            ],
            "text/plain": [
              "[(734, -29.72), (735, -32.22), (751, -28.06), (752, -26.67)]"
            ]
          },
          "execution_count": 36,
          "metadata": {},
          "output_type": "execute_result"
        }
      ],
      "source": [
        "%%sql\n",
        "SELECT taken, round(5 * (reading - 32) / 9, 2) FROM Survey WHERE quant = 'temp';"
      ]
    },
    {
      "cell_type": "markdown",
      "id": "cell-64",
      "metadata": {
        "collapsed": false,
        "editable": false
      },
      "source": [
        "<p>As you can see from this example, though, the string describing our\n",
        "new field (generated from the equation) can become quite unwieldy. <abbr title=\"Structured Query Language\">SQL</abbr>\n",
        "allows us to rename our fields, any field for that matter, whether it\n",
        "was calculated or one of the existing fields in our database, for\n",
        "succinctness and clarity. For example, we could write the previous\n",
        "query as:</p>\n"
      ]
    },
    {
      "cell_type": "code",
      "execution_count": 37,
      "id": "cell-65",
      "metadata": {
        "attributes": {
          "classes": [
            "> <comment-title></comment-title>"
          ],
          "id": ""
        }
      },
      "outputs": [
        {
          "name": "stdout",
          "output_type": "stream",
          "text": [
            "Done.\n"
          ]
        },
        {
          "data": {
            "text/html": [
              "<table>\n",
              "    <thead>\n",
              "        <tr>\n",
              "            <th>taken</th>\n",
              "            <th>Celsius</th>\n",
              "        </tr>\n",
              "    </thead>\n",
              "    <tbody>\n",
              "        <tr>\n",
              "            <td>734</td>\n",
              "            <td>-29.72</td>\n",
              "        </tr>\n",
              "        <tr>\n",
              "            <td>735</td>\n",
              "            <td>-32.22</td>\n",
              "        </tr>\n",
              "        <tr>\n",
              "            <td>751</td>\n",
              "            <td>-28.06</td>\n",
              "        </tr>\n",
              "        <tr>\n",
              "            <td>752</td>\n",
              "            <td>-26.67</td>\n",
              "        </tr>\n",
              "    </tbody>\n",
              "</table>"
            ],
            "text/plain": [
              "[(734, -29.72), (735, -32.22), (751, -28.06), (752, -26.67)]"
            ]
          },
          "execution_count": 37,
          "metadata": {},
          "output_type": "execute_result"
        }
      ],
      "source": [
        "%%sql\n",
        "SELECT taken, round(5 * (reading - 32) / 9, 2) as Celsius FROM Survey WHERE quant = 'temp';"
      ]
    },
    {
      "cell_type": "markdown",
      "id": "cell-66",
      "metadata": {
        "collapsed": false,
        "editable": false
      },
      "source": [
        "<p>We can also combine values from different fields,\n",
        "for example by using the string concatenation operator <code style=\"color: inherit\">||</code>:</p>\n"
      ]
    },
    {
      "cell_type": "code",
      "execution_count": 38,
      "id": "cell-67",
      "metadata": {
        "attributes": {
          "classes": [
            "> <comment-title></comment-title>"
          ],
          "id": ""
        }
      },
      "outputs": [
        {
          "name": "stdout",
          "output_type": "stream",
          "text": [
            "Done.\n"
          ]
        },
        {
          "data": {
            "text/html": [
              "<table>\n",
              "    <thead>\n",
              "        <tr>\n",
              "            <th>personal || &#x27; &#x27; || family</th>\n",
              "        </tr>\n",
              "    </thead>\n",
              "    <tbody>\n",
              "        <tr>\n",
              "            <td>William Dyer</td>\n",
              "        </tr>\n",
              "        <tr>\n",
              "            <td>Frank Pabodie</td>\n",
              "        </tr>\n",
              "        <tr>\n",
              "            <td>Anderson Lake</td>\n",
              "        </tr>\n",
              "        <tr>\n",
              "            <td>Valentina Roerich</td>\n",
              "        </tr>\n",
              "        <tr>\n",
              "            <td>Frank Danforth</td>\n",
              "        </tr>\n",
              "    </tbody>\n",
              "</table>"
            ],
            "text/plain": [
              "[('William Dyer',),\n",
              " ('Frank Pabodie',),\n",
              " ('Anderson Lake',),\n",
              " ('Valentina Roerich',),\n",
              " ('Frank Danforth',)]"
            ]
          },
          "execution_count": 38,
          "metadata": {},
          "output_type": "execute_result"
        }
      ],
      "source": [
        "%%sql\n",
        "SELECT personal || ' ' || family FROM Person;"
      ]
    },
    {
      "cell_type": "markdown",
      "id": "cell-68",
      "metadata": {
        "collapsed": false,
        "editable": false
      },
      "source": [
        "<p>But of course that can also be solved by simply having a single name field which avoids other\n",
        "issues.</p>\n",
        "<blockquote class=\"question\" style=\"border: 2px solid #8A9AD0; margin: 1em 0.2em\">\n",
        "<div class=\"box-title question-title\" id=\"question-fixing-salinity-readings\"><i class=\"far fa-question-circle\" aria-hidden=\"true\" ></i> Question:  Fixing Salinity Readings</div>\n",
        "<p>After further reading,\n",
        "we realize that Valentina Roerich\n",
        "was reporting salinity as percentages.\n",
        "Write a query that returns all of her salinity measurements\n",
        "from the <code style=\"color: inherit\">Survey</code> table\n",
        "with the values divided by 100.</p>\n",
        "<br/><details style=\"border: 2px solid #B8C3EA; margin: 1em 0.2em;padding: 0.5em; cursor: pointer;\"><summary>👁 View solution</summary>\n",
        "<div class=\"box-title solution-title\" id=\"solution-7\"><button class=\"gtn-boxify-button solution\" type=\"button\" aria-controls=\"solution-7\" aria-expanded=\"true\"><i class=\"far fa-eye\" aria-hidden=\"true\" ></i> <span>Solution</span><span class=\"fold-unfold fa fa-minus-square\"></span></button></div>\n",
        "<div class=\"language-plaintext highlighter-rouge\"><div><pre style=\"color: inherit; background: transparent\"><code style=\"color: inherit\">SELECT taken, reading / 100 FROM Survey WHERE person = 'roe' AND quant = 'sal';\n",
        "</code></pre></div>    </div>\n",
        "<table>\n",
        "<thead>\n",
        "<tr>\n",
        "<th>taken</th>\n",
        "<th>reading / 100</th>\n",
        "</tr>\n",
        "</thead>\n",
        "<tbody>\n",
        "<tr>\n",
        "<td>752</td>\n",
        "<td>0.416</td>\n",
        "</tr>\n",
        "<tr>\n",
        "<td>837</td>\n",
        "<td>0.225</td>\n",
        "</tr>\n",
        "</tbody>\n",
        "</table>\n",
        "</details>\n",
        "</blockquote>\n"
      ]
    },
    {
      "cell_type": "code",
      "execution_count": 39,
      "id": "cell-69",
      "metadata": {
        "attributes": {
          "classes": [
            "> <comment-title></comment-title>"
          ],
          "id": ""
        }
      },
      "outputs": [
        {
          "name": "stdout",
          "output_type": "stream",
          "text": [
            "Done.\n"
          ]
        },
        {
          "data": {
            "text/html": [
              "<table>\n",
              "    <thead>\n",
              "        <tr>\n",
              "            <th>taken</th>\n",
              "            <th>reading / 100</th>\n",
              "        </tr>\n",
              "    </thead>\n",
              "    <tbody>\n",
              "        <tr>\n",
              "            <td>752</td>\n",
              "            <td>0.41600000000000004</td>\n",
              "        </tr>\n",
              "        <tr>\n",
              "            <td>837</td>\n",
              "            <td>0.225</td>\n",
              "        </tr>\n",
              "    </tbody>\n",
              "</table>"
            ],
            "text/plain": [
              "[(752, 0.41600000000000004), (837, 0.225)]"
            ]
          },
          "execution_count": 39,
          "metadata": {},
          "output_type": "execute_result"
        }
      ],
      "source": [
        "%%sql\n",
        "-- Try solutions here!\n",
        "SELECT taken, reading / 100 FROM Survey WHERE person = 'roe' and quant = 'sal'"
      ]
    },
    {
      "cell_type": "markdown",
      "id": "cell-70",
      "metadata": {
        "collapsed": false,
        "editable": false
      },
      "source": [
        "<blockquote class=\"question\" style=\"border: 2px solid #8A9AD0; margin: 1em 0.2em\">\n",
        "<div class=\"box-title question-title\" id=\"question-unions\"><i class=\"far fa-question-circle\" aria-hidden=\"true\" ></i> Question: Unions</div>\n",
        "<p>The <code style=\"color: inherit\">UNION</code> operator combines the results of two queries:</p>\n",
        "<div class=\"language-plaintext highlighter-rouge\"><div><pre style=\"color: inherit; background: transparent\"><code style=\"color: inherit\">SELECT * FROM Person WHERE id = 'dyer' UNION SELECT * FROM Person WHERE id = 'roe';\n",
        "</code></pre></div>  </div>\n",
        "<table>\n",
        "<thead>\n",
        "<tr>\n",
        "<th>id</th>\n",
        "<th>personal</th>\n",
        "<th>family</th>\n",
        "</tr>\n",
        "</thead>\n",
        "<tbody>\n",
        "<tr>\n",
        "<td>dyer</td>\n",
        "<td>William</td>\n",
        "<td>Dyer</td>\n",
        "</tr>\n",
        "<tr>\n",
        "<td>roe</td>\n",
        "<td>Valentina</td>\n",
        "<td>Roerich</td>\n",
        "</tr>\n",
        "</tbody>\n",
        "</table>\n",
        "<p>The <code style=\"color: inherit\">UNION ALL</code> command is equivalent to the <code style=\"color: inherit\">UNION</code> operator,\n",
        "except that <code style=\"color: inherit\">UNION ALL</code> will select all values.\n",
        "The difference is that <code style=\"color: inherit\">UNION ALL</code> will not eliminate duplicate rows.\n",
        "Instead, <code style=\"color: inherit\">UNION ALL</code> pulls all rows from the query\n",
        "specifics and combines them into a table.\n",
        "The <code style=\"color: inherit\">UNION</code> command does a <code style=\"color: inherit\">SELECT DISTINCT</code> on the results set.\n",
        "If all the records to be returned are unique from your union,\n",
        "use <code style=\"color: inherit\">UNION ALL</code> instead, it gives faster results since it skips the <code style=\"color: inherit\">DISTINCT</code> step.\n",
        "For this section, we shall use UNION.</p>\n",
        "<p>Use <code style=\"color: inherit\">UNION</code> to create a consolidated list of salinity measurements\n",
        "in which Valentina Roerich’s, and only Valentina’s,\n",
        "have been corrected as described in the previous challenge.\n",
        "The output should be something like:</p>\n",
        "<table>\n",
        "<thead>\n",
        "<tr>\n",
        "<th>taken</th>\n",
        "<th>reading</th>\n",
        "</tr>\n",
        "</thead>\n",
        "<tbody>\n",
        "<tr>\n",
        "<td>619</td>\n",
        "<td>0.13</td>\n",
        "</tr>\n",
        "<tr>\n",
        "<td>622</td>\n",
        "<td>0.09</td>\n",
        "</tr>\n",
        "<tr>\n",
        "<td>734</td>\n",
        "<td>0.05</td>\n",
        "</tr>\n",
        "<tr>\n",
        "<td>751</td>\n",
        "<td>0.1</td>\n",
        "</tr>\n",
        "<tr>\n",
        "<td>752</td>\n",
        "<td>0.09</td>\n",
        "</tr>\n",
        "<tr>\n",
        "<td>752</td>\n",
        "<td>0.416</td>\n",
        "</tr>\n",
        "<tr>\n",
        "<td>837</td>\n",
        "<td>0.21</td>\n",
        "</tr>\n",
        "<tr>\n",
        "<td>837</td>\n",
        "<td>0.225</td>\n",
        "</tr>\n",
        "</tbody>\n",
        "</table>\n",
        "<br/><details style=\"border: 2px solid #B8C3EA; margin: 1em 0.2em;padding: 0.5em; cursor: pointer;\"><summary>👁 View solution</summary>\n",
        "<div class=\"box-title solution-title\" id=\"solution-8\"><button class=\"gtn-boxify-button solution\" type=\"button\" aria-controls=\"solution-8\" aria-expanded=\"true\"><i class=\"far fa-eye\" aria-hidden=\"true\" ></i> <span>Solution</span><span class=\"fold-unfold fa fa-minus-square\"></span></button></div>\n",
        "<div class=\"language-plaintext highlighter-rouge\"><div><pre style=\"color: inherit; background: transparent\"><code style=\"color: inherit\">SELECT taken, reading FROM Survey WHERE person != 'roe' AND quant = 'sal' UNION SELECT taken, reading / 100 FROM Survey WHERE person = 'roe' AND quant = 'sal' ORDER BY taken ASC;\n",
        "</code></pre></div>    </div>\n",
        "</details>\n",
        "</blockquote>\n"
      ]
    },
    {
      "cell_type": "code",
      "execution_count": 40,
      "id": "cell-71",
      "metadata": {
        "attributes": {
          "classes": [
            "> <comment-title></comment-title>"
          ],
          "id": ""
        }
      },
      "outputs": [
        {
          "name": "stdout",
          "output_type": "stream",
          "text": [
            "Done.\n"
          ]
        },
        {
          "data": {
            "text/plain": [
              "[]"
            ]
          },
          "execution_count": 40,
          "metadata": {},
          "output_type": "execute_result"
        }
      ],
      "source": [
        "%%sql\n",
        "-- Try solutions here!"
      ]
    },
    {
      "cell_type": "markdown",
      "id": "cell-72",
      "metadata": {
        "collapsed": false,
        "editable": false
      },
      "source": [
        "<blockquote class=\"question\" style=\"border: 2px solid #8A9AD0; margin: 1em 0.2em\">\n",
        "<div class=\"box-title question-title\" id=\"question-selecting-major-site-identifiers\"><i class=\"far fa-question-circle\" aria-hidden=\"true\" ></i> Question: Selecting Major Site Identifiers</div>\n",
        "<p>The site identifiers in the <code style=\"color: inherit\">Visited</code> table have two parts\n",
        "separated by a ‘-‘:</p>\n",
        "<div class=\"language-plaintext highlighter-rouge\"><div><pre style=\"color: inherit; background: transparent\"><code style=\"color: inherit\">SELECT DISTINCT site FROM Visited;\n",
        "</code></pre></div>  </div>\n",
        "<table>\n",
        "<thead>\n",
        "<tr>\n",
        "<th>site</th>\n",
        "</tr>\n",
        "</thead>\n",
        "<tbody>\n",
        "<tr>\n",
        "<td>DR-1</td>\n",
        "</tr>\n",
        "<tr>\n",
        "<td>DR-3</td>\n",
        "</tr>\n",
        "<tr>\n",
        "<td>MSK-4</td>\n",
        "</tr>\n",
        "</tbody>\n",
        "</table>\n",
        "<p>Some major site identifiers (i.e. the letter codes) are two letters long and some are three.\n",
        "The “in string” function <code style=\"color: inherit\">instr(X, Y)</code>\n",
        "returns the 1-based index of the first occurrence of string Y in string X,\n",
        "or 0 if Y does not exist in X.\n",
        "The substring function <code style=\"color: inherit\">substr(X, I, [L])</code>\n",
        "returns the substring of X starting at index I, with an optional length L.\n",
        "Use these two functions to produce a list of unique major site identifiers.\n",
        "(For this data,\n",
        "the list should contain only “DR” and “MSK”).</p>\n",
        "<br/><details style=\"border: 2px solid #B8C3EA; margin: 1em 0.2em;padding: 0.5em; cursor: pointer;\"><summary>👁 View solution</summary>\n",
        "<div class=\"box-title solution-title\" id=\"solution-9\"><button class=\"gtn-boxify-button solution\" type=\"button\" aria-controls=\"solution-9\" aria-expanded=\"true\"><i class=\"far fa-eye\" aria-hidden=\"true\" ></i> <span>Solution</span><span class=\"fold-unfold fa fa-minus-square\"></span></button></div>\n",
        "<div class=\"language-plaintext highlighter-rouge\"><div><pre style=\"color: inherit; background: transparent\"><code style=\"color: inherit\">SELECT DISTINCT substr(site, 1, instr(site, '-') - 1) AS MajorSite FROM Visited;\n",
        "</code></pre></div>    </div>\n",
        "</details>\n",
        "</blockquote>\n"
      ]
    },
    {
      "cell_type": "code",
      "execution_count": 41,
      "id": "cell-73",
      "metadata": {
        "attributes": {
          "classes": [
            "> <comment-title></comment-title>"
          ],
          "id": ""
        }
      },
      "outputs": [
        {
          "name": "stdout",
          "output_type": "stream",
          "text": [
            "Done.\n"
          ]
        },
        {
          "data": {
            "text/html": [
              "<table>\n",
              "    <thead>\n",
              "        <tr>\n",
              "            <th>taken</th>\n",
              "            <th>reading</th>\n",
              "        </tr>\n",
              "    </thead>\n",
              "    <tbody>\n",
              "        <tr>\n",
              "            <td>619</td>\n",
              "            <td>0.13</td>\n",
              "        </tr>\n",
              "        <tr>\n",
              "            <td>622</td>\n",
              "            <td>0.09</td>\n",
              "        </tr>\n",
              "        <tr>\n",
              "            <td>734</td>\n",
              "            <td>0.05</td>\n",
              "        </tr>\n",
              "        <tr>\n",
              "            <td>751</td>\n",
              "            <td>0.1</td>\n",
              "        </tr>\n",
              "        <tr>\n",
              "            <td>752</td>\n",
              "            <td>0.09</td>\n",
              "        </tr>\n",
              "        <tr>\n",
              "            <td>752</td>\n",
              "            <td>0.41600000000000004</td>\n",
              "        </tr>\n",
              "        <tr>\n",
              "            <td>837</td>\n",
              "            <td>0.21</td>\n",
              "        </tr>\n",
              "        <tr>\n",
              "            <td>837</td>\n",
              "            <td>0.225</td>\n",
              "        </tr>\n",
              "    </tbody>\n",
              "</table>"
            ],
            "text/plain": [
              "[(619, 0.13),\n",
              " (622, 0.09),\n",
              " (734, 0.05),\n",
              " (751, 0.1),\n",
              " (752, 0.09),\n",
              " (752, 0.41600000000000004),\n",
              " (837, 0.21),\n",
              " (837, 0.225)]"
            ]
          },
          "execution_count": 41,
          "metadata": {},
          "output_type": "execute_result"
        }
      ],
      "source": [
        "%%sql\n",
        "-- Try solutions here!\n",
        "SELECT taken, reading FROM Survey WHERE person != 'roe' AND quant = 'sal' UNION SELECT taken, reading / 100 FROM Survey WHERE person = 'roe' AND quant = 'sal' ORDER BY taken ASC;"
      ]
    },
    {
      "cell_type": "markdown",
      "id": "cell-74",
      "metadata": {
        "collapsed": false,
        "editable": false
      },
      "source": [
        "<h1 id=\"missing-data\">Missing Data</h1>\n",
        "<p>Real-world data is never complete — there are always holes.\n",
        "Databases represent these holes using a special value called <code style=\"color: inherit\">null</code>.\n",
        "<code style=\"color: inherit\">null</code> is not zero, <code style=\"color: inherit\">False</code>, or the empty string;\n",
        "it is a one-of-a-kind value that means “nothing here”.\n",
        "Dealing with <code style=\"color: inherit\">null</code> requires a few special tricks\n",
        "and some careful thinking.</p>\n",
        "<p>By default, the Python SQL interface does not display NULL values in its output, instead it shows <code style=\"color: inherit\">None</code>.</p>\n",
        "<p>To start,\n",
        "let’s have a look at the <code style=\"color: inherit\">Visited</code> table.\n",
        "There are eight records,\n",
        "but #752 doesn’t have a date — or rather,\n",
        "its date is null:</p>\n"
      ]
    },
    {
      "cell_type": "code",
      "execution_count": 42,
      "id": "cell-75",
      "metadata": {
        "attributes": {
          "classes": [
            "> <comment-title></comment-title>"
          ],
          "id": ""
        }
      },
      "outputs": [
        {
          "name": "stdout",
          "output_type": "stream",
          "text": [
            "Done.\n"
          ]
        },
        {
          "data": {
            "text/html": [
              "<table>\n",
              "    <thead>\n",
              "        <tr>\n",
              "            <th>id</th>\n",
              "            <th>site</th>\n",
              "            <th>dated</th>\n",
              "        </tr>\n",
              "    </thead>\n",
              "    <tbody>\n",
              "        <tr>\n",
              "            <td>619</td>\n",
              "            <td>DR-1</td>\n",
              "            <td>1927-02-08</td>\n",
              "        </tr>\n",
              "        <tr>\n",
              "            <td>622</td>\n",
              "            <td>DR-1</td>\n",
              "            <td>1927-02-10</td>\n",
              "        </tr>\n",
              "        <tr>\n",
              "            <td>734</td>\n",
              "            <td>DR-3</td>\n",
              "            <td>1930-01-07</td>\n",
              "        </tr>\n",
              "        <tr>\n",
              "            <td>735</td>\n",
              "            <td>DR-3</td>\n",
              "            <td>1930-01-12</td>\n",
              "        </tr>\n",
              "        <tr>\n",
              "            <td>751</td>\n",
              "            <td>DR-3</td>\n",
              "            <td>1930-02-26</td>\n",
              "        </tr>\n",
              "        <tr>\n",
              "            <td>752</td>\n",
              "            <td>DR-3</td>\n",
              "            <td>None</td>\n",
              "        </tr>\n",
              "        <tr>\n",
              "            <td>837</td>\n",
              "            <td>MSK-4</td>\n",
              "            <td>1932-01-14</td>\n",
              "        </tr>\n",
              "        <tr>\n",
              "            <td>844</td>\n",
              "            <td>DR-1</td>\n",
              "            <td>1932-03-22</td>\n",
              "        </tr>\n",
              "    </tbody>\n",
              "</table>"
            ],
            "text/plain": [
              "[(619, 'DR-1', '1927-02-08'),\n",
              " (622, 'DR-1', '1927-02-10'),\n",
              " (734, 'DR-3', '1930-01-07'),\n",
              " (735, 'DR-3', '1930-01-12'),\n",
              " (751, 'DR-3', '1930-02-26'),\n",
              " (752, 'DR-3', None),\n",
              " (837, 'MSK-4', '1932-01-14'),\n",
              " (844, 'DR-1', '1932-03-22')]"
            ]
          },
          "execution_count": 42,
          "metadata": {},
          "output_type": "execute_result"
        }
      ],
      "source": [
        "%%sql\n",
        "SELECT * FROM Visited;"
      ]
    },
    {
      "cell_type": "markdown",
      "id": "cell-76",
      "metadata": {
        "collapsed": false,
        "editable": false
      },
      "source": [
        "<p>Null doesn’t behave like other values.\n",
        "If we select the records that come before 1930:</p>\n"
      ]
    },
    {
      "cell_type": "code",
      "execution_count": 43,
      "id": "cell-77",
      "metadata": {
        "attributes": {
          "classes": [
            "> <comment-title></comment-title>"
          ],
          "id": ""
        }
      },
      "outputs": [
        {
          "name": "stdout",
          "output_type": "stream",
          "text": [
            "Done.\n"
          ]
        },
        {
          "data": {
            "text/html": [
              "<table>\n",
              "    <thead>\n",
              "        <tr>\n",
              "            <th>id</th>\n",
              "            <th>site</th>\n",
              "            <th>dated</th>\n",
              "        </tr>\n",
              "    </thead>\n",
              "    <tbody>\n",
              "        <tr>\n",
              "            <td>619</td>\n",
              "            <td>DR-1</td>\n",
              "            <td>1927-02-08</td>\n",
              "        </tr>\n",
              "        <tr>\n",
              "            <td>622</td>\n",
              "            <td>DR-1</td>\n",
              "            <td>1927-02-10</td>\n",
              "        </tr>\n",
              "    </tbody>\n",
              "</table>"
            ],
            "text/plain": [
              "[(619, 'DR-1', '1927-02-08'), (622, 'DR-1', '1927-02-10')]"
            ]
          },
          "execution_count": 43,
          "metadata": {},
          "output_type": "execute_result"
        }
      ],
      "source": [
        "%%sql\n",
        "SELECT * FROM Visited WHERE dated < '1930-01-01';"
      ]
    },
    {
      "cell_type": "markdown",
      "id": "cell-78",
      "metadata": {
        "collapsed": false,
        "editable": false
      },
      "source": [
        "<p>we get two results,\n",
        "and if we select the ones that come during or after 1930:</p>\n"
      ]
    },
    {
      "cell_type": "code",
      "execution_count": 44,
      "id": "cell-79",
      "metadata": {
        "attributes": {
          "classes": [
            "> <comment-title></comment-title>"
          ],
          "id": ""
        }
      },
      "outputs": [
        {
          "name": "stdout",
          "output_type": "stream",
          "text": [
            "Done.\n"
          ]
        },
        {
          "data": {
            "text/html": [
              "<table>\n",
              "    <thead>\n",
              "        <tr>\n",
              "            <th>id</th>\n",
              "            <th>site</th>\n",
              "            <th>dated</th>\n",
              "        </tr>\n",
              "    </thead>\n",
              "    <tbody>\n",
              "        <tr>\n",
              "            <td>734</td>\n",
              "            <td>DR-3</td>\n",
              "            <td>1930-01-07</td>\n",
              "        </tr>\n",
              "        <tr>\n",
              "            <td>735</td>\n",
              "            <td>DR-3</td>\n",
              "            <td>1930-01-12</td>\n",
              "        </tr>\n",
              "        <tr>\n",
              "            <td>751</td>\n",
              "            <td>DR-3</td>\n",
              "            <td>1930-02-26</td>\n",
              "        </tr>\n",
              "        <tr>\n",
              "            <td>837</td>\n",
              "            <td>MSK-4</td>\n",
              "            <td>1932-01-14</td>\n",
              "        </tr>\n",
              "        <tr>\n",
              "            <td>844</td>\n",
              "            <td>DR-1</td>\n",
              "            <td>1932-03-22</td>\n",
              "        </tr>\n",
              "    </tbody>\n",
              "</table>"
            ],
            "text/plain": [
              "[(734, 'DR-3', '1930-01-07'),\n",
              " (735, 'DR-3', '1930-01-12'),\n",
              " (751, 'DR-3', '1930-02-26'),\n",
              " (837, 'MSK-4', '1932-01-14'),\n",
              " (844, 'DR-1', '1932-03-22')]"
            ]
          },
          "execution_count": 44,
          "metadata": {},
          "output_type": "execute_result"
        }
      ],
      "source": [
        "%%sql\n",
        "SELECT * FROM Visited WHERE dated >= '1930-01-01';"
      ]
    },
    {
      "cell_type": "markdown",
      "id": "cell-80",
      "metadata": {
        "collapsed": false,
        "editable": false
      },
      "source": [
        "<p>we get five,\n",
        "but record #752 isn’t in either set of results.\n",
        "The reason is that\n",
        "<code class=\"language-plaintext highlighter-rouge\">null&lt;'1930-01-01'</code>\n",
        "is neither true nor false:\n",
        "null means, “We don’t know,”\n",
        "and if we don’t know the value on the left side of a comparison,\n",
        "we don’t know whether the comparison is true or false.\n",
        "Since databases represent “don’t know” as null,\n",
        "the value of <code style=\"color: inherit\">null&lt;'1930-01-01'</code>\n",
        "is actually <code style=\"color: inherit\">null</code>.\n",
        "<code style=\"color: inherit\">null&gt;='1930-01-01'</code> is also null\n",
        "because we can’t answer to that question either.\n",
        "And since the only records kept by a <code style=\"color: inherit\">WHERE</code>\n",
        "are those for which the test is true,\n",
        "record #752 isn’t included in either set of results.</p>\n",
        "<p>Comparisons aren’t the only operations that behave this way with nulls.\n",
        "<code style=\"color: inherit\">1+null</code> is <code style=\"color: inherit\">null</code>,\n",
        "<code style=\"color: inherit\">5*null</code> is <code style=\"color: inherit\">null</code>,\n",
        "<code style=\"color: inherit\">log(null)</code> is <code style=\"color: inherit\">null</code>,\n",
        "and so on.\n",
        "In particular,\n",
        "comparing things to null with = and != produces null:</p>\n"
      ]
    },
    {
      "cell_type": "code",
      "execution_count": 45,
      "id": "cell-81",
      "metadata": {
        "attributes": {
          "classes": [
            "> <comment-title></comment-title>"
          ],
          "id": ""
        }
      },
      "outputs": [
        {
          "name": "stdout",
          "output_type": "stream",
          "text": [
            "Done.\n"
          ]
        },
        {
          "data": {
            "text/html": [
              "<table>\n",
              "    <thead>\n",
              "        <tr>\n",
              "            <th>id</th>\n",
              "            <th>site</th>\n",
              "            <th>dated</th>\n",
              "        </tr>\n",
              "    </thead>\n",
              "    <tbody>\n",
              "    </tbody>\n",
              "</table>"
            ],
            "text/plain": [
              "[]"
            ]
          },
          "execution_count": 45,
          "metadata": {},
          "output_type": "execute_result"
        }
      ],
      "source": [
        "%%sql\n",
        "SELECT * FROM Visited WHERE dated = NULL;"
      ]
    },
    {
      "cell_type": "markdown",
      "id": "cell-82",
      "metadata": {
        "collapsed": false,
        "editable": false
      },
      "source": [
        "<p>produces no output, and neither does:</p>\n"
      ]
    },
    {
      "cell_type": "code",
      "execution_count": 46,
      "id": "cell-83",
      "metadata": {
        "attributes": {
          "classes": [
            "> <comment-title></comment-title>"
          ],
          "id": ""
        }
      },
      "outputs": [
        {
          "name": "stdout",
          "output_type": "stream",
          "text": [
            "Done.\n"
          ]
        },
        {
          "data": {
            "text/html": [
              "<table>\n",
              "    <thead>\n",
              "        <tr>\n",
              "            <th>id</th>\n",
              "            <th>site</th>\n",
              "            <th>dated</th>\n",
              "        </tr>\n",
              "    </thead>\n",
              "    <tbody>\n",
              "    </tbody>\n",
              "</table>"
            ],
            "text/plain": [
              "[]"
            ]
          },
          "execution_count": 46,
          "metadata": {},
          "output_type": "execute_result"
        }
      ],
      "source": [
        "%%sql\n",
        "SELECT * FROM Visited WHERE dated != NULL;"
      ]
    },
    {
      "cell_type": "markdown",
      "id": "cell-84",
      "metadata": {
        "collapsed": false,
        "editable": false
      },
      "source": [
        "<p>To check whether a value is <code style=\"color: inherit\">null</code> or not,\n",
        "we must use a special test <code style=\"color: inherit\">IS NULL</code>:</p>\n"
      ]
    },
    {
      "cell_type": "code",
      "execution_count": 47,
      "id": "cell-85",
      "metadata": {
        "attributes": {
          "classes": [
            "> <comment-title></comment-title>"
          ],
          "id": ""
        }
      },
      "outputs": [
        {
          "name": "stdout",
          "output_type": "stream",
          "text": [
            "Done.\n"
          ]
        },
        {
          "data": {
            "text/html": [
              "<table>\n",
              "    <thead>\n",
              "        <tr>\n",
              "            <th>id</th>\n",
              "            <th>site</th>\n",
              "            <th>dated</th>\n",
              "        </tr>\n",
              "    </thead>\n",
              "    <tbody>\n",
              "        <tr>\n",
              "            <td>752</td>\n",
              "            <td>DR-3</td>\n",
              "            <td>None</td>\n",
              "        </tr>\n",
              "    </tbody>\n",
              "</table>"
            ],
            "text/plain": [
              "[(752, 'DR-3', None)]"
            ]
          },
          "execution_count": 47,
          "metadata": {},
          "output_type": "execute_result"
        }
      ],
      "source": [
        "%%sql\n",
        "SELECT * FROM Visited WHERE dated IS NULL;"
      ]
    },
    {
      "cell_type": "markdown",
      "id": "cell-86",
      "metadata": {
        "collapsed": false,
        "editable": false
      },
      "source": [
        "<p>or its inverse <code style=\"color: inherit\">IS NOT NULL</code>:</p>\n"
      ]
    },
    {
      "cell_type": "code",
      "execution_count": 48,
      "id": "cell-87",
      "metadata": {
        "attributes": {
          "classes": [
            "> <comment-title></comment-title>"
          ],
          "id": ""
        }
      },
      "outputs": [
        {
          "name": "stdout",
          "output_type": "stream",
          "text": [
            "Done.\n"
          ]
        },
        {
          "data": {
            "text/html": [
              "<table>\n",
              "    <thead>\n",
              "        <tr>\n",
              "            <th>id</th>\n",
              "            <th>site</th>\n",
              "            <th>dated</th>\n",
              "        </tr>\n",
              "    </thead>\n",
              "    <tbody>\n",
              "        <tr>\n",
              "            <td>619</td>\n",
              "            <td>DR-1</td>\n",
              "            <td>1927-02-08</td>\n",
              "        </tr>\n",
              "        <tr>\n",
              "            <td>622</td>\n",
              "            <td>DR-1</td>\n",
              "            <td>1927-02-10</td>\n",
              "        </tr>\n",
              "        <tr>\n",
              "            <td>734</td>\n",
              "            <td>DR-3</td>\n",
              "            <td>1930-01-07</td>\n",
              "        </tr>\n",
              "        <tr>\n",
              "            <td>735</td>\n",
              "            <td>DR-3</td>\n",
              "            <td>1930-01-12</td>\n",
              "        </tr>\n",
              "        <tr>\n",
              "            <td>751</td>\n",
              "            <td>DR-3</td>\n",
              "            <td>1930-02-26</td>\n",
              "        </tr>\n",
              "        <tr>\n",
              "            <td>837</td>\n",
              "            <td>MSK-4</td>\n",
              "            <td>1932-01-14</td>\n",
              "        </tr>\n",
              "        <tr>\n",
              "            <td>844</td>\n",
              "            <td>DR-1</td>\n",
              "            <td>1932-03-22</td>\n",
              "        </tr>\n",
              "    </tbody>\n",
              "</table>"
            ],
            "text/plain": [
              "[(619, 'DR-1', '1927-02-08'),\n",
              " (622, 'DR-1', '1927-02-10'),\n",
              " (734, 'DR-3', '1930-01-07'),\n",
              " (735, 'DR-3', '1930-01-12'),\n",
              " (751, 'DR-3', '1930-02-26'),\n",
              " (837, 'MSK-4', '1932-01-14'),\n",
              " (844, 'DR-1', '1932-03-22')]"
            ]
          },
          "execution_count": 48,
          "metadata": {},
          "output_type": "execute_result"
        }
      ],
      "source": [
        "%%sql\n",
        "SELECT * FROM Visited WHERE dated IS NOT NULL;"
      ]
    },
    {
      "cell_type": "markdown",
      "id": "cell-88",
      "metadata": {
        "collapsed": false,
        "editable": false
      },
      "source": [
        "<p>Null values can cause headaches wherever they appear.\n",
        "For example,\n",
        "suppose we want to find all the salinity measurements\n",
        "that weren’t taken by Lake.\n",
        "It’s natural to write the query like this:</p>\n"
      ]
    },
    {
      "cell_type": "code",
      "execution_count": 49,
      "id": "cell-89",
      "metadata": {
        "attributes": {
          "classes": [
            "> <comment-title></comment-title>"
          ],
          "id": ""
        }
      },
      "outputs": [
        {
          "name": "stdout",
          "output_type": "stream",
          "text": [
            "Done.\n"
          ]
        },
        {
          "data": {
            "text/html": [
              "<table>\n",
              "    <thead>\n",
              "        <tr>\n",
              "            <th>taken</th>\n",
              "            <th>person</th>\n",
              "            <th>quant</th>\n",
              "            <th>reading</th>\n",
              "        </tr>\n",
              "    </thead>\n",
              "    <tbody>\n",
              "        <tr>\n",
              "            <td>619</td>\n",
              "            <td>dyer</td>\n",
              "            <td>sal</td>\n",
              "            <td>0.13</td>\n",
              "        </tr>\n",
              "        <tr>\n",
              "            <td>622</td>\n",
              "            <td>dyer</td>\n",
              "            <td>sal</td>\n",
              "            <td>0.09</td>\n",
              "        </tr>\n",
              "        <tr>\n",
              "            <td>752</td>\n",
              "            <td>roe</td>\n",
              "            <td>sal</td>\n",
              "            <td>41.6</td>\n",
              "        </tr>\n",
              "        <tr>\n",
              "            <td>837</td>\n",
              "            <td>roe</td>\n",
              "            <td>sal</td>\n",
              "            <td>22.5</td>\n",
              "        </tr>\n",
              "    </tbody>\n",
              "</table>"
            ],
            "text/plain": [
              "[(619, 'dyer', 'sal', 0.13),\n",
              " (622, 'dyer', 'sal', 0.09),\n",
              " (752, 'roe', 'sal', 41.6),\n",
              " (837, 'roe', 'sal', 22.5)]"
            ]
          },
          "execution_count": 49,
          "metadata": {},
          "output_type": "execute_result"
        }
      ],
      "source": [
        "%%sql\n",
        "SELECT * FROM Survey WHERE quant = 'sal' AND person != 'lake';"
      ]
    },
    {
      "cell_type": "markdown",
      "id": "cell-90",
      "metadata": {
        "collapsed": false,
        "editable": false
      },
      "source": [
        "<p>but this query filters omits the records\n",
        "where we don’t know who took the measurement.\n",
        "Once again,\n",
        "the reason is that when <code style=\"color: inherit\">person</code> is <code style=\"color: inherit\">null</code>,\n",
        "the <code style=\"color: inherit\">!=</code> comparison produces <code style=\"color: inherit\">null</code>,\n",
        "so the record isn’t kept in our results.\n",
        "If we want to keep these records\n",
        "we need to add an explicit check:</p>\n"
      ]
    },
    {
      "cell_type": "code",
      "execution_count": 50,
      "id": "cell-91",
      "metadata": {
        "attributes": {
          "classes": [
            "> <comment-title></comment-title>"
          ],
          "id": ""
        }
      },
      "outputs": [
        {
          "name": "stdout",
          "output_type": "stream",
          "text": [
            "Done.\n"
          ]
        },
        {
          "data": {
            "text/html": [
              "<table>\n",
              "    <thead>\n",
              "        <tr>\n",
              "            <th>taken</th>\n",
              "            <th>person</th>\n",
              "            <th>quant</th>\n",
              "            <th>reading</th>\n",
              "        </tr>\n",
              "    </thead>\n",
              "    <tbody>\n",
              "        <tr>\n",
              "            <td>619</td>\n",
              "            <td>dyer</td>\n",
              "            <td>sal</td>\n",
              "            <td>0.13</td>\n",
              "        </tr>\n",
              "        <tr>\n",
              "            <td>622</td>\n",
              "            <td>dyer</td>\n",
              "            <td>sal</td>\n",
              "            <td>0.09</td>\n",
              "        </tr>\n",
              "        <tr>\n",
              "            <td>735</td>\n",
              "            <td>None</td>\n",
              "            <td>sal</td>\n",
              "            <td>0.06</td>\n",
              "        </tr>\n",
              "        <tr>\n",
              "            <td>752</td>\n",
              "            <td>roe</td>\n",
              "            <td>sal</td>\n",
              "            <td>41.6</td>\n",
              "        </tr>\n",
              "        <tr>\n",
              "            <td>837</td>\n",
              "            <td>roe</td>\n",
              "            <td>sal</td>\n",
              "            <td>22.5</td>\n",
              "        </tr>\n",
              "    </tbody>\n",
              "</table>"
            ],
            "text/plain": [
              "[(619, 'dyer', 'sal', 0.13),\n",
              " (622, 'dyer', 'sal', 0.09),\n",
              " (735, None, 'sal', 0.06),\n",
              " (752, 'roe', 'sal', 41.6),\n",
              " (837, 'roe', 'sal', 22.5)]"
            ]
          },
          "execution_count": 50,
          "metadata": {},
          "output_type": "execute_result"
        }
      ],
      "source": [
        "%%sql\n",
        "SELECT * FROM Survey WHERE quant = 'sal' AND (person != 'lake' OR person IS NULL);"
      ]
    },
    {
      "cell_type": "markdown",
      "id": "cell-92",
      "metadata": {
        "collapsed": false,
        "editable": false
      },
      "source": [
        "<p>We still have to decide whether this is the right thing to do or not.\n",
        "If we want to be absolutely sure that\n",
        "we aren’t including any measurements by Lake in our results,\n",
        "we need to exclude all the records for which we don’t know who did the work.</p>\n",
        "<p>In contrast to arithmetic or Boolean operators, aggregation functions\n",
        "that combine multiple values, such as <code style=\"color: inherit\">min</code>, <code style=\"color: inherit\">max</code> or <code style=\"color: inherit\">avg</code>, <em>ignore</em>\n",
        "<code style=\"color: inherit\">null</code> values. In the majority of cases, this is a desirable output:\n",
        "for example, unknown values are thus not affecting our data when we\n",
        "are averaging it. Aggregation functions will be addressed in more\n",
        "detail in <a href=\"#\">the next section</a>.</p>\n",
        "<blockquote class=\"question\" style=\"border: 2px solid #8A9AD0; margin: 1em 0.2em\">\n",
        "<div class=\"box-title question-title\" id=\"question-sorting-by-known-date\"><i class=\"far fa-question-circle\" aria-hidden=\"true\" ></i> Question: Sorting by Known Date</div>\n",
        "<p>Write a query that sorts the records in <code style=\"color: inherit\">Visited</code> by date,\n",
        "omitting entries for which the date is not known\n",
        "(i.e., is null).</p>\n",
        "<br/><details style=\"border: 2px solid #B8C3EA; margin: 1em 0.2em;padding: 0.5em; cursor: pointer;\"><summary>👁 View solution</summary>\n",
        "<div class=\"box-title solution-title\" id=\"solution-10\"><button class=\"gtn-boxify-button solution\" type=\"button\" aria-controls=\"solution-10\" aria-expanded=\"true\"><i class=\"far fa-eye\" aria-hidden=\"true\" ></i> <span>Solution</span><span class=\"fold-unfold fa fa-minus-square\"></span></button></div>\n",
        "<div class=\"language-plaintext highlighter-rouge\"><div><pre style=\"color: inherit; background: transparent\"><code style=\"color: inherit\">SELECT * FROM Visited WHERE dated IS NOT NULL ORDER BY dated ASC;\n",
        "</code></pre></div>    </div>\n",
        "<table>\n",
        "<thead>\n",
        "<tr>\n",
        "<th>id</th>\n",
        "<th>site</th>\n",
        "<th>dated</th>\n",
        "</tr>\n",
        "</thead>\n",
        "<tbody>\n",
        "<tr>\n",
        "<td>619</td>\n",
        "<td>DR-1</td>\n",
        "<td>1927-02-08</td>\n",
        "</tr>\n",
        "<tr>\n",
        "<td>622</td>\n",
        "<td>DR-1</td>\n",
        "<td>1927-02-10</td>\n",
        "</tr>\n",
        "<tr>\n",
        "<td>734</td>\n",
        "<td>DR-3</td>\n",
        "<td>1930-01-07</td>\n",
        "</tr>\n",
        "<tr>\n",
        "<td>735</td>\n",
        "<td>DR-3</td>\n",
        "<td>1930-01-12</td>\n",
        "</tr>\n",
        "<tr>\n",
        "<td>751</td>\n",
        "<td>DR-3</td>\n",
        "<td>1930-02-26</td>\n",
        "</tr>\n",
        "<tr>\n",
        "<td>837</td>\n",
        "<td>MSK-4</td>\n",
        "<td>1932-01-14</td>\n",
        "</tr>\n",
        "<tr>\n",
        "<td>844</td>\n",
        "<td>DR-1</td>\n",
        "<td>1932-03-22</td>\n",
        "</tr>\n",
        "</tbody>\n",
        "</table>\n",
        "</details>\n",
        "</blockquote>\n"
      ]
    },
    {
      "cell_type": "code",
      "execution_count": 51,
      "id": "cell-93",
      "metadata": {
        "attributes": {
          "classes": [
            "> <comment-title></comment-title>"
          ],
          "id": ""
        }
      },
      "outputs": [
        {
          "name": "stdout",
          "output_type": "stream",
          "text": [
            "Done.\n"
          ]
        },
        {
          "data": {
            "text/html": [
              "<table>\n",
              "    <thead>\n",
              "        <tr>\n",
              "            <th>id</th>\n",
              "            <th>site</th>\n",
              "            <th>dated</th>\n",
              "        </tr>\n",
              "    </thead>\n",
              "    <tbody>\n",
              "        <tr>\n",
              "            <td>619</td>\n",
              "            <td>DR-1</td>\n",
              "            <td>1927-02-08</td>\n",
              "        </tr>\n",
              "        <tr>\n",
              "            <td>622</td>\n",
              "            <td>DR-1</td>\n",
              "            <td>1927-02-10</td>\n",
              "        </tr>\n",
              "        <tr>\n",
              "            <td>734</td>\n",
              "            <td>DR-3</td>\n",
              "            <td>1930-01-07</td>\n",
              "        </tr>\n",
              "        <tr>\n",
              "            <td>735</td>\n",
              "            <td>DR-3</td>\n",
              "            <td>1930-01-12</td>\n",
              "        </tr>\n",
              "        <tr>\n",
              "            <td>751</td>\n",
              "            <td>DR-3</td>\n",
              "            <td>1930-02-26</td>\n",
              "        </tr>\n",
              "        <tr>\n",
              "            <td>837</td>\n",
              "            <td>MSK-4</td>\n",
              "            <td>1932-01-14</td>\n",
              "        </tr>\n",
              "        <tr>\n",
              "            <td>844</td>\n",
              "            <td>DR-1</td>\n",
              "            <td>1932-03-22</td>\n",
              "        </tr>\n",
              "    </tbody>\n",
              "</table>"
            ],
            "text/plain": [
              "[(619, 'DR-1', '1927-02-08'),\n",
              " (622, 'DR-1', '1927-02-10'),\n",
              " (734, 'DR-3', '1930-01-07'),\n",
              " (735, 'DR-3', '1930-01-12'),\n",
              " (751, 'DR-3', '1930-02-26'),\n",
              " (837, 'MSK-4', '1932-01-14'),\n",
              " (844, 'DR-1', '1932-03-22')]"
            ]
          },
          "execution_count": 51,
          "metadata": {},
          "output_type": "execute_result"
        }
      ],
      "source": [
        "%%sql\n",
        "-- Try solutions here!\n",
        "SELECT * FROM Visited WHERE dated IS NOT NULL ORDER BY dated ASC;"
      ]
    },
    {
      "cell_type": "markdown",
      "id": "cell-94",
      "metadata": {
        "collapsed": false,
        "editable": false
      },
      "source": [
        "<blockquote class=\"question\" style=\"border: 2px solid #8A9AD0; margin: 1em 0.2em\">\n",
        "<div class=\"box-title question-title\" id=\"question-null-in-a-set\"><i class=\"far fa-question-circle\" aria-hidden=\"true\" ></i> Question: NULL in a Set</div>\n",
        "<p>What do you expect the following query to produce?</p>\n",
        "<div class=\"language-plaintext highlighter-rouge\"><div><pre style=\"color: inherit; background: transparent\"><code style=\"color: inherit\">SELECT * FROM Visited WHERE dated IN ('1927-02-08', NULL);\n",
        "</code></pre></div>  </div>\n",
        "<p>What does it actually produce?</p>\n",
        "<br/><details style=\"border: 2px solid #B8C3EA; margin: 1em 0.2em;padding: 0.5em; cursor: pointer;\"><summary>👁 View solution</summary>\n",
        "<div class=\"box-title solution-title\" id=\"solution-11\"><button class=\"gtn-boxify-button solution\" type=\"button\" aria-controls=\"solution-11\" aria-expanded=\"true\"><i class=\"far fa-eye\" aria-hidden=\"true\" ></i> <span>Solution</span><span class=\"fold-unfold fa fa-minus-square\"></span></button></div>\n",
        "<p>You might expect the above query to return rows where dated is either ‘1927-02-08’ or NULL.\n",
        "Instead it only returns rows where dated is ‘1927-02-08’, the same as you would get from this\n",
        "simpler query:</p>\n",
        "<div class=\"language-plaintext highlighter-rouge\"><div><pre style=\"color: inherit; background: transparent\"><code style=\"color: inherit\">SELECT * FROM Visited WHERE dated IN ('1927-02-08');\n",
        "</code></pre></div>    </div>\n",
        "<p>The reason is that the <code style=\"color: inherit\">IN</code> operator works with a set of <em>values</em>, but NULL is by definition\n",
        "not a value and is therefore simply ignored.</p>\n",
        "<p>If we wanted to actually include NULL, we would have to rewrite the query to use the IS NULL condition:</p>\n",
        "<div class=\"language-plaintext highlighter-rouge\"><div><pre style=\"color: inherit; background: transparent\"><code style=\"color: inherit\">SELECT * FROM Visited WHERE dated = '1927-02-08' OR dated IS NULL;\n",
        "</code></pre></div>    </div>\n",
        "</details>\n",
        "</blockquote>\n"
      ]
    },
    {
      "cell_type": "code",
      "execution_count": 52,
      "id": "cell-95",
      "metadata": {
        "attributes": {
          "classes": [
            "> <comment-title></comment-title>"
          ],
          "id": ""
        }
      },
      "outputs": [
        {
          "name": "stdout",
          "output_type": "stream",
          "text": [
            "Done.\n"
          ]
        },
        {
          "data": {
            "text/html": [
              "<table>\n",
              "    <thead>\n",
              "        <tr>\n",
              "            <th>id</th>\n",
              "            <th>site</th>\n",
              "            <th>dated</th>\n",
              "        </tr>\n",
              "    </thead>\n",
              "    <tbody>\n",
              "        <tr>\n",
              "            <td>619</td>\n",
              "            <td>DR-1</td>\n",
              "            <td>1927-02-08</td>\n",
              "        </tr>\n",
              "        <tr>\n",
              "            <td>752</td>\n",
              "            <td>DR-3</td>\n",
              "            <td>None</td>\n",
              "        </tr>\n",
              "    </tbody>\n",
              "</table>"
            ],
            "text/plain": [
              "[(619, 'DR-1', '1927-02-08'), (752, 'DR-3', None)]"
            ]
          },
          "execution_count": 52,
          "metadata": {},
          "output_type": "execute_result"
        }
      ],
      "source": [
        "%%sql\n",
        "-- Try solutions here!\n",
        "SELECT * FROM Visited WHERE dated = '1927-02-08' OR dated IS NULL;"
      ]
    },
    {
      "cell_type": "markdown",
      "id": "cell-96",
      "metadata": {
        "collapsed": false,
        "editable": false
      },
      "source": [
        "<blockquote class=\"question\" style=\"border: 2px solid #8A9AD0; margin: 1em 0.2em\">\n",
        "<div class=\"box-title question-title\" id=\"question-pros-and-cons-of-sentinels\"><i class=\"far fa-question-circle\" aria-hidden=\"true\" ></i> Question: Pros and Cons of Sentinels</div>\n",
        "<p>Some database designers prefer to use\n",
        "a sentinel value\n",
        "to mark missing data rather than <code style=\"color: inherit\">null</code>.\n",
        "For example,\n",
        "they will use the date “0000-00-00” to mark a missing date,\n",
        "or -1.0 to mark a missing salinity or radiation reading\n",
        "(since actual readings cannot be negative).\n",
        "What does this simplify?\n",
        "What burdens or risks does it introduce?</p>\n",
        "</blockquote>\n"
      ]
    },
    {
      "cell_type": "markdown",
      "id": "1ee0dea3",
      "metadata": {},
      "source": [
        "Answer:\n",
        "\n",
        "Using sentinel values like \"0000-00-00\" or -1.0 to represent missing data instead of NULL can simplify comparisons and logic in some systems, as these values behave like regular data and avoid SQL's special handling of NULL. However, this approach introduces significant risks: sentinel values can be mistaken for valid data, require additional logic to filter or interpret, and reduce data integrity by violating type expectations (e.g., a date column containing an invalid date). They also hinder compatibility with modern tools and systems that natively support NULL. Overall, while sentinel values may offer short-term convenience, they increase the risk of misinterpretation and data quality issues in the long run."
      ]
    },
    {
      "cell_type": "markdown",
      "id": "final-ending-cell",
      "metadata": {
        "collapsed": false,
        "editable": false
      },
      "source": [
        "# Key Points\n",
        "\n",
        "- A relational database stores information in tables, each of which has a fixed set of columns and a variable number of records.\n",
        "- A database manager is a program that manipulates information stored in a database.\n",
        "- We write queries in a specialized language called SQL to extract information from databases.\n",
        "- Use SELECT... FROM... to get values from a database table.\n",
        "- SQL is case-insensitive (but data is case-sensitive).\n",
        "- The records in a database table are not intrinsically ordered: if we want to display them in some order, we must specify that explicitly with ORDER BY.\n",
        "- The values in a database are not guaranteed to be unique: if we want to eliminate duplicates, we must specify that explicitly as well using DISTINCT.\n",
        "- Use WHERE to specify conditions that records must meet in order to be included in a query's results.\n",
        "- Use AND, OR, and NOT to combine tests.\n",
        "- Filtering is done on whole records, so conditions can use fields that are not actually displayed.\n",
        "- Write queries incrementally.\n",
        "- Queries can do the usual arithmetic operations on values.\n",
        "- Use UNION to combine the results of two or more queries.\n",
        "- Databases use a special value called NULL to represent missing information.\n",
        "- Almost all operations on NULL produce NULL.\n",
        "- Queries can test for NULLs using IS NULL and IS NOT NULL.\n",
        "\n",
        "# Congratulations on successfully completing this tutorial!\n",
        "\n"
      ]
    }
  ],
  "metadata": {
    "kernelspec": {
      "display_name": "Python 3",
      "language": "python",
      "name": "python3"
    },
    "language_info": {
      "codemirror_mode": {
        "name": "ipython",
        "version": 3
      },
      "file_extension": ".py",
      "mimetype": "text/x-python",
      "name": "python",
      "nbconvert_exporter": "python",
      "pygments_lexer": "ipython3",
      "version": "3.11.5"
    }
  },
  "nbformat": 4,
  "nbformat_minor": 5
}
